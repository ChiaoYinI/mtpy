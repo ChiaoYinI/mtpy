{
 "cells": [
  {
   "cell_type": "markdown",
   "metadata": {},
   "source": [
    "# Imaging"
   ]
  },
  {
   "cell_type": "markdown",
   "metadata": {},
   "source": [
    "## Plotting penetration depth using the Niblett-Bostick transform"
   ]
  },
  {
   "cell_type": "markdown",
   "metadata": {},
   "source": [
    "### Penetration depth as a function of period for 1 site"
   ]
  },
  {
   "cell_type": "markdown",
   "metadata": {},
   "source": [
    "Here, we plot the Niblett-Bostick depth as a function of period/frequency for one site."
   ]
  },
  {
   "cell_type": "code",
   "execution_count": 1,
   "metadata": {},
   "outputs": [
    {
     "data": {
      "text/plain": [
       "<Figure size 640x480 with 1 Axes>"
      ]
     },
     "metadata": {},
     "output_type": "display_data"
    }
   ],
   "source": [
    "# Import required modules\n",
    "import os\n",
    "from mtpy.imaging import penetration_depth1d as pd1d\n",
    "\n",
    "# Define edi file \n",
    "edi_file = r\"C:/mtpywin/mtpy/examples/data/edi_files_2/Synth00.edi\"\n",
    "    \n",
    "# Define file to save to\n",
    "save_file = r\"C:/tmp/penetration_depth1d.png\"\n",
    "\n",
    "# Create a plot of penetration depth and save to file\n",
    "pd1d.plot_edi_file(edi_file, savefile=save_file, fig_dpi=400)"
   ]
  },
  {
   "cell_type": "markdown",
   "metadata": {},
   "source": [
    "### Penetration depth for selected periods along a profile"
   ]
  },
  {
   "cell_type": "markdown",
   "metadata": {},
   "source": [
    "Here, we plot the Niblett-Bostick depth as a function of distance along a profile, for selected periods"
   ]
  },
  {
   "cell_type": "code",
   "execution_count": 2,
   "metadata": {},
   "outputs": [
    {
     "ename": "WindowsError",
     "evalue": "[Error 3] The system cannot find the path specified: 'C:/mtpywin/mtpy/mtpy/data/edifiles\\\\*.*'",
     "output_type": "error",
     "traceback": [
      "\u001b[1;31m\u001b[0m",
      "\u001b[1;31mWindowsError\u001b[0mTraceback (most recent call last)",
      "\u001b[1;32m<ipython-input-2-0bbfd7d95270>\u001b[0m in \u001b[0;36m<module>\u001b[1;34m()\u001b[0m\n\u001b[0;32m     12\u001b[0m pen2d.plot2Dprofile(edi_path, period_index_list, \n\u001b[0;32m     13\u001b[0m                     \u001b[1;34m'det'\u001b[0m\u001b[1;33m,\u001b[0m \u001b[0mmarker\u001b[0m\u001b[1;33m=\u001b[0m\u001b[1;34m'o'\u001b[0m\u001b[1;33m,\u001b[0m \u001b[0msave\u001b[0m\u001b[1;33m=\u001b[0m\u001b[0mTrue\u001b[0m\u001b[1;33m,\u001b[0m\u001b[0msavepath\u001b[0m\u001b[1;33m=\u001b[0m\u001b[0msavepath\u001b[0m\u001b[1;33m,\u001b[0m\u001b[1;33m\u001b[0m\u001b[0m\n\u001b[1;32m---> 14\u001b[1;33m                     tick_params={'rotation':'vertical'})\n\u001b[0m\u001b[0;32m     15\u001b[0m \u001b[1;33m\u001b[0m\u001b[0m\n\u001b[0;32m     16\u001b[0m \u001b[1;31m# To save any of these figures:\u001b[0m\u001b[1;33m\u001b[0m\u001b[1;33m\u001b[0m\u001b[0m\n",
      "\u001b[1;32mC:\\mtpywin\\mtpy\\mtpy\\imaging\\penetration_depth2d.py\u001b[0m in \u001b[0;36mplot2Dprofile\u001b[1;34m(edi_dir, period_index_list, zcomponent, edi_list, tick_params, save, savepath, **kwargs)\u001b[0m\n\u001b[0;32m     53\u001b[0m     \u001b[0m_logger\u001b[0m\u001b[1;33m.\u001b[0m\u001b[0mdebug\u001b[0m\u001b[1;33m(\u001b[0m\u001b[1;34m\"edi files: %s\"\u001b[0m\u001b[1;33m,\u001b[0m \u001b[0medifiles\u001b[0m\u001b[1;33m)\u001b[0m\u001b[1;33m\u001b[0m\u001b[0m\n\u001b[0;32m     54\u001b[0m \u001b[1;33m\u001b[0m\u001b[0m\n\u001b[1;32m---> 55\u001b[1;33m     \u001b[0medis\u001b[0m \u001b[1;33m=\u001b[0m \u001b[0mload_edi_files\u001b[0m\u001b[1;33m(\u001b[0m\u001b[0medi_dir\u001b[0m\u001b[1;33m,\u001b[0m \u001b[0mfile_list\u001b[0m\u001b[1;33m=\u001b[0m\u001b[0medi_list\u001b[0m\u001b[1;33m)\u001b[0m\u001b[1;33m\u001b[0m\u001b[0m\n\u001b[0m\u001b[0;32m     56\u001b[0m     \u001b[0mplot\u001b[0m \u001b[1;33m=\u001b[0m \u001b[0mDepth2D\u001b[0m\u001b[1;33m(\u001b[0m\u001b[0medis\u001b[0m\u001b[1;33m,\u001b[0m \u001b[0mperiod_index_list\u001b[0m\u001b[1;33m,\u001b[0m \u001b[0mzcomponent\u001b[0m\u001b[1;33m)\u001b[0m\u001b[1;33m\u001b[0m\u001b[0m\n\u001b[0;32m     57\u001b[0m     \u001b[0mplot\u001b[0m\u001b[1;33m.\u001b[0m\u001b[0mplot\u001b[0m\u001b[1;33m(\u001b[0m\u001b[0mtick_params\u001b[0m\u001b[1;33m,\u001b[0m \u001b[1;33m**\u001b[0m\u001b[0mkwargs\u001b[0m\u001b[1;33m)\u001b[0m\u001b[1;33m\u001b[0m\u001b[0m\n",
      "\u001b[1;32mC:\\mtpywin\\mtpy\\mtpy\\imaging\\penetration.pyc\u001b[0m in \u001b[0;36mload_edi_files\u001b[1;34m(edi_path, file_list)\u001b[0m\n\u001b[0;32m    558\u001b[0m \u001b[1;33m\u001b[0m\u001b[0m\n\u001b[0;32m    559\u001b[0m     \u001b[1;32mif\u001b[0m \u001b[0mfile_list\u001b[0m \u001b[1;32mis\u001b[0m \u001b[0mNone\u001b[0m\u001b[1;33m:\u001b[0m\u001b[1;33m\u001b[0m\u001b[0m\n\u001b[1;32m--> 560\u001b[1;33m         \u001b[0mfile_list\u001b[0m \u001b[1;33m=\u001b[0m \u001b[1;33m[\u001b[0m\u001b[0mff\u001b[0m \u001b[1;32mfor\u001b[0m \u001b[0mff\u001b[0m \u001b[1;32min\u001b[0m \u001b[0mos\u001b[0m\u001b[1;33m.\u001b[0m\u001b[0mlistdir\u001b[0m\u001b[1;33m(\u001b[0m\u001b[0medi_path\u001b[0m\u001b[1;33m)\u001b[0m \u001b[1;32mif\u001b[0m \u001b[0mff\u001b[0m\u001b[1;33m.\u001b[0m\u001b[0mendswith\u001b[0m\u001b[1;33m(\u001b[0m\u001b[1;34m\"edi\"\u001b[0m\u001b[1;33m)\u001b[0m\u001b[1;33m]\u001b[0m\u001b[1;33m\u001b[0m\u001b[0m\n\u001b[0m\u001b[0;32m    561\u001b[0m \u001b[1;33m\u001b[0m\u001b[0m\n\u001b[0;32m    562\u001b[0m     \u001b[1;32mif\u001b[0m \u001b[0medi_path\u001b[0m \u001b[1;32mis\u001b[0m \u001b[1;32mnot\u001b[0m \u001b[0mNone\u001b[0m\u001b[1;33m:\u001b[0m\u001b[1;33m\u001b[0m\u001b[0m\n",
      "\u001b[1;31mWindowsError\u001b[0m: [Error 3] The system cannot find the path specified: 'C:/mtpywin/mtpy/mtpy/data/edifiles\\\\*.*'"
     ]
    }
   ],
   "source": [
    "#Import required modules\n",
    "from mtpy.imaging import penetration_depth2d as pen2d\n",
    "\n",
    "#Define a path containing all the edi files in the profile & a savepath\n",
    "edi_path = r'C:/mtpywin/mtpy/mtpy/data/edifiles'\n",
    "savepath = r'C:/tmp/plot.png'\n",
    "\n",
    "# Choose indices of periods to plot\n",
    "period_index_list = [0, 1, 10, 20, 30, 40, 50, 59]\n",
    "\n",
    "# Plot profiles for different modes ('det','zxy' or 'zyx')\n",
    "pen2d.plot2Dprofile(edi_path, period_index_list, \n",
    "                    'det', marker='o', save=True,savepath=savepath,\n",
    "                    tick_params={'rotation':'vertical'})\n",
    "\n",
    "# To save any of these figures:\n",
    "#plt.savefig(os.path.join(savepath,'penetration_depth_profile.png'), dpi=400)"
   ]
  },
  {
   "cell_type": "markdown",
   "metadata": {},
   "source": [
    "### Penetration depth for a selected period as a map"
   ]
  },
  {
   "cell_type": "markdown",
   "metadata": {},
   "source": [
    "Here, we plot the Niblett-Bostick depth for one period, and interpolate between stations on a map."
   ]
  },
  {
   "cell_type": "code",
   "execution_count": null,
   "metadata": {},
   "outputs": [],
   "source": [
    "#Import required modules\n",
    "from mtpy.imaging import penetration_depth3d as pen3d\n",
    "\n",
    "# Set path to edi files to include in the plot and define savepath\n",
    "edi_path = r'C:/mtpywin/mtpy/examples/data/edi2'\n",
    "savepath = r'C:/tmp'\n",
    "\n",
    "# Create plot for period index number 10 for determinant\n",
    "pen3d.plot_latlon_depth_profile(edi_path, 10, 'det', showfig=True, \n",
    "                                savefig=True, savepath=savepath, \n",
    "                                fontsize=11, fig_dpi=400, file_format='png')"
   ]
  },
  {
   "cell_type": "markdown",
   "metadata": {},
   "source": [
    "## Phase tensor plotting"
   ]
  },
  {
   "cell_type": "markdown",
   "metadata": {},
   "source": [
    "In the next examples we will plot phase tensor maps (after Caldwell et al., 2004 & Bibby et al. 2005) and induction vectors. In these and later maps, there are many different parameters that can be varied, and generally there will be some tweaking that will need to be done to get the parameters (e.g. ellipse scaling) perfect for publication-quality plots. Note that some parameter tweaks can be done later (e.g. in Adobe Illustrator or Inkscape) if you save the plot to a vector graphic format like .eps and we recommend this as it can take hours to get all the parameters perfect!"
   ]
  },
  {
   "cell_type": "markdown",
   "metadata": {},
   "source": [
    "### Phase tensor maps"
   ]
  },
  {
   "cell_type": "markdown",
   "metadata": {},
   "source": [
    "In this example we plot all edi files from a directory as a phase tensor map for a selected frequency, with real induction vectors (Parkinson convention) overlain. There are quite a few parameters you can adjust, feel free to spend some time with this example updating them and viewing the result."
   ]
  },
  {
   "cell_type": "code",
   "execution_count": null,
   "metadata": {},
   "outputs": [],
   "source": [
    "# Import required modules\n",
    "from mtpy.imaging.phase_tensor_maps import PlotPhaseTensorMaps\n",
    "import os\n",
    "\n",
    "import matplotlib.pyplot as plt\n",
    "\n",
    "\n",
    "# directory containing edis\n",
    "edi_path = r'C:/mtpywin/mtpy/examples/data/edi2'\n",
    "\n",
    "# full path to file to save to\n",
    "savepath = r'C:/tmp'\n",
    "\n",
    "# frequency to plot\n",
    "plot_freq = 1e-2\n",
    "\n",
    "# name image according to plot frequency\n",
    "image_fn = 'phase_tensor_map%1is'%(int(1./plot_freq))+'.png'\n",
    "\n",
    "# gets edi file names as a list\n",
    "edi_list = [os.path.join(edi_path,ff) for ff in os.listdir(edi_path) \\\n",
    "            if ff.endswith('.edi')]\n",
    "\n",
    "# generate plot\n",
    "ptmap = PlotPhaseTensorMaps(fn_list = edi_list,\n",
    "                plot_freq = plot_freq , # frequency to plot\n",
    "                fig_size = (4,3), # x, y dimensions of figure\n",
    "                xpad = 0.02, ypad = 0.02, # pad around stations\n",
    "                plot_tipper = 'yr', # 'y' + 'r' and/or 'i' to plot \n",
    "                                    # real and/or imaginary\n",
    "                edgecolor='k', # a matplotlib colour or None for no borders\n",
    "                lw=0.5, # linewidth for the ellipses\n",
    "                minorticks_on=False, # whether or not to turn on minor ticks\n",
    "                ellipse_colorby='skew', # 'phimin', 'phimax', or 'skew'\n",
    "                ellipse_range = [-12,12,2], # [min,max,step]\n",
    "                ellipse_size=0.01, # scaling factor for the ellipses\n",
    "                arrow_size=0.1,\n",
    "                arrow_head_width=0.002, # scaling for arrows (head width)\n",
    "                arrow_head_length=0.002, # scaling for arrows (head length)\n",
    "                ellipse_cmap='bwr', # matplotlib colormap\n",
    "                station_dict={'id':(5,7)} ,\n",
    "                cb_dict = {'position':\n",
    "                           [1.05,0.2,0.02,0.3]}, # colorbar position [x,y,dx,dy]\n",
    "                font_size=5\n",
    "                )\n",
    "\n",
    "# save the plot\n",
    "ptmap.save_figure(os.path.join(savepath,image_fn))\n"
   ]
  },
  {
   "cell_type": "markdown",
   "metadata": {},
   "source": [
    "If you want to plot some other image in the background (e.g. gravity) you can load it as follows & plot (the example below uses a Bouguer anomaly grid in netCDF format)\n",
    "\n",
    "#### Note\n",
    "For this example you will need to install netcdf4 if it's not there already. Type the following into your command prompt:\n",
    "\n",
    "conda install netcdf4"
   ]
  },
  {
   "cell_type": "code",
   "execution_count": null,
   "metadata": {},
   "outputs": [],
   "source": [
    "# Import the netCDF4 module\n",
    "from netCDF4 import Dataset\n",
    "import numpy as np\n",
    "\n",
    "# load a netcdf file\n",
    "grav = Dataset(r'C:/mtpywin/mtpy/examples/data/gravity/gravity.nc')\n",
    "glon, glat = np.meshgrid(grav.variables['lon'],grav.variables['lat'])\n",
    "vals = grav.variables['Band1'][:]\n",
    "\n",
    "               \n",
    "ptmap.plot(show=True,\n",
    "           raster_dict={'lons':glon.flatten(),\n",
    "                        'lats':glat.flatten(),\n",
    "                        'vals':vals.flatten(),\n",
    "                        'levels':50,\n",
    "                        'cmap':'rainbow',\n",
    "                        'cbar_title':'Gravity, gu',\n",
    "                        'cbar_position':[1.05,0.6,0.02,0.3]}  )        \n"
   ]
  },
  {
   "cell_type": "markdown",
   "metadata": {},
   "source": [
    "### Phase tensor sections"
   ]
  },
  {
   "cell_type": "markdown",
   "metadata": {},
   "source": [
    "In this example we plot phase tensors for all frequencies from some edi files located along a transect."
   ]
  },
  {
   "cell_type": "code",
   "execution_count": null,
   "metadata": {},
   "outputs": [],
   "source": [
    "# import required modules\n",
    "from mtpy.imaging.phase_tensor_pseudosection import PlotPhaseTensorPseudoSection\n",
    "import os\n",
    "\n",
    "# path to edis\n",
    "edi_path = r'C:/mtpywin/mtpy/examples/data/edi_files_2'\n",
    "\n",
    "# save path\n",
    "savepath = r'C:/tmp'\n",
    "\n",
    "# edi list\n",
    "edi_list=[os.path.join(edi_path,edi) for edi in os.listdir(edi_path) \\\n",
    "          if ((edi.endswith('.edi')))]\n",
    "\n",
    "# dictionary containing ellipse properties\n",
    "ellipse_dict = {'ellipse_colorby':'phimin', # phimin, phimax, skew, \n",
    "                                            # skew_seg\n",
    "                'ellipse_range':[0,90]} # Color limits. If plotting \n",
    "                                        # skew_seg need to provide\n",
    "                                        # 3 numbers, the 3rd indicates \n",
    "                                        # interval, e.g. [-12,12,3]\n",
    "\n",
    "# create a plot object\n",
    "ptsection = PlotPhaseTensorPseudoSection(fn_list = edi_list,\n",
    "                linedir='ns', # 'ns' if the line is closer to north-south, \n",
    "                              # 'ew' if line is closer to east-west\n",
    "                stretch=(17,8), # determines (x,y) aspect ratio of plot\n",
    "                station_id=(0,10), # indices for showing station names\n",
    "                plot_tipper = 'yri', # plot tipper ('y') + 'ri' for real+imag\n",
    "                font_size=5,\n",
    "                lw=0.5,\n",
    "                \n",
    "                                 )\n",
    "ptsection.ellipse_size = 2.\n",
    "ptsection.plot()\n",
    "\n",
    "ptsection.save_figure(save_fn = os.path.join(savepath,'PhaseTensorSection.pdf'),\n",
    "                    fig_dpi=400)"
   ]
  },
  {
   "cell_type": "markdown",
   "metadata": {},
   "source": [
    "## Apparent resistivity and phase sections and maps"
   ]
  },
  {
   "cell_type": "markdown",
   "metadata": {},
   "source": [
    "### Apparent resistivity maps"
   ]
  },
  {
   "cell_type": "markdown",
   "metadata": {},
   "source": [
    "Plot apparent resitivity for a selected period, for an array of sites. Resistivity values are interpolated between sites"
   ]
  },
  {
   "cell_type": "code",
   "execution_count": null,
   "metadata": {},
   "outputs": [],
   "source": [
    "# Import required modules\n",
    "from mtpy.imaging.plot_resphase_maps import PlotResPhaseMaps\n",
    "import os\n",
    "\n",
    "# Define edi path and save path\n",
    "edipath = r'C:/mtpywin/mtpy/examples/data/edi2'\n",
    "savepath = r'C:/tmp'\n",
    "\n",
    "# Make an edi list\n",
    "edi_list = [os.path.join(edipath,ff) for ff in os.listdir(edipath) \\\n",
    "            if ff.endswith('.edi')]\n",
    "\n",
    "# Define plot frequency\n",
    "freq = 0.001\n",
    "\n",
    "# Initialise a plot object\n",
    "prp = PlotResPhaseMaps(fn_list=edi_list,\n",
    "                       mapscale='km')\n",
    "\n",
    "# plot resistivity\n",
    "f = prp.plot(freq, \n",
    "             'res', \n",
    "             1, 100, # limits in resistivity. Can be provided as a number\n",
    "                     # or a 2x2 array to give different limits for\n",
    "                     # different components\n",
    "             nn=3, p=3,\n",
    "             extrapolation_buffer_degrees=0.05, # how far to extrapolate\n",
    "             regular_grid_nx=40, # number of x grid points \n",
    "             regular_grid_ny=40, # number of x grid points\n",
    "             cmap='bwr_r', # colour map\n",
    "             show=True)\n",
    "\n",
    "# save plot\n",
    "prp.fig.savefig(os.path.join(savepath,'Resistivity_%1is.png'%(1./freq)),\n",
    "                dpi=300)\n"
   ]
  },
  {
   "cell_type": "markdown",
   "metadata": {},
   "source": [
    "### Phase maps"
   ]
  },
  {
   "cell_type": "markdown",
   "metadata": {},
   "source": [
    "Similarly, you can plot phase as an interpolated map."
   ]
  },
  {
   "cell_type": "code",
   "execution_count": null,
   "metadata": {},
   "outputs": [],
   "source": [
    "# plot phase\n",
    "f = prp.plot(freq, # frequency to plot\n",
    "             'phase', # phase or res\n",
    "             np.array([[-180,0],   # minimum phase \n",
    "                       [0,-180]]), # for colour stretch\n",
    "             np.array([[180,90],   # maximum phase\n",
    "                       [90,180]]), # for colour stretch\n",
    "             nn=3, p=3,\n",
    "             extrapolation_buffer_degrees=0.05, # how far to extrapolate\n",
    "             regular_grid_nx=40, # number of x grid points\n",
    "             regular_grid_ny=40, # number of y grid points\n",
    "             cmap='bwr_r', # colour map\n",
    "             show=True)\n",
    "\n",
    "# save plot\n",
    "prp.fig.savefig(os.path.join(savepath,'Phase_%1is.png'%(1./freq)),dpi=300)"
   ]
  },
  {
   "cell_type": "markdown",
   "metadata": {},
   "source": [
    "## Apparent resistivity and phase pseudosections"
   ]
  },
  {
   "cell_type": "markdown",
   "metadata": {},
   "source": [
    "Plot apparent resistivity and phase as a function of period for several sites located along a transect"
   ]
  },
  {
   "cell_type": "code",
   "execution_count": null,
   "metadata": {},
   "outputs": [],
   "source": [
    "# Import required modules\n",
    "import os\n",
    "import mtpy.imaging.plotpseudosection as pps\n",
    "\n",
    "# define edi path and savepath\n",
    "edi_path = r'C:/mtpywin/mtpy/examples/data/edi_files'\n",
    "savepath = r'C:/tmp'\n",
    "\n",
    "# list all edi files in directory\n",
    "edi_list = [os.path.join(edi_path,ff) for ff in os.listdir(edi_path) \\\n",
    "            if (ff.endswith('.edi'))]\n",
    "\n",
    "# make a plot\n",
    "pps.PlotResPhasePseudoSection(fn_list = edi_list,\n",
    "                              linedir='ns', # 'ns' or 'ew' - approximate line \n",
    "                                            # orientation\n",
    "                              plot_xx = 'n', # plot xx component 'y' or 'n'\n",
    "                              plot_xy = 'y', # plot xy component 'y' or 'n'\n",
    "                              plot_yx = 'y', # plot yx component 'y' or 'n'\n",
    "                              plot_yy = 'n', # plot yy component 'y' or 'n'\n",
    "                              res_limits=[0,3], # log resistivity limits\n",
    "                              phase_limits=[0,90], # log phase limits\n",
    "                              shift_yx_phase = True, # True or False\n",
    "                              plot_style='pcolormesh' # 'pcolormesh' or 'imshow'\n",
    "                             )"
   ]
  }
 ],
 "metadata": {
  "kernelspec": {
   "display_name": "Python 2",
   "language": "python",
   "name": "python2"
  },
  "language_info": {
   "codemirror_mode": {
    "name": "ipython",
    "version": 2
   },
   "file_extension": ".py",
   "mimetype": "text/x-python",
   "name": "python",
   "nbconvert_exporter": "python",
   "pygments_lexer": "ipython2",
   "version": "2.7.15"
  }
 },
 "nbformat": 4,
 "nbformat_minor": 2
}
