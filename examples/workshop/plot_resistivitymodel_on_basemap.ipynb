{
 "cells": [
  {
   "cell_type": "markdown",
   "metadata": {},
   "source": [
    "# Plotting a resistivity model from ModEM on a basemap"
   ]
  },
  {
   "cell_type": "markdown",
   "metadata": {},
   "source": [
    "In this example we will plot a resistivity model on a basemap. This example is a bit more complex than previous examples, as, unlike the previous examples, the basemap plotting functionality is not contained within MTPy. This has the benefit that it makes it easier to customise the plot. But it may mean it takes a bit longer to become familiar with the functionality.\n",
    "\n",
    "The first step is to import the required modules needed. We have three MTPy imports - Model, Data and gis_tools. Then there is some standard matplotlib functionality and importantly the basemap module which creates coastlines and the nice borders."
   ]
  },
  {
   "cell_type": "code",
   "execution_count": 1,
   "metadata": {},
   "outputs": [
    {
     "name": "stdout",
     "output_type": "stream",
     "text": [
      "If you want to write a vtk file for 3d viewing, you need download and install evtk from https://bitbucket.org/pauloh/pyevtk\n",
      "Note: if you are using Windows you should build evtk first witheither MinGW or cygwin using the command: \n",
      "    python setup.py build -compiler=mingw32  or \n",
      "    python setup.py build -compiler=cygwin\n",
      "If you want to write a vtk file for 3d viewing, you need to install pyevtk\n",
      "Note: if you are using Windows you should build evtk first witheither MinGW or cygwin using the command: \n",
      "    python setup.py build -compiler=mingw32  or \n",
      "    python setup.py build -compiler=cygwin\n",
      "If you want to write a vtk file for 3d viewing, you need download and install evtk from https://bitbucket.org/pauloh/pyevtk\n",
      "If you want to write a vtk file for 3d viewing, you need to pip install PyEVTK: https://bitbucket.org/pauloh/pyevtk\n",
      "Note: if you are using Windows you should build evtk first witheither MinGW or cygwin using the command: \n",
      "    python setup.py build -compiler=mingw32  or \n",
      "    python setup.py build -compiler=cygwin\n"
     ]
    },
    {
     "name": "stderr",
     "output_type": "stream",
     "text": [
      "If you want to write a vtk file for 3d viewing, you need download and install evtk from https://bitbucket.org/pauloh/pyevtk\n"
     ]
    }
   ],
   "source": [
    "from mtpy.modeling.modem import Model, Data\n",
    "from mtpy.utils import gis_tools\n",
    "\n",
    "import matplotlib.pyplot as plt\n",
    "from matplotlib import colors\n",
    "\n",
    "from mpl_toolkits.basemap import Basemap\n",
    "from shapely.geometry import Polygon\n",
    "from descartes import PolygonPatch\n",
    "import numpy as np"
   ]
  },
  {
   "cell_type": "markdown",
   "metadata": {},
   "source": [
    "The next step is to create a function that will draw an inset map showing the survey boundaries on Australia."
   ]
  },
  {
   "cell_type": "code",
   "execution_count": 2,
   "metadata": {},
   "outputs": [],
   "source": [
    "# function to draw a bounding box\n",
    "def drawBBox( minLon, minLat, maxLon, maxLat, bm, **kwargs):\n",
    "    bblons = np.array([minLon, maxLon, maxLon, minLon, minLon])\n",
    "    bblats = np.array([minLat, minLat, maxLat, maxLat, minLat])\n",
    "    \n",
    "    x, y = bm( bblons, bblats )\n",
    "    xy = zip(x,y)\n",
    "    poly = Polygon(xy)\n",
    "    bm.ax.add_patch(PolygonPatch(poly, **kwargs))"
   ]
  },
  {
   "cell_type": "markdown",
   "metadata": {},
   "source": [
    "We now need to define our file paths for the response and data files"
   ]
  },
  {
   "cell_type": "code",
   "execution_count": 3,
   "metadata": {},
   "outputs": [],
   "source": [
    "# define paths\n",
    "data_fn = r'C:/mtpywin/mtpy/examples/model_files/ModEM/ModEM_Data.dat'\n",
    "model_fn = r'C:/mtpywin/mtpy/examples/model_files/ModEM/Modular_MPI_NLCG_004.rho'\n",
    "\n",
    "# define extents\n",
    "minLat = -30.4\n",
    "maxLat = -30.\n",
    "minLon = 133.45\n",
    "maxLon = 134\n",
    "\n",
    "# position of inset axes (bottom,left,width,height)\n",
    "inset_ax_position = [0.6,0.2,0.3,0.2]"
   ]
  },
  {
   "cell_type": "markdown",
   "metadata": {},
   "source": [
    "We can now create the plot!"
   ]
  },
  {
   "cell_type": "code",
   "execution_count": 4,
   "metadata": {
    "scrolled": true
   },
   "outputs": [
    {
     "name": "stdout",
     "output_type": "stream",
     "text": [
      "      -15500.000      -21500.000         -67.000\n",
      "\n",
      "    0.000\n",
      "\n",
      "2018-10-10T12:14:44 - Data - INFO - Set rotation angle to 0.0 deg clockwise from N\n"
     ]
    },
    {
     "name": "stderr",
     "output_type": "stream",
     "text": [
      "C:\\mtpywin\\mtpy\\mtpy\\utils\\calculator.py:322: RuntimeWarning: invalid value encountered in double_scalars\n",
      "  z_rel_err = error/z_amp\n"
     ]
    },
    {
     "data": {
      "image/png": "[encoded data removed]",
      "text/plain": [
       "<Figure size 720x720 with 3 Axes>"
      ]
     },
     "metadata": {},
     "output_type": "display_data"
    }
   ],
   "source": [
    "# read in ModEM data to phase tensor object\n",
    "mObj = Model()\n",
    "mObj.read_model_file(model_fn = model_fn)\n",
    "\n",
    "dObj = Data()\n",
    "dObj.read_data_file(data_fn = data_fn)\n",
    "\n",
    "# get easting and northing of model grid\n",
    "east = mObj.grid_east + dObj.center_point['east']\n",
    "north = mObj.grid_north + dObj.center_point['north']\n",
    "gcx,gcy = [[np.mean(arr[i:i+2]) for i in range(len(arr)-1)] for arr in [east,north]]\n",
    "\n",
    "# make a meshgrid, save the shape\n",
    "east_grid,north_grid = np.meshgrid(east,north)\n",
    "shape = east_grid.shape\n",
    "\n",
    "# project to lat, lon\n",
    "lonr,latr = gis_tools.epsg_project(east_grid,north_grid,28353,4326)\n",
    "\n",
    "# define resistivity model and station locations\n",
    "resvals = mObj.res_model.copy()\n",
    "sloc = dObj.station_locations\n",
    "\n",
    "# make a figure\n",
    "fig, ax = plt.subplots(figsize=(10,10))\n",
    "\n",
    "# make a basemap\n",
    "m = Basemap(resolution='c', # c, l, i, h, f or None\n",
    "            ax=ax,\n",
    "            projection='merc',\n",
    "            lat_0=-20.5, lon_0=138, # central lat/lon for projection\n",
    "            llcrnrlon=minLon, llcrnrlat=minLat, urcrnrlon=maxLon, urcrnrlat=maxLat)\n",
    "\n",
    "# draw lat-lon grids\n",
    "m.drawparallels(np.linspace(minLat, maxLat, 5), labels=[1,1,0,0], linewidth=0.1)\n",
    "m.drawmeridians(np.linspace(minLon, maxLon, 5), labels=[0,0,1,1], linewidth=0.1)\n",
    "m.drawcoastlines()\n",
    "\n",
    "# plot the resistivity model\n",
    "mpldict={}\n",
    "mpldict['cmap'] = 'jet_r'\n",
    "mpldict['norm'] = colors.LogNorm()\n",
    "mpldict['vmin'] = 2\n",
    "mpldict['vmax'] = 5e3\n",
    "x,y = m(lonr,latr)\n",
    "mappable = m.pcolormesh(x,y,resvals[:,:,20])\n",
    "xp,yp=m(sloc.lon,sloc.lat)\n",
    "plt.plot(xp,yp,'k+')\n",
    "\n",
    "# plot inset map ==================================================================\n",
    "insetAx = fig.add_axes(inset_ax_position)\n",
    "mInset = Basemap(resolution='c', # c, l, i, h, f or None\n",
    "           ax=insetAx,\n",
    "           projection='merc',\n",
    "           lat_0=-20, lon_0=132,\n",
    "            llcrnrlon=110, llcrnrlat=-40, urcrnrlon=155, urcrnrlat=-10)\n",
    "\n",
    "mInset.fillcontinents(color='lightgray')\n",
    "mInset.drawstates(color=\"grey\")\n",
    "drawBBox(minLon, minLat, maxLon, maxLat, mInset, fill='True', facecolor='k')\n",
    "\n",
    "# make a colour bar\n",
    "cbax = fig.add_axes([1.,0.5,0.025,.25])\n",
    "cbar = plt.colorbar(mappable,ax=ax,cax=cbax)\n",
    "cbar.set_label('Resistivity, ohm-m')\n"
   ]
  }
 ],
 "metadata": {
  "kernelspec": {
   "display_name": "Python 2",
   "language": "python",
   "name": "python2"
  },
  "language_info": {
   "codemirror_mode": {
    "name": "ipython",
    "version": 2
   },
   "file_extension": ".py",
   "mimetype": "text/x-python",
   "name": "python",
   "nbconvert_exporter": "python",
   "pygments_lexer": "ipython2",
   "version": "2.7.15"
  }
 },
 "nbformat": 4,
 "nbformat_minor": 2
}
