{
 "cells": [
  {
   "cell_type": "markdown",
   "metadata": {},
   "source": [
    "## Interpolate a list of .edi files onto the same period range"
   ]
  },
  {
   "cell_type": "code",
   "execution_count": null,
   "metadata": {
    "collapsed": true
   },
   "outputs": [],
   "source": [
    "import os\n",
    "import mtpy.core.mt as mt\n",
    "import numpy as np"
   ]
  },
  {
   "cell_type": "code",
   "execution_count": null,
   "metadata": {
    "collapsed": false
   },
   "outputs": [],
   "source": [
    "edi_path = os.path.join(os.getcwd(), 'data','HalfSpaceSQC')\n",
    "edi_list = [os.path.join(edi_path, edi_fn) for edi_fn in os.listdir(edi_path) if edi_fn.endswith('.edi')]"
   ]
  },
  {
   "cell_type": "code",
   "execution_count": null,
   "metadata": {
    "collapsed": true
   },
   "outputs": [],
   "source": [
    "save_path = os.path.join(edi_path, 'Interpolated')\n",
    "if not os.path.isdir(save_path):\n",
    "    os.mkdir(save_path)"
   ]
  },
  {
   "cell_type": "code",
   "execution_count": null,
   "metadata": {
    "collapsed": true
   },
   "outputs": [],
   "source": [
    "# make a new frequency list to interpolate on to [1000 Hz - 1000 sec]\n",
    "interp_freq = np.logspace(-3, 3, num=48)"
   ]
  },
  {
   "cell_type": "code",
   "execution_count": null,
   "metadata": {
    "collapsed": false
   },
   "outputs": [],
   "source": [
    "for edi_fn in edi_list:\n",
    "    mt_obj = mt.MT(edi_fn)\n",
    "    new_f = interp_freq[np.where((interp_freq >= mt_obj.Z.freq.min()) & (interp_freq <= mt_obj.Z.freq.max()))]\n",
    "    new_z_obj, new_t_obj = mt_obj.interpolate(new_f)\n",
    "    new_edi_fn = os.path.join(save_path, os.path.basename(edi_fn))\n",
    "    mt_obj.write_edi_file(new_fn=new_edi_fn, new_Z=new_z_obj, new_Tipper=new_t_obj)\n",
    "    "
   ]
  },
  {
   "cell_type": "code",
   "execution_count": null,
   "metadata": {
    "collapsed": true
   },
   "outputs": [],
   "source": []
  }
 ],
 "metadata": {
  "kernelspec": {
   "display_name": "Python 2",
   "language": "python",
   "name": "python2"
  },
  "language_info": {
   "codemirror_mode": {
    "name": "ipython",
    "version": 2
   },
   "file_extension": ".py",
   "mimetype": "text/x-python",
   "name": "python",
   "nbconvert_exporter": "python",
   "pygments_lexer": "ipython2",
   "version": "2.7.12"
  }
 },
 "nbformat": 4,
 "nbformat_minor": 0
}
