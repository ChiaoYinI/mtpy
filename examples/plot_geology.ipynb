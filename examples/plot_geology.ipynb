{
 "cells": [
  {
   "cell_type": "markdown",
   "metadata": {},
   "source": [
    "# Plotting Geological (poly/line) Data with ModEM Phase Tensors\n",
    "\n",
    "This notebook demonstrates how to plot geological polygon/line data overlain by ModEM phase tensors. Polygonal data in a given shapefile can be coloured according to a given lookup table."
   ]
  },
  {
   "cell_type": "code",
   "execution_count": 1,
   "metadata": {},
   "outputs": [],
   "source": [
    "# Add mtpy folder to python path. This may not be necessary \n",
    "# depending on how mtpy was installed.\n",
    "import sys\n",
    "\n",
    "#sys.path.append('/path/to/mtpy')\n",
    "sys.path.append('/home/rakib/work/ausLAMP/codes/mtGeoMtpy/')"
   ]
  },
  {
   "cell_type": "code",
   "execution_count": 2,
   "metadata": {},
   "outputs": [
    {
     "name": "stdout",
     "output_type": "stream",
     "text": [
      "If you want to write a vtk file for 3d viewing, you need download and install evtk from https://bitbucket.org/pauloh/pyevtk\n",
      "Note: if you are using Windows you should build evtk first witheither MinGW or cygwin using the command: \n",
      "    python setup.py build -compiler=mingw32  or \n",
      "    python setup.py build -compiler=cygwin\n",
      "If you want to write a vtk file for 3d viewing, you need download and install evtk from https://bitbucket.org/pauloh/pyevtk\n",
      "Note: if you are using Windows you should build evtk first witheither MinGW or cygwin using the command: \n",
      "    python setup.py build -compiler=mingw32  or \n",
      "    python setup.py build -compiler=cygwin\n",
      "If you want to write a vtk file for 3d viewing, you need download and install evtk from https://bitbucket.org/pauloh/pyevtk\n"
     ]
    },
    {
     "name": "stderr",
     "output_type": "stream",
     "text": [
      "If you want to write a vtk file for 3d viewing, you need download and install evtk from https://bitbucket.org/pauloh/pyevtk\n"
     ]
    }
   ],
   "source": [
    "import numpy as np\n",
    "import matplotlib as mpl\n",
    "import matplotlib.pyplot as plt\n",
    "from matplotlib.ticker import LogLocator\n",
    "from matplotlib import colors\n",
    "import matplotlib.cm as cm\n",
    "\n",
    "from matplotlib.patches import Polygon as MPLPolygon\n",
    "from mpl_toolkits.basemap import pyproj\n",
    "from mpl_toolkits.basemap import Basemap\n",
    "\n",
    "from netCDF4 import Dataset\n",
    "\n",
    "# Import required classes from key mtpy modules \n",
    "from mtpy.imaging2.geology import Geology\n",
    "from mtpy.imaging2.modem_ptensors import ModEM_ptensors\n",
    "\n",
    "%matplotlib inline"
   ]
  },
  {
   "cell_type": "markdown",
   "metadata": {},
   "source": [
    "## Load Geological Data\n",
    "\n",
    "* The **Geology** class is used to load both polygon and line data from two separate shapefiles"
   ]
  },
  {
   "cell_type": "code",
   "execution_count": null,
   "metadata": {},
   "outputs": [],
   "source": [
    "polySFN = 'data/geology/NT_LithInterp_2500K_region.shp'\n",
    "lineSFN = 'data/geology/NT_Fault_2500K_polyline.shp'\n",
    "lutFN = 'data/geology/colour_lut.txt'\n",
    "\n",
    "\n",
    "polyData = Geology(polySFN)\n",
    "lineData = Geology(lineSFN)"
   ]
  },
  {
   "cell_type": "markdown",
   "metadata": {},
   "source": [
    "## Load ModEM Phase Tensors\n",
    "\n",
    "The **ModEM_ptensors** class is used to load a ModEM data file."
   ]
  },
  {
   "cell_type": "code",
   "execution_count": null,
   "metadata": {},
   "outputs": [
    {
     "name": "stderr",
     "output_type": "stream",
     "text": [
      "/home/rakib/work/ausLAMP/codes/mtGeoMtpy/mtpy/analysis/pt.py:686: RuntimeWarning: divide by zero encountered in divide\n",
      "  pi2err = 1./ pi2 * np.sqrt( (self.pt[:,0,0] + self.pt[:,1,1] )**2*\\\n",
      "/home/rakib/work/ausLAMP/codes/mtGeoMtpy/mtpy/analysis/pt.py:689: RuntimeWarning: invalid value encountered in multiply\n",
      "  (self.pt_err[:,0,1]**2 + self.pt_err[:,1,0]**2))\n",
      "/home/rakib/work/ausLAMP/codes/mtGeoMtpy/mtpy/analysis/pt.py:660: RuntimeWarning: divide by zero encountered in divide\n",
      "  pi1err = 1./ pi1 * np.sqrt((self.pt[:,0,0] - self.pt[:,1,1])**2*\\\n",
      "/home/rakib/work/ausLAMP/codes/mtGeoMtpy/mtpy/analysis/pt.py:663: RuntimeWarning: invalid value encountered in multiply\n",
      "  (self.pt_err[:,0,1]**2 + self.pt_err[:,1,0]**2))\n",
      "/home/rakib/work/ausLAMP/codes/mtGeoMtpy/mtpy/analysis/pt.py:600: RuntimeWarning: invalid value encountered in divide\n",
      "  return (self.phimax-self.phimin)/(self.phimax+self.phimin)\n"
     ]
    }
   ],
   "source": [
    "modemFN = 'data/ModEM_files/ModEM_Data_im2.dat'\n",
    "\n",
    "modemPT = ModEM_ptensors(modemFN)"
   ]
  },
  {
   "cell_type": "code",
   "execution_count": null,
   "metadata": {},
   "outputs": [],
   "source": [
    "# set plot extents and dimensions\n",
    "minLat = -25\n",
    "maxLat = -21\n",
    "minLon = 133.5\n",
    "maxLon = 136.5\n",
    "\n",
    "fig, ax = plt.subplots(figsize=(10,10))\n",
    "\n",
    "m = Basemap(resolution='c', # c, l, i, h, f or None\n",
    "            ax=ax,\n",
    "            projection='merc',\n",
    "            lat_0=-22, lon_0=135,\n",
    "            llcrnrlon=minLon, llcrnrlat=minLat, urcrnrlon=maxLon, urcrnrlat=maxLat)\n",
    "\n",
    "# draw lat-lon grids\n",
    "m.drawparallels(np.linspace(minLat, maxLat, 5), labels=[1,1,0,0], linewidth=0.1)\n",
    "m.drawmeridians(np.linspace(minLon, maxLon, 5), labels=[0,0,1,1], linewidth=0.1)\n",
    "\n",
    "# plot geology ===================================================================\n",
    "\n",
    "# plot polygons using a color lookup table\n",
    "h,l = polyData.plot(ax, m, lutfn=lutFN, alpha=1)\n",
    "\n",
    "# plot line data\n",
    "lineData.plot(ax, m, alpha=1, color='k', linewidth=1.0)\n",
    "\n",
    "# create legend including all symbols used in the plot\n",
    "leg = ax.legend(h, l, loc=3,\n",
    "                  bbox_to_anchor=(1.1, 0),\n",
    "                  borderaxespad=0,\n",
    "                  handlelength=2,\n",
    "                  title= 'Symbol',\n",
    "                  ncol=2,\n",
    "                  fontsize=8)\n",
    "leg.get_title().set_fontsize(8)\n",
    "\n",
    "# plot phase tensors =============================================================\n",
    "# fetch attribute to color phase tensor ellipses with\n",
    "cmapAttrib = modemPT.get_period_attributes(16, 'ellipticity')\n",
    "sm = cm.ScalarMappable(norm=mpl.colors.Normalize(vmin=np.min(cmapAttrib), \n",
    "                                                 vmax=np.max(cmapAttrib)),  \n",
    "                       cmap='gist_heat')\n",
    "# extract color values from colormap\n",
    "cvals = sm.cmap(cmapAttrib)\n",
    "modemPT.plot(ax, m, periodIdx=16, cvals=cvals, alpha=0.5)\n",
    "\n",
    "# show colormap\n",
    "cbax = fig.add_axes([0.25,0,0.525,.025])\n",
    "cbar = mpl.colorbar.ColorbarBase(cbax, cmap=sm.cmap,\n",
    "                                 norm = sm.norm,\n",
    "                                 orientation='horizontal',\n",
    "                                 alpha=0.5)\n",
    "#cbar.solids.set_edgecolor(\"face\", alpha=0.5)\n",
    "\n",
    "plt.savefig('/tmp/a.png', dpi=300)"
   ]
  },
  {
   "cell_type": "markdown",
   "metadata": {},
   "source": [
    "## Load Magnetics"
   ]
  },
  {
   "cell_type": "code",
   "execution_count": null,
   "metadata": {},
   "outputs": [],
   "source": [
    "# load magnetics \n",
    "magFN = 'data/magnetics/magLowRes.nc'\n",
    "mag = Dataset(magFN)\n",
    "\n",
    "maglons = mag.variables['lon'][:]\n",
    "maglats = mag.variables['lat'][:]\n",
    "magvs = mag.variables['z'][:]\n",
    "\n",
    "maglons, maglats = np.meshgrid(maglons, maglats)\n",
    "\n",
    "# project lats and lons\n",
    "magpx, magpy = m(maglons, maglats)\n"
   ]
  },
  {
   "cell_type": "markdown",
   "metadata": {},
   "source": [
    "## Show Raster Data Overlain by Phase Tensors\n"
   ]
  },
  {
   "cell_type": "code",
   "execution_count": null,
   "metadata": {},
   "outputs": [],
   "source": [
    "# plot magnetics and phase tensors\n",
    "# set plot extents and dimensions\n",
    "minLat = -25\n",
    "maxLat = -21\n",
    "minLon = 133.5\n",
    "maxLon = 136.5\n",
    "\n",
    "fig, ax = plt.subplots(figsize=(10,10))\n",
    "\n",
    "m = Basemap(resolution='c', # c, l, i, h, f or None\n",
    "            ax=ax,\n",
    "            projection='merc',\n",
    "            lat_0=-22, lon_0=135,\n",
    "            llcrnrlon=minLon, llcrnrlat=minLat, urcrnrlon=maxLon, urcrnrlat=maxLat)\n",
    "\n",
    "# draw lat-lon grids\n",
    "m.drawparallels(np.linspace(minLat, maxLat, 5), labels=[1,1,0,0], linewidth=0.1)\n",
    "m.drawmeridians(np.linspace(minLon, maxLon, 5), labels=[0,0,1,1], linewidth=0.1)\n",
    "\n",
    "# plot magnetics\n",
    "c = m.contourf(magpx, magpy, magvs, 50, cmap='gray', rasterized=True)\n",
    "cbax1 = fig.add_axes([0.25,0,0.525,0.025])\n",
    "fig.colorbar(c, cbax1, orientation='horizontal')\n",
    "\n",
    "# plot phase tensors\n",
    "modemPT.plot(ax, m, periodIdx=16, cvals=cvals, alpha=0.5)\n",
    "cbax2 = fig.add_axes([0.25,0.07,0.525,0.025])\n",
    "cbar = mpl.colorbar.ColorbarBase(cbax2, cmap=sm.cmap,\n",
    "                                 norm = sm.norm,\n",
    "                                 orientation='horizontal',\n",
    "                                 alpha=0.5)"
   ]
  }
 ],
 "metadata": {
  "kernelspec": {
   "display_name": "Python 2",
   "language": "python",
   "name": "python2"
  },
  "language_info": {
   "codemirror_mode": {
    "name": "ipython",
    "version": 2
   },
   "file_extension": ".py",
   "mimetype": "text/x-python",
   "name": "python",
   "nbconvert_exporter": "python",
   "pygments_lexer": "ipython2",
   "version": "2.7.3"
  }
 },
 "nbformat": 4,
 "nbformat_minor": 2
}
