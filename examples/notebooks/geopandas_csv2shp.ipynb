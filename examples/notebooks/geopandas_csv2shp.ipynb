{
 "cells": [
  {
   "cell_type": "markdown",
   "metadata": {},
   "source": [
    "# GeoPandas IO   csv, shp geojson, etc\n",
    "\n",
    "https://geohackweek.github.io/vector/04-geopandas-intro/\n"
   ]
  },
  {
   "cell_type": "code",
   "execution_count": null,
   "metadata": {
    "collapsed": true
   },
   "outputs": [],
   "source": [
    "import os, sys,glob\n",
    "\n",
    "import folium\n",
    "from IPython.display import display\n",
    "\n",
    "from shapely.geometry import mapping\n",
    "\n",
    "%matplotlib inline\n",
    "\n",
    "import pandas as pd\n",
    "import geopandas as gpd\n",
    "\n",
    "from shapely.geometry import Point"
   ]
  },
  {
   "cell_type": "code",
   "execution_count": null,
   "metadata": {
    "collapsed": false
   },
   "outputs": [],
   "source": [
    "def csv_latlon2points(csvfile):\n",
    "    \n",
    "    pdf = pd.read_csv(csvfile)\n",
    "    mt_locations = [Point(xy) for xy in zip(pdf.lon, pdf.lat)]\n",
    "    #OR pdf['geometry'] = pdf.apply(lambda z: Point(z.lon, z.lat), axis=1)\n",
    "    #if you want to df = df.drop(['Lon', 'Lat'], axis=1)\n",
    "    crs = {'init': 'epsg:4326'}  # WGS84\n",
    "    crs = {'init': 'epsg:4283'}  # GGA94\n",
    "    geo_df = gpd.GeoDataFrame(pdf, crs=crs, geometry=mt_locations)\n",
    "\n",
    "    return geo_df"
   ]
  },
  {
   "cell_type": "code",
   "execution_count": null,
   "metadata": {
    "collapsed": false
   },
   "outputs": [],
   "source": [
    "# path2csv='E:/Data/MT_Datasets/WenPingJiang_SHP/PhaseTensorTipper_Params_1.0986Hz.csv'\n",
    "path2csv='/e/Data/GA_Works/E_Data_Modelling_Isa/EDI_edited_10Hz_1000s_SHP/phase_tensor_tipper_0.011Hz.csv'\n",
    "path2dir=os.path.dirname(path2csv)\n",
    "mygdf=csv_latlon2points(path2csv)"
   ]
  },
  {
   "cell_type": "code",
   "execution_count": null,
   "metadata": {
    "collapsed": false
   },
   "outputs": [],
   "source": [
    "# mygdf.head()\n",
    "mygdf.shape"
   ]
  },
  {
   "cell_type": "code",
   "execution_count": null,
   "metadata": {
    "collapsed": false
   },
   "outputs": [],
   "source": [
    "mygdf.crs"
   ]
  },
  {
   "cell_type": "code",
   "execution_count": null,
   "metadata": {
    "collapsed": true
   },
   "outputs": [],
   "source": [
    "shape_fname='/tmp/geopandas_made.shp'\n",
    "outshp=os.path.join(path2dir,shape_fname)\n",
    "mygdf.to_file(outshp, driver='ESRI Shapefile')\n"
   ]
  },
  {
   "cell_type": "code",
   "execution_count": null,
   "metadata": {
    "collapsed": false
   },
   "outputs": [],
   "source": [
    "title_str='phase tensor ellipses at Freq = 0.011Hz'\n",
    "myax = mygdf.plot(figsize=[20,10], linewidth=2.0, color='b', cmap='jet')\n",
    "\n",
    "myax.set_xlim([140.5,141.0])\n",
    "myax.set_ylim([-20.8,-19.9])\n",
    "\n",
    "myax.set_xlabel('Longitude')\n",
    "myax.set_ylabel('Latitude')\n",
    "myax.set_title(title_str)"
   ]
  },
  {
   "cell_type": "code",
   "execution_count": null,
   "metadata": {
    "collapsed": false
   },
   "outputs": [],
   "source": [
    "mygdf.to_crs({'init':'epsg:3112'}).plot()  # 3112 is GDA94/GALambertConformal"
   ]
  },
  {
   "cell_type": "code",
   "execution_count": null,
   "metadata": {
    "collapsed": false
   },
   "outputs": [],
   "source": []
  },
  {
   "cell_type": "code",
   "execution_count": null,
   "metadata": {
    "collapsed": false
   },
   "outputs": [],
   "source": [
    "mygdf.to_crs({'init':'epsg:3577'}).plot()  #EPSG Projection 3577 - GDA94 / Australian Albers "
   ]
  },
  {
   "cell_type": "code",
   "execution_count": null,
   "metadata": {
    "collapsed": false
   },
   "outputs": [],
   "source": [
    "mygdf.to_crs({'init':'epsg:28355'}).plot() #28355 http://spatialreference.org/ref/epsg/gda94-mga-zone-55/"
   ]
  },
  {
   "cell_type": "code",
   "execution_count": null,
   "metadata": {
    "collapsed": false
   },
   "outputs": [],
   "source": [
    "mygdf.to_crs({'init':'epsg:32755'}).plot() #32755 is WGS84/UTMS55"
   ]
  },
  {
   "cell_type": "code",
   "execution_count": null,
   "metadata": {
    "collapsed": true
   },
   "outputs": [],
   "source": [
    "import matplotlib as mpl\n",
    "\n",
    "mpl.rcParams['lines.linewidth'] = 2\n",
    "# mpl.rcParams['lines.color'] = 'r'\n",
    "\n",
    "#mpl.rcParams['figure.figsize']=(8,30)"
   ]
  },
  {
   "cell_type": "code",
   "execution_count": null,
   "metadata": {
    "collapsed": false
   },
   "outputs": [],
   "source": [
    "gdf_utm54=mygdf.to_crs({'init':'epsg:32754'})  #.plot()\n",
    "\n",
    "outshp=os.path.join(path2dir,'geopandas_made_utm54.shp')\n",
    "\n",
    "gdf_utm54.to_file(outshp, driver='ESRI Shapefile')\n"
   ]
  },
  {
   "cell_type": "code",
   "execution_count": null,
   "metadata": {
    "collapsed": true
   },
   "outputs": [],
   "source": [
    "\n",
    "geojson = mygdf.to_json()\n",
    "bounds = mygdf.total_bounds\n"
   ]
  },
  {
   "cell_type": "code",
   "execution_count": null,
   "metadata": {
    "collapsed": false
   },
   "outputs": [],
   "source": [
    "print bounds"
   ]
  },
  {
   "cell_type": "code",
   "execution_count": null,
   "metadata": {
    "collapsed": false,
    "scrolled": false
   },
   "outputs": [],
   "source": [
    "mygdf['azimuth'].plot()"
   ]
  },
  {
   "cell_type": "code",
   "execution_count": null,
   "metadata": {
    "collapsed": false
   },
   "outputs": [],
   "source": [
    "mygdf['skew'].abs().plot()"
   ]
  },
  {
   "cell_type": "code",
   "execution_count": null,
   "metadata": {
    "collapsed": false
   },
   "outputs": [],
   "source": [
    "mygdf.columns"
   ]
  },
  {
   "cell_type": "code",
   "execution_count": null,
   "metadata": {
    "collapsed": false
   },
   "outputs": [],
   "source": [
    "mygdf['elliptic'].plot()"
   ]
  },
  {
   "cell_type": "code",
   "execution_count": null,
   "metadata": {
    "collapsed": false
   },
   "outputs": [],
   "source": [
    "mygdf['skew'].describe()"
   ]
  },
  {
   "cell_type": "code",
   "execution_count": null,
   "metadata": {
    "collapsed": false
   },
   "outputs": [],
   "source": [
    "#mygdf['frequency'].plot(marker='*')   # tolerance ftol=10%\n",
    "\n",
    "mygdf['freq'].plot(marker='*')   # tolerance ftol=10%"
   ]
  },
  {
   "cell_type": "code",
   "execution_count": null,
   "metadata": {
    "collapsed": false
   },
   "outputs": [],
   "source": [
    "mygdf['tip_mag_re'].plot(marker='*')  \n",
    "\n",
    "#mygdf['tip_ang_re'].plot(marker='*')  "
   ]
  },
  {
   "cell_type": "code",
   "execution_count": null,
   "metadata": {
    "collapsed": false
   },
   "outputs": [],
   "source": [
    "# output jeojson?"
   ]
  },
  {
   "cell_type": "markdown",
   "metadata": {},
   "source": [
    "## https://geohackweek.github.io/vector/04-geopandas-intro/\n",
    "\n",
    "OR\n",
    "\n",
    "## http://nbviewer.jupyter.org/github/geohackweek/vector/blob/gh-pages/docker/notebooks/geopandas_intro.ipynb\n",
    "Like shapely, these spatial data types are limited to discrete entities/features and do not address continuously varying rasters or fields.\n",
    "\n",
    "While GeoPandas spatial objects can be assigned a Coordinate Reference System (CRS), operations can not be performed across CRS’s. Plus, geodetic (“unprojected”, lat-lon) CRS are not handled in a special way; the area of a geodetic polygon will be in degrees.\n"
   ]
  },
  {
   "cell_type": "code",
   "execution_count": null,
   "metadata": {
    "collapsed": false
   },
   "outputs": [],
   "source": [
    "mygdf.iloc[-1]  # last row or feature"
   ]
  },
  {
   "cell_type": "code",
   "execution_count": null,
   "metadata": {
    "collapsed": false
   },
   "outputs": [],
   "source": [
    "# geopandas included shape datasets\n",
    "world = gpd.read_file(gpd.datasets.get_path('naturalearth_lowres'))\n",
    "myax=world.plot(alpha=0.5)\n",
    "\n",
    "myax.set_xlim([138,150])\n",
    "myax.set_ylim([-30,-10])\n",
    "\n",
    "myax.set_xlim([110,155])\n",
    "myax.set_ylim([-40,-10])\n",
    "              \n",
    "mygdf.plot(ax=myax, figsize=(10, 20), marker='o', color='blue', markersize=2);"
   ]
  },
  {
   "cell_type": "markdown",
   "metadata": {
    "collapsed": true
   },
   "source": [
    "# Construct phase_tensor Ellipses and Tippers \n",
    "\n",
    "# write to shape files with different projections: wgs84, utm, etc."
   ]
  },
  {
   "cell_type": "code",
   "execution_count": null,
   "metadata": {
    "collapsed": false
   },
   "outputs": [],
   "source": [
    "import numpy as np\n",
    "    \n",
    "from shapely.geometry import Point, Polygon, LineString, LinearRing\n",
    "\n",
    "def create_tipper_real_shp(csvfile,  arr_size=4):\n",
    "    \"\"\" create tipper lines shape file.  \n",
    "    Must use a GIS software such as ArcGIS to display and add an arrow at each line's end\n",
    "    arr_size=4  how long will be the line (arrow)\n",
    "    \"\"\"\n",
    "    \n",
    "    pdf = pd.read_csv(csvfile)\n",
    "    mt_locations = [Point(xy) for xy in zip(pdf.lon, pdf.lat)]\n",
    "    #OR pdf['geometry'] = pdf.apply(lambda z: Point(z.lon, z.lat), axis=1)\n",
    "    #if you want to df = df.drop(['Lon', 'Lat'], axis=1)\n",
    "    crs = {'init': 'epsg:4326'}  # WGS84\n",
    "    \n",
    "    #geo_df = gpd.GeoDataFrame(pdf, crs=crs, geometry=mt_locations)\n",
    "    \n",
    "    pdf['tip_re'] = pdf.apply(lambda x: \n",
    "        LineString([(float(x.lon), float(x.lat)), \n",
    "                    (float(x.lon)+ arr_size*x.tip_mag_re*np.cos(-np.deg2rad(x.tip_ang_re)),\n",
    "                     float(x.lat)+ arr_size*x.tip_mag_re*np.sin(-np.deg2rad(x.tip_ang_re)))]), axis=1)\n",
    "\n",
    "\n",
    "    pdf = gpd.GeoDataFrame(pdf, geometry='tip_re')\n",
    "    \n",
    "    return pdf\n"
   ]
  },
  {
   "cell_type": "code",
   "execution_count": null,
   "metadata": {
    "collapsed": false
   },
   "outputs": [],
   "source": [
    "tipdf=create_tipper_real_shp(path2csv, arr_size=0.1)\n",
    "\n",
    "tipdf.to_file('tip_re.shp', driver='ESRI Shapefile')"
   ]
  },
  {
   "cell_type": "code",
   "execution_count": null,
   "metadata": {
    "collapsed": false
   },
   "outputs": [],
   "source": [
    "tipdf.plot()"
   ]
  },
  {
   "cell_type": "code",
   "execution_count": null,
   "metadata": {
    "collapsed": false
   },
   "outputs": [],
   "source": [
    "tipdf.head()"
   ]
  },
  {
   "cell_type": "code",
   "execution_count": null,
   "metadata": {
    "collapsed": true
   },
   "outputs": [],
   "source": [
    "\n",
    "# re-project the geopandas df into different epsg, then write out to shape files.\n"
   ]
  },
  {
   "cell_type": "code",
   "execution_count": null,
   "metadata": {
    "collapsed": false
   },
   "outputs": [],
   "source": [
    "\n",
    "# http://toblerity.org/shapely/manual.html#polygons\n",
    "# https://geohackweek.github.io/vector/04-geopandas-intro/\n",
    "    \n",
    "from shapely.geometry import Point, Polygon, LinearRing\n",
    "\n",
    "def create_phase_tensor_ellipse_shp(csvfile, esize=0.03):\n",
    "    \"\"\" create phase tensor ellipse\n",
    "    esize is ellipse size, defaut 0.03 is about 3KM in the max ellipse rad\n",
    "    \"\"\"\n",
    "    \n",
    "    pdf = pd.read_csv(csvfile)\n",
    "    mt_locations = [Point(xy) for xy in zip(pdf.lon, pdf.lat)]\n",
    "    #OR pdf['geometry'] = pdf.apply(lambda z: Point(z.lon, z.lat), axis=1)\n",
    "    #if you want to df = df.drop(['Lon', 'Lat'], axis=1)\n",
    "    crs = {'init': 'epsg:4326'}  # WGS84\n",
    "    \n",
    "    pdf = gpd.GeoDataFrame(pdf, crs=crs, geometry=mt_locations)\n",
    "    \n",
    "    \n",
    "    # make  pt_ellispes using polygons\n",
    "    PHIMAX=pdf['phi_max'].max() # the max of this group of ellipse\n",
    "    \n",
    "    print PHIMAX\n",
    "    \n",
    "    theta = np.arange(0, 2 * np.pi, np.pi / 30.) # points to trace out the polygon-ellipse\n",
    " \n",
    "    azimuth = -np.deg2rad(pdf['azimuth'])\n",
    "    width = esize * (pdf['phi_max'] /PHIMAX)\n",
    "    height = esize * (pdf['phi_min'] / PHIMAX)\n",
    "    x0 = pdf['lon']\n",
    "    y0 = pdf['lat']\n",
    "\n",
    "# apply formula to generate ellipses\n",
    "  \n",
    "    ellipse_list=[]\n",
    "    for i in xrange(0, len(azimuth)):\n",
    "        x = x0[i] + height[i] * np.cos(theta) * np.cos(azimuth[i]) - width[i] * np.sin(theta) * np.sin(azimuth[i])\n",
    "        y = y0[i] + height[i] * np.cos(theta) * np.sin(azimuth[i]) + width[i] * np.sin(theta) * np.cos(azimuth[i])\n",
    "\n",
    "        polyg= Polygon(LinearRing([xy for xy in zip(x, y) ]))\n",
    "        \n",
    "        #print polyg  # an ellispe\n",
    "        \n",
    "        ellipse_list.append(polyg)\n",
    "        \n",
    "    \n",
    "#     for xi, yi in zip(x, y):\n",
    "#         polyg.(np.round(xi, 6), np.round(yi, 6))\n",
    "        \n",
    "        \n",
    "#                     # 1) make a geometry shape of the ellipse\n",
    "#                     ellipse = ogr.Geometry(ogr.wkbLinearRing)\n",
    "#                     ellipse.CloseRings()\n",
    "\n",
    "#                     # 2) make a polygon\n",
    "#                     poly = ogr.Geometry(ogr.wkbPolygon)\n",
    "#                     poly.AddGeometry(ellipse)\n",
    "\n",
    "#                     poly_list.append(poly)\n",
    "\n",
    "    pdf = gpd.GeoDataFrame(pdf, crs=crs, geometry=ellipse_list)\n",
    "    \n",
    "    return pdf"
   ]
  },
  {
   "cell_type": "code",
   "execution_count": null,
   "metadata": {
    "collapsed": false
   },
   "outputs": [],
   "source": [
    "#CSVDIR='E:/Data/MT_Datasets/WenPingJiang_SHP/'\n",
    "CSVDIR='/e/Data/GA_Works/E_Data_Modelling_Isa/EDI_edited_10Hz_1000s_SHP'\n",
    "csvfiles=glob.glob(CSVDIR+'/*.csv')\n",
    "\n",
    "print (len(csvfiles))\n",
    "for acsv in csvfiles[:2]:\n",
    "    p = create_phase_tensor_ellipse_shp(acsv)\n",
    "    \n",
    "    #p.plot()\n",
    "    shp_fname = acsv.replace('.csv','.shp')\n",
    "    \n",
    "    p.to_file(shp_fname, driver='ESRI Shapefile')\n",
    "    \n",
    "    "
   ]
  },
  {
   "cell_type": "code",
   "execution_count": null,
   "metadata": {
    "collapsed": false
   },
   "outputs": [],
   "source": [
    "p.columns"
   ]
  },
  {
   "cell_type": "code",
   "execution_count": null,
   "metadata": {
    "collapsed": false,
    "scrolled": true
   },
   "outputs": [],
   "source": [
    "Pause"
   ]
  },
  {
   "cell_type": "code",
   "execution_count": null,
   "metadata": {
    "collapsed": false
   },
   "outputs": [],
   "source": [
    "p.head()"
   ]
  },
  {
   "cell_type": "code",
   "execution_count": null,
   "metadata": {
    "collapsed": true
   },
   "outputs": [],
   "source": [
    "\n",
    "p.to_file('/tmp/pt_ellispe.shp', driver='ESRI Shapefile')\n"
   ]
  },
  {
   "cell_type": "code",
   "execution_count": null,
   "metadata": {
    "collapsed": false
   },
   "outputs": [],
   "source": [
    "title_str='phase tensor ellipses at Freq = 0.011Hz'\n",
    "\n",
    "\n",
    "myax = p.plot(figsize=[20,10], linewidth=2.0, color='b', cmap='jet')\n",
    "\n",
    "myax.set_xlim([140.4,141.0])\n",
    "myax.set_ylim([-20.8,-19.9])\n",
    "\n",
    "myax.set_xlabel('Longitude')\n",
    "myax.set_ylabel('Latitude')\n",
    "myax.set_title(title_str)"
   ]
  },
  {
   "cell_type": "code",
   "execution_count": null,
   "metadata": {
    "collapsed": false
   },
   "outputs": [],
   "source": [
    "\n",
    "import matplotlib.pyplot as plt\n",
    "\n",
    "myax = p.plot(figsize=[20,10], linewidth=2.0, column='phi_max', colormap='jet') # , vmin=vmin, vmax=vmax)\n",
    "\n",
    "myax.set_xlim([140.2,141.2])\n",
    "myax.set_ylim([-20.8,-19.9])\n",
    "\n",
    "myax.set_xlabel('Longitude')\n",
    "myax.set_ylabel('Latitude')\n",
    "myax.set_title(title_str)\n",
    "\n",
    "# add colorbar\n",
    "fig = myax.get_figure()\n",
    "cax = fig.add_axes() #([0.7, 0.05, 0.03, 0.8])\n",
    "sm = plt.cm.ScalarMappable(cmap='jet') #, norm=plt.Normalize(vmin=vmin, vmax=vmax))\n",
    "# fake up the array of the scalar mappable. Urgh...\n",
    "sm._A = []\n",
    "fig.colorbar(sm, cax=cax)"
   ]
  },
  {
   "cell_type": "code",
   "execution_count": null,
   "metadata": {
    "collapsed": true
   },
   "outputs": [],
   "source": []
  },
  {
   "cell_type": "code",
   "execution_count": null,
   "metadata": {
    "collapsed": false
   },
   "outputs": [],
   "source": [
    "print p.crs"
   ]
  },
  {
   "cell_type": "code",
   "execution_count": null,
   "metadata": {
    "collapsed": false
   },
   "outputs": [],
   "source": [
    "mygdf28354=p.to_crs({'init':'epsg:28354'})  # utm zone54  long=138-144"
   ]
  },
  {
   "cell_type": "code",
   "execution_count": null,
   "metadata": {
    "collapsed": false
   },
   "outputs": [],
   "source": [
    "mygdf28354.plot()"
   ]
  },
  {
   "cell_type": "code",
   "execution_count": null,
   "metadata": {
    "collapsed": true
   },
   "outputs": [],
   "source": [
    "mygdf3112=p.to_crs({'init':'epsg:3112'})  #EPSG:3112 is GDA94 Lambert Confomal (GA LCC)"
   ]
  },
  {
   "cell_type": "code",
   "execution_count": null,
   "metadata": {
    "collapsed": false
   },
   "outputs": [],
   "source": [
    "mygdf3112.plot()"
   ]
  },
  {
   "cell_type": "code",
   "execution_count": null,
   "metadata": {
    "collapsed": false
   },
   "outputs": [],
   "source": [
    "mygdf3112.crs"
   ]
  },
  {
   "cell_type": "code",
   "execution_count": null,
   "metadata": {
    "collapsed": false
   },
   "outputs": [],
   "source": [
    "mygdf3112.head(5)"
   ]
  }
 ],
 "metadata": {
  "anaconda-cloud": {},
  "kernelspec": {
   "display_name": "Python 2",
   "language": "python",
   "name": "python2"
  },
  "language_info": {
   "codemirror_mode": {
    "name": "ipython",
    "version": 2
   },
   "file_extension": ".py",
   "mimetype": "text/x-python",
   "name": "python",
   "nbconvert_exporter": "python",
   "pygments_lexer": "ipython2",
   "version": "2.7.12"
  }
 },
 "nbformat": 4,
 "nbformat_minor": 0
}
