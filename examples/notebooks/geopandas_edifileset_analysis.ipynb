{
 "cells": [
  {
   "cell_type": "markdown",
   "metadata": {},
   "source": [
    "# Analyzing EDI files set using Pandas \n",
    "\n",
    "From EDI measurment csv file (edi_measurement.csv) to plottings\n",
    "\n",
    "## Fei Zhang\n",
    "### 2017-09\n",
    "\n",
    "### See Similar Notebooks:\n",
    "* geopandas_csv2shp\n"
   ]
  },
  {
   "cell_type": "code",
   "execution_count": null,
   "metadata": {
    "collapsed": true
   },
   "outputs": [],
   "source": [
    "import os, sys,glob\n",
    "%matplotlib inline\n",
    "from IPython.display import display\n",
    "\n",
    "import folium\n",
    "from shapely.geometry import mapping\n",
    "\n",
    "import pandas as pd\n",
    "import geopandas as gpd\n",
    "from shapely.geometry import Point"
   ]
  },
  {
   "cell_type": "code",
   "execution_count": null,
   "metadata": {
    "collapsed": false
   },
   "outputs": [],
   "source": [
    "def csv_to_geopdf(csvfile):\n",
    "    \n",
    "    pdf = pd.read_csv(csvfile)\n",
    "    mt_locations = [Point(xy) for xy in zip(pdf.LON, pdf.LAT)]\n",
    "    #OR pdf['geometry'] = pdf.apply(lambda z: Point(z.lon, z.lat), axis=1)\n",
    "    #if you want to df = df.drop(['Lon', 'Lat'], axis=1)\n",
    "    crs = {'init': 'epsg:4326'}  # WGS84\n",
    "    crs = {'init': 'epsg:4283'}  # GDA94\n",
    "    geo_df = gpd.GeoDataFrame(pdf, crs=crs, geometry=mt_locations)\n",
    "\n",
    "    return geo_df"
   ]
  },
  {
   "cell_type": "code",
   "execution_count": null,
   "metadata": {
    "collapsed": false
   },
   "outputs": [],
   "source": [
    "# path2csv='E:/Data/MT_Datasets/WenPingJiang_SHP/PhaseTensorTipper_Params_1.0986Hz.csv'\n",
    "#path2csv='E:/example_data_edi_files/edi_measurement.csv'\n",
    "#path2csv='E:/tmp4/edi_measurement.csv'\n",
    "\n",
    "\n",
    "from mtpy.core.edi_collection import EdiCollection\n",
    "\n",
    "#Supress default INFO logging\n",
    "import logging\n",
    "logger = logging.getLogger()\n",
    "logger.setLevel(logging.CRITICAL)\n",
    "logger.propagate = False\n",
    "\n",
    "EDI_FOLDER='E:/Data/MT_Datasets/GA_UA_edited_10s-10000s'\n",
    "EDI_FOLDER='E:/Data/MT_Datasets/3D_MT_data_edited_fromDuanJM'\n",
    "\n",
    "edi_list= glob.glob(EDI_FOLDER + '/*.edi')\n",
    "\n",
    "ediob= EdiCollection(edi_list)\n",
    "\n",
    "path2csv = ediob.create_measurement_csv(dest_dir='E:/tmp7')                                   \n",
    "\n",
    "print(path2csv)\n",
    "                                        \n",
    "path2dir=os.path.dirname(path2csv)\n",
    "mygdf=csv_to_geopdf(path2csv)"
   ]
  },
  {
   "cell_type": "code",
   "execution_count": null,
   "metadata": {
    "collapsed": false
   },
   "outputs": [],
   "source": [
    "# mygdf.head()\n",
    "mygdf.shape"
   ]
  },
  {
   "cell_type": "code",
   "execution_count": null,
   "metadata": {
    "collapsed": false
   },
   "outputs": [],
   "source": [
    "mygdf.iloc[0]     # [-1] last row or feature"
   ]
  },
  {
   "cell_type": "code",
   "execution_count": null,
   "metadata": {
    "collapsed": false
   },
   "outputs": [],
   "source": [
    "mygdf.crs"
   ]
  },
  {
   "cell_type": "code",
   "execution_count": null,
   "metadata": {
    "collapsed": true
   },
   "outputs": [],
   "source": [
    "shape_fname=path2csv.upper().replace('.CSV', '.SHP')   # 'geopandas_made.shp'\n",
    "outshp=os.path.join(path2dir,shape_fname)\n"
   ]
  },
  {
   "cell_type": "code",
   "execution_count": null,
   "metadata": {
    "collapsed": false
   },
   "outputs": [],
   "source": [
    "outshp"
   ]
  },
  {
   "cell_type": "code",
   "execution_count": null,
   "metadata": {
    "collapsed": false
   },
   "outputs": [],
   "source": [
    "mygdf.to_file(outshp, driver='ESRI Shapefile')"
   ]
  },
  {
   "cell_type": "code",
   "execution_count": null,
   "metadata": {
    "collapsed": true
   },
   "outputs": [],
   "source": [
    "import matplotlib as mpl\n",
    "\n",
    "mpl.rcParams['lines.linewidth'] = 2\n",
    "# mpl.rcParams['lines.color'] = 'r'\n",
    "\n",
    "#mpl.rcParams['figure.figsize']=(8,30)"
   ]
  },
  {
   "cell_type": "code",
   "execution_count": null,
   "metadata": {
    "collapsed": false
   },
   "outputs": [],
   "source": [
    "#gdf_utm54=mygdf.to_crs({'init':'epsg:32754'})  #.plot()\n",
    "\n",
    "#outshp=os.path.join(path2dir,'geopandas_made_utm54.shp')\n",
    "\n",
    "#gdf_utm54.to_file(outshp, driver='ESRI Shapefile')\n"
   ]
  },
  {
   "cell_type": "code",
   "execution_count": null,
   "metadata": {
    "collapsed": true
   },
   "outputs": [],
   "source": [
    "\n",
    "geojson = mygdf.to_json()\n",
    "\n",
    "# output jeojson?\n",
    "# geojson big-string\n",
    "\n",
    "bounds = mygdf.total_bounds\n"
   ]
  },
  {
   "cell_type": "code",
   "execution_count": null,
   "metadata": {
    "collapsed": false
   },
   "outputs": [],
   "source": [
    "print bounds"
   ]
  },
  {
   "cell_type": "code",
   "execution_count": null,
   "metadata": {
    "collapsed": false
   },
   "outputs": [],
   "source": [
    "mygdf.columns"
   ]
  },
  {
   "cell_type": "code",
   "execution_count": null,
   "metadata": {
    "collapsed": false
   },
   "outputs": [],
   "source": [
    "mygdf['ZXYre'].describe()"
   ]
  },
  {
   "cell_type": "code",
   "execution_count": null,
   "metadata": {
    "collapsed": false
   },
   "outputs": [],
   "source": [
    "# unique stations\n",
    "station_list= mygdf['STATION'].unique()"
   ]
  },
  {
   "cell_type": "code",
   "execution_count": null,
   "metadata": {
    "collapsed": false
   },
   "outputs": [],
   "source": [
    "# plot a station's MT data\n",
    "stid=8\n",
    "\n",
    "mystation=station_list[stid] #'pb27'\n",
    "\n",
    "#mygdf2 = mygdf.where (mygdf['FREQ'] == 0.000122)  # not working\n",
    "mygdf2 = mygdf.loc[mygdf['STATION'] == mystation]\n"
   ]
  },
  {
   "cell_type": "code",
   "execution_count": null,
   "metadata": {
    "collapsed": false
   },
   "outputs": [],
   "source": [
    "mygdf2.shape"
   ]
  },
  {
   "cell_type": "code",
   "execution_count": null,
   "metadata": {
    "collapsed": false
   },
   "outputs": [],
   "source": [
    "mydf2=pd.DataFrame(mygdf2)\n",
    "mydf2['PERIOD'] = mydf2.apply(lambda z: 1.0/z.FREQ, axis=1)"
   ]
  },
  {
   "cell_type": "code",
   "execution_count": null,
   "metadata": {
    "collapsed": true
   },
   "outputs": [],
   "source": [
    "mydf2s= mydf2.sort_values('PERIOD', axis=0, ascending=True, inplace=False)"
   ]
  },
  {
   "cell_type": "code",
   "execution_count": null,
   "metadata": {
    "collapsed": false
   },
   "outputs": [],
   "source": [
    "ax=mydf2s.plot(x='PERIOD', y=['RHOxy', 'RHOyx'], logx=True, logy=True, marker='*', \n",
    "            title=\"Station=%s\"%mystation)\n",
    "\n",
    "ax.set_ylabel('App. Res. ($\\mathbf{\\Omega \\cdot m}$)')\n",
    "ax.set_xlabel('Period (s)')"
   ]
  },
  {
   "cell_type": "code",
   "execution_count": null,
   "metadata": {
    "collapsed": false
   },
   "outputs": [],
   "source": [
    "ax=mydf2s.plot(x='PERIOD', y=['PHSxy', 'PHSyx'], logx=True, logy=False, marker='^'\n",
    "            ,title=\"Station=%s\"%mystation)\n",
    "ax.set_ylabel('Phase (Deg)')\n",
    "ax.set_xlabel('Period (s)')"
   ]
  },
  {
   "cell_type": "code",
   "execution_count": null,
   "metadata": {
    "collapsed": true
   },
   "outputs": [],
   "source": []
  },
  {
   "cell_type": "code",
   "execution_count": null,
   "metadata": {
    "collapsed": true
   },
   "outputs": [],
   "source": []
  },
  {
   "cell_type": "code",
   "execution_count": null,
   "metadata": {
    "collapsed": false
   },
   "outputs": [],
   "source": [
    "180*74.36"
   ]
  },
  {
   "cell_type": "code",
   "execution_count": null,
   "metadata": {
    "collapsed": false
   },
   "outputs": [],
   "source": [
    "80*73.97 +100*74.68"
   ]
  },
  {
   "cell_type": "code",
   "execution_count": null,
   "metadata": {
    "collapsed": false
   },
   "outputs": [],
   "source": [
    "FIN"
   ]
  }
 ],
 "metadata": {
  "anaconda-cloud": {},
  "kernelspec": {
   "display_name": "Python [default]",
   "language": "python",
   "name": "python2"
  },
  "language_info": {
   "codemirror_mode": {
    "name": "ipython",
    "version": 2
   },
   "file_extension": ".py",
   "mimetype": "text/x-python",
   "name": "python",
   "nbconvert_exporter": "python",
   "pygments_lexer": "ipython2",
   "version": "2.7.12"
  }
 },
 "nbformat": 4,
 "nbformat_minor": 0
}
