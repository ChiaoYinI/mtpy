{
 "cells": [
  {
   "cell_type": "markdown",
   "metadata": {},
   "source": [
    "# Demo:  Plot Resistivity and Phase\n",
    "\n",
    "##  Fei Zhang\n",
    "## 2016-12-19\n",
    "\n",
    "- input is an edi file\n",
    "- see also Read_edi_file_and_plot.ipynb"
   ]
  },
  {
   "cell_type": "code",
   "execution_count": 2,
   "metadata": {
    "collapsed": true
   },
   "outputs": [],
   "source": [
    "import os\n",
    "# import some required modules\n",
    "import sys\n",
    "import glob\n",
    "\n",
    "\n",
    "% matplotlib inline\n",
    "import matplotlib.pyplot as plt\n",
    "\n",
    "#1) set env variables PYTHONPATH and MTPYPATH before starting jupyther notebook,\n",
    "# OR alternatively\n",
    "#2) do the following two statements. Then it will all works fine.\n",
    "mtpydir='/g/data/ha3/fxz547/Githubz/mtpy2'  #'E:/Github/mtpy2'  #'/Softlab/Githubz/mtpy'\n",
    "sys.path.insert(0,mtpydir)   # python path for import \n",
    "os.environ['MTPYPATH']=mtpydir #Data  resources configuration"
   ]
  },
  {
   "cell_type": "code",
   "execution_count": 3,
   "metadata": {
    "collapsed": false
   },
   "outputs": [
    {
     "name": "stdout",
     "output_type": "stream",
     "text": [
      "/g/data/ha3/fxz547/Githubz/mtpy2/tests/data/AMT/15125A_spe.edi\n"
     ]
    }
   ],
   "source": [
    "\n",
    "from mtpy.imaging.mtplottools import MTArrows, MTEllipse\n",
    "from mtpy.imaging.resistivity_and_phase_plot import PlotResistivityAndPhase\n",
    "# Provide full path of an input edi file.\n",
    "\n",
    "output_impedance_edi_file = os.path.join(os.environ.get('MTPYPATH'), 'impedance.edi')\n",
    "edi_file_name=os.path.join(os.environ.get('MTPYPATH'), 'tests/data/AMT/15125A_spe.edi')\n",
    "print(edi_file_name)"
   ]
  },
  {
   "cell_type": "code",
   "execution_count": 4,
   "metadata": {
    "collapsed": false
   },
   "outputs": [
    {
     "ename": "TypeError",
     "evalue": "__init__() got an unexpected keyword argument 'tippererr'",
     "output_type": "error",
     "traceback": [
      "\u001b[0;31m\u001b[0m",
      "\u001b[0;31mTypeError\u001b[0mTraceback (most recent call last)",
      "\u001b[0;32m<ipython-input-4-8d039cf3744d>\u001b[0m in \u001b[0;36m<module>\u001b[0;34m()\u001b[0m\n\u001b[1;32m      6\u001b[0m     \u001b[0mplot_yn\u001b[0m\u001b[0;34m=\u001b[0m\u001b[0;34m'n'\u001b[0m\u001b[0;34m,\u001b[0m\u001b[0;34m\u001b[0m\u001b[0m\n\u001b[1;32m      7\u001b[0m     \u001b[0mfig_size\u001b[0m\u001b[0;34m=\u001b[0m\u001b[0;34m[\u001b[0m\u001b[0;36m10\u001b[0m\u001b[0;34m,\u001b[0m \u001b[0;36m10\u001b[0m\u001b[0;34m]\u001b[0m\u001b[0;34m,\u001b[0m\u001b[0;34m\u001b[0m\u001b[0m\n\u001b[0;32m----> 8\u001b[0;31m     \u001b[0mmarker_size\u001b[0m\u001b[0;34m=\u001b[0m\u001b[0;36m6\u001b[0m\u001b[0;34m,\u001b[0m\u001b[0;34m\u001b[0m\u001b[0m\n\u001b[0m\u001b[1;32m      9\u001b[0m     )\n\u001b[1;32m     10\u001b[0m \u001b[0mres_plot\u001b[0m\u001b[0;34m.\u001b[0m\u001b[0mplot_impedance\u001b[0m\u001b[0;34m(\u001b[0m\u001b[0;34m)\u001b[0m\u001b[0;34m\u001b[0m\u001b[0m\n",
      "\u001b[0;32m/g/data/ha3/fxz547/Githubz/mtpy2/mtpy/imaging/resistivity_and_phase_plot.pyc\u001b[0m in \u001b[0;36m__init__\u001b[0;34m(self, edi_file_name, data_type, ellipse, arrow, **kwargs)\u001b[0m\n",
      "\u001b[0;31mTypeError\u001b[0m: __init__() got an unexpected keyword argument 'tippererr'"
     ]
    },
    {
     "data": {
      "text/plain": [
       "<matplotlib.figure.Figure at 0x7fc95960f990>"
      ]
     },
     "metadata": {},
     "output_type": "display_data"
    }
   ],
   "source": [
    "# impedance plot\n",
    "\n",
    "from mtpy.imaging.resistivity_and_phase_plot import PlotResistivityAndPhase\n",
    "res_plot = PlotResistivityAndPhase(\n",
    "    edi_file_name=edi_file_name, \n",
    "    plot_yn='n', \n",
    "    fig_size=[10, 10], \n",
    "    marker_size=6,\n",
    "    )\n",
    "res_plot.plot_impedance()"
   ]
  },
  {
   "cell_type": "code",
   "execution_count": null,
   "metadata": {
    "collapsed": false
   },
   "outputs": [],
   "source": [
    "# Simple resistivy and phase plot\n",
    "pt1 = PlotResistivityAndPhase(\n",
    "        edi_file_name=edi_file_name,\n",
    "        plot_num=2, fig_size =[10, 10], font_size=10, marker_size=5)"
   ]
  },
  {
   "cell_type": "code",
   "execution_count": null,
   "metadata": {
    "collapsed": false
   },
   "outputs": [],
   "source": [
    "# Plot real and imaginary tipper with resistivity and phase plot\n",
    "# Use \"plot_tipper='yr'\" to plot only real tipper\n",
    "# Use \"plot_tipper='yi'\" to plot only imag tipper\n",
    "\n",
    "# edi_file_name = os.path.join(MTPY_DEVELOPMENT_AMT, '15125A_imp.edi')\n",
    "\n",
    "pt2 = PlotResistivityAndPhase(\n",
    "        edi_file_name=edi_file_name,\n",
    "        plot_tipper='yri',\n",
    "        plot_num=2,\n",
    "        fig_size=[10, 12],\n",
    "        font_size=14\n",
    "        )"
   ]
  },
  {
   "cell_type": "code",
   "execution_count": null,
   "metadata": {
    "collapsed": false
   },
   "outputs": [],
   "source": [
    "# Plot strike (from invariants) with resistivity and phase plot\n",
    "# Use \"plot_strike='yt'\" to plot strike from tipper\n",
    "# Use \"plot_strike='yp'\" to plot strike from tipper\n",
    "\n",
    "pt2 = PlotResistivityAndPhase(\n",
    "        edi_file_name=edi_file_name,\n",
    "        plot_strike='yi',\n",
    "        plot_num=2,\n",
    "        fig_size=[10, 12],\n",
    "        marker_size=8,\n",
    "        font_size=14\n",
    "        )"
   ]
  },
  {
   "cell_type": "code",
   "execution_count": null,
   "metadata": {
    "collapsed": false
   },
   "outputs": [],
   "source": [
    "# Here is how one can change arrow and ellipse properties\n",
    "ellipse_dict = {'range': (20, 70), 'cmap': 'mt_bl2gr2rd',\n",
    "                    'colorby': 'phimin', 'size': 0.25}\n",
    "ellipse = MTEllipse(ellipse_dict=ellipse_dict)\n",
    "arrow_dict = {'color': ('k', 'b'), 'direction': 0, 'head_length': .03,\n",
    "                  'head_width': .03, 'lw': .1}\n",
    "arrow = MTArrows(arrow_dict)\n",
    "pt2 = PlotResistivityAndPhase(\n",
    "        edi_file_name=edi_file_name,\n",
    "        data_type='z',\n",
    "        ellipse=ellipse,\n",
    "        arrow=arrow,\n",
    "        plot_tipper='yri',\n",
    "        plot_skew='y',\n",
    "        plot_strike='yt',\n",
    "        plot_num=3,\n",
    "        plot_yn='y',\n",
    "        fig_size=[10,16],\n",
    "        marker_size=6,\n",
    "        font_size=10,\n",
    "    )"
   ]
  },
  {
   "cell_type": "code",
   "execution_count": null,
   "metadata": {
    "collapsed": false
   },
   "outputs": [],
   "source": [
    "# add phase tensor to the resisitivity plot\n",
    "pt2 = PlotResistivityAndPhase(\n",
    "        edi_file_name=edi_file_name,\n",
    "        data_type='z',\n",
    "        ellipse=ellipse,\n",
    "        arrow=arrow,\n",
    "        plot_tipper='yri',\n",
    "        plot_skew='y',\n",
    "        plot_strike='yt',\n",
    "        plot_num=3,\n",
    "        plot_yn='y',\n",
    "        plot_pt='y',\n",
    "        fig_size=[10, 20],\n",
    "        font_size=14,\n",
    "        marker_size=8,\n",
    "    )"
   ]
  },
  {
   "cell_type": "code",
   "execution_count": null,
   "metadata": {
    "collapsed": true
   },
   "outputs": [],
   "source": []
  }
 ],
 "metadata": {
  "anaconda-cloud": {},
  "kernelspec": {
   "display_name": "Python [default]",
   "language": "python",
   "name": "python2"
  },
  "language_info": {
   "codemirror_mode": {
    "name": "ipython",
    "version": 2
   },
   "file_extension": ".py",
   "mimetype": "text/x-python",
   "name": "python",
   "nbconvert_exporter": "python",
   "pygments_lexer": "ipython2",
   "version": "2.7.12"
  }
 },
 "nbformat": 4,
 "nbformat_minor": 0
}
