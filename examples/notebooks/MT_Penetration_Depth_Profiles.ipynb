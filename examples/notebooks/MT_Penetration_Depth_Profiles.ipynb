{
 "cells": [
  {
   "cell_type": "markdown",
   "metadata": {},
   "source": [
    "# MT Penetration Depth Profiles over 2DLine and 3DGrid"
   ]
  },
  {
   "cell_type": "code",
   "execution_count": 214,
   "metadata": {
    "collapsed": false
   },
   "outputs": [],
   "source": [
    "import sys \n",
    "import os\n",
    "import glob\n",
    "import numpy as np\n",
    "\n",
    "\n",
    "%matplotlib inline\n",
    "import matplotlib.pyplot as plt\n",
    "import matplotlib as mpl\n",
    "\n",
    "\n",
    "mpl.rcParams['lines.linewidth'] = 2\n",
    "# mpl.rcParams['lines.color'] = 'r'\n",
    "\n",
    "mpl.rcParams['figure.figsize']=[20,10]\n",
    "\n",
    "import mtpy.core.mt as mt\n",
    "import mtpy.modeling.occam2d_rewrite as occam2d_new\n"
   ]
  },
  {
   "cell_type": "code",
   "execution_count": 215,
   "metadata": {
    "collapsed": false
   },
   "outputs": [
    {
     "name": "stdout",
     "output_type": "stream",
     "text": [
      "['E:/Githubz/mtpy2/examples/data/edi2\\\\11_LF_z.edi', 'E:/Githubz/mtpy2/examples/data/edi2\\\\135_LF_z.edi', 'E:/Githubz/mtpy2/examples/data/edi2\\\\136_LF_z.edi', 'E:/Githubz/mtpy2/examples/data/edi2\\\\143_LF_z.edi', 'E:/Githubz/mtpy2/examples/data/edi2\\\\1R_LF_z.edi', 'E:/Githubz/mtpy2/examples/data/edi2\\\\24_LF_z.edi', 'E:/Githubz/mtpy2/examples/data/edi2\\\\26_LF_z.edi', 'E:/Githubz/mtpy2/examples/data/edi2\\\\27_LF_z.edi', 'E:/Githubz/mtpy2/examples/data/edi2\\\\28_LF_z.edi', 'E:/Githubz/mtpy2/examples/data/edi2\\\\2_LF_z.edi', 'E:/Githubz/mtpy2/examples/data/edi2\\\\3_LF_z.edi', 'E:/Githubz/mtpy2/examples/data/edi2\\\\4_LF_z.edi', 'E:/Githubz/mtpy2/examples/data/edi2\\\\80_LF_z.edi', 'E:/Githubz/mtpy2/examples/data/edi2\\\\81_LF_z.edi']\n"
     ]
    }
   ],
   "source": [
    "# Windows File system\n",
    "#edi_dir=r\"E:/Githubz/mtpy2/tests/data/edifiles/\"\n",
    "edi_dir=r\"E:/Githubz/mtpy2/examples/data/edi2\"\n",
    "#edi_dir=r\"E:\\Datasets\\RD_GeophysSurvey\\75098\\EDI_files\"  # not same periods\n",
    "#edi_dir=r\"E:\\Datasets\\RD_GeophysSurvey\\75099_Youanmi\\EDI Files\\bb_edi\\YN3_edi_bb\"\n",
    "#edi_dir=r\"E:\\Datasets\\RD_GeophysSurvey\\75099_Youanmi\\EDI Files\\lp_edi\"  # not same periods\n",
    "\n",
    "# Linux OS files\n",
    "#edi_dir=\"/Softlab/Githubz/mtpy2/tests/data/edifiles/\"\n",
    "#edi_dir=\"/Softlab/Githubz/mtpy2/examples/data/edi2\"  #edi_files/\"\n",
    "\n",
    "edifiles = glob.glob(os.path.join(edi_dir, '*.edi'))\n",
    "\n",
    "print (edifiles)"
   ]
  },
  {
   "cell_type": "code",
   "execution_count": 216,
   "metadata": {
    "collapsed": false
   },
   "outputs": [
    {
     "data": {
      "text/plain": [
       "10105.22"
      ]
     },
     "execution_count": 216,
     "metadata": {},
     "output_type": "execute_result"
    }
   ],
   "source": [
    "2539*3.98"
   ]
  },
  {
   "cell_type": "code",
   "execution_count": 217,
   "metadata": {
    "collapsed": false,
    "scrolled": false
   },
   "outputs": [
    {
     "name": "stdout",
     "output_type": "stream",
     "text": [
      "2017-02-13 15:45:46,789 - mtpy.core.edi - INFO - Reading the edi file E:/Githubz/mtpy2/examples/data/edi2\\11_LF_z.edi\n",
      "2017-02-13 15:45:46,803 - mtpy.core.edi - INFO - Read in edi file for station 11\n",
      "2017-02-13 15:45:46,813 - mtpy.core.edi - INFO - Reading the edi file E:/Githubz/mtpy2/examples/data/edi2\\135_LF_z.edi\n",
      "2017-02-13 15:45:46,826 - mtpy.core.edi - INFO - Read in edi file for station 135\n",
      "2017-02-13 15:45:46,835 - mtpy.core.edi - INFO - Reading the edi file E:/Githubz/mtpy2/examples/data/edi2\\136_LF_z.edi\n",
      "2017-02-13 15:45:46,846 - mtpy.core.edi - INFO - Read in edi file for station 136\n",
      "2017-02-13 15:45:46,855 - mtpy.core.edi - INFO - Reading the edi file E:/Githubz/mtpy2/examples/data/edi2\\143_LF_z.edi\n",
      "2017-02-13 15:45:46,868 - mtpy.core.edi - INFO - Read in edi file for station 143\n",
      "2017-02-13 15:45:46,877 - mtpy.core.edi - INFO - Reading the edi file E:/Githubz/mtpy2/examples/data/edi2\\1R_LF_z.edi\n",
      "2017-02-13 15:45:46,888 - mtpy.core.edi - INFO - Read in edi file for station 1R\n",
      "2017-02-13 15:45:46,897 - mtpy.core.edi - INFO - Reading the edi file E:/Githubz/mtpy2/examples/data/edi2\\24_LF_z.edi\n",
      "2017-02-13 15:45:46,907 - mtpy.core.edi - INFO - Read in edi file for station 24\n",
      "2017-02-13 15:45:46,917 - mtpy.core.edi - INFO - Reading the edi file E:/Githubz/mtpy2/examples/data/edi2\\26_LF_z.edi\n",
      "2017-02-13 15:45:46,927 - mtpy.core.edi - INFO - Read in edi file for station 26\n",
      "2017-02-13 15:45:46,937 - mtpy.core.edi - INFO - Reading the edi file E:/Githubz/mtpy2/examples/data/edi2\\27_LF_z.edi\n",
      "2017-02-13 15:45:46,948 - mtpy.core.edi - INFO - Read in edi file for station 27\n",
      "2017-02-13 15:45:46,957 - mtpy.core.edi - INFO - Reading the edi file E:/Githubz/mtpy2/examples/data/edi2\\28_LF_z.edi\n",
      "2017-02-13 15:45:46,969 - mtpy.core.edi - INFO - Read in edi file for station 28\n",
      "2017-02-13 15:45:46,977 - mtpy.core.edi - INFO - Reading the edi file E:/Githubz/mtpy2/examples/data/edi2\\2_LF_z.edi\n",
      "2017-02-13 15:45:46,990 - mtpy.core.edi - INFO - Read in edi file for station 2\n",
      "2017-02-13 15:45:47,000 - mtpy.core.edi - INFO - Reading the edi file E:/Githubz/mtpy2/examples/data/edi2\\3_LF_z.edi\n",
      "2017-02-13 15:45:47,012 - mtpy.core.edi - INFO - Read in edi file for station 3\n",
      "2017-02-13 15:45:47,022 - mtpy.core.edi - INFO - Reading the edi file E:/Githubz/mtpy2/examples/data/edi2\\4_LF_z.edi\n",
      "2017-02-13 15:45:47,032 - mtpy.core.edi - INFO - Read in edi file for station 4\n",
      "2017-02-13 15:45:47,042 - mtpy.core.edi - INFO - Reading the edi file E:/Githubz/mtpy2/examples/data/edi2\\80_LF_z.edi\n",
      "2017-02-13 15:45:47,053 - mtpy.core.edi - INFO - Read in edi file for station 80\n",
      "2017-02-13 15:45:47,062 - mtpy.core.edi - INFO - Reading the edi file E:/Githubz/mtpy2/examples/data/edi2\\81_LF_z.edi\n",
      "2017-02-13 15:45:47,073 - mtpy.core.edi - INFO - Read in edi file for station 81\n",
      "Should input a freq array to know which index of the PT array corresponds to which freq.\n",
      "Should input a freq array to know which index of the PT array corresponds to which freq.\n",
      "Should input a freq array to know which index of the PT array corresponds to which freq.\n",
      "Should input a freq array to know which index of the PT array corresponds to which freq.\n",
      "Should input a freq array to know which index of the PT array corresponds to which freq.\n",
      "Should input a freq array to know which index of the PT array corresponds to which freq.\n",
      "Should input a freq array to know which index of the PT array corresponds to which freq.\n",
      "Should input a freq array to know which index of the PT array corresponds to which freq.\n",
      "Should input a freq array to know which index of the PT array corresponds to which freq.\n",
      "Should input a freq array to know which index of the PT array corresponds to which freq.\n",
      "Should input a freq array to know which index of the PT array corresponds to which freq.\n",
      "Should input a freq array to know which index of the PT array corresponds to which freq.\n",
      "Should input a freq array to know which index of the PT array corresponds to which freq.\n",
      "Should input a freq array to know which index of the PT array corresponds to which freq.\n",
      "========================================================================\n",
      "Rotated Z and Tipper to align with +174.07 degrees E of N\n",
      "Profile angle is +264.07 degrees E of N\n",
      "========================================================================\n"
     ]
    },
    {
     "data": {
      "image/png": "[encoded data removed]",
      "text/plain": [
       "<matplotlib.figure.Figure at 0x385ea240>"
      ]
     },
     "metadata": {},
     "output_type": "display_data"
    }
   ],
   "source": [
    "# stations = ['151{0:02}A'.format(s) for s in range(24, 31)]\n",
    "# pr = occam2d_new.Profile(edi_path=edi_dir, station_list=stations)\n",
    "\n",
    "pr = occam2d_new.Profile(edi_path=edi_dir)\n",
    "pr.generate_profile()\n",
    "# set station labels to only be from 1st to 4th index \n",
    "# of station name\n",
    "      \n",
    "pr.plot_profile(station_id=[0,4])"
   ]
  },
  {
   "cell_type": "code",
   "execution_count": 218,
   "metadata": {
    "collapsed": false
   },
   "outputs": [
    {
     "data": {
      "text/plain": [
       "array([    0.        ,   917.2119252 ,  1075.03885722,  2033.90055144,\n",
       "        2372.8597407 ,  3474.92377052,  3562.45862928,  4191.31758623,\n",
       "        4237.85214906,  4750.06746138,  5303.79839349,  5480.32161626,\n",
       "        5844.77106388,  6656.99462322])"
      ]
     },
     "execution_count": 218,
     "metadata": {},
     "output_type": "execute_result"
    }
   ],
   "source": [
    " pr.station_locations"
   ]
  },
  {
   "cell_type": "code",
   "execution_count": null,
   "metadata": {
    "collapsed": false
   },
   "outputs": [],
   "source": []
  },
  {
   "cell_type": "code",
   "execution_count": 219,
   "metadata": {
    "collapsed": false
   },
   "outputs": [
    {
     "data": {
      "text/plain": [
       "[<mtpy.core.mt.MT at 0x385e4470>,\n",
       " <mtpy.core.mt.MT at 0x385f6358>,\n",
       " <mtpy.core.mt.MT at 0x3859f2b0>,\n",
       " <mtpy.core.mt.MT at 0x385ea278>,\n",
       " <mtpy.core.mt.MT at 0x385b8160>,\n",
       " <mtpy.core.mt.MT at 0x385ea400>,\n",
       " <mtpy.core.mt.MT at 0x385c4160>,\n",
       " <mtpy.core.mt.MT at 0x38611320>,\n",
       " <mtpy.core.mt.MT at 0x38679d68>,\n",
       " <mtpy.core.mt.MT at 0x385ac240>,\n",
       " <mtpy.core.mt.MT at 0x385d1f60>,\n",
       " <mtpy.core.mt.MT at 0x38606320>,\n",
       " <mtpy.core.mt.MT at 0x385ea3c8>,\n",
       " <mtpy.core.mt.MT at 0x385ea160>]"
      ]
     },
     "execution_count": 219,
     "metadata": {},
     "output_type": "execute_result"
    }
   ],
   "source": [
    "pr.edi_list"
   ]
  },
  {
   "cell_type": "code",
   "execution_count": 220,
   "metadata": {
    "collapsed": true
   },
   "outputs": [],
   "source": [
    "# See http://localhost:8888/notebooks/examples/notebooks/Apparent_Resistivity_Penetration_Depth.ipynb\n",
    "# def plotbar_pen_depth(per_index, edifiles):\n",
    "\n",
    "per_index=2\n",
    "    \n",
    "scale_param = np.sqrt(1.0 / (2.0 * np.pi * 4 * np.pi * 10 ** (-7)))\n",
    "\n",
    "#per_index=0,1,2,....    \n",
    "periods=[] \n",
    "\n",
    "app_resis=[]\n",
    "\n",
    "stations=[]\n",
    "    \n",
    "for mt_obj in pr.edi_list:\n",
    "\n",
    "    # the attribute Z\n",
    "    zeta=mt_obj.Z\n",
    "    \n",
    "\n",
    "    if per_index>=len(zeta.freq):\n",
    "        raise Exception(\"Index out_of_range Error: period index must be less than number of periods in zeta.freq\")\n",
    "\n",
    "    per=1.0/zeta.freq[per_index]\n",
    "    periods.append(per)\n",
    "\n",
    "    penetration_depth = - scale_param * np.sqrt(zeta.resistivity[per_index, 0, 1] * per)\n",
    "    app_resis.append(penetration_depth)\n",
    "\n",
    "    stations.append(mt_obj.station)\n",
    "    "
   ]
  },
  {
   "cell_type": "code",
   "execution_count": 221,
   "metadata": {
    "collapsed": false
   },
   "outputs": [
    {
     "data": {
      "text/plain": [
       "<matplotlib.text.Text at 0x397bf320>"
      ]
     },
     "execution_count": 221,
     "metadata": {},
     "output_type": "execute_result"
    },
    {
     "data": {
      "image/png": "[encoded data removed]",
      "text/plain": [
       "<matplotlib.figure.Figure at 0x37a2b048>"
      ]
     },
     "metadata": {},
     "output_type": "display_data"
    }
   ],
   "source": [
    "\n",
    "fig = plt.figure()\n",
    "ax1 = fig.add_subplot(111)\n",
    "ax2 = ax1.twiny()\n",
    "\n",
    "\n",
    "#plt.bar(index, app_resis, color='#000000')\n",
    "ax1.plot(pr.station_locations, app_resis, '--*', markersize=\"12\", linewidth=\"2\", label=\"Penetration Depth\")\n",
    "# plt.xaxis.tick_top()\n",
    "# plt.set_xlabel('X LABEL')    \n",
    "# plt.xaxis.set_label_position('top') \n",
    "\n",
    "ax1.set_xlabel('Pentration Depth Over Stations at period %s'%periods[0],fontsize=20)\n",
    "ax1.set_xticks(pr.station_locations)\n",
    "ax1.set_ylabel('Penetration Depth (m)', fontsize=20)\n",
    "\n",
    "\n",
    "ax2.set_xlim(ax1.get_xlim())\n",
    "ax2.set_xticks(pr.station_locations)\n",
    "ax2.set_xticklabels(stations)\n",
    "ax2.set_xlabel(r\"Stations\")\n",
    "\n",
    "#plt.show()"
   ]
  },
  {
   "cell_type": "code",
   "execution_count": 222,
   "metadata": {
    "collapsed": false
   },
   "outputs": [],
   "source": [
    "#http://stackoverflow.com/questions/10514315/how-to-add-a-second-x-axis-in-matplotlib\n",
    "\n",
    "\n",
    "# import numpy as np\n",
    "# import matplotlib.pyplot as plt\n",
    "\n",
    "# fig = plt.figure()\n",
    "# ax1 = fig.add_subplot(111)\n",
    "# ax2 = ax1.twiny()\n",
    "\n",
    "# X = np.linspace(0,1,1000)\n",
    "# Y = np.cos(X*20)\n",
    "\n",
    "# ax1.plot(X,Y)\n",
    "# ax1.set_xlabel(r\"Original x-axis: $X$\")\n",
    "# ax1.grid(True)\n",
    "# new_tick_locations = np.array([.2, .5, .9])\n",
    "\n",
    "# def tick_function(X):\n",
    "#     V = 1/(1+X)\n",
    "#     return [\"%.3f\" % z for z in V]\n",
    "\n",
    "# ax2.set_xlim(ax1.get_xlim())\n",
    "# ax2.set_xticks(new_tick_locations)\n",
    "# ax2.set_xticklabels(tick_function(new_tick_locations))\n",
    "# ax2.set_xlabel(r\"Modified x-axis: $1/(1+X)$\")\n",
    "\n",
    "# plt.show()\n"
   ]
  },
  {
   "cell_type": "code",
   "execution_count": 223,
   "metadata": {
    "collapsed": false
   },
   "outputs": [
    {
     "name": "stdout",
     "output_type": "stream",
     "text": [
      "Help on function xticks in module matplotlib.pyplot:\n",
      "\n",
      "xticks(*args, **kwargs)\n",
      "    Get or set the *x*-limits of the current tick locations and labels.\n",
      "    \n",
      "    ::\n",
      "    \n",
      "      # return locs, labels where locs is an array of tick locations and\n",
      "      # labels is an array of tick labels.\n",
      "      locs, labels = xticks()\n",
      "    \n",
      "      # set the locations of the xticks\n",
      "      xticks( arange(6) )\n",
      "    \n",
      "      # set the locations and labels of the xticks\n",
      "      xticks( arange(5), ('Tom', 'Dick', 'Harry', 'Sally', 'Sue') )\n",
      "    \n",
      "    The keyword args, if any, are :class:`~matplotlib.text.Text`\n",
      "    properties. For example, to rotate long labels::\n",
      "    \n",
      "      xticks( arange(12), calendar.month_name[1:13], rotation=17 )\n",
      "\n"
     ]
    }
   ],
   "source": [
    "# plt.plot?\n",
    "\n",
    "#plt.legend?\n",
    "\n",
    "#plt.xticks?\n",
    "#OR\n",
    "help(plt.xticks)"
   ]
  },
  {
   "cell_type": "code",
   "execution_count": null,
   "metadata": {
    "collapsed": true
   },
   "outputs": [],
   "source": []
  },
  {
   "cell_type": "code",
   "execution_count": 224,
   "metadata": {
    "collapsed": false
   },
   "outputs": [],
   "source": [
    "# pr.geoelectric_strike = 45 # preset a rotation angle\n",
    "\n",
    "# pr.generate_profile()\n",
    "\n",
    "# pr.plot_profile()"
   ]
  },
  {
   "cell_type": "code",
   "execution_count": null,
   "metadata": {
    "collapsed": true
   },
   "outputs": [],
   "source": []
  },
  {
   "cell_type": "code",
   "execution_count": 225,
   "metadata": {
    "collapsed": false
   },
   "outputs": [
    {
     "data": {
      "text/plain": [
       "['15124A', '15125A', '15126A', '15127A', '15128A', '15129A', '15130A']"
      ]
     },
     "execution_count": 225,
     "metadata": {},
     "output_type": "execute_result"
    }
   ],
   "source": [
    "stations = ['151{0:02}A'.format(s) for s in range(24, 31)]\n",
    "stations"
   ]
  },
  {
   "cell_type": "code",
   "execution_count": null,
   "metadata": {
    "collapsed": true
   },
   "outputs": [],
   "source": []
  },
  {
   "cell_type": "markdown",
   "metadata": {
    "collapsed": true
   },
   "source": [
    "# 3D-plot penetration depth profile over stations\n",
    "\n",
    "    - For a given fre/per index of a set of edifiles, the (lat, lon) are extracted and bounding box calculated.\n",
    "    - A pmesh is made with None value initially for all pixels, reset the pixels value according to the MT station pen-depth. \n",
    "    - Finally show the pcolor plot"
   ]
  },
  {
   "cell_type": "code",
   "execution_count": 226,
   "metadata": {
    "collapsed": true
   },
   "outputs": [],
   "source": [
    "def get_penetration_depth(per_index, edifiles):\n",
    "    \"\"\" input period index and a list of edi files,\n",
    "    return tuple of lists (stations, periods, penetrationdepth, lat-lons-pairs)\n",
    "    \"\"\"\n",
    "    \n",
    "    scale_param = np.sqrt(1.0 / (2.0 * np.pi * 4 * np.pi * 10 ** (-7)))\n",
    "    \n",
    "    #per_index=0,1,2,....    \n",
    "    periods=[] \n",
    "    \n",
    "    pendep=[]\n",
    "    \n",
    "    stations=[]\n",
    "    \n",
    "    latlons=[]\n",
    "    \n",
    "    for afile in edifiles:\n",
    "        mt_obj = mt.MT(afile)\n",
    "        \n",
    "        latlons.append((mt_obj.lat, mt_obj.lon))\n",
    "        \n",
    "    \n",
    "        # the attribute Z\n",
    "        zeta=mt_obj.Z\n",
    "        \n",
    "        if per_index>=len(zeta.freq):\n",
    "            raise Exception(\"Index out_of_range Error: period index must be less than number of periods in zeta.freq\")\n",
    "        \n",
    "        per=1.0/zeta.freq[per_index]\n",
    "        periods.append(per)\n",
    "       \n",
    "        penetration_depth = - scale_param * np.sqrt(zeta.resistivity[per_index, 0, 1] * per)\n",
    "        pendep.append(penetration_depth)\n",
    "        \n",
    "        stations.append(mt_obj.station)\n",
    "        \n",
    "\n",
    "    return (stations,periods,pendep, latlons )"
   ]
  },
  {
   "cell_type": "code",
   "execution_count": 227,
   "metadata": {
    "collapsed": false
   },
   "outputs": [
    {
     "name": "stdout",
     "output_type": "stream",
     "text": [
      "2017-02-13 15:45:48,602 - mtpy.core.edi - INFO - Reading the edi file E:/Githubz/mtpy2/examples/data/edi2\\11_LF_z.edi\n",
      "2017-02-13 15:45:48,615 - mtpy.core.edi - INFO - Read in edi file for station 11\n",
      "2017-02-13 15:45:48,625 - mtpy.core.edi - INFO - Reading the edi file E:/Githubz/mtpy2/examples/data/edi2\\135_LF_z.edi\n",
      "2017-02-13 15:45:48,635 - mtpy.core.edi - INFO - Read in edi file for station 135\n",
      "2017-02-13 15:45:48,645 - mtpy.core.edi - INFO - Reading the edi file E:/Githubz/mtpy2/examples/data/edi2\\136_LF_z.edi\n",
      "2017-02-13 15:45:48,658 - mtpy.core.edi - INFO - Read in edi file for station 136\n",
      "2017-02-13 15:45:48,668 - mtpy.core.edi - INFO - Reading the edi file E:/Githubz/mtpy2/examples/data/edi2\\143_LF_z.edi\n",
      "2017-02-13 15:45:48,681 - mtpy.core.edi - INFO - Read in edi file for station 143\n",
      "2017-02-13 15:45:48,691 - mtpy.core.edi - INFO - Reading the edi file E:/Githubz/mtpy2/examples/data/edi2\\1R_LF_z.edi\n",
      "2017-02-13 15:45:48,704 - mtpy.core.edi - INFO - Read in edi file for station 1R\n",
      "2017-02-13 15:45:48,713 - mtpy.core.edi - INFO - Reading the edi file E:/Githubz/mtpy2/examples/data/edi2\\24_LF_z.edi\n",
      "2017-02-13 15:45:48,726 - mtpy.core.edi - INFO - Read in edi file for station 24\n",
      "2017-02-13 15:45:48,736 - mtpy.core.edi - INFO - Reading the edi file E:/Githubz/mtpy2/examples/data/edi2\\26_LF_z.edi\n",
      "2017-02-13 15:45:48,749 - mtpy.core.edi - INFO - Read in edi file for station 26\n",
      "2017-02-13 15:45:48,759 - mtpy.core.edi - INFO - Reading the edi file E:/Githubz/mtpy2/examples/data/edi2\\27_LF_z.edi\n",
      "2017-02-13 15:45:48,770 - mtpy.core.edi - INFO - Read in edi file for station 27\n",
      "2017-02-13 15:45:48,780 - mtpy.core.edi - INFO - Reading the edi file E:/Githubz/mtpy2/examples/data/edi2\\28_LF_z.edi\n",
      "2017-02-13 15:45:48,792 - mtpy.core.edi - INFO - Read in edi file for station 28\n",
      "2017-02-13 15:45:48,802 - mtpy.core.edi - INFO - Reading the edi file E:/Githubz/mtpy2/examples/data/edi2\\2_LF_z.edi\n",
      "2017-02-13 15:45:48,815 - mtpy.core.edi - INFO - Read in edi file for station 2\n",
      "2017-02-13 15:45:48,823 - mtpy.core.edi - INFO - Reading the edi file E:/Githubz/mtpy2/examples/data/edi2\\3_LF_z.edi\n",
      "2017-02-13 15:45:48,836 - mtpy.core.edi - INFO - Read in edi file for station 3\n",
      "2017-02-13 15:45:48,845 - mtpy.core.edi - INFO - Reading the edi file E:/Githubz/mtpy2/examples/data/edi2\\4_LF_z.edi\n",
      "2017-02-13 15:45:48,858 - mtpy.core.edi - INFO - Read in edi file for station 4\n",
      "2017-02-13 15:45:48,867 - mtpy.core.edi - INFO - Reading the edi file E:/Githubz/mtpy2/examples/data/edi2\\80_LF_z.edi\n",
      "2017-02-13 15:45:48,878 - mtpy.core.edi - INFO - Read in edi file for station 80\n",
      "2017-02-13 15:45:48,888 - mtpy.core.edi - INFO - Reading the edi file E:/Githubz/mtpy2/examples/data/edi2\\81_LF_z.edi\n",
      "2017-02-13 15:45:48,901 - mtpy.core.edi - INFO - Read in edi file for station 81\n"
     ]
    }
   ],
   "source": [
    "(stations,periods,pendep, latlons )=get_penetration_depth(10, edifiles)"
   ]
  },
  {
   "cell_type": "code",
   "execution_count": 228,
   "metadata": {
    "collapsed": false
   },
   "outputs": [
    {
     "data": {
      "text/plain": [
       "['11',\n",
       " '135',\n",
       " '136',\n",
       " '143',\n",
       " '1R',\n",
       " '24',\n",
       " '26',\n",
       " '27',\n",
       " '28',\n",
       " '2',\n",
       " '3',\n",
       " '4',\n",
       " '80',\n",
       " '81']"
      ]
     },
     "execution_count": 228,
     "metadata": {},
     "output_type": "execute_result"
    }
   ],
   "source": [
    "stations"
   ]
  },
  {
   "cell_type": "code",
   "execution_count": 229,
   "metadata": {
    "collapsed": false
   },
   "outputs": [
    {
     "data": {
      "text/plain": [
       "[0.039384033712732858,\n",
       " 0.039384033712732858,\n",
       " 0.039384033712732858,\n",
       " 0.039384033712732858,\n",
       " 0.039384033712732858,\n",
       " 0.039384033712732858,\n",
       " 0.039384033712732858,\n",
       " 0.039384033712732858,\n",
       " 0.039384033712732858,\n",
       " 0.039384033712732858,\n",
       " 0.039384033712732858,\n",
       " 0.039384033712732858,\n",
       " 0.039384033712732858,\n",
       " 0.039384033712732858]"
      ]
     },
     "execution_count": 229,
     "metadata": {},
     "output_type": "execute_result"
    }
   ],
   "source": [
    "periods  # All must be of the same value across stations"
   ]
  },
  {
   "cell_type": "code",
   "execution_count": 230,
   "metadata": {
    "collapsed": false
   },
   "outputs": [
    {
     "data": {
      "text/plain": [
       "[-384.51451354287286,\n",
       " -388.1672695160853,\n",
       " -393.37876600834329,\n",
       " -365.62551228169934,\n",
       " -379.80368661297967,\n",
       " -389.96548681870962,\n",
       " -364.33102884725844,\n",
       " -358.50494016505479,\n",
       " -385.21510518683368,\n",
       " -364.47249872924596,\n",
       " -382.13749945457101,\n",
       " -379.7274705646339,\n",
       " -362.48786160558177,\n",
       " -388.67754083289037]"
      ]
     },
     "execution_count": 230,
     "metadata": {},
     "output_type": "execute_result"
    }
   ],
   "source": [
    "pendep"
   ]
  },
  {
   "cell_type": "code",
   "execution_count": 231,
   "metadata": {
    "collapsed": false
   },
   "outputs": [
    {
     "data": {
      "text/plain": [
       "[(-37.43418333333333, 140.68573333333333),\n",
       " (-37.44058333333333, 140.63401666666667),\n",
       " (-37.440016666666665, 140.65031666666667),\n",
       " (-37.45023333333334, 140.61211666666665),\n",
       " (-37.42635, 140.61955),\n",
       " (-37.44531666666666, 140.67376666666667),\n",
       " (-37.457483333333336, 140.66065),\n",
       " (-37.46183333333334, 140.62578333333335),\n",
       " (-37.46371666666667, 140.66778333333332),\n",
       " (-37.42448333333333, 140.63585),\n",
       " (-37.430233333333334, 140.65008333333333),\n",
       " (-37.421549999999996, 140.67491666666666),\n",
       " (-37.43383333333333, 140.67031666666665),\n",
       " (-37.43523333333333, 140.65838333333335)]"
      ]
     },
     "execution_count": 231,
     "metadata": {},
     "output_type": "execute_result"
    }
   ],
   "source": [
    "latlons"
   ]
  },
  {
   "cell_type": "code",
   "execution_count": 232,
   "metadata": {
    "collapsed": true
   },
   "outputs": [],
   "source": [
    "def get_bounding_box(latlons):\n",
    "    \"\"\" get min max lat lon from the list of lat-lon-pairs points\"\"\"\n",
    "    lats=[tup[0] for tup in latlons]\n",
    "    lons=[tup[1] for tup in latlons]\n",
    "\n",
    "    minlat=min(lats)\n",
    "    maxlat=max(lats)\n",
    "\n",
    "    print(minlat, maxlat)\n",
    "\n",
    "    minlon= min(lons)\n",
    "    maxlon= max(lons)\n",
    "\n",
    "    print(minlon, maxlon)\n",
    "    \n",
    "    return ((minlon,maxlon), (minlat, maxlat))"
   ]
  },
  {
   "cell_type": "code",
   "execution_count": 233,
   "metadata": {
    "collapsed": false
   },
   "outputs": [
    {
     "name": "stdout",
     "output_type": "stream",
     "text": [
      "(-37.46371666666667, -37.421549999999996)\n",
      "(140.61211666666665, 140.68573333333333)\n"
     ]
    }
   ],
   "source": [
    "bbox=get_bounding_box(latlons)"
   ]
  },
  {
   "cell_type": "code",
   "execution_count": 234,
   "metadata": {
    "collapsed": false
   },
   "outputs": [
    {
     "data": {
      "text/plain": [
       "((140.61211666666665, 140.68573333333333),\n",
       " (-37.46371666666667, -37.421549999999996))"
      ]
     },
     "execution_count": 234,
     "metadata": {},
     "output_type": "execute_result"
    }
   ],
   "source": [
    "bbox"
   ]
  },
  {
   "cell_type": "markdown",
   "metadata": {},
   "source": [
    "# Make a gridded Image with suitable pixel size/resolution"
   ]
  },
  {
   "cell_type": "code",
   "execution_count": 246,
   "metadata": {
    "collapsed": false
   },
   "outputs": [
    {
     "name": "stdout",
     "output_type": "stream",
     "text": [
      "(0.07361666666668043, 0.04216666666667379)\n",
      "(37, 22)\n"
     ]
    }
   ],
   "source": [
    "xgrids= bbox[0][1] - bbox[0][0]\n",
    "ygrids= bbox[1][1] - bbox[1][0]\n",
    "\n",
    "print(xgrids, ygrids)\n",
    "\n",
    "#Pixel size in Degree:  0.001=100meters, 0.01=1KM 1deg=100KM\n",
    "\n",
    "pixelsize=0.002  #Degree 0.001=100meters, 0.01=1KM 1deg=100KM\n",
    "\n",
    "nx= int(np.ceil(xgrids/pixelsize))\n",
    "ny= int(np.ceil(ygrids/pixelsize))\n",
    "\n",
    "\n",
    "print(nx, ny)"
   ]
  },
  {
   "cell_type": "code",
   "execution_count": 259,
   "metadata": {
    "collapsed": false
   },
   "outputs": [
    {
     "data": {
      "text/plain": [
       "(26L, 41L)"
      ]
     },
     "execution_count": 259,
     "metadata": {},
     "output_type": "execute_result"
    }
   ],
   "source": [
    "# make an image bigger than the (nx, ny)   \n",
    "pad=4\n",
    "\n",
    "nx2= nx + pad\n",
    "ny2= ny+ pad\n",
    "\n",
    "# Z = 0.0* np.random.random((nx2,ny2))   # Test data\n",
    "# Z=  np.ones((nx2,ny2))\n",
    "zdep=   np.zeros((ny2,nx2))\n",
    "# Z[10, 10]=12\n",
    "# Z[11, 20]=20\n",
    "# Z[13, 15]=30\n",
    "\n",
    "zdep[:,:]=np.nan\n",
    "\n",
    "zdep.shape"
   ]
  },
  {
   "cell_type": "code",
   "execution_count": 260,
   "metadata": {
    "collapsed": false
   },
   "outputs": [
    {
     "data": {
      "text/plain": [
       "3.0"
      ]
     },
     "execution_count": 260,
     "metadata": {},
     "output_type": "execute_result"
    }
   ],
   "source": [
    "round(3.49)"
   ]
  },
  {
   "cell_type": "code",
   "execution_count": 261,
   "metadata": {
    "collapsed": false
   },
   "outputs": [],
   "source": [
    "offset=0\n",
    "minlat= bbox[1][0]\n",
    "minlon= bbox[0][0]\n",
    "# LL_lat= minlat -offset*pixelsize\n",
    "# LL_lon= minlon -offset*pixelsize\n",
    "\n",
    "# UR_lat=maxlat + offset*pixelsize\n",
    "# UR_lon= maxlon + offset*pixelsize\n",
    "\n",
    "def get_index(lat, lon, offset=1):\n",
    "    index_x = (lon - minlon)/pixelsize\n",
    "    index_y= (lat- minlat)/pixelsize\n",
    "    \n",
    "    ix=int(round(index_x))\n",
    "    iy=int(round(index_y))\n",
    "    \n",
    "    print (ix, iy)\n",
    "    \n",
    "    return(ix+offset, iy+offset)\n"
   ]
  },
  {
   "cell_type": "code",
   "execution_count": 262,
   "metadata": {
    "collapsed": false
   },
   "outputs": [
    {
     "name": "stdout",
     "output_type": "stream",
     "text": [
      "(-37.43418333333333, 140.68573333333333)\n",
      "(37, 15)\n",
      "(-37.44058333333333, 140.63401666666667)\n",
      "(11, 12)\n",
      "(-37.440016666666665, 140.65031666666667)\n",
      "(19, 12)\n",
      "(-37.45023333333334, 140.61211666666665)\n",
      "(0, 7)\n",
      "(-37.42635, 140.61955)\n",
      "(4, 19)\n",
      "(-37.44531666666666, 140.67376666666667)\n",
      "(31, 9)\n",
      "(-37.457483333333336, 140.66065)\n",
      "(24, 3)\n",
      "(-37.46183333333334, 140.62578333333335)\n",
      "(7, 1)\n",
      "(-37.46371666666667, 140.66778333333332)\n",
      "(28, 0)\n",
      "(-37.42448333333333, 140.63585)\n",
      "(12, 20)\n",
      "(-37.430233333333334, 140.65008333333333)\n",
      "(19, 17)\n",
      "(-37.421549999999996, 140.67491666666666)\n",
      "(31, 21)\n",
      "(-37.43383333333333, 140.67031666666665)\n",
      "(29, 15)\n",
      "(-37.43523333333333, 140.65838333333335)\n",
      "(23, 14)\n"
     ]
    }
   ],
   "source": [
    "for iter, pair in enumerate(latlons):\n",
    "    print pair\n",
    "    (xi,yi)= get_index(pair[0], pair[1])\n",
    "    zdep[zdep.shape[0]-yi,xi] = np.abs(pendep[iter])"
   ]
  },
  {
   "cell_type": "code",
   "execution_count": 263,
   "metadata": {
    "collapsed": false,
    "scrolled": false
   },
   "outputs": [
    {
     "data": {
      "text/plain": [
       "<matplotlib.colorbar.Colorbar at 0x3a4586a0>"
      ]
     },
     "execution_count": 263,
     "metadata": {},
     "output_type": "execute_result"
    },
    {
     "data": {
      "image/png": "[encoded data removed]",
      "text/plain": [
       "<matplotlib.figure.Figure at 0x3a0a6d68>"
      ]
     },
     "metadata": {},
     "output_type": "display_data"
    }
   ],
   "source": [
    "plt.imshow(zdep,  interpolation='none')\n",
    "plt.colorbar()"
   ]
  },
  {
   "cell_type": "code",
   "execution_count": 264,
   "metadata": {
    "collapsed": false
   },
   "outputs": [
    {
     "ename": "SyntaxError",
     "evalue": "invalid syntax (<ipython-input-264-e6dd3e7d8acf>, line 3)",
     "output_type": "error",
     "traceback": [
      "\u001b[0;36m  File \u001b[0;32m\"<ipython-input-264-e6dd3e7d8acf>\"\u001b[0;36m, line \u001b[0;32m3\u001b[0m\n\u001b[0;31m    2) interpolation? image pixels\u001b[0m\n\u001b[0m     ^\u001b[0m\n\u001b[0;31mSyntaxError\u001b[0m\u001b[0;31m:\u001b[0m invalid syntax\n"
     ]
    }
   ],
   "source": [
    "# 1)Tips lat-lon orientation: lat <=> north-south; y-coordinate; the first index of the Image2D(first, second)  \n",
    "\n",
    "2) interpolation? image pixels"
   ]
  },
  {
   "cell_type": "code",
   "execution_count": 267,
   "metadata": {
    "collapsed": false
   },
   "outputs": [],
   "source": [
    "\n",
    "import scipy.interpolate as scipyinterp"
   ]
  },
  {
   "cell_type": "code",
   "execution_count": 275,
   "metadata": {
    "collapsed": false
   },
   "outputs": [
    {
     "name": "stdout",
     "output_type": "stream",
     "text": [
      "<type 'numpy.ndarray'>\n",
      "[  0.   1.   2.   3.   4.   5.   6.   7.   8.   9.  10.  11.  12.  13.  14.\n",
      "  15.  16.  17.  18.  19.  20.  21.  22.  23.  24.  25.  26.  27.  28.  29.\n",
      "  30.  31.  32.  33.  34.  35.  36.  37.  38.  39.  40.]\n"
     ]
    }
   ],
   "source": [
    "xd= zdep.shape[0]\n",
    "yd= zdep.shape[1]\n",
    "\n",
    "x=np.zeros(xd)\n",
    "y=np.zeros(yd)\n",
    "\n",
    "for i in xrange(xd):\n",
    "    x[i]=i\n",
    "for j in xrange(yd):\n",
    "    y[j]=j\n",
    "\n",
    "print type(x)\n",
    "print y\n",
    "\n",
    "obj=scipyinterp.RectBivariateSpline(x, y, zdep)"
   ]
  },
  {
   "cell_type": "code",
   "execution_count": 280,
   "metadata": {
    "collapsed": false
   },
   "outputs": [
    {
     "data": {
      "text/plain": [
       "<scipy.interpolate.fitpack2.RectBivariateSpline at 0x3a5559b0>"
      ]
     },
     "execution_count": 280,
     "metadata": {},
     "output_type": "execute_result"
    }
   ],
   "source": []
  },
  {
   "cell_type": "code",
   "execution_count": 277,
   "metadata": {
    "collapsed": false
   },
   "outputs": [
    {
     "ename": "TypeError",
     "evalue": "Image data can not convert to float",
     "output_type": "error",
     "traceback": [
      "\u001b[0;31m\u001b[0m",
      "\u001b[0;31mTypeError\u001b[0mTraceback (most recent call last)",
      "\u001b[0;32m<ipython-input-277-541aa932cba9>\u001b[0m in \u001b[0;36m<module>\u001b[0;34m()\u001b[0m\n\u001b[0;32m----> 1\u001b[0;31m \u001b[0mplt\u001b[0m\u001b[1;33m.\u001b[0m\u001b[0mimshow\u001b[0m\u001b[1;33m(\u001b[0m\u001b[0mobj\u001b[0m\u001b[1;33m)\u001b[0m\u001b[1;33m\u001b[0m\u001b[0m\n\u001b[0m",
      "\u001b[0;32mC:\\Anaconda2\\lib\\site-packages\\matplotlib\\pyplot.pyc\u001b[0m in \u001b[0;36mimshow\u001b[0;34m(X, cmap, norm, aspect, interpolation, alpha, vmin, vmax, origin, extent, shape, filternorm, filterrad, imlim, resample, url, hold, data, **kwargs)\u001b[0m\n\u001b[1;32m   3020\u001b[0m                         \u001b[0mfilternorm\u001b[0m\u001b[1;33m=\u001b[0m\u001b[0mfilternorm\u001b[0m\u001b[1;33m,\u001b[0m \u001b[0mfilterrad\u001b[0m\u001b[1;33m=\u001b[0m\u001b[0mfilterrad\u001b[0m\u001b[1;33m,\u001b[0m\u001b[1;33m\u001b[0m\u001b[0m\n\u001b[1;32m   3021\u001b[0m                         \u001b[0mimlim\u001b[0m\u001b[1;33m=\u001b[0m\u001b[0mimlim\u001b[0m\u001b[1;33m,\u001b[0m \u001b[0mresample\u001b[0m\u001b[1;33m=\u001b[0m\u001b[0mresample\u001b[0m\u001b[1;33m,\u001b[0m \u001b[0murl\u001b[0m\u001b[1;33m=\u001b[0m\u001b[0murl\u001b[0m\u001b[1;33m,\u001b[0m \u001b[0mdata\u001b[0m\u001b[1;33m=\u001b[0m\u001b[0mdata\u001b[0m\u001b[1;33m,\u001b[0m\u001b[1;33m\u001b[0m\u001b[0m\n\u001b[0;32m-> 3022\u001b[0;31m                         **kwargs)\n\u001b[0m\u001b[1;32m   3023\u001b[0m     \u001b[1;32mfinally\u001b[0m\u001b[1;33m:\u001b[0m\u001b[1;33m\u001b[0m\u001b[0m\n\u001b[1;32m   3024\u001b[0m         \u001b[0max\u001b[0m\u001b[1;33m.\u001b[0m\u001b[0mhold\u001b[0m\u001b[1;33m(\u001b[0m\u001b[0mwashold\u001b[0m\u001b[1;33m)\u001b[0m\u001b[1;33m\u001b[0m\u001b[0m\n",
      "\u001b[0;32mC:\\Anaconda2\\lib\\site-packages\\matplotlib\\__init__.pyc\u001b[0m in \u001b[0;36minner\u001b[0;34m(ax, *args, **kwargs)\u001b[0m\n\u001b[1;32m   1809\u001b[0m                     warnings.warn(msg % (label_namer, func.__name__),\n\u001b[1;32m   1810\u001b[0m                                   RuntimeWarning, stacklevel=2)\n\u001b[0;32m-> 1811\u001b[0;31m             \u001b[1;32mreturn\u001b[0m \u001b[0mfunc\u001b[0m\u001b[1;33m(\u001b[0m\u001b[0max\u001b[0m\u001b[1;33m,\u001b[0m \u001b[1;33m*\u001b[0m\u001b[0margs\u001b[0m\u001b[1;33m,\u001b[0m \u001b[1;33m**\u001b[0m\u001b[0mkwargs\u001b[0m\u001b[1;33m)\u001b[0m\u001b[1;33m\u001b[0m\u001b[0m\n\u001b[0m\u001b[1;32m   1812\u001b[0m         \u001b[0mpre_doc\u001b[0m \u001b[1;33m=\u001b[0m \u001b[0minner\u001b[0m\u001b[1;33m.\u001b[0m\u001b[0m__doc__\u001b[0m\u001b[1;33m\u001b[0m\u001b[0m\n\u001b[1;32m   1813\u001b[0m         \u001b[1;32mif\u001b[0m \u001b[0mpre_doc\u001b[0m \u001b[1;32mis\u001b[0m \u001b[0mNone\u001b[0m\u001b[1;33m:\u001b[0m\u001b[1;33m\u001b[0m\u001b[0m\n",
      "\u001b[0;32mC:\\Anaconda2\\lib\\site-packages\\matplotlib\\axes\\_axes.pyc\u001b[0m in \u001b[0;36mimshow\u001b[0;34m(self, X, cmap, norm, aspect, interpolation, alpha, vmin, vmax, origin, extent, shape, filternorm, filterrad, imlim, resample, url, **kwargs)\u001b[0m\n\u001b[1;32m   4945\u001b[0m                               resample=resample, **kwargs)\n\u001b[1;32m   4946\u001b[0m \u001b[1;33m\u001b[0m\u001b[0m\n\u001b[0;32m-> 4947\u001b[0;31m         \u001b[0mim\u001b[0m\u001b[1;33m.\u001b[0m\u001b[0mset_data\u001b[0m\u001b[1;33m(\u001b[0m\u001b[0mX\u001b[0m\u001b[1;33m)\u001b[0m\u001b[1;33m\u001b[0m\u001b[0m\n\u001b[0m\u001b[1;32m   4948\u001b[0m         \u001b[0mim\u001b[0m\u001b[1;33m.\u001b[0m\u001b[0mset_alpha\u001b[0m\u001b[1;33m(\u001b[0m\u001b[0malpha\u001b[0m\u001b[1;33m)\u001b[0m\u001b[1;33m\u001b[0m\u001b[0m\n\u001b[1;32m   4949\u001b[0m         \u001b[1;32mif\u001b[0m \u001b[0mim\u001b[0m\u001b[1;33m.\u001b[0m\u001b[0mget_clip_path\u001b[0m\u001b[1;33m(\u001b[0m\u001b[1;33m)\u001b[0m \u001b[1;32mis\u001b[0m \u001b[0mNone\u001b[0m\u001b[1;33m:\u001b[0m\u001b[1;33m\u001b[0m\u001b[0m\n",
      "\u001b[0;32mC:\\Anaconda2\\lib\\site-packages\\matplotlib\\image.pyc\u001b[0m in \u001b[0;36mset_data\u001b[0;34m(self, A)\u001b[0m\n\u001b[1;32m    447\u001b[0m         if (self._A.dtype != np.uint8 and\n\u001b[1;32m    448\u001b[0m                 not np.can_cast(self._A.dtype, np.float)):\n\u001b[0;32m--> 449\u001b[0;31m             \u001b[1;32mraise\u001b[0m \u001b[0mTypeError\u001b[0m\u001b[1;33m(\u001b[0m\u001b[1;34m\"Image data can not convert to float\"\u001b[0m\u001b[1;33m)\u001b[0m\u001b[1;33m\u001b[0m\u001b[0m\n\u001b[0m\u001b[1;32m    450\u001b[0m \u001b[1;33m\u001b[0m\u001b[0m\n\u001b[1;32m    451\u001b[0m         if (self._A.ndim not in (2, 3) or\n",
      "\u001b[0;31mTypeError\u001b[0m: Image data can not convert to float"
     ]
    },
    {
     "data": {
      "image/png": "[encoded data removed]",
      "text/plain": [
       "<matplotlib.figure.Figure at 0x39ed7f28>"
      ]
     },
     "metadata": {},
     "output_type": "display_data"
    }
   ],
   "source": [
    "plt.imshow(obj)"
   ]
  }
 ],
 "metadata": {
  "anaconda-cloud": {},
  "kernelspec": {
   "display_name": "Python [default]",
   "language": "python",
   "name": "python2"
  },
  "language_info": {
   "codemirror_mode": {
    "name": "ipython",
    "version": 2
   },
   "file_extension": ".py",
   "mimetype": "text/x-python",
   "name": "python",
   "nbconvert_exporter": "python",
   "pygments_lexer": "ipython2",
   "version": "2.7.12"
  }
 },
 "nbformat": 4,
 "nbformat_minor": 1
}
