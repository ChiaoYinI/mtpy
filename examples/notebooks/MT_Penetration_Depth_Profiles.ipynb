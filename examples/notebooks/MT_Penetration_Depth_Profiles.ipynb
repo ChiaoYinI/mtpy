{
 "cells": [
  {
   "cell_type": "markdown",
   "metadata": {},
   "source": [
    "# MT Penetration Depth Profiles over 2DLine and 3DGrid"
   ]
  },
  {
   "cell_type": "code",
   "execution_count": 1,
   "metadata": {
    "collapsed": false
   },
   "outputs": [
    {
     "name": "stderr",
     "output_type": "stream",
     "text": [
      "INFO:root:module file: /Softlab/Githubz/mtpy2/mtpy/utils/mtpylog.pyc\n",
      "INFO:root:Effective yaml configuration file /Softlab/Githubz/mtpy2/mtpy/utils/logging.yml\n"
     ]
    }
   ],
   "source": [
    "import sys \n",
    "import os\n",
    "import glob\n",
    "import numpy as np\n",
    "\n",
    "\n",
    "%matplotlib inline\n",
    "import matplotlib.pyplot as plt\n",
    "import matplotlib as mpl\n",
    "\n",
    "\n",
    "mpl.rcParams['lines.linewidth'] = 2\n",
    "# mpl.rcParams['lines.color'] = 'r'\n",
    "\n",
    "mpl.rcParams['figure.figsize']=[20,10]\n",
    "\n",
    "import mtpy.core.mt as mt\n",
    "import mtpy.modeling.occam2d_rewrite as occam2d_new\n"
   ]
  },
  {
   "cell_type": "code",
   "execution_count": 50,
   "metadata": {
    "collapsed": false
   },
   "outputs": [
    {
     "name": "stdout",
     "output_type": "stream",
     "text": [
      "['/Softlab/Githubz/mtpy2/tests/data/edifiles/15130A.edi', '/Softlab/Githubz/mtpy2/tests/data/edifiles/15127A.edi', '/Softlab/Githubz/mtpy2/tests/data/edifiles/16127A.edi', '/Softlab/Githubz/mtpy2/tests/data/edifiles/16125A.edi', '/Softlab/Githubz/mtpy2/tests/data/edifiles/15128A.edi', '/Softlab/Githubz/mtpy2/tests/data/edifiles/15125A.edi', '/Softlab/Githubz/mtpy2/tests/data/edifiles/16123A.edi', '/Softlab/Githubz/mtpy2/tests/data/edifiles/15129A.edi', '/Softlab/Githubz/mtpy2/tests/data/edifiles/16124A.edi', '/Softlab/Githubz/mtpy2/tests/data/edifiles/16126A.edi', '/Softlab/Githubz/mtpy2/tests/data/edifiles/16122A.edi', '/Softlab/Githubz/mtpy2/tests/data/edifiles/15126A.edi']\n"
     ]
    }
   ],
   "source": [
    "# edi_dir=\"E:/Githubz/mtpy2/tests/data/edifiles/\"\n",
    "\n",
    "edi_dir=\"/Softlab/Githubz/mtpy2/tests/data/edifiles/\"\n",
    "\n",
    "#edi_dir=\"/Softlab/Githubz/mtpy2/examples/data/edi2\"  #edi_files/\"\n",
    "\n",
    "edifiles = glob.glob(os.path.join(edi_dir, '*.edi'))\n",
    "\n",
    "print (edifiles)"
   ]
  },
  {
   "cell_type": "code",
   "execution_count": null,
   "metadata": {
    "collapsed": false
   },
   "outputs": [],
   "source": []
  },
  {
   "cell_type": "code",
   "execution_count": 51,
   "metadata": {
    "collapsed": false
   },
   "outputs": [
    {
     "name": "stdout",
     "output_type": "stream",
     "text": [
      "Should input a freq array to know which index of the PT array corresponds to which freq.\n",
      "Should input a freq array to know which index of the PT array corresponds to which freq.\n",
      "Should input a freq array to know which index of the PT array corresponds to which freq.\n",
      "Should input a freq array to know which index of the PT array corresponds to which freq.\n",
      "Should input a freq array to know which index of the PT array corresponds to which freq.\n",
      "Should input a freq array to know which index of the PT array corresponds to which freq.\n",
      "Should input a freq array to know which index of the PT array corresponds to which freq.\n",
      "Should input a freq array to know which index of the PT array corresponds to which freq.\n",
      "Should input a freq array to know which index of the PT array corresponds to which freq.\n",
      "Should input a freq array to know which index of the PT array corresponds to which freq.\n",
      "Should input a freq array to know which index of the PT array corresponds to which freq.\n",
      "Should input a freq array to know which index of the PT array corresponds to which freq.\n",
      "========================================================================\n",
      "Rotated Z and Tipper to align with +171.89 degrees E of N\n",
      "Profile angle is +261.89 degrees E of N\n",
      "========================================================================\n"
     ]
    },
    {
     "data": {
      "image/png": "[encoded data removed]",
      "text/plain": [
       "<matplotlib.figure.Figure at 0x7fc74d121110>"
      ]
     },
     "metadata": {},
     "output_type": "display_data"
    }
   ],
   "source": [
    "# stations = ['151{0:02}A'.format(s) for s in range(24, 31)]\n",
    "# pr = occam2d_new.Profile(edi_path=edi_dir, station_list=stations)\n",
    "\n",
    "pr = occam2d_new.Profile(edi_path=edi_dir)\n",
    "pr.generate_profile()\n",
    "# set station labels to only be from 1st to 4th index \n",
    "# of station name\n",
    "      \n",
    "pr.plot_profile(station_id=[0,4])"
   ]
  },
  {
   "cell_type": "code",
   "execution_count": 52,
   "metadata": {
    "collapsed": false
   },
   "outputs": [
    {
     "data": {
      "text/plain": [
       "array([    0.        ,   478.83292003,   675.24333872,  1027.83734907,\n",
       "        1172.79154629,  1518.89335461,  1666.42259118,  1995.80961378,\n",
       "        2166.7956371 ,  2489.21181362,  2649.15965681,  3144.2642754 ])"
      ]
     },
     "execution_count": 52,
     "metadata": {},
     "output_type": "execute_result"
    }
   ],
   "source": [
    " pr.station_locations"
   ]
  },
  {
   "cell_type": "code",
   "execution_count": null,
   "metadata": {
    "collapsed": false
   },
   "outputs": [],
   "source": []
  },
  {
   "cell_type": "code",
   "execution_count": 53,
   "metadata": {
    "collapsed": false
   },
   "outputs": [
    {
     "data": {
      "text/plain": [
       "[<mtpy.core.mt.MT at 0x7fc74ccf0750>,\n",
       " <mtpy.core.mt.MT at 0x7fc74d0a5610>,\n",
       " <mtpy.core.mt.MT at 0x7fc74d69e490>,\n",
       " <mtpy.core.mt.MT at 0x7fc74ccca290>,\n",
       " <mtpy.core.mt.MT at 0x7fc74cc8f510>,\n",
       " <mtpy.core.mt.MT at 0x7fc74d0b55d0>,\n",
       " <mtpy.core.mt.MT at 0x7fc74d729310>,\n",
       " <mtpy.core.mt.MT at 0x7fc74cd8f550>,\n",
       " <mtpy.core.mt.MT at 0x7fc74d0130d0>,\n",
       " <mtpy.core.mt.MT at 0x7fc74cf820d0>,\n",
       " <mtpy.core.mt.MT at 0x7fc74d09abd0>,\n",
       " <mtpy.core.mt.MT at 0x7fc74d7ae910>]"
      ]
     },
     "execution_count": 53,
     "metadata": {},
     "output_type": "execute_result"
    }
   ],
   "source": [
    "pr.edi_list"
   ]
  },
  {
   "cell_type": "code",
   "execution_count": 54,
   "metadata": {
    "collapsed": true
   },
   "outputs": [],
   "source": [
    "# See http://localhost:8888/notebooks/examples/notebooks/Apparent_Resistivity_Penetration_Depth.ipynb\n",
    "# def plotbar_pen_depth(per_index, edifiles):\n",
    "\n",
    "per_index=2\n",
    "    \n",
    "scale_param = np.sqrt(1.0 / (2.0 * np.pi * 4 * np.pi * 10 ** (-7)))\n",
    "\n",
    "#per_index=0,1,2,....    \n",
    "periods=[] \n",
    "\n",
    "app_resis=[]\n",
    "\n",
    "stations=[]\n",
    "    \n",
    "for mt_obj in pr.edi_list:\n",
    "\n",
    "    # the attribute Z\n",
    "    zeta=mt_obj.Z\n",
    "    \n",
    "\n",
    "    if per_index>=len(zeta.freq):\n",
    "        raise Exception(\"Index out_of_range Error: period index must be less than number of periods in zeta.freq\")\n",
    "\n",
    "    per=1.0/zeta.freq[per_index]\n",
    "    periods.append(per)\n",
    "\n",
    "    penetration_depth = - scale_param * np.sqrt(zeta.resistivity[per_index, 0, 1] * per)\n",
    "    app_resis.append(penetration_depth)\n",
    "\n",
    "    stations.append(mt_obj.station)\n",
    "    "
   ]
  },
  {
   "cell_type": "code",
   "execution_count": 55,
   "metadata": {
    "collapsed": false
   },
   "outputs": [
    {
     "data": {
      "text/plain": [
       "<matplotlib.text.Text at 0x7fc74ca4b790>"
      ]
     },
     "execution_count": 55,
     "metadata": {},
     "output_type": "execute_result"
    },
    {
     "data": {
      "image/png": "[encoded data removed]",
      "text/plain": [
       "<matplotlib.figure.Figure at 0x7fc74cb33410>"
      ]
     },
     "metadata": {},
     "output_type": "display_data"
    }
   ],
   "source": [
    "\n",
    "fig = plt.figure()\n",
    "ax1 = fig.add_subplot(111)\n",
    "ax2 = ax1.twiny()\n",
    "\n",
    "\n",
    "#plt.bar(index, app_resis, color='#000000')\n",
    "ax1.plot(pr.station_locations, app_resis, '--*', markersize=\"12\", linewidth=\"2\", label=\"Penetration Depth\")\n",
    "# plt.xaxis.tick_top()\n",
    "# plt.set_xlabel('X LABEL')    \n",
    "# plt.xaxis.set_label_position('top') \n",
    "\n",
    "ax1.set_xlabel('Pentration Depth Over Stations at period %s'%periods[0],fontsize=20)\n",
    "ax1.set_xticks(pr.station_locations)\n",
    "ax1.set_ylabel('Penetration Depth (m)', fontsize=20)\n",
    "\n",
    "\n",
    "ax2.set_xlim(ax1.get_xlim())\n",
    "ax2.set_xticks(pr.station_locations)\n",
    "ax2.set_xticklabels(stations)\n",
    "ax2.set_xlabel(r\"Stations\")\n",
    "\n",
    "#plt.show()"
   ]
  },
  {
   "cell_type": "code",
   "execution_count": 56,
   "metadata": {
    "collapsed": false
   },
   "outputs": [
    {
     "data": {
      "image/png": "[encoded data removed]",
      "text/plain": [
       "<matplotlib.figure.Figure at 0x7fc74cb28210>"
      ]
     },
     "metadata": {},
     "output_type": "display_data"
    }
   ],
   "source": [
    "#http://stackoverflow.com/questions/10514315/how-to-add-a-second-x-axis-in-matplotlib\n",
    "import numpy as np\n",
    "import matplotlib.pyplot as plt\n",
    "\n",
    "fig = plt.figure()\n",
    "ax1 = fig.add_subplot(111)\n",
    "ax2 = ax1.twiny()\n",
    "\n",
    "X = np.linspace(0,1,1000)\n",
    "Y = np.cos(X*20)\n",
    "\n",
    "ax1.plot(X,Y)\n",
    "ax1.set_xlabel(r\"Original x-axis: $X$\")\n",
    "ax1.grid(True)\n",
    "new_tick_locations = np.array([.2, .5, .9])\n",
    "\n",
    "def tick_function(X):\n",
    "    V = 1/(1+X)\n",
    "    return [\"%.3f\" % z for z in V]\n",
    "\n",
    "ax2.set_xlim(ax1.get_xlim())\n",
    "ax2.set_xticks(new_tick_locations)\n",
    "ax2.set_xticklabels(tick_function(new_tick_locations))\n",
    "ax2.set_xlabel(r\"Modified x-axis: $1/(1+X)$\")\n",
    "\n",
    "plt.show()\n"
   ]
  },
  {
   "cell_type": "code",
   "execution_count": 57,
   "metadata": {
    "collapsed": false
   },
   "outputs": [
    {
     "name": "stdout",
     "output_type": "stream",
     "text": [
      "Help on function xticks in module matplotlib.pyplot:\n",
      "\n",
      "xticks(*args, **kwargs)\n",
      "    Get or set the *x*-limits of the current tick locations and labels.\n",
      "    \n",
      "    ::\n",
      "    \n",
      "      # return locs, labels where locs is an array of tick locations and\n",
      "      # labels is an array of tick labels.\n",
      "      locs, labels = xticks()\n",
      "    \n",
      "      # set the locations of the xticks\n",
      "      xticks( arange(6) )\n",
      "    \n",
      "      # set the locations and labels of the xticks\n",
      "      xticks( arange(5), ('Tom', 'Dick', 'Harry', 'Sally', 'Sue') )\n",
      "    \n",
      "    The keyword args, if any, are :class:`~matplotlib.text.Text`\n",
      "    properties. For example, to rotate long labels::\n",
      "    \n",
      "      xticks( arange(12), calendar.month_name[1:13], rotation=17 )\n",
      "\n"
     ]
    }
   ],
   "source": [
    "# plt.plot?\n",
    "\n",
    "#plt.legend?\n",
    "\n",
    "#plt.xticks?\n",
    "#OR\n",
    "help(plt.xticks)"
   ]
  },
  {
   "cell_type": "code",
   "execution_count": null,
   "metadata": {
    "collapsed": true
   },
   "outputs": [],
   "source": []
  },
  {
   "cell_type": "code",
   "execution_count": 58,
   "metadata": {
    "collapsed": false
   },
   "outputs": [
    {
     "name": "stdout",
     "output_type": "stream",
     "text": [
      "========================================================================\n",
      "Rotated Z and Tipper to align with +45.00 degrees E of N\n",
      "Profile angle is +135.00 degrees E of N\n",
      "========================================================================\n"
     ]
    },
    {
     "data": {
      "image/png": "[encoded data removed]",
      "text/plain": [
       "<matplotlib.figure.Figure at 0x7fc74d02e450>"
      ]
     },
     "metadata": {},
     "output_type": "display_data"
    }
   ],
   "source": [
    "pr.geoelectric_strike = 45 # preset a rotation angle\n",
    "\n",
    "pr.generate_profile()\n",
    "\n",
    "pr.plot_profile()"
   ]
  },
  {
   "cell_type": "code",
   "execution_count": null,
   "metadata": {
    "collapsed": true
   },
   "outputs": [],
   "source": []
  },
  {
   "cell_type": "code",
   "execution_count": 59,
   "metadata": {
    "collapsed": false
   },
   "outputs": [
    {
     "data": {
      "text/plain": [
       "['15124A', '15125A', '15126A', '15127A', '15128A', '15129A', '15130A']"
      ]
     },
     "execution_count": 59,
     "metadata": {},
     "output_type": "execute_result"
    }
   ],
   "source": [
    "stations = ['151{0:02}A'.format(s) for s in range(24, 31)]\n",
    "stations"
   ]
  },
  {
   "cell_type": "code",
   "execution_count": null,
   "metadata": {
    "collapsed": true
   },
   "outputs": [],
   "source": []
  },
  {
   "cell_type": "markdown",
   "metadata": {
    "collapsed": true
   },
   "source": [
    "# 3D-plot penetration depth profile over stations\n",
    "\n",
    "    - For a given fre/per index of a set of edifiles, the (lat, lon) are extracted and bounding box calculated.\n",
    "    - A pmesh is made with None value initially for all pixels, reset the pixels value according to the MT station pen-depth. \n",
    "    - Finally show the pcolor plot"
   ]
  },
  {
   "cell_type": "code",
   "execution_count": 60,
   "metadata": {
    "collapsed": true
   },
   "outputs": [],
   "source": [
    "def get_penetration_depth(per_index, edifiles):\n",
    "    \"\"\" input period index and a list of edi files,\n",
    "    return tuple of lists (stations, periods, penetrationdepth, lat-lons-pairs)\n",
    "    \"\"\"\n",
    "    \n",
    "    scale_param = np.sqrt(1.0 / (2.0 * np.pi * 4 * np.pi * 10 ** (-7)))\n",
    "    \n",
    "    #per_index=0,1,2,....    \n",
    "    periods=[] \n",
    "    \n",
    "    pendep=[]\n",
    "    \n",
    "    stations=[]\n",
    "    \n",
    "    latlons=[]\n",
    "    \n",
    "    for afile in edifiles:\n",
    "        mt_obj = mt.MT(afile)\n",
    "        \n",
    "        latlons.append((mt_obj.lat, mt_obj.lon))\n",
    "        \n",
    "    \n",
    "        # the attribute Z\n",
    "        zeta=mt_obj.Z\n",
    "        \n",
    "        if per_index>=len(zeta.freq):\n",
    "            raise Exception(\"Index out_of_range Error: period index must be less than number of periods in zeta.freq\")\n",
    "        \n",
    "        per=1.0/zeta.freq[per_index]\n",
    "        periods.append(per)\n",
    "       \n",
    "        penetration_depth = - scale_param * np.sqrt(zeta.resistivity[per_index, 0, 1] * per)\n",
    "        pendep.append(penetration_depth)\n",
    "        \n",
    "        stations.append(mt_obj.station)\n",
    "        \n",
    "\n",
    "    return (stations,periods,pendep, latlons )"
   ]
  },
  {
   "cell_type": "code",
   "execution_count": 61,
   "metadata": {
    "collapsed": false
   },
   "outputs": [],
   "source": [
    "(stations,periods,pendep, latlons )=get_penetration_depth(10, edifiles)"
   ]
  },
  {
   "cell_type": "code",
   "execution_count": 62,
   "metadata": {
    "collapsed": false
   },
   "outputs": [
    {
     "data": {
      "text/plain": [
       "['15130A',\n",
       " '15127A',\n",
       " '16127A',\n",
       " '16125A',\n",
       " '15128A',\n",
       " '15125A',\n",
       " '16123A',\n",
       " '15129A',\n",
       " '16124A',\n",
       " '16126A',\n",
       " '16122A',\n",
       " '15126A']"
      ]
     },
     "execution_count": 62,
     "metadata": {},
     "output_type": "execute_result"
    }
   ],
   "source": [
    "stations"
   ]
  },
  {
   "cell_type": "code",
   "execution_count": 63,
   "metadata": {
    "collapsed": false
   },
   "outputs": [
    {
     "data": {
      "text/plain": [
       "[0.00055555555555555556,\n",
       " 0.00055555555555555556,\n",
       " 0.00055555555555555556,\n",
       " 0.00055555555555555556,\n",
       " 0.00055555555555555556,\n",
       " 0.00055555555555555556,\n",
       " 0.00055555555555555556,\n",
       " 0.00055555555555555556,\n",
       " 0.00055555555555555556,\n",
       " 0.00055555555555555556,\n",
       " 0.00055555555555555556,\n",
       " 0.00055555555555555556]"
      ]
     },
     "execution_count": 63,
     "metadata": {},
     "output_type": "execute_result"
    }
   ],
   "source": [
    "periods  # All must be of the same value across stations"
   ]
  },
  {
   "cell_type": "code",
   "execution_count": 64,
   "metadata": {
    "collapsed": false
   },
   "outputs": [
    {
     "data": {
      "text/plain": [
       "[-12.956744674787281,\n",
       " -27.70824709432717,\n",
       " -23.738182448903824,\n",
       " -15.989009709988009,\n",
       " -9.2120301456684768,\n",
       " -33.344297497214612,\n",
       " -48.246781803959571,\n",
       " -40.552708760558225,\n",
       " -39.005317981584653,\n",
       " -41.028663961425231,\n",
       " -36.831338298147372,\n",
       " -44.019710692880871]"
      ]
     },
     "execution_count": 64,
     "metadata": {},
     "output_type": "execute_result"
    }
   ],
   "source": [
    "pendep"
   ]
  },
  {
   "cell_type": "code",
   "execution_count": 65,
   "metadata": {
    "collapsed": false
   },
   "outputs": [
    {
     "data": {
      "text/plain": [
       "[(-22.371222222222222, 149.21297222222222),\n",
       " (-22.37102777777778, 149.19841666666667),\n",
       " (-22.325888888888887, 149.1988611111111),\n",
       " (-22.32575, 149.18930555555556),\n",
       " (-22.37086111111111, 149.20330555555554),\n",
       " (-22.370805555555556, 149.1886388888889),\n",
       " (-22.325555555555557, 149.17905555555555),\n",
       " (-22.371083333333335, 149.20808333333332),\n",
       " (-22.325694444444444, 149.18447222222224),\n",
       " (-22.325805555555554, 149.19400000000002),\n",
       " (-22.32561111111111, 149.1743611111111),\n",
       " (-22.37063888888889, 149.1935)]"
      ]
     },
     "execution_count": 65,
     "metadata": {},
     "output_type": "execute_result"
    }
   ],
   "source": [
    "latlons"
   ]
  },
  {
   "cell_type": "code",
   "execution_count": 66,
   "metadata": {
    "collapsed": true
   },
   "outputs": [],
   "source": [
    "def get_bounding_box(latlons):\n",
    "    \"\"\" get min max lat lon from the list of lat-lon-pairs points\"\"\"\n",
    "    lats=[tup[0] for tup in latlons]\n",
    "    lons=[tup[1] for tup in latlons]\n",
    "\n",
    "    minlat=min(lats)\n",
    "    maxlat=max(lats)\n",
    "\n",
    "    print(minlat, maxlat)\n",
    "\n",
    "    minlon= min(lons)\n",
    "    maxlon= max(lons)\n",
    "\n",
    "    print(minlon, maxlon)\n",
    "    \n",
    "    return ((minlon,maxlon), (minlat, maxlat))"
   ]
  },
  {
   "cell_type": "code",
   "execution_count": 67,
   "metadata": {
    "collapsed": false
   },
   "outputs": [
    {
     "name": "stdout",
     "output_type": "stream",
     "text": [
      "(-22.371222222222222, -22.325555555555557)\n",
      "(149.1743611111111, 149.21297222222222)\n"
     ]
    }
   ],
   "source": [
    "bbox=get_bounding_box(latlons)"
   ]
  },
  {
   "cell_type": "code",
   "execution_count": 68,
   "metadata": {
    "collapsed": false
   },
   "outputs": [
    {
     "data": {
      "text/plain": [
       "((149.1743611111111, 149.21297222222222),\n",
       " (-22.371222222222222, -22.325555555555557))"
      ]
     },
     "execution_count": 68,
     "metadata": {},
     "output_type": "execute_result"
    }
   ],
   "source": [
    "bbox"
   ]
  },
  {
   "cell_type": "code",
   "execution_count": 69,
   "metadata": {
    "collapsed": false
   },
   "outputs": [
    {
     "name": "stdout",
     "output_type": "stream",
     "text": [
      "(0.038611111111123364, 0.045666666666665634)\n",
      "(39, 46)\n"
     ]
    }
   ],
   "source": [
    "xgrids= bbox[0][1] - bbox[0][0]\n",
    "ygrids= bbox[1][1] - bbox[1][0]\n",
    "\n",
    "print(xgrids, ygrids)\n",
    "\n",
    "\n",
    "pixelsize=0.001  #degree 0.001= 100meters, 1 deg=100km \n",
    "\n",
    "nx= int(np.ceil(xgrids/pixelsize))\n",
    "ny= int(np.ceil(ygrids/pixelsize))\n",
    "\n",
    "\n",
    "print(nx, ny)"
   ]
  },
  {
   "cell_type": "code",
   "execution_count": 70,
   "metadata": {
    "collapsed": false
   },
   "outputs": [
    {
     "data": {
      "text/plain": [
       "(41, 48)"
      ]
     },
     "execution_count": 70,
     "metadata": {},
     "output_type": "execute_result"
    }
   ],
   "source": [
    "# make an image bigger than the (nx, ny)   \n",
    "pad=2\n",
    "\n",
    "nx2= nx + pad\n",
    "ny2= ny+ pad\n",
    "\n",
    "# Z = 0.0* np.random.random((nx2,ny2))   # Test data\n",
    "# Z=  np.ones((nx2,ny2))\n",
    "zdep=   np.zeros((nx2,ny2))\n",
    "# Z[10, 10]=12\n",
    "# Z[11, 20]=20\n",
    "# Z[13, 15]=30\n",
    "\n",
    "zdep[:,:]=np.nan\n",
    "\n",
    "zdep.shape"
   ]
  },
  {
   "cell_type": "code",
   "execution_count": null,
   "metadata": {
    "collapsed": false
   },
   "outputs": [],
   "source": []
  },
  {
   "cell_type": "code",
   "execution_count": 71,
   "metadata": {
    "collapsed": false
   },
   "outputs": [],
   "source": [
    "offset=1\n",
    "minlat= bbox[1][0]\n",
    "minlon= bbox[0][0]\n",
    "LL_lat= minlat -offset*pixelsize\n",
    "LL_lon= minlon -offset*pixelsize\n",
    "\n",
    "# UR_lat=maxlat + offset*pixelsize\n",
    "# UR_lon= maxlon + offset*pixelsize\n",
    "\n",
    "def get_index(lat, lon):\n",
    "    index_x = (lon - LL_lon)/pixelsize\n",
    "    index_y= (lat-LL_lat)/pixelsize\n",
    "    \n",
    "    print (int(index_x), int(index_y))\n",
    "    \n",
    "    return(int(index_x), int(index_y))\n"
   ]
  },
  {
   "cell_type": "code",
   "execution_count": 72,
   "metadata": {
    "collapsed": false
   },
   "outputs": [
    {
     "name": "stdout",
     "output_type": "stream",
     "text": [
      "(-22.371222222222222, 149.21297222222222)\n",
      "(39, 1)\n",
      "(-22.37102777777778, 149.19841666666667)\n",
      "(25, 1)\n",
      "(-22.325888888888887, 149.1988611111111)\n",
      "(25, 46)\n",
      "(-22.32575, 149.18930555555556)\n",
      "(15, 46)\n",
      "(-22.37086111111111, 149.20330555555554)\n",
      "(29, 1)\n",
      "(-22.370805555555556, 149.1886388888889)\n",
      "(15, 1)\n",
      "(-22.325555555555557, 149.17905555555555)\n",
      "(5, 46)\n",
      "(-22.371083333333335, 149.20808333333332)\n",
      "(34, 1)\n",
      "(-22.325694444444444, 149.18447222222224)\n",
      "(11, 46)\n",
      "(-22.325805555555554, 149.19400000000002)\n",
      "(20, 46)\n",
      "(-22.32561111111111, 149.1743611111111)\n",
      "(1, 46)\n",
      "(-22.37063888888889, 149.1935)\n",
      "(20, 1)\n"
     ]
    }
   ],
   "source": [
    "for iter, pair in enumerate(latlons):\n",
    "    print pair\n",
    "    (xi,yi)= get_index(pair[0], pair[1])\n",
    "    zdep[xi,yi] = np.abs(pendep[iter])"
   ]
  },
  {
   "cell_type": "code",
   "execution_count": 73,
   "metadata": {
    "collapsed": false,
    "scrolled": false
   },
   "outputs": [
    {
     "data": {
      "text/plain": [
       "<matplotlib.colorbar.Colorbar at 0x7fc74cef5490>"
      ]
     },
     "execution_count": 73,
     "metadata": {},
     "output_type": "execute_result"
    },
    {
     "data": {
      "image/png": "[encoded data removed]",
      "text/plain": [
       "<matplotlib.figure.Figure at 0x7fc74d901790>"
      ]
     },
     "metadata": {},
     "output_type": "display_data"
    }
   ],
   "source": [
    "plt.imshow(zdep,  interpolation='none')\n",
    "plt.colorbar()"
   ]
  },
  {
   "cell_type": "code",
   "execution_count": 75,
   "metadata": {
    "collapsed": false
   },
   "outputs": [
    {
     "ename": "SyntaxError",
     "evalue": "invalid syntax (<ipython-input-75-9662445655ca>, line 3)",
     "output_type": "error",
     "traceback": [
      "\u001b[0;36m  File \u001b[0;32m\"<ipython-input-75-9662445655ca>\"\u001b[0;36m, line \u001b[0;32m3\u001b[0m\n\u001b[0;31m    2) interpolation? image pixels\u001b[0m\n\u001b[0m     ^\u001b[0m\n\u001b[0;31mSyntaxError\u001b[0m\u001b[0;31m:\u001b[0m invalid syntax\n"
     ]
    }
   ],
   "source": [
    "1) why lat-lon orient not right?\n",
    "\n",
    "2) interpolation? image pixels"
   ]
  },
  {
   "cell_type": "code",
   "execution_count": null,
   "metadata": {
    "collapsed": true
   },
   "outputs": [],
   "source": []
  },
  {
   "cell_type": "code",
   "execution_count": null,
   "metadata": {
    "collapsed": true
   },
   "outputs": [],
   "source": []
  },
  {
   "cell_type": "code",
   "execution_count": null,
   "metadata": {
    "collapsed": true
   },
   "outputs": [],
   "source": []
  }
 ],
 "metadata": {
  "kernelspec": {
   "display_name": "Python 2",
   "language": "python",
   "name": "python2"
  },
  "language_info": {
   "codemirror_mode": {
    "name": "ipython",
    "version": 2
   },
   "file_extension": ".py",
   "mimetype": "text/x-python",
   "name": "python",
   "nbconvert_exporter": "python",
   "pygments_lexer": "ipython2",
   "version": "2.7.12"
  }
 },
 "nbformat": 4,
 "nbformat_minor": 1
}
