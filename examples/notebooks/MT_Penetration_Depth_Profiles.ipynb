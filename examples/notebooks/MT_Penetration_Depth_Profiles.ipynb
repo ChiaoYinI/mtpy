{
 "cells": [
  {
   "cell_type": "markdown",
   "metadata": {},
   "source": [
    "# MT Penetration Depth Profiles over 2DLine and 3DGrid"
   ]
  },
  {
   "cell_type": "code",
   "execution_count": 1,
   "metadata": {
    "collapsed": false
   },
   "outputs": [
    {
     "name": "stderr",
     "output_type": "stream",
     "text": [
      "INFO:root:module file: E:\\Githubz\\mtpy2\\mtpy\\utils\\mtpylog.pyc\n",
      "INFO:root:Effective yaml configuration file E:\\Githubz\\mtpy2\\mtpy\\utils\\logging.yml\n"
     ]
    }
   ],
   "source": [
    "import sys \n",
    "import os\n",
    "import glob\n",
    "import numpy as np\n",
    "\n",
    "\n",
    "%matplotlib inline\n",
    "import matplotlib.pyplot as plt\n",
    "import matplotlib as mpl\n",
    "\n",
    "\n",
    "mpl.rcParams['lines.linewidth'] = 2\n",
    "# mpl.rcParams['lines.color'] = 'r'\n",
    "\n",
    "mpl.rcParams['figure.figsize']=[30,10]\n",
    "\n",
    "import mtpy.core.mt as mt\n",
    "import mtpy.modeling.occam2d_rewrite as occam2d_new\n"
   ]
  },
  {
   "cell_type": "code",
   "execution_count": 5,
   "metadata": {
    "collapsed": false
   },
   "outputs": [
    {
     "name": "stdout",
     "output_type": "stream",
     "text": [
      "['E:/Githubz/mtpy2/tests/data/edifiles\\\\15125A.edi', 'E:/Githubz/mtpy2/tests/data/edifiles\\\\15126A.edi', 'E:/Githubz/mtpy2/tests/data/edifiles\\\\15127A.edi', 'E:/Githubz/mtpy2/tests/data/edifiles\\\\15128A.edi', 'E:/Githubz/mtpy2/tests/data/edifiles\\\\15129A.edi', 'E:/Githubz/mtpy2/tests/data/edifiles\\\\15130A.edi', 'E:/Githubz/mtpy2/tests/data/edifiles\\\\16122A.edi', 'E:/Githubz/mtpy2/tests/data/edifiles\\\\16123A.edi', 'E:/Githubz/mtpy2/tests/data/edifiles\\\\16124A.edi', 'E:/Githubz/mtpy2/tests/data/edifiles\\\\16125A.edi', 'E:/Githubz/mtpy2/tests/data/edifiles\\\\16126A.edi', 'E:/Githubz/mtpy2/tests/data/edifiles\\\\16127A.edi']\n"
     ]
    }
   ],
   "source": [
    "edi_dir=\"E:/Githubz/mtpy2/tests/data/edifiles/\"\n",
    "#edi_dir=r\"E:\\Githubz\\mtpy2\\examples\\data/edi2\"\n",
    "\n",
    "edifiles = glob.glob(os.path.join(edi_dir, '*.edi'))\n",
    "\n",
    "print (edifiles)"
   ]
  },
  {
   "cell_type": "code",
   "execution_count": 20,
   "metadata": {
    "collapsed": false
   },
   "outputs": [
    {
     "name": "stdout",
     "output_type": "stream",
     "text": [
      "Should input a freq array to know which index of the PT array corresponds to which freq.\n",
      "Should input a freq array to know which index of the PT array corresponds to which freq.\n",
      "Should input a freq array to know which index of the PT array corresponds to which freq.\n",
      "Should input a freq array to know which index of the PT array corresponds to which freq.\n",
      "Should input a freq array to know which index of the PT array corresponds to which freq.\n",
      "Should input a freq array to know which index of the PT array corresponds to which freq.\n",
      "========================================================================\n",
      "Rotated Z and Tipper to align with +169.58 degrees E of N\n",
      "Profile angle is +259.58 degrees E of N\n",
      "========================================================================\n"
     ]
    },
    {
     "data": {
      "image/png": "[encoded data removed]",
      "text/plain": [
       "<matplotlib.figure.Figure at 0xb9da8d0>"
      ]
     },
     "metadata": {},
     "output_type": "display_data"
    }
   ],
   "source": [
    "stations = ['151{0:02}A'.format(s) for s in range(24, 31)]\n",
    "pr = occam2d_new.Profile(edi_path=edi_dir, station_list=stations)\n",
    "pr.generate_profile()\n",
    "# set station labels to only be from 1st to 4th index \n",
    "# of station name\n",
    "      \n",
    "pr.plot_profile(station_id=[0,4])"
   ]
  },
  {
   "cell_type": "code",
   "execution_count": 23,
   "metadata": {
    "collapsed": false
   },
   "outputs": [
    {
     "data": {
      "text/plain": [
       "array([    0.        ,   494.73916449,   983.07673176,  1480.61917052,\n",
       "        1958.52264154,  2449.45154843])"
      ]
     },
     "execution_count": 23,
     "metadata": {},
     "output_type": "execute_result"
    }
   ],
   "source": [
    " pr.station_locations"
   ]
  },
  {
   "cell_type": "code",
   "execution_count": 22,
   "metadata": {
    "collapsed": false
   },
   "outputs": [
    {
     "data": {
      "text/plain": [
       "[<mtpy.core.mt.MT at 0xb4b7c50>,\n",
       " <mtpy.core.mt.MT at 0xb4e4ef0>,\n",
       " <mtpy.core.mt.MT at 0xa42d588>,\n",
       " <mtpy.core.mt.MT at 0xa41f5f8>,\n",
       " <mtpy.core.mt.MT at 0xa444ef0>,\n",
       " <mtpy.core.mt.MT at 0xb4f4128>]"
      ]
     },
     "execution_count": 22,
     "metadata": {},
     "output_type": "execute_result"
    }
   ],
   "source": [
    "pr.edi_list"
   ]
  },
  {
   "cell_type": "code",
   "execution_count": null,
   "metadata": {
    "collapsed": true
   },
   "outputs": [],
   "source": [
    "# See http://localhost:8888/notebooks/examples/notebooks/Apparent_Resistivity_Penetration_Depth.ipynb\n",
    "# def plotbar_pen_depth(per_index, edifiles):"
   ]
  },
  {
   "cell_type": "code",
   "execution_count": null,
   "metadata": {
    "collapsed": true
   },
   "outputs": [],
   "source": []
  },
  {
   "cell_type": "code",
   "execution_count": null,
   "metadata": {
    "collapsed": true
   },
   "outputs": [],
   "source": []
  },
  {
   "cell_type": "code",
   "execution_count": null,
   "metadata": {
    "collapsed": true
   },
   "outputs": [],
   "source": []
  },
  {
   "cell_type": "code",
   "execution_count": null,
   "metadata": {
    "collapsed": true
   },
   "outputs": [],
   "source": []
  },
  {
   "cell_type": "code",
   "execution_count": null,
   "metadata": {
    "collapsed": true
   },
   "outputs": [],
   "source": []
  },
  {
   "cell_type": "code",
   "execution_count": 18,
   "metadata": {
    "collapsed": false
   },
   "outputs": [
    {
     "name": "stdout",
     "output_type": "stream",
     "text": [
      "========================================================================\n",
      "Rotated Z and Tipper to align with +45.00 degrees E of N\n",
      "Profile angle is +135.00 degrees E of N\n",
      "========================================================================\n"
     ]
    },
    {
     "data": {
      "image/png": "[encoded data removed]",
      "text/plain": [
       "<matplotlib.figure.Figure at 0xb4a62b0>"
      ]
     },
     "metadata": {},
     "output_type": "display_data"
    }
   ],
   "source": [
    "pr.geoelectric_strike = 45 # preset a rotation angle\n",
    "\n",
    "pr.generate_profile()\n",
    "\n",
    "pr.plot_profile()"
   ]
  },
  {
   "cell_type": "code",
   "execution_count": null,
   "metadata": {
    "collapsed": true
   },
   "outputs": [],
   "source": []
  },
  {
   "cell_type": "code",
   "execution_count": 16,
   "metadata": {
    "collapsed": false
   },
   "outputs": [
    {
     "data": {
      "text/plain": [
       "['15124A', '15125A', '15126A', '15127A', '15128A', '15129A', '15130A']"
      ]
     },
     "execution_count": 16,
     "metadata": {},
     "output_type": "execute_result"
    }
   ],
   "source": [
    "stations = ['151{0:02}A'.format(s) for s in range(24, 31)]\n",
    "stations"
   ]
  },
  {
   "cell_type": "code",
   "execution_count": null,
   "metadata": {
    "collapsed": true
   },
   "outputs": [],
   "source": []
  },
  {
   "cell_type": "code",
   "execution_count": null,
   "metadata": {
    "collapsed": true
   },
   "outputs": [],
   "source": []
  },
  {
   "cell_type": "code",
   "execution_count": null,
   "metadata": {
    "collapsed": true
   },
   "outputs": [],
   "source": []
  },
  {
   "cell_type": "code",
   "execution_count": null,
   "metadata": {
    "collapsed": true
   },
   "outputs": [],
   "source": []
  },
  {
   "cell_type": "code",
   "execution_count": null,
   "metadata": {
    "collapsed": true
   },
   "outputs": [],
   "source": []
  },
  {
   "cell_type": "code",
   "execution_count": null,
   "metadata": {
    "collapsed": true
   },
   "outputs": [],
   "source": []
  },
  {
   "cell_type": "code",
   "execution_count": null,
   "metadata": {
    "collapsed": true
   },
   "outputs": [],
   "source": []
  },
  {
   "cell_type": "code",
   "execution_count": null,
   "metadata": {
    "collapsed": true
   },
   "outputs": [],
   "source": []
  },
  {
   "cell_type": "code",
   "execution_count": null,
   "metadata": {
    "collapsed": true
   },
   "outputs": [],
   "source": []
  }
 ],
 "metadata": {
  "kernelspec": {
   "display_name": "Python [conda root]",
   "language": "python",
   "name": "conda-root-py"
  },
  "language_info": {
   "codemirror_mode": {
    "name": "ipython",
    "version": 2
   },
   "file_extension": ".py",
   "mimetype": "text/x-python",
   "name": "python",
   "nbconvert_exporter": "python",
   "pygments_lexer": "ipython2",
   "version": "2.7.12"
  }
 },
 "nbformat": 4,
 "nbformat_minor": 1
}
