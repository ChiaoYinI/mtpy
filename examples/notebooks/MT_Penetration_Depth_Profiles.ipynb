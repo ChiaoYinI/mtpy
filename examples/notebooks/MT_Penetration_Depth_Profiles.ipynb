{
 "cells": [
  {
   "cell_type": "markdown",
   "metadata": {},
   "source": [
    "# MT Penetration Depth Profiles over 2DLine and 3DGrid"
   ]
  },
  {
   "cell_type": "code",
   "execution_count": 1,
   "metadata": {
    "collapsed": false
   },
   "outputs": [
    {
     "name": "stderr",
     "output_type": "stream",
     "text": [
      "INFO:root:module file: E:\\Githubz\\mtpy2\\mtpy\\utils\\mtpylog.pyc\n",
      "INFO:root:Effective yaml configuration file E:\\Githubz\\mtpy2\\mtpy\\utils\\logging.yml\n"
     ]
    },
    {
     "name": "stdout",
     "output_type": "stream",
     "text": [
      "2017-09-01T11:21:00 - root - INFO - module file: E:\\Githubz\\mtpy2\\mtpy\\utils\\mtpylog.pyc\n",
      "2017-09-01T11:21:00 - root - INFO - Effective yaml configuration file E:\\Githubz\\mtpy2\\mtpy\\utils\\logging.yml\n"
     ]
    }
   ],
   "source": [
    "import sys \n",
    "import os\n",
    "import glob\n",
    "import numpy as np\n",
    "\n",
    "\n",
    "%matplotlib inline\n",
    "import matplotlib.pyplot as plt\n",
    "import matplotlib as mpl\n",
    "\n",
    "\n",
    "mpl.rcParams['lines.linewidth'] = 2\n",
    "# mpl.rcParams['lines.color'] = 'r'\n",
    "\n",
    "mpl.rcParams['figure.figsize']=[20,10]\n",
    "\n",
    "import mtpy.core.mt as mt\n",
    "import mtpy.modeling.occam2d_rewrite as occam2d_new\n",
    "\n",
    "#Supress default INFO logging\n",
    "import logging\n",
    "logger = logging.getLogger()\n",
    "logger.setLevel(logging.CRITICAL)\n",
    "logger.propagate = False"
   ]
  },
  {
   "cell_type": "code",
   "execution_count": 2,
   "metadata": {
    "collapsed": false
   },
   "outputs": [
    {
     "name": "stdout",
     "output_type": "stream",
     "text": [
      "['E:/Githubz/mtpy2/tests/data/edifiles\\\\15125A.edi', 'E:/Githubz/mtpy2/tests/data/edifiles\\\\15126A.edi', 'E:/Githubz/mtpy2/tests/data/edifiles\\\\15127A.edi', 'E:/Githubz/mtpy2/tests/data/edifiles\\\\15128A.edi', 'E:/Githubz/mtpy2/tests/data/edifiles\\\\15129A.edi', 'E:/Githubz/mtpy2/tests/data/edifiles\\\\15130A.edi', 'E:/Githubz/mtpy2/tests/data/edifiles\\\\16122A.edi', 'E:/Githubz/mtpy2/tests/data/edifiles\\\\16123A.edi', 'E:/Githubz/mtpy2/tests/data/edifiles\\\\16124A.edi', 'E:/Githubz/mtpy2/tests/data/edifiles\\\\16125A.edi', 'E:/Githubz/mtpy2/tests/data/edifiles\\\\16126A.edi', 'E:/Githubz/mtpy2/tests/data/edifiles\\\\16127A.edi']\n"
     ]
    }
   ],
   "source": [
    "# Windows File system\n",
    "edi_dir=r\"E:/Githubz/mtpy2/tests/data/edifiles/\"\n",
    "#edi_dir=r\"E:\\Datasets\\MT_Datasets\\3D_MT_data_edited_fromDuanJM\"\n",
    "\n",
    "#edi_dir=r\"E:/Githubz/mtpy2/examples/data/edi2\"\n",
    "#edi_dir=r\"E:\\Datasets\\RD_GeophysSurvey\\75098\\EDI_files\"  # not same periods\n",
    "#edi_dir=r\"E:\\Datasets\\RD_GeophysSurvey\\75099_Youanmi\\EDI Files\\bb_edi\\YN3_edi_bb\"\n",
    "#edi_dir=r\"E:\\Datasets\\RD_GeophysSurvey\\75099_Youanmi\\EDI Files\\lp_edi\"  # not same periods\n",
    "\n",
    "# Linux OS files\n",
    "#edi_dir=\"/Softlab/Githubz/mtpy2/tests/data/edifiles/\"\n",
    "#edi_dir=\"/Softlab/Githubz/mtpy2/examples/data/edi2\"  #edi_files/\"\n",
    "\n",
    "edifiles = glob.glob(os.path.join(edi_dir, '*.edi'))\n",
    "\n",
    "print (edifiles)"
   ]
  },
  {
   "cell_type": "code",
   "execution_count": 3,
   "metadata": {
    "collapsed": false,
    "scrolled": false
   },
   "outputs": [
    {
     "name": "stderr",
     "output_type": "stream",
     "text": [
      "E:\\Githubz\\mtpy2\\mtpy\\analysis\\zinvariants.py:228: RuntimeWarning: invalid value encountered in arcsin\n",
      "  strikeangerr = abs(.5 * np.arcsin(inv7)) * (180 / np.pi)\n"
     ]
    },
    {
     "name": "stdout",
     "output_type": "stream",
     "text": [
      "Should input a freq array to know which index of the PT array corresponds to which freq.\n",
      "Should input a freq array to know which index of the PT array corresponds to which freq.\n",
      "Should input a freq array to know which index of the PT array corresponds to which freq.\n",
      "Should input a freq array to know which index of the PT array corresponds to which freq.\n",
      "Should input a freq array to know which index of the PT array corresponds to which freq.\n",
      "Should input a freq array to know which index of the PT array corresponds to which freq.\n",
      "Should input a freq array to know which index of the PT array corresponds to which freq.\n",
      "Should input a freq array to know which index of the PT array corresponds to which freq.\n",
      "Should input a freq array to know which index of the PT array corresponds to which freq.\n",
      "Should input a freq array to know which index of the PT array corresponds to which freq.\n",
      "Should input a freq array to know which index of the PT array corresponds to which freq.\n",
      "Should input a freq array to know which index of the PT array corresponds to which freq.\n",
      "========================================================================\n",
      "Rotated Z and Tipper to align with +171.89 degrees E of N\n",
      "Profile angle is +261.89 degrees E of N\n",
      "========================================================================\n"
     ]
    },
    {
     "data": {
      "image/png": "[encoded data removed]",
      "text/plain": [
       "<matplotlib.figure.Figure at 0x25cdeb8>"
      ]
     },
     "metadata": {},
     "output_type": "display_data"
    }
   ],
   "source": [
    "# stations = ['151{0:02}A'.format(s) for s in range(24, 31)]\n",
    "# pr = occam2d_new.Profile(edi_path=edi_dir, station_list=stations)\n",
    "\n",
    "pr = occam2d_new.Profile(edi_path=edi_dir)\n",
    "pr.generate_profile()\n",
    "# set station labels to only be from 1st to 4th index \n",
    "# of station name\n",
    "      \n",
    "pr.plot_profile(station_id=[0,4])"
   ]
  },
  {
   "cell_type": "code",
   "execution_count": 4,
   "metadata": {
    "collapsed": false
   },
   "outputs": [
    {
     "data": {
      "text/plain": [
       "array([    0.        ,   478.83292003,   675.24333872,  1027.83734907,\n",
       "        1172.79154629,  1518.89335461,  1666.42259118,  1995.80961378,\n",
       "        2166.7956371 ,  2489.21181362,  2649.15965681,  3144.2642754 ])"
      ]
     },
     "execution_count": 4,
     "metadata": {},
     "output_type": "execute_result"
    }
   ],
   "source": [
    " pr.station_locations"
   ]
  },
  {
   "cell_type": "code",
   "execution_count": null,
   "metadata": {
    "collapsed": false
   },
   "outputs": [],
   "source": []
  },
  {
   "cell_type": "code",
   "execution_count": 5,
   "metadata": {
    "collapsed": false
   },
   "outputs": [
    {
     "data": {
      "text/plain": [
       "[<mtpy.core.mt.MT at 0x99f72e8>,\n",
       " <mtpy.core.mt.MT at 0x9920780>,\n",
       " <mtpy.core.mt.MT at 0x25eb4e0>,\n",
       " <mtpy.core.mt.MT at 0x9a0bf28>,\n",
       " <mtpy.core.mt.MT at 0x3d972b0>,\n",
       " <mtpy.core.mt.MT at 0x9a0b160>,\n",
       " <mtpy.core.mt.MT at 0x25eb470>,\n",
       " <mtpy.core.mt.MT at 0x9a21d30>,\n",
       " <mtpy.core.mt.MT at 0x9920828>,\n",
       " <mtpy.core.mt.MT at 0x9a4bb38>,\n",
       " <mtpy.core.mt.MT at 0x99c0780>,\n",
       " <mtpy.core.mt.MT at 0x99d9400>]"
      ]
     },
     "execution_count": 5,
     "metadata": {},
     "output_type": "execute_result"
    }
   ],
   "source": [
    "pr.edi_list"
   ]
  },
  {
   "cell_type": "code",
   "execution_count": 6,
   "metadata": {
    "collapsed": false
   },
   "outputs": [
    {
     "name": "stdout",
     "output_type": "stream",
     "text": [
      "355.881271709\n"
     ]
    }
   ],
   "source": [
    "# See http://localhost:8888/notebooks/examples/notebooks/Apparent_Resistivity_Penetration_Depth.ipynb\n",
    "# def plotbar_pen_depth(per_index, edifiles):\n",
    "\n",
    "per_index=2\n",
    "    \n",
    "scale_param = np.sqrt(1.0 / (2.0 * np.pi * 4 * np.pi * 10 ** (-7)))\n",
    "print(scale_param)\n",
    "#per_index=0,1,2,....    \n",
    "periods=[] \n",
    "\n",
    "app_resis=[]\n",
    "\n",
    "stations=[]\n",
    "    \n",
    "for mt_obj in pr.edi_list:\n",
    "\n",
    "    # the attribute Z\n",
    "    zeta=mt_obj.Z\n",
    "    \n",
    "\n",
    "    if per_index>=len(zeta.freq):\n",
    "        raise Exception(\"Index out_of_range Error: period index must be less than number of periods in zeta.freq\")\n",
    "\n",
    "    per=1.0/zeta.freq[per_index]\n",
    "    periods.append(per)\n",
    "\n",
    "    penetration_depth = - scale_param * np.sqrt(zeta.resistivity[per_index, 0, 1] * per)\n",
    "    app_resis.append(penetration_depth)\n",
    "\n",
    "    stations.append(mt_obj.station)\n",
    "    "
   ]
  },
  {
   "cell_type": "code",
   "execution_count": 7,
   "metadata": {
    "collapsed": false
   },
   "outputs": [
    {
     "data": {
      "text/plain": [
       "<matplotlib.text.Text at 0x9d5e7f0>"
      ]
     },
     "execution_count": 7,
     "metadata": {},
     "output_type": "execute_result"
    },
    {
     "data": {
      "image/png": "[encoded data removed]",
      "text/plain": [
       "<matplotlib.figure.Figure at 0x9aecb70>"
      ]
     },
     "metadata": {},
     "output_type": "display_data"
    }
   ],
   "source": [
    "\n",
    "fig = plt.figure()\n",
    "ax1 = fig.add_subplot(111)\n",
    "ax2 = ax1.twiny()\n",
    "\n",
    "\n",
    "#plt.bar(index, app_resis, color='#000000')\n",
    "ax1.plot(pr.station_locations, app_resis, '--*', markersize=\"12\", linewidth=\"2\", label=\"Penetration Depth\")\n",
    "# plt.xaxis.tick_top()\n",
    "# plt.set_xlabel('X LABEL')    \n",
    "# plt.xaxis.set_label_position('top') \n",
    "\n",
    "ax1.set_xlabel('Pentration Depth Over Stations at period %s'%periods[0],fontsize=20)\n",
    "ax1.set_xticks(pr.station_locations)\n",
    "ax1.set_ylabel('Penetration Depth (m)', fontsize=20)\n",
    "\n",
    "\n",
    "ax2.set_xlim(ax1.get_xlim())\n",
    "ax2.set_xticks(pr.station_locations)\n",
    "ax2.set_xticklabels(stations)\n",
    "ax2.set_xlabel(r\"Stations\")\n",
    "\n",
    "#plt.show()"
   ]
  },
  {
   "cell_type": "code",
   "execution_count": null,
   "metadata": {
    "collapsed": false
   },
   "outputs": [],
   "source": [
    "#http://stackoverflow.com/questions/10514315/how-to-add-a-second-x-axis-in-matplotlib\n",
    "\n",
    "\n",
    "# import numpy as np\n",
    "# import matplotlib.pyplot as plt\n",
    "\n",
    "# fig = plt.figure()\n",
    "# ax1 = fig.add_subplot(111)\n",
    "# ax2 = ax1.twiny()\n",
    "\n",
    "# X = np.linspace(0,1,1000)\n",
    "# Y = np.cos(X*20)\n",
    "\n",
    "# ax1.plot(X,Y)\n",
    "# ax1.set_xlabel(r\"Original x-axis: $X$\")\n",
    "# ax1.grid(True)\n",
    "# new_tick_locations = np.array([.2, .5, .9])\n",
    "\n",
    "# def tick_function(X):\n",
    "#     V = 1/(1+X)\n",
    "#     return [\"%.3f\" % z for z in V]\n",
    "\n",
    "# ax2.set_xlim(ax1.get_xlim())\n",
    "# ax2.set_xticks(new_tick_locations)\n",
    "# ax2.set_xticklabels(tick_function(new_tick_locations))\n",
    "# ax2.set_xlabel(r\"Modified x-axis: $1/(1+X)$\")\n",
    "\n",
    "# plt.show()\n"
   ]
  },
  {
   "cell_type": "code",
   "execution_count": null,
   "metadata": {
    "collapsed": false
   },
   "outputs": [],
   "source": [
    "# plt.plot?\n",
    "\n",
    "#plt.legend?\n",
    "\n",
    "#plt.xticks?\n",
    "#OR\n",
    "help(plt.xticks)"
   ]
  },
  {
   "cell_type": "code",
   "execution_count": null,
   "metadata": {
    "collapsed": true
   },
   "outputs": [],
   "source": []
  },
  {
   "cell_type": "code",
   "execution_count": null,
   "metadata": {
    "collapsed": false
   },
   "outputs": [],
   "source": [
    "# pr.geoelectric_strike = 45 # preset a rotation angle\n",
    "\n",
    "# pr.generate_profile()\n",
    "\n",
    "# pr.plot_profile()"
   ]
  },
  {
   "cell_type": "code",
   "execution_count": null,
   "metadata": {
    "collapsed": true
   },
   "outputs": [],
   "source": []
  },
  {
   "cell_type": "code",
   "execution_count": null,
   "metadata": {
    "collapsed": false
   },
   "outputs": [],
   "source": [
    "stations = ['151{0:02}A'.format(s) for s in range(24, 31)]\n",
    "stations"
   ]
  },
  {
   "cell_type": "code",
   "execution_count": null,
   "metadata": {
    "collapsed": true
   },
   "outputs": [],
   "source": []
  },
  {
   "cell_type": "markdown",
   "metadata": {
    "collapsed": true
   },
   "source": [
    "# 3D-plot penetration depth profile over stations\n",
    "\n",
    "    - For a given fre/per index of a set of edifiles, the (lat, lon) are extracted and bounding box calculated.\n",
    "    - A pmesh is made with None value initially for all pixels, reset the pixels value according to the MT station pen-depth. \n",
    "    - Finally show the pcolor plot"
   ]
  },
  {
   "cell_type": "code",
   "execution_count": null,
   "metadata": {
    "collapsed": true
   },
   "outputs": [],
   "source": [
    "def get_penetration_depth(per_index, edifiles):\n",
    "    \"\"\" input period index and a list of edi files,\n",
    "    return tuple of lists (stations, periods, penetrationdepth, lat-lons-pairs)\n",
    "    \"\"\"\n",
    "    \n",
    "    scale_param = np.sqrt(1.0 / (2.0 * np.pi * 4 * np.pi * 10 ** (-7)))\n",
    "    \n",
    "    #per_index=0,1,2,....    \n",
    "    periods=[] \n",
    "    \n",
    "    pendep=[]\n",
    "    \n",
    "    stations=[]\n",
    "    \n",
    "    latlons=[]\n",
    "    \n",
    "    for afile in edifiles:\n",
    "        mt_obj = mt.MT(afile)\n",
    "        \n",
    "        latlons.append((mt_obj.lat, mt_obj.lon))\n",
    "        \n",
    "    \n",
    "        # the attribute Z\n",
    "        zeta=mt_obj.Z\n",
    "        \n",
    "        if per_index>=len(zeta.freq):\n",
    "            raise Exception(\"Index out_of_range Error: period index must be less than number of periods in zeta.freq\")\n",
    "        \n",
    "        per=1.0/zeta.freq[per_index]\n",
    "        periods.append(per)\n",
    "       \n",
    "        penetration_depth = - scale_param * np.sqrt(zeta.resistivity[per_index, 0, 1] * per)\n",
    "        pendep.append(penetration_depth)\n",
    "        \n",
    "        stations.append(mt_obj.station)\n",
    "        \n",
    "\n",
    "    return (stations,periods,pendep, latlons )"
   ]
  },
  {
   "cell_type": "code",
   "execution_count": null,
   "metadata": {
    "collapsed": false
   },
   "outputs": [],
   "source": [
    "(stations,periods,pendep, latlons )=get_penetration_depth(10, edifiles)"
   ]
  },
  {
   "cell_type": "code",
   "execution_count": null,
   "metadata": {
    "collapsed": false
   },
   "outputs": [],
   "source": [
    "stations"
   ]
  },
  {
   "cell_type": "code",
   "execution_count": null,
   "metadata": {
    "collapsed": false
   },
   "outputs": [],
   "source": [
    "periods  # All must be of the same value across stations"
   ]
  },
  {
   "cell_type": "code",
   "execution_count": null,
   "metadata": {
    "collapsed": false
   },
   "outputs": [],
   "source": [
    "pendep"
   ]
  },
  {
   "cell_type": "code",
   "execution_count": null,
   "metadata": {
    "collapsed": false
   },
   "outputs": [],
   "source": [
    "latlons"
   ]
  },
  {
   "cell_type": "code",
   "execution_count": null,
   "metadata": {
    "collapsed": true
   },
   "outputs": [],
   "source": [
    "def get_bounding_box(latlons):\n",
    "    \"\"\" get min max lat lon from the list of lat-lon-pairs points\"\"\"\n",
    "    lats=[tup[0] for tup in latlons]\n",
    "    lons=[tup[1] for tup in latlons]\n",
    "\n",
    "    minlat=min(lats)\n",
    "    maxlat=max(lats)\n",
    "\n",
    "    print(minlat, maxlat)\n",
    "\n",
    "    minlon= min(lons)\n",
    "    maxlon= max(lons)\n",
    "\n",
    "    print(minlon, maxlon)\n",
    "    \n",
    "    return ((minlon,maxlon), (minlat, maxlat))"
   ]
  },
  {
   "cell_type": "code",
   "execution_count": null,
   "metadata": {
    "collapsed": false
   },
   "outputs": [],
   "source": [
    "bbox=get_bounding_box(latlons)"
   ]
  },
  {
   "cell_type": "code",
   "execution_count": null,
   "metadata": {
    "collapsed": false
   },
   "outputs": [],
   "source": [
    "bbox"
   ]
  },
  {
   "cell_type": "markdown",
   "metadata": {},
   "source": [
    "# Make a gridded Image with suitable pixel size/resolution"
   ]
  },
  {
   "cell_type": "code",
   "execution_count": null,
   "metadata": {
    "collapsed": false
   },
   "outputs": [],
   "source": [
    "xgrids= bbox[0][1] - bbox[0][0]\n",
    "ygrids= bbox[1][1] - bbox[1][0]\n",
    "\n",
    "print(xgrids, ygrids)\n",
    "\n",
    "#Pixel size in Degree:  0.001=100meters, 0.01=1KM 1deg=100KM\n",
    "\n",
    "pixelsize=0.002  #Degree 0.001=100meters, 0.01=1KM 1deg=100KM\n",
    "\n",
    "nx= int(np.ceil(xgrids/pixelsize))\n",
    "ny= int(np.ceil(ygrids/pixelsize))\n",
    "\n",
    "\n",
    "print(nx, ny)"
   ]
  },
  {
   "cell_type": "code",
   "execution_count": null,
   "metadata": {
    "collapsed": false
   },
   "outputs": [],
   "source": [
    "# make an image bigger than the (nx, ny)   \n",
    "pad=2\n",
    "\n",
    "nx2= nx + pad\n",
    "ny2= ny+ pad\n",
    "\n",
    "# Z = 0.0* np.random.random((nx2,ny2))   # Test data\n",
    "# Z=  np.ones((nx2,ny2))\n",
    "zdep=   np.zeros((ny2,nx2))\n",
    "# Z[10, 10]=12\n",
    "# Z[11, 20]=20\n",
    "# Z[13, 15]=30\n",
    "\n",
    "zdep[:,:]=np.nan\n",
    "\n",
    "zdep.shape"
   ]
  },
  {
   "cell_type": "code",
   "execution_count": null,
   "metadata": {
    "collapsed": false
   },
   "outputs": [],
   "source": [
    "round(3.519)"
   ]
  },
  {
   "cell_type": "code",
   "execution_count": null,
   "metadata": {
    "collapsed": false
   },
   "outputs": [],
   "source": [
    "offset=0\n",
    "minlat= bbox[1][0]\n",
    "minlon= bbox[0][0]\n",
    "# LL_lat= minlat -offset*pixelsize\n",
    "# LL_lon= minlon -offset*pixelsize\n",
    "\n",
    "# UR_lat=maxlat + offset*pixelsize\n",
    "# UR_lon= maxlon + offset*pixelsize\n",
    "\n",
    "def get_index(lat, lon, offset=1):\n",
    "    index_x = (lon - minlon)/pixelsize\n",
    "    index_y= (lat- minlat)/pixelsize\n",
    "    \n",
    "    ix=int(round(index_x))\n",
    "    iy=int(round(index_y))\n",
    "    \n",
    "    print (ix, iy)\n",
    "    \n",
    "    return(ix+offset, iy+offset)\n"
   ]
  },
  {
   "cell_type": "code",
   "execution_count": null,
   "metadata": {
    "collapsed": false
   },
   "outputs": [],
   "source": [
    "for iter, pair in enumerate(latlons):\n",
    "    print pair\n",
    "    (xi,yi)= get_index(pair[0], pair[1])\n",
    "    zdep[zdep.shape[0]-yi,xi] = np.abs(pendep[iter])"
   ]
  },
  {
   "cell_type": "code",
   "execution_count": null,
   "metadata": {
    "collapsed": false
   },
   "outputs": [],
   "source": [
    "plt.imshow(zdep, interpolation='none')\n",
    "#plt.imshow(zdep,  interpolation='spline36')\n",
    "plt.colorbar()"
   ]
  },
  {
   "cell_type": "code",
   "execution_count": null,
   "metadata": {
    "collapsed": false
   },
   "outputs": [],
   "source": [
    "# 1)Tips lat-lon orientation: lat <=> north-south; y-coordinate; the first index of the Image2D(first, second)  \n",
    "\n",
    "# 2) interpolation? image pixels\n",
    "plt.imshow?"
   ]
  },
  {
   "cell_type": "code",
   "execution_count": null,
   "metadata": {
    "collapsed": false
   },
   "outputs": [],
   "source": [
    "zdep.shape"
   ]
  },
  {
   "cell_type": "code",
   "execution_count": null,
   "metadata": {
    "collapsed": false
   },
   "outputs": [],
   "source": [
    "from pykrige.uk import UniversalKriging\n",
    "import numpy as np\n",
    "\n",
    "data = np.array([[0.3, 1.2, 0.47],\n",
    "                 [1.9, 0.6, 0.56],\n",
    "                 [1.1, 3.2, 0.74],\n",
    "                 [3.3, 4.4, 1.47],\n",
    "                 [4.7, 3.8, 1.74]])\n",
    "\n",
    "gridx = np.arange(0.0, 5.5, 0.5)\n",
    "gridy = np.arange(0.0, 5.5, 0.5)\n",
    "\n",
    "# Create the ordinary kriging object. Required inputs are the X-coordinates of\n",
    "# the data points, the Y-coordinates of the data points, and the Z-values of the\n",
    "# data points. Variogram is handled as in the ordinary kriging case.\n",
    "# drift_terms is a list of the drift terms to include; currently supported terms\n",
    "# are 'regional_linear', 'point_log', and 'external_Z'. Refer to \n",
    "# UniversalKriging.__doc__ for more information.\n",
    "UK = UniversalKriging(data[:, 0], data[:, 1], data[:, 2], variogram_model='linear',\n",
    "                      drift_terms=['regional_linear'],enable_plotting=True)\n",
    "\n",
    "# Creates the kriged grid and the variance grid. Allows for kriging on a rectangular\n",
    "# grid of points, on a masked rectangular grid of points, or with arbitrary points.\n",
    "# (See UniversalKriging.__doc__ for more information.)\n",
    "z, ss = UK.execute('grid', gridx, gridy)"
   ]
  },
  {
   "cell_type": "code",
   "execution_count": null,
   "metadata": {
    "collapsed": false
   },
   "outputs": [],
   "source": [
    "gridx"
   ]
  },
  {
   "cell_type": "code",
   "execution_count": null,
   "metadata": {
    "collapsed": false
   },
   "outputs": [],
   "source": [
    "data[:,0]"
   ]
  },
  {
   "cell_type": "code",
   "execution_count": null,
   "metadata": {
    "collapsed": true
   },
   "outputs": [],
   "source": [
    "import pykrige.kriging_tools as kt\n",
    "# Writes the kriged grid to an ASCII grid file.\n",
    "kt.write_asc_grid(gridx, gridy, z, filename=\"output.asc\")"
   ]
  },
  {
   "cell_type": "code",
   "execution_count": null,
   "metadata": {
    "collapsed": false
   },
   "outputs": [],
   "source": [
    "plt.imshow(z)"
   ]
  },
  {
   "cell_type": "code",
   "execution_count": null,
   "metadata": {
    "collapsed": true
   },
   "outputs": [],
   "source": [
    "gridyy = np.arange(0.0, zdep.shape[0], 1.0)\n",
    "gridxx = np.arange(0.0, zdep.shape[1], 1.0)"
   ]
  },
  {
   "cell_type": "code",
   "execution_count": null,
   "metadata": {
    "collapsed": false
   },
   "outputs": [],
   "source": [
    "gridxx"
   ]
  },
  {
   "cell_type": "code",
   "execution_count": null,
   "metadata": {
    "collapsed": false
   },
   "outputs": [],
   "source": [
    "datax=np.zeros(len(latlons))\n",
    "datay=np.zeros(len(latlons))\n",
    "\n",
    "dataz=np.zeros(len(latlons))\n",
    "\n",
    "\n",
    "for iter, pair in enumerate(latlons):\n",
    "    print pair\n",
    "    (i,j)= get_index(pair[0], pair[1])\n",
    "    datax[iter]=i\n",
    "    datay[iter]=zdep.shape[0]-j\n",
    "    dataz[iter] = np.abs(pendep[iter])"
   ]
  },
  {
   "cell_type": "code",
   "execution_count": null,
   "metadata": {
    "collapsed": false
   },
   "outputs": [],
   "source": [
    "dataz"
   ]
  },
  {
   "cell_type": "code",
   "execution_count": null,
   "metadata": {
    "collapsed": false
   },
   "outputs": [],
   "source": [
    "datay"
   ]
  },
  {
   "cell_type": "code",
   "execution_count": null,
   "metadata": {
    "collapsed": false
   },
   "outputs": [],
   "source": [
    "UK = UniversalKriging(datax, datay, dataz, variogram_model='linear', nlags=14,\n",
    "                      drift_terms=['regional_linear'],enable_plotting=True)\n",
    "\n",
    "# Creates the kriged grid and the variance grid. Allows for kriging on a rectangular\n",
    "# grid of points, on a masked rectangular grid of points, or with arbitrary points.\n",
    "# (See UniversalKriging.__doc__ for more information.)\n",
    "z, ss = UK.execute('grid', gridxx, gridyy)"
   ]
  },
  {
   "cell_type": "code",
   "execution_count": null,
   "metadata": {
    "collapsed": true
   },
   "outputs": [],
   "source": [
    "# Writes the kriged grid to an ASCII grid file.\n",
    "kt.write_asc_grid(gridxx, gridyy, z, filename=\"Pen_depth_interp_krigged.asc\")"
   ]
  },
  {
   "cell_type": "code",
   "execution_count": null,
   "metadata": {
    "collapsed": false
   },
   "outputs": [],
   "source": [
    "plt.imshow(z, interpolation='none')\n",
    "plt.colorbar()"
   ]
  },
  {
   "cell_type": "code",
   "execution_count": null,
   "metadata": {
    "collapsed": false
   },
   "outputs": [],
   "source": [
    "plt.imshow(zdep,  interpolation='none')\n",
    "#plt.imshow(zdep,  interpolation='spline36')\n",
    "plt.colorbar()"
   ]
  },
  {
   "cell_type": "code",
   "execution_count": null,
   "metadata": {
    "collapsed": false
   },
   "outputs": [],
   "source": [
    "z"
   ]
  },
  {
   "cell_type": "code",
   "execution_count": null,
   "metadata": {
    "collapsed": true
   },
   "outputs": [],
   "source": []
  },
  {
   "cell_type": "code",
   "execution_count": null,
   "metadata": {
    "collapsed": false
   },
   "outputs": [],
   "source": [
    "# See https://docs.scipy.org/doc/scipy/reference/tutorial/interpolate.html\n",
    "\n",
    "from scipy.interpolate import griddata\n",
    "import matplotlib.pyplot as plt\n",
    "import numpy as np\n",
    "\n",
    "\n",
    "def func(x, y):\n",
    "    return x*(1-x)*np.cos(4*np.pi*x) * np.sin(4*np.pi*y**2)**2\n",
    "\n",
    "\n",
    "def demo_griddata():\n",
    "    grid_x, grid_y = np.mgrid[0:1:100j, 0:1:200j]\n",
    "    points = np.random.rand(1000, 2)\n",
    "    values = func(points[:,0], points[:,1])\n",
    "\n",
    "\n",
    "    grid_z0 = griddata(points, values, (grid_x, grid_y), method='nearest')\n",
    "    grid_z1 = griddata(points, values, (grid_x, grid_y), method='linear')\n",
    "    grid_z2 = griddata(points, values, (grid_x, grid_y), method='cubic')\n",
    "\n",
    "\n",
    "    plt.subplot(221)\n",
    "    plt.imshow(func(grid_x, grid_y).T, extent=(0,1,0,1), origin='lower')\n",
    "    plt.plot(points[:,0], points[:,1], 'k.', ms=1)\n",
    "    plt.title('Original')\n",
    "    plt.subplot(222)\n",
    "    plt.imshow(grid_z0.T,  extent=(0,1,0,1),origin='lower')\n",
    "    plt.title('Nearest')\n",
    "    plt.subplot(223)\n",
    "    plt.imshow(grid_z1.T,extent=(0,1,0,1), origin='lower')\n",
    "    plt.title('Linear')\n",
    "    plt.subplot(224)\n",
    "    plt.imshow(grid_z2.T, extent=(0,1,0,1), origin='lower')\n",
    "    plt.title('Cubic')\n",
    "    plt.gcf().set_size_inches(6, 6)\n",
    "    plt.show()\n"
   ]
  },
  {
   "cell_type": "code",
   "execution_count": null,
   "metadata": {
    "collapsed": false
   },
   "outputs": [],
   "source": []
  },
  {
   "cell_type": "code",
   "execution_count": null,
   "metadata": {
    "collapsed": false
   },
   "outputs": [],
   "source": [
    "from scipy.interpolate import griddata\n",
    "import matplotlib.pyplot as plt\n",
    "import numpy as np\n",
    "\n",
    "print(zdep.shape[0],zdep.shape[1])\n",
    "#grid_x, grid_y = np.mgrid[0:95:96j, 0:83:84j] # how to param this mesh construction ?\n",
    "grid_x, grid_y = np.mgrid[0:zdep.shape[0]:1, 0:zdep.shape[1]:1] \n",
    "#this is more straight forward.\n",
    "# print (grid_x, grid_y)\n",
    "points = np.zeros((len(latlons), 2))\n",
    "values = np.zeros( len(latlons) )\n",
    "\n",
    "for iter, pair in enumerate(latlons):\n",
    "#     print pair\n",
    "\n",
    "    (i,j)= get_index(pair[0], pair[1])\n",
    "    points[iter,0]=zdep.shape[0]-j\n",
    "    points[iter,1]=i\n",
    "    values[iter] = np.abs(pendep[iter])\n",
    "\n",
    "grid_z0 = griddata(points, values, (grid_x, grid_y), method='nearest')\n",
    "grid_z1 = griddata(points, values, (grid_x, grid_y), method='linear')\n",
    "grid_z2 = griddata(points, values, (grid_x, grid_y), method='cubic')\n",
    "\n",
    "\n",
    "#plt.imshow(grid_z)\n",
    "\n",
    "plt.subplot(221)\n",
    "# plt.imshow(func(grid_x, grid_y).T, extent=(0,1,0,1), origin='lower')\n",
    "# plt.plot(points[:,0], points[:,1], 'k.', ms=1)\n",
    "plt.imshow(zdep,  interpolation='none')\n",
    "#plt.colorbar()\n",
    "plt.title('Original')\n",
    "# plt.subplot(222)\n",
    "plt.colorbar()\n",
    "# plt.imshow(grid_z0,  origin='upper')\n",
    "# plt.title('Nearest')\n",
    "plt.subplot(223)\n",
    "plt.imshow(grid_z1, origin='upper')\n",
    "plt.title('Period=%s'%periods[0])\n",
    "# plt.title('Linear')\n",
    "plt.subplot(224)\n",
    "plt.imshow(grid_z2, origin='upper')\n",
    "plt.plot( points[:,1], points[:,0], 'kv', markersize=6)\n",
    "plt.title('Period=%s'%periods[0]) #Cubic\n",
    "plt.gcf().set_size_inches(6, 6)\n",
    "\n",
    "plt.show()\n"
   ]
  },
  {
   "cell_type": "code",
   "execution_count": null,
   "metadata": {
    "collapsed": false
   },
   "outputs": [],
   "source": [
    "# orgin issue\n",
    "plt.plot(points[:,1],points[:,0],  'kv', markersize=12)  #origin upper?"
   ]
  },
  {
   "cell_type": "code",
   "execution_count": null,
   "metadata": {
    "collapsed": true
   },
   "outputs": [],
   "source": []
  },
  {
   "cell_type": "code",
   "execution_count": null,
   "metadata": {
    "collapsed": true
   },
   "outputs": [],
   "source": []
  },
  {
   "cell_type": "code",
   "execution_count": null,
   "metadata": {
    "collapsed": true
   },
   "outputs": [],
   "source": []
  },
  {
   "cell_type": "code",
   "execution_count": null,
   "metadata": {
    "collapsed": true
   },
   "outputs": [],
   "source": []
  },
  {
   "cell_type": "code",
   "execution_count": null,
   "metadata": {
    "collapsed": false
   },
   "outputs": [],
   "source": [
    "grid_x"
   ]
  },
  {
   "cell_type": "code",
   "execution_count": null,
   "metadata": {
    "collapsed": false
   },
   "outputs": [],
   "source": [
    "values\n"
   ]
  },
  {
   "cell_type": "code",
   "execution_count": null,
   "metadata": {
    "collapsed": false
   },
   "outputs": [],
   "source": [
    "grid_z1"
   ]
  },
  {
   "cell_type": "code",
   "execution_count": null,
   "metadata": {
    "collapsed": true
   },
   "outputs": [],
   "source": [
    "# grid_x\n",
    "\n",
    "# grid_y.shape\n",
    "\n",
    "# points.shape"
   ]
  },
  {
   "cell_type": "code",
   "execution_count": null,
   "metadata": {
    "collapsed": true
   },
   "outputs": [],
   "source": [
    "grid_x, grid_y = np.mgrid[0:95:1, 0:83:1]"
   ]
  },
  {
   "cell_type": "code",
   "execution_count": null,
   "metadata": {
    "collapsed": false
   },
   "outputs": [],
   "source": [
    "print(grid_x.shape)\n",
    "\n",
    "grid_x"
   ]
  },
  {
   "cell_type": "code",
   "execution_count": null,
   "metadata": {
    "collapsed": false
   },
   "outputs": [],
   "source": [
    "grid_y"
   ]
  },
  {
   "cell_type": "code",
   "execution_count": null,
   "metadata": {
    "collapsed": false
   },
   "outputs": [],
   "source": []
  },
  {
   "cell_type": "code",
   "execution_count": null,
   "metadata": {
    "collapsed": true
   },
   "outputs": [],
   "source": [
    "from pylab import *\n",
    "import csv\n",
    "\n",
    "array_=arange(0,10,1)\n",
    "list_=[array_,array_*2,array_*3]\n",
    "with open(\"output.csv\", \"wb\") as f:\n",
    "    writer = csv.writer(f)\n",
    "    writer.writerows(list_)"
   ]
  },
  {
   "cell_type": "markdown",
   "metadata": {
    "collapsed": true
   },
   "source": [
    "# Number of Significant Digit"
   ]
  },
  {
   "cell_type": "code",
   "execution_count": null,
   "metadata": {
    "collapsed": true
   },
   "outputs": [],
   "source": [
    "#http://stackoverflow.com/questions/22261843/python-np-round-with-decimal-option-larger-than-2\n",
    "\n",
    "def roundsf(number, sf):\n",
    "    \"\"\"\n",
    "    round a number to a specified number of significant figures (sf)\n",
    "    \"\"\"\n",
    "    # can't have < 1 s.f.\n",
    "    sf = max(sf,1.)\n",
    "    rounding = int(np.ceil(-np.log10(number) + sf - 1.))\n",
    "    print (rounding)\n",
    "    \n",
    "    return np.round(number, rounding)"
   ]
  },
  {
   "cell_type": "code",
   "execution_count": null,
   "metadata": {
    "collapsed": false
   },
   "outputs": [],
   "source": [
    "roundsf(141.318666666666, 5)"
   ]
  },
  {
   "cell_type": "code",
   "execution_count": null,
   "metadata": {
    "collapsed": false
   },
   "outputs": [],
   "source": [
    "roundsf( 0.00016159004605, 4)"
   ]
  },
  {
   "cell_type": "code",
   "execution_count": null,
   "metadata": {
    "collapsed": false
   },
   "outputs": [],
   "source": [
    "print np.round(141.318666666666, 3)"
   ]
  },
  {
   "cell_type": "code",
   "execution_count": null,
   "metadata": {
    "collapsed": false
   },
   "outputs": [],
   "source": [
    "print type(np.around(1.23456789, decimals=3))"
   ]
  },
  {
   "cell_type": "code",
   "execution_count": null,
   "metadata": {
    "collapsed": false
   },
   "outputs": [],
   "source": [
    "np.arange(0, 30,2)"
   ]
  },
  {
   "cell_type": "code",
   "execution_count": null,
   "metadata": {
    "collapsed": true
   },
   "outputs": [],
   "source": []
  },
  {
   "cell_type": "markdown",
   "metadata": {
    "collapsed": true
   },
   "source": [
    "## How to Reverse Colorbar\n",
    "\n",
    "http://stackoverflow.com/questions/3279560/invert-colormap-in-matplotlib\n"
   ]
  },
  {
   "cell_type": "code",
   "execution_count": null,
   "metadata": {
    "collapsed": true
   },
   "outputs": [],
   "source": [
    "# http://stackoverflow.com/questions/3279560/invert-colormap-in-matplotlib\n",
    "    \n",
    "import matplotlib.pyplot as plt\n",
    "import matplotlib as mpl\n",
    "def reverse_colourmap(cmap, name = 'my_cmap_r'):\n",
    "    \"\"\"\n",
    "    In: \n",
    "    cmap, name \n",
    "    Out:\n",
    "    my_cmap_r\n",
    "\n",
    "    Explanation:\n",
    "    t[0] goes from 0 to 1\n",
    "    row i:   x  y0  y1 -> t[0] t[1] t[2]\n",
    "                   /\n",
    "                  /\n",
    "    row i+1: x  y0  y1 -> t[n] t[1] t[2]\n",
    "\n",
    "    so the inverse should do the same:\n",
    "    row i+1: x  y1  y0 -> 1-t[0] t[2] t[1]\n",
    "                   /\n",
    "                  /\n",
    "    row i:   x  y1  y0 -> 1-t[n] t[2] t[1]\n",
    "    \"\"\"        \n",
    "    reverse = []\n",
    "    k = []   \n",
    "\n",
    "    for key in cmap._segmentdata:    \n",
    "        k.append(key)\n",
    "        channel = cmap._segmentdata[key]\n",
    "        data = []\n",
    "\n",
    "        for t in channel:                    \n",
    "            data.append((1-t[0],t[2],t[1]))            \n",
    "        reverse.append(sorted(data))    \n",
    "\n",
    "    LinearL = dict(zip(k,reverse))\n",
    "    my_cmap_r = mpl.colors.LinearSegmentedColormap(name, LinearL) \n",
    "    return my_cmap_r"
   ]
  },
  {
   "cell_type": "code",
   "execution_count": null,
   "metadata": {
    "collapsed": false
   },
   "outputs": [],
   "source": [
    "#my_cmap = mpl.cm.cool\n",
    "my_cmap = mpl.cm.jet\n",
    "\n",
    "my_cmap_r = reverse_colourmap(my_cmap)\n",
    "\n",
    "fig = plt.figure(figsize=(8, 2))\n",
    "ax1 = fig.add_axes([0.05, 0.80, 0.9, 0.15])\n",
    "ax2 = fig.add_axes([0.05, 0.475, 0.9, 0.15])\n",
    "#norm = mpl.colors.Normalize(vmin=0, vmax=1)\n",
    "# cb1 = mpl.colorbar.ColorbarBase(ax1, cmap = my_cmap, norm=norm,orientation='horizontal')\n",
    "# cb2 = mpl.colorbar.ColorbarBase(ax2, cmap = my_cmap_r, norm=norm, orientation='horizontal')\n",
    "\n",
    "cb1 = mpl.colorbar.ColorbarBase(ax1, cmap = my_cmap,orientation='horizontal')\n",
    "cb2 = mpl.colorbar.ColorbarBase(ax2, cmap = my_cmap_r,orientation='horizontal')"
   ]
  },
  {
   "cell_type": "code",
   "execution_count": null,
   "metadata": {
    "collapsed": false
   },
   "outputs": [],
   "source": [
    "#customised color map\n",
    "cdict1 = {'red':   ((0.0, 0.0, 0.0),\n",
    "                   (0.5, 0.0, 0.1),\n",
    "                   (1.0, 1.0, 1.0)),\n",
    "\n",
    "         'green': ((0.0, 0.0, 0.0),\n",
    "                   (1.0, 0.0, 0.0)),\n",
    "\n",
    "         'blue':  ((0.0, 0.0, 1.0),\n",
    "                   (0.5, 0.1, 0.0),\n",
    "                   (1.0, 0.0, 0.0))\n",
    "         }\n",
    "\n",
    "blue_red1 = mpl.colors.LinearSegmentedColormap('BlueRed1', cdict1)\n",
    "blue_red1_r = reverse_colourmap(blue_red1)\n",
    "\n",
    "fig = plt.figure(figsize=(8, 2))\n",
    "ax1 = fig.add_axes([0.05, 0.80, 0.9, 0.15])\n",
    "ax2 = fig.add_axes([0.05, 0.475, 0.9, 0.15])\n",
    "\n",
    "norm = mpl.colors.Normalize(vmin=0, vmax=1)\n",
    "cb1 = mpl.colorbar.ColorbarBase(ax1, cmap = blue_red1, norm=norm,orientation='horizontal')\n",
    "cb2 = mpl.colorbar.ColorbarBase(ax2, cmap = blue_red1_r, norm=norm, orientation='horizontal')"
   ]
  },
  {
   "cell_type": "code",
   "execution_count": null,
   "metadata": {
    "collapsed": true
   },
   "outputs": [],
   "source": [
    "mpl.colorbar.ColorbarBase?"
   ]
  },
  {
   "cell_type": "code",
   "execution_count": null,
   "metadata": {
    "collapsed": false
   },
   "outputs": [],
   "source": [
    "# http://stackoverflow.com/questions/14432557/matplotlib-scatter-plot-with-different-text-at-each-data-point\n",
    "# http://matplotlib.org/examples/mplot3d/text3d_demo.html\n",
    "y=[2.56422, 3.77284,3.52623,3.51468,3.02199]\n",
    "z=[0.15, 0.3, 0.45, 0.6, 0.75]\n",
    "n=['MT1','MT2',393,203,'MT123']\n",
    "\n",
    "fig, ax = plt.subplots()\n",
    "ax.scatter(z, y,s=40, c='r',marker='^')\n",
    "\n",
    "for i, txt in enumerate(n):\n",
    "    ax.annotate(txt, (z[i],y[i]))"
   ]
  },
  {
   "cell_type": "code",
   "execution_count": null,
   "metadata": {
    "collapsed": true
   },
   "outputs": [],
   "source": []
  },
  {
   "cell_type": "code",
   "execution_count": null,
   "metadata": {
    "collapsed": true
   },
   "outputs": [],
   "source": []
  },
  {
   "cell_type": "code",
   "execution_count": null,
   "metadata": {
    "collapsed": true
   },
   "outputs": [],
   "source": []
  }
 ],
 "metadata": {
  "anaconda-cloud": {},
  "kernelspec": {
   "display_name": "Python [default]",
   "language": "python",
   "name": "python2"
  },
  "language_info": {
   "codemirror_mode": {
    "name": "ipython",
    "version": 2
   },
   "file_extension": ".py",
   "mimetype": "text/x-python",
   "name": "python",
   "nbconvert_exporter": "python",
   "pygments_lexer": "ipython2",
   "version": "2.7.12"
  }
 },
 "nbformat": 4,
 "nbformat_minor": 1
}
