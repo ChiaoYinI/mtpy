{
 "cells": [
  {
   "cell_type": "markdown",
   "metadata": {},
   "source": [
    "# Demo: Plot Phase Tensor Maps\n",
    "\n",
    "## Fei Zhang\n"
   ]
  },
  {
   "cell_type": "code",
   "execution_count": null,
   "metadata": {
    "collapsed": false
   },
   "outputs": [],
   "source": [
    "import os, sys\n",
    "\n",
    "# print (os.path.sep)\n",
    "\n",
    "#Supress default INFO logging\n"
   ]
  },
  {
   "cell_type": "code",
   "execution_count": null,
   "metadata": {
    "collapsed": false
   },
   "outputs": [],
   "source": [
    "\n",
    "#1) set env variables PYTHONPATH and MTPYPATH before starting jupyther notebook,\n",
    "# Alternatively\n",
    "#2) do the following two statements. Then it will all works fine.\n",
    "\n",
    "mtpydir='/Softlab/Githubz/mtpy2' \n",
    "#'/g/data/ha3/fxz547/Githubz/mtpy2'  \n",
    "mtpydir='E:/Githubz/mtpy2'  \n",
    "sys.path.insert(0,mtpydir)\n",
    "os.environ['MTPYPATH']=mtpydir"
   ]
  },
  {
   "cell_type": "code",
   "execution_count": null,
   "metadata": {
    "collapsed": false
   },
   "outputs": [],
   "source": [
    "% matplotlib inline\n",
    "\n",
    "# import the required modules\n",
    "import glob\n",
    "import os\n",
    "\n",
    "#from mtpy.tests.common import MTPY_DEVELOPMENT_TEST_DATA\n",
    "#from mtpy.imaging.plot_phase_tensor_maps_with_tipper import PlotPhaseTensorMaps\n",
    "# from mtpy.imaging.plotptmaps  import PlotPhaseTensorMaps\n",
    "\n",
    "from mtpy.imaging.phase_tensor_maps  import PlotPhaseTensorMaps\n",
    "\n",
    "# read the list of edi file names\n",
    "# The following reads all the edi files in MTPY_DEVELOPMENT_TEST_DATA directory\n",
    "MTPY_DEVELOPMENT_TEST_DATA=os.path.join(mtpydir, 'examples/data/edi_files/georgina')  # plots partially OK\n",
    "MTPY_DEVELOPMENT_TEST_DATA=os.path.join(mtpydir, 'examples/data/edi_files/')\n",
    "\n",
    "MTPY_DEVELOPMENT_TEST_DATA='E:/Data/MT_Datasets/GA_UA_edited_10s-10000s'\n",
    "edi_file_list = glob.glob(os.path.join(MTPY_DEVELOPMENT_TEST_DATA, '*.edi'))"
   ]
  },
  {
   "cell_type": "code",
   "execution_count": null,
   "metadata": {
    "collapsed": false
   },
   "outputs": [],
   "source": [
    "print(MTPY_DEVELOPMENT_TEST_DATA)\n",
    "\n",
    "# How many edi files? (one edi per station)\n",
    "print(len(edi_file_list)) "
   ]
  },
  {
   "cell_type": "code",
   "execution_count": null,
   "metadata": {
    "collapsed": true
   },
   "outputs": [],
   "source": [
    "#Supress default INFO logging\n",
    "import logging\n",
    "logger = logging.getLogger()\n",
    "logger.setLevel(logging.CRITICAL)\n",
    "logger.propagate = False\n"
   ]
  },
  {
   "cell_type": "code",
   "execution_count": null,
   "metadata": {
    "collapsed": false,
    "scrolled": true
   },
   "outputs": [],
   "source": [
    "# frequency to plot\n",
    "plot_freq =0.1\n",
    "\n",
    "# parameters describing ellipses\n",
    "ellipse_dict = {'size': 0.04, 'colorby': 'phimin', 'range': (0, 90, 1), 'cmap': 'mt_bl2gr2rd'}\n",
    "\n",
    "# parameters describing the induction vector arrows\n",
    "arrow_dict = {'size': 0.2,\n",
    "              'lw': 0.01,\n",
    "              'head_width': 0.002,\n",
    "              'head_length': 0.001,\n",
    "              'threshold': 0.8,\n",
    "              'direction': 0}\n",
    "\n",
    "# parameters describing the arrow legend (should be self explanatory)\n",
    "arrow_legend_dict = {'position': 'upper right',\n",
    "                     'fontpad': 0.0025,\n",
    "                     'xborderpad': 0.07,\n",
    "                     'yborderpad': 0.015}\n",
    "\n",
    "m = PlotPhaseTensorMaps(fn_list=edi_file_list,\n",
    "                                plot_freq=plot_freq,\n",
    "                                arrow_legend_dict=arrow_legend_dict,\n",
    "                                ftol=0.2,\n",
    "                                xpad=0.02,\n",
    "                                plot_tipper='yri',\n",
    "                                arrow_dict=arrow_dict,\n",
    "                                ellipse_dict=ellipse_dict,\n",
    "                                figsize=(10, 12))\n",
    "\n",
    "m.plot()"
   ]
  },
  {
   "cell_type": "code",
   "execution_count": null,
   "metadata": {
    "collapsed": false,
    "scrolled": true
   },
   "outputs": [],
   "source": [
    "pt1 = PlotPhaseTensorMaps(fn_list=edi_file_list, \n",
    "                          plot_freq=plot_freq, \n",
    "                          plot_tipper='yri',\n",
    "                          fig_size=[10, 10],\n",
    "                          font_size=14,\n",
    "                          fig_dpi=50\n",
    "                         )\n",
    "\n",
    "pt1.plot()"
   ]
  },
  {
   "cell_type": "code",
   "execution_count": null,
   "metadata": {
    "collapsed": false
   },
   "outputs": [],
   "source": [
    "# change arrow properties and replot\n",
    "\n",
    "# pt1.arrow.arrow_size = .5\n",
    "# pt1.arrow.arrow_head_width = 0.00125\n",
    "# pt1.arrow.arrow_head_length = 0.0025\n",
    "# pt1.arrow.arrow_lw = .01\n",
    "\n",
    "pt1.arrow_size = .2\n",
    "pt1.arrow_head_width = 0.0125\n",
    "pt1.arrow_head_length = 0.025\n",
    "pt1.arrow_lw = .1\n",
    "pt1.fig_size = [10, 12]\n",
    "pt1.redraw_plot()"
   ]
  },
  {
   "cell_type": "code",
   "execution_count": null,
   "metadata": {
    "collapsed": false
   },
   "outputs": [],
   "source": [
    "# plot in km scale\n",
    "pt2 = PlotPhaseTensorMaps(fn_list=edi_file_list, \n",
    "                          plot_freq=plot_freq, \n",
    "                          plot_tipper='yri',\n",
    "                          fig_size=[10, 10],\n",
    "                          font_size=14,\n",
    "                          fig_dpi=50,\n",
    "                          mapscale='km'\n",
    "                        )\n",
    "pt2.plot()"
   ]
  },
  {
   "cell_type": "code",
   "execution_count": null,
   "metadata": {
    "collapsed": false
   },
   "outputs": [],
   "source": [
    "# plot in m scale\n",
    "pt2 = PlotPhaseTensorMaps(fn_list=edi_file_list, \n",
    "                          plot_freq=plot_freq, \n",
    "                          plot_tipper='yri',\n",
    "                          fig_size=[10, 10],\n",
    "                          font_size=14,\n",
    "                          fig_dpi=50,\n",
    "                          mapscale='m'\n",
    "                        )\n",
    "pt2.plot()"
   ]
  },
  {
   "cell_type": "code",
   "execution_count": null,
   "metadata": {
    "collapsed": true
   },
   "outputs": [],
   "source": []
  },
  {
   "cell_type": "code",
   "execution_count": null,
   "metadata": {
    "collapsed": true
   },
   "outputs": [],
   "source": []
  },
  {
   "cell_type": "code",
   "execution_count": null,
   "metadata": {
    "collapsed": true
   },
   "outputs": [],
   "source": [
    "import matplotlib.pyplot as plt\n",
    "import matplotlib as mpl\n",
    "\n",
    "\n",
    "mpl.rcParams['lines.linewidth'] = 2\n",
    "# mpl.rcParams['lines.color'] = 'r'\n",
    "\n",
    "mpl.rcParams['figure.figsize']=[20,10]"
   ]
  },
  {
   "cell_type": "code",
   "execution_count": null,
   "metadata": {
    "collapsed": false
   },
   "outputs": [],
   "source": [
    "# http://stackoverflow.com/questions/14432557/matplotlib-scatter-plot-with-different-text-at-each-data-point\n",
    "# http://matplotlib.org/examples/mplot3d/text3d_demo.html\n",
    "y=[2.56422, 3.77284,3.52623,3.51468,3.02199]\n",
    "z=[0.15, 0.3, 0.45, 0.6, 0.75]\n",
    "n=['MT1','MT2',393,203,'MT123']\n",
    "\n",
    "fig, ax = plt.subplots()\n",
    "ax.scatter(z, y,s=40, c='r',marker='^')\n",
    "\n",
    "for i, txt in enumerate(n):\n",
    "    ax.annotate(txt, (z[i],y[i]))"
   ]
  },
  {
   "cell_type": "code",
   "execution_count": null,
   "metadata": {
    "collapsed": true
   },
   "outputs": [],
   "source": [
    "# ax.scatter?"
   ]
  }
 ],
 "metadata": {
  "anaconda-cloud": {},
  "kernelspec": {
   "display_name": "Python [default]",
   "language": "python",
   "name": "python2"
  },
  "language_info": {
   "codemirror_mode": {
    "name": "ipython",
    "version": 2
   },
   "file_extension": ".py",
   "mimetype": "text/x-python",
   "name": "python",
   "nbconvert_exporter": "python",
   "pygments_lexer": "ipython2",
   "version": "2.7.12"
  }
 },
 "nbformat": 4,
 "nbformat_minor": 0
}
