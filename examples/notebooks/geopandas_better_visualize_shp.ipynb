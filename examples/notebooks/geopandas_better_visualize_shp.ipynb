{
 "cells": [
  {
   "cell_type": "markdown",
   "metadata": {},
   "source": [
    "# how to control all aspects of plot(): styles, axis, titile, ticks, etc"
   ]
  },
  {
   "cell_type": "code",
   "execution_count": null,
   "metadata": {
    "collapsed": true
   },
   "outputs": [],
   "source": [
    "import os, sys,glob\n",
    "\n",
    "import folium\n",
    "from IPython.display import display\n",
    "\n",
    "from shapely.geometry import mapping\n",
    "\n",
    "%matplotlib inline\n",
    "\n",
    "import pandas as pd\n",
    "import geopandas as gpd\n",
    "\n",
    "from shapely.geometry import Point\n"
   ]
  },
  {
   "cell_type": "code",
   "execution_count": null,
   "metadata": {
    "collapsed": true
   },
   "outputs": [],
   "source": [
    "def csv_latlon2points(csvfile):\n",
    "    \n",
    "    pdf = pd.read_csv(csvfile)\n",
    "    mt_locations = [Point(xy) for xy in zip(pdf.lon, pdf.lat)]\n",
    "    #OR pdf['geometry'] = pdf.apply(lambda z: Point(z.lon, z.lat), axis=1)\n",
    "    #if you want to df = df.drop(['Lon', 'Lat'], axis=1)\n",
    "    crs = {'init': 'epsg:4326'}  # WGS84\n",
    "    crs = {'init': 'epsg:4283'}  # GGA94\n",
    "    geo_df = gpd.GeoDataFrame(pdf, crs=crs, geometry=mt_locations)\n",
    "\n",
    "    return geo_df"
   ]
  },
  {
   "cell_type": "code",
   "execution_count": null,
   "metadata": {
    "collapsed": true
   },
   "outputs": [],
   "source": [
    "# path2csv='E:/Data/MT_Datasets/WenPingJiang_SHP/PhaseTensorTipper_Params_1.0986Hz.csv'\n",
    "path2csv='/e/Data/GA_Works/E_Data_Modelling_Isa/EDI_edited_10Hz_1000s_SHP/phase_tensor_tipper_0.011Hz.csv'\n",
    "path2dir=os.path.dirname(path2csv)\n",
    "mygdf=csv_latlon2points(path2csv)"
   ]
  },
  {
   "cell_type": "code",
   "execution_count": null,
   "metadata": {
    "collapsed": false
   },
   "outputs": [],
   "source": [
    "title_str='phase tensor ellipses at Freq = 0.011Hz'\n",
    "\n",
    "myax = mygdf.plot(figsize=[20,10], linewidth=2.0, color='b', cmap='jet')\n",
    "\n",
    "myax.set_xlim([140.5,141.0])\n",
    "myax.set_ylim([-20.8,-19.9])\n",
    "\n",
    "myax.set_xlabel('Longitude')\n",
    "myax.set_ylabel('Latitude')\n",
    "myax.set_title(title_str)\n"
   ]
  },
  {
   "cell_type": "code",
   "execution_count": null,
   "metadata": {
    "collapsed": false
   },
   "outputs": [],
   "source": [
    "# http://stackoverflow.com/questions/36008648/colorbar-on-geopandas\n",
    "    \n",
    "## make up some random \n",
    "import shapely\n",
    "import numpy as np\n",
    "\n",
    "import matplotlib.pyplot as plt\n",
    "df = pd.DataFrame(np.random.randn(20,3), columns=['x', 'y', 'val'])\n",
    "df['geometry'] = df.apply(lambda row: shapely.geometry.Point(row.x, row.y), axis=1)\n",
    "gdf = gpd.GeoDataFrame(df)\n",
    "\n",
    "## the plotting\n",
    "\n",
    "vmin, vmax = -1, 1\n",
    "\n",
    "ax = gdf.plot(column='val', colormap='hot', vmin=vmin, vmax=vmax)\n",
    "\n",
    "# add colorbar\n",
    "fig = ax.get_figure()\n",
    "cax = fig.add_axes([0.9, 0.1, 0.03, 0.8])\n",
    "sm = plt.cm.ScalarMappable(cmap='hot', norm=plt.Normalize(vmin=vmin, vmax=vmax))\n",
    "# fake up the array of the scalar mappable. Urgh...\n",
    "sm._A = []\n",
    "fig.colorbar(sm, cax=cax)"
   ]
  },
  {
   "cell_type": "code",
   "execution_count": null,
   "metadata": {
    "collapsed": true
   },
   "outputs": [],
   "source": []
  },
  {
   "cell_type": "code",
   "execution_count": null,
   "metadata": {
    "collapsed": true
   },
   "outputs": [],
   "source": [
    "matplotlib plot how to add background geotiff image (or basemap)\n",
    "\n",
    "http://stackoverflow.com/questions/15160123/adding-a-background-image-to-a-plot-with-known-corner-coordinates\n",
    "    \n",
    "https://borealperspectives.wordpress.com/2016/03/07/plotting-polygon-shapefiles-on-a-matplotlib-basemap-with-geopandas-shapely-and-descartes/\n",
    "    \n",
    "https://ocefpaf.github.io/python4oceanographers/blog/2015/08/24/choropleth/\n",
    "        "
   ]
  },
  {
   "cell_type": "code",
   "execution_count": null,
   "metadata": {
    "collapsed": true
   },
   "outputs": [],
   "source": []
  },
  {
   "cell_type": "code",
   "execution_count": null,
   "metadata": {
    "collapsed": true
   },
   "outputs": [],
   "source": []
  }
 ],
 "metadata": {
  "kernelspec": {
   "display_name": "Python 2",
   "language": "python",
   "name": "python2"
  },
  "language_info": {
   "codemirror_mode": {
    "name": "ipython",
    "version": 2
   },
   "file_extension": ".py",
   "mimetype": "text/x-python",
   "name": "python",
   "nbconvert_exporter": "python",
   "pygments_lexer": "ipython2",
   "version": "2.7.12"
  }
 },
 "nbformat": 4,
 "nbformat_minor": 2
}
