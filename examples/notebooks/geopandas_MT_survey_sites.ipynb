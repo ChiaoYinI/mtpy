{
 "cells": [
  {
   "cell_type": "markdown",
   "metadata": {},
   "source": [
    "# Geopandas Advanced\n",
    "    *  How to concatenate multiple geopandas frames?\n",
    "    *  How to chnage the geometry crs\n",
    "    *  how to display on a basemap\n",
    "    *  how to display on folium map\n",
    "\n",
    "\n",
    "## http://geopandas.org/index.html\n",
    "## https://geohackweek.github.io/vector/04-geopandas-intro/\n",
    "## https://pythongisresources.wordpress.com/packages/\n",
    "\n",
    "\n",
    "GeoPandas is an open source project to make working with geospatial data in python easier. GeoPandas extends the datatypes used by pandas to allow spatial operations on geometric types. Geometric operations are performed by shapely. Geopandas further depends on fiona for file access and descartes and matplotlib for plotting."
   ]
  },
  {
   "cell_type": "code",
   "execution_count": 1,
   "metadata": {
    "collapsed": false
   },
   "outputs": [],
   "source": [
    "import os,sys\n",
    "import glob\n",
    "import csv\n",
    "import numpy as np\n",
    "import pandas as pd\n",
    "import geopandas as gpd\n",
    "\n",
    "%matplotlib inline\n",
    "import matplotlib.pyplot as plt\n",
    "import matplotlib as mpl\n",
    "\n",
    "\n",
    "mpl.rcParams['lines.linewidth'] = 2\n",
    "# mpl.rcParams['lines.color'] = 'r'\n",
    "\n",
    "mpl.rcParams['figure.figsize']=[30,10]"
   ]
  },
  {
   "cell_type": "code",
   "execution_count": null,
   "metadata": {
    "collapsed": true
   },
   "outputs": [],
   "source": []
  },
  {
   "cell_type": "markdown",
   "metadata": {
    "collapsed": true
   },
   "source": [
    "# Create Geo-database of MT Surveys datasets\n",
    "\n",
    "\n",
    "1) walk through all edi files\n",
    "\n",
    "2) get lat lon, station name, etc.\n",
    "\n",
    "3) create csv, export to shapefile\n"
   ]
  },
  {
   "cell_type": "code",
   "execution_count": 2,
   "metadata": {
    "collapsed": false
   },
   "outputs": [
    {
     "name": "stderr",
     "output_type": "stream",
     "text": [
      "INFO:root:module file: E:\\Githubz\\mtpy2\\mtpy\\utils\\mtpylog.pyc\n",
      "INFO:root:Effective yaml configuration file E:\\Githubz\\mtpy2\\mtpy\\utils\\logging.yml\n"
     ]
    },
    {
     "name": "stdout",
     "output_type": "stream",
     "text": [
      "2017-03-06 15:53:42,375 - root - INFO - module file: E:\\Githubz\\mtpy2\\mtpy\\utils\\mtpylog.pyc\n",
      "2017-03-06 15:53:42,375 - root - INFO - Effective yaml configuration file E:\\Githubz\\mtpy2\\mtpy\\utils\\logging.yml\n"
     ]
    }
   ],
   "source": [
    "import mtpy.imaging.penetration_depth_3d_profile as pen3d"
   ]
  },
  {
   "cell_type": "code",
   "execution_count": 3,
   "metadata": {
    "collapsed": true
   },
   "outputs": [],
   "source": [
    "\n",
    "def process_edifiles(edi_files):\n",
    "    \"\"\"loop over all edi files to extract relevant properties from each edifile:\n",
    "        lat, lon, elev, station_name, acquisition_date, ....... \n",
    "    \"\"\"\n",
    "    \n",
    "    PER_LIST0=None   # the first period list as a reference for checking other stations period\n",
    "    latlon_dep=[]  # CSV to be returned\n",
    "    for afile in edi_files:\n",
    "        # for efile in edi_files[:2]:\n",
    "#         logger.debug(\"processing %s\", afile)\n",
    "        lat,lon, per, depths=pen3d.get_penetration_depths_from_edi_file(afile)\n",
    "        if PER_LIST0 is None:\n",
    "            PER_LIST0=per # initial value assignment\n",
    "            depth_string = ','.join(['%.2f' % num for num in depths])\n",
    "            latlon_dep.append((lat, lon, depth_string))\n",
    "\n",
    "        elif len(per)== len(PER_LIST0) and (per == PER_LIST0).all():  # same length and same values.\n",
    "            depth_string = ','.join(['%.2f' % num for num in depths])\n",
    "            latlon_dep.append((lat,lon, depth_string))\n",
    "        else:\n",
    "            #logger.warn(\"MT Periods Not Equal !! %s VS %s\", per, PER_LIST0 )\n",
    "            pass\n",
    "\n",
    "    return latlon_dep\n",
    "\n"
   ]
  },
  {
   "cell_type": "code",
   "execution_count": 4,
   "metadata": {
    "collapsed": false,
    "scrolled": true
   },
   "outputs": [
    {
     "name": "stdout",
     "output_type": "stream",
     "text": [
      "2017-03-06 15:53:42,423 - mtpy.imaging.penetration_depth_3d_profile - DEBUG - processing the edi file E:/Datasets/MT_Datasets/75098/EDI_files\\B01.edi\n",
      "2017-03-06 15:53:42,424 - mtpy.core.edi - INFO - Reading the edi file E:/Datasets/MT_Datasets/75098/EDI_files\\B01.edi\n",
      "2017-03-06 15:53:42,426 - mtpy.core.edi - INFO - Ordered arrays to be arranged from high to low frequency\n",
      "2017-03-06 15:53:42,430 - mtpy.core.edi - INFO - Could not find any Tipper data.\n",
      "2017-03-06 15:53:42,433 - mtpy.core.edi - INFO - Read in edi file for station BB01\n",
      "2017-03-06 15:53:42,440 - mtpy.imaging.penetration_depth_3d_profile - DEBUG - the scale parameter= 355.881271709\n",
      "2017-03-06 15:53:42,441 - mtpy.imaging.penetration_depth_3d_profile - DEBUG - processing the edi file E:/Datasets/MT_Datasets/75098/EDI_files\\B02.edi\n",
      "2017-03-06 15:53:42,443 - mtpy.core.edi - INFO - Reading the edi file E:/Datasets/MT_Datasets/75098/EDI_files\\B02.edi\n",
      "2017-03-06 15:53:42,444 - mtpy.core.edi - INFO - Ordered arrays to be arranged from high to low frequency\n",
      "2017-03-06 15:53:42,448 - mtpy.core.edi - INFO - Could not find any Tipper data.\n",
      "2017-03-06 15:53:42,451 - mtpy.core.edi - INFO - Read in edi file for station BB02\n",
      "2017-03-06 15:53:42,457 - mtpy.imaging.penetration_depth_3d_profile - DEBUG - the scale parameter= 355.881271709\n",
      "2017-03-06 15:53:42,459 - mtpy.imaging.penetration_depth_3d_profile - DEBUG - processing the edi file E:/Datasets/MT_Datasets/75098/EDI_files\\B03.edi\n",
      "2017-03-06 15:53:42,459 - mtpy.core.edi - INFO - Reading the edi file E:/Datasets/MT_Datasets/75098/EDI_files\\B03.edi\n",
      "2017-03-06 15:53:42,460 - mtpy.core.edi - INFO - Ordered arrays to be arranged from high to low frequency\n",
      "2017-03-06 15:53:42,466 - mtpy.core.edi - INFO - Could not find any Tipper data.\n",
      "2017-03-06 15:53:42,467 - mtpy.core.edi - INFO - Read in edi file for station BB03\n",
      "2017-03-06 15:53:42,473 - mtpy.imaging.penetration_depth_3d_profile - DEBUG - the scale parameter= 355.881271709\n",
      "2017-03-06 15:53:42,473 - mtpy.imaging.penetration_depth_3d_profile - DEBUG - processing the edi file E:/Datasets/MT_Datasets/75098/EDI_files\\B04.edi\n",
      "2017-03-06 15:53:42,474 - mtpy.core.edi - INFO - Reading the edi file E:/Datasets/MT_Datasets/75098/EDI_files\\B04.edi\n",
      "2017-03-06 15:53:42,476 - mtpy.core.edi - INFO - Ordered arrays to be arranged from high to low frequency\n",
      "2017-03-06 15:53:42,480 - mtpy.core.edi - INFO - Could not find any Tipper data.\n",
      "2017-03-06 15:53:42,483 - mtpy.core.edi - INFO - Read in edi file for station BB04\n",
      "2017-03-06 15:53:42,489 - mtpy.imaging.penetration_depth_3d_profile - DEBUG - the scale parameter= 355.881271709\n",
      "2017-03-06 15:53:42,490 - mtpy.imaging.penetration_depth_3d_profile - DEBUG - processing the edi file E:/Datasets/MT_Datasets/75098/EDI_files\\B05.edi\n",
      "2017-03-06 15:53:42,490 - mtpy.core.edi - INFO - Reading the edi file E:/Datasets/MT_Datasets/75098/EDI_files\\B05.edi\n",
      "2017-03-06 15:53:42,492 - mtpy.core.edi - INFO - Ordered arrays to be arranged from high to low frequency\n",
      "2017-03-06 15:53:42,496 - mtpy.core.edi - INFO - Could not find any Tipper data.\n",
      "2017-03-06 15:53:42,499 - mtpy.core.edi - INFO - Read in edi file for station BB05\n",
      "2017-03-06 15:53:42,503 - mtpy.imaging.penetration_depth_3d_profile - DEBUG - the scale parameter= 355.881271709\n",
      "2017-03-06 15:53:42,506 - mtpy.imaging.penetration_depth_3d_profile - DEBUG - processing the edi file E:/Datasets/MT_Datasets/75098/EDI_files\\B06.edi\n",
      "2017-03-06 15:53:42,506 - mtpy.core.edi - INFO - Reading the edi file E:/Datasets/MT_Datasets/75098/EDI_files\\B06.edi\n",
      "2017-03-06 15:53:42,507 - mtpy.core.edi - INFO - Ordered arrays to be arranged from high to low frequency\n",
      "2017-03-06 15:53:42,512 - mtpy.core.edi - INFO - Could not find any Tipper data.\n",
      "2017-03-06 15:53:42,515 - mtpy.core.edi - INFO - Read in edi file for station BB06\n",
      "2017-03-06 15:53:42,519 - mtpy.imaging.penetration_depth_3d_profile - DEBUG - the scale parameter= 355.881271709\n",
      "2017-03-06 15:53:42,520 - mtpy.imaging.penetration_depth_3d_profile - DEBUG - processing the edi file E:/Datasets/MT_Datasets/75098/EDI_files\\B07.edi\n",
      "2017-03-06 15:53:42,522 - mtpy.core.edi - INFO - Reading the edi file E:/Datasets/MT_Datasets/75098/EDI_files\\B07.edi\n",
      "2017-03-06 15:53:42,523 - mtpy.core.edi - INFO - Ordered arrays to be arranged from high to low frequency\n",
      "2017-03-06 15:53:42,528 - mtpy.core.edi - INFO - Could not find any Tipper data.\n",
      "2017-03-06 15:53:42,529 - mtpy.core.edi - INFO - Read in edi file for station BB07\n",
      "2017-03-06 15:53:42,535 - mtpy.imaging.penetration_depth_3d_profile - DEBUG - the scale parameter= 355.881271709\n",
      "2017-03-06 15:53:42,536 - mtpy.imaging.penetration_depth_3d_profile - DEBUG - processing the edi file E:/Datasets/MT_Datasets/75098/EDI_files\\B08.edi\n",
      "2017-03-06 15:53:42,536 - mtpy.core.edi - INFO - Reading the edi file E:/Datasets/MT_Datasets/75098/EDI_files\\B08.edi\n",
      "2017-03-06 15:53:42,539 - mtpy.core.edi - INFO - Ordered arrays to be arranged from high to low frequency\n",
      "2017-03-06 15:53:42,542 - mtpy.core.edi - INFO - Could not find any Tipper data.\n",
      "2017-03-06 15:53:42,545 - mtpy.core.edi - INFO - Read in edi file for station BB08\n",
      "2017-03-06 15:53:42,551 - mtpy.imaging.penetration_depth_3d_profile - DEBUG - the scale parameter= 355.881271709\n",
      "2017-03-06 15:53:42,552 - mtpy.imaging.penetration_depth_3d_profile - DEBUG - processing the edi file E:/Datasets/MT_Datasets/75098/EDI_files\\B09.edi\n",
      "2017-03-06 15:53:42,552 - mtpy.core.edi - INFO - Reading the edi file E:/Datasets/MT_Datasets/75098/EDI_files\\B09.edi\n",
      "2017-03-06 15:53:42,553 - mtpy.core.edi - INFO - Ordered arrays to be arranged from high to low frequency\n",
      "2017-03-06 15:53:42,558 - mtpy.core.edi - INFO - Could not find any Tipper data.\n",
      "2017-03-06 15:53:42,561 - mtpy.core.edi - INFO - Read in edi file for station BB09\n"
     ]
    },
    {
     "name": "stderr",
     "output_type": "stream",
     "text": [
      "E:\\Githubz\\mtpy2\\mtpy\\analysis\\zinvariants.py:227: RuntimeWarning: invalid value encountered in arcsin\n",
      "  strikeangerr = abs(.5 * np.arcsin(inv7)) * (180 / np.pi)\n"
     ]
    },
    {
     "name": "stdout",
     "output_type": "stream",
     "text": [
      "2017-03-06 15:53:42,565 - mtpy.imaging.penetration_depth_3d_profile - DEBUG - the scale parameter= 355.881271709\n",
      "2017-03-06 15:53:42,566 - mtpy.imaging.penetration_depth_3d_profile - DEBUG - processing the edi file E:/Datasets/MT_Datasets/75098/EDI_files\\B10.edi\n",
      "2017-03-06 15:53:42,568 - mtpy.core.edi - INFO - Reading the edi file E:/Datasets/MT_Datasets/75098/EDI_files\\B10.edi\n",
      "2017-03-06 15:53:42,569 - mtpy.core.edi - INFO - Ordered arrays to be arranged from high to low frequency\n",
      "2017-03-06 15:53:42,572 - mtpy.core.edi - INFO - Could not find any Tipper data.\n",
      "2017-03-06 15:53:42,575 - mtpy.core.edi - INFO - Read in edi file for station BB10\n",
      "2017-03-06 15:53:42,579 - mtpy.imaging.penetration_depth_3d_profile - DEBUG - the scale parameter= 355.881271709\n",
      "2017-03-06 15:53:42,582 - mtpy.imaging.penetration_depth_3d_profile - DEBUG - processing the edi file E:/Datasets/MT_Datasets/75098/EDI_files\\B11.edi\n",
      "2017-03-06 15:53:42,582 - mtpy.core.edi - INFO - Reading the edi file E:/Datasets/MT_Datasets/75098/EDI_files\\B11.edi\n",
      "2017-03-06 15:53:42,584 - mtpy.core.edi - INFO - Ordered arrays to be arranged from high to low frequency\n",
      "2017-03-06 15:53:42,588 - mtpy.core.edi - INFO - Could not find any Tipper data.\n",
      "2017-03-06 15:53:42,591 - mtpy.core.edi - INFO - Read in edi file for station BB11\n",
      "2017-03-06 15:53:42,595 - mtpy.imaging.penetration_depth_3d_profile - DEBUG - the scale parameter= 355.881271709\n",
      "2017-03-06 15:53:42,596 - mtpy.imaging.penetration_depth_3d_profile - DEBUG - processing the edi file E:/Datasets/MT_Datasets/75098/EDI_files\\B12.edi\n",
      "2017-03-06 15:53:42,598 - mtpy.core.edi - INFO - Reading the edi file E:/Datasets/MT_Datasets/75098/EDI_files\\B12.edi\n",
      "2017-03-06 15:53:42,599 - mtpy.core.edi - INFO - Ordered arrays to be arranged from high to low frequency\n",
      "2017-03-06 15:53:42,604 - mtpy.core.edi - INFO - Could not find any Tipper data.\n",
      "2017-03-06 15:53:42,605 - mtpy.core.edi - INFO - Read in edi file for station BB12\n",
      "2017-03-06 15:53:42,611 - mtpy.imaging.penetration_depth_3d_profile - DEBUG - the scale parameter= 355.881271709\n",
      "2017-03-06 15:53:42,612 - mtpy.imaging.penetration_depth_3d_profile - DEBUG - processing the edi file E:/Datasets/MT_Datasets/75098/EDI_files\\B13.edi\n",
      "2017-03-06 15:53:42,614 - mtpy.core.edi - INFO - Reading the edi file E:/Datasets/MT_Datasets/75098/EDI_files\\B13.edi\n",
      "2017-03-06 15:53:42,615 - mtpy.core.edi - INFO - Ordered arrays to be arranged from high to low frequency\n",
      "2017-03-06 15:53:42,618 - mtpy.core.edi - INFO - Could not find any Tipper data.\n",
      "2017-03-06 15:53:42,621 - mtpy.core.edi - INFO - Read in edi file for station BB13\n",
      "2017-03-06 15:53:42,627 - mtpy.imaging.penetration_depth_3d_profile - DEBUG - the scale parameter= 355.881271709\n",
      "2017-03-06 15:53:42,628 - mtpy.imaging.penetration_depth_3d_profile - DEBUG - processing the edi file E:/Datasets/MT_Datasets/75098/EDI_files\\B14.edi\n",
      "2017-03-06 15:53:42,628 - mtpy.core.edi - INFO - Reading the edi file E:/Datasets/MT_Datasets/75098/EDI_files\\B14.edi\n",
      "2017-03-06 15:53:42,630 - mtpy.core.edi - INFO - Ordered arrays to be arranged from high to low frequency\n",
      "2017-03-06 15:53:42,635 - mtpy.core.edi - INFO - Could not find any Tipper data.\n",
      "2017-03-06 15:53:42,638 - mtpy.core.edi - INFO - Read in edi file for station BB14\n",
      "2017-03-06 15:53:42,642 - mtpy.imaging.penetration_depth_3d_profile - DEBUG - the scale parameter= 355.881271709\n",
      "2017-03-06 15:53:42,644 - mtpy.imaging.penetration_depth_3d_profile - DEBUG - processing the edi file E:/Datasets/MT_Datasets/75098/EDI_files\\B15.edi\n",
      "2017-03-06 15:53:42,644 - mtpy.core.edi - INFO - Reading the edi file E:/Datasets/MT_Datasets/75098/EDI_files\\B15.edi\n",
      "2017-03-06 15:53:42,647 - mtpy.core.edi - INFO - Ordered arrays to be arranged from high to low frequency\n",
      "2017-03-06 15:53:42,651 - mtpy.core.edi - INFO - Could not find any Tipper data.\n",
      "2017-03-06 15:53:42,654 - mtpy.core.edi - INFO - Read in edi file for station BB15\n",
      "2017-03-06 15:53:42,658 - mtpy.imaging.penetration_depth_3d_profile - DEBUG - the scale parameter= 355.881271709\n",
      "2017-03-06 15:53:42,661 - mtpy.imaging.penetration_depth_3d_profile - DEBUG - processing the edi file E:/Datasets/MT_Datasets/75098/EDI_files\\B16.edi\n",
      "2017-03-06 15:53:42,661 - mtpy.core.edi - INFO - Reading the edi file E:/Datasets/MT_Datasets/75098/EDI_files\\B16.edi\n",
      "2017-03-06 15:53:42,663 - mtpy.core.edi - INFO - Ordered arrays to be arranged from high to low frequency\n",
      "2017-03-06 15:53:42,667 - mtpy.core.edi - INFO - Could not find any Tipper data.\n",
      "2017-03-06 15:53:42,671 - mtpy.core.edi - INFO - Read in edi file for station BB16\n",
      "2017-03-06 15:53:42,676 - mtpy.imaging.penetration_depth_3d_profile - DEBUG - the scale parameter= 355.881271709\n",
      "2017-03-06 15:53:42,677 - mtpy.imaging.penetration_depth_3d_profile - DEBUG - processing the edi file E:/Datasets/MT_Datasets/75098/EDI_files\\B17.edi\n",
      "2017-03-06 15:53:42,677 - mtpy.core.edi - INFO - Reading the edi file E:/Datasets/MT_Datasets/75098/EDI_files\\B17.edi\n",
      "2017-03-06 15:53:42,678 - mtpy.core.edi - INFO - Ordered arrays to be arranged from high to low frequency\n",
      "2017-03-06 15:53:42,684 - mtpy.core.edi - INFO - Could not find any Tipper data.\n",
      "2017-03-06 15:53:42,687 - mtpy.core.edi - INFO - Read in edi file for station BB17\n",
      "2017-03-06 15:53:42,691 - mtpy.imaging.penetration_depth_3d_profile - DEBUG - the scale parameter= 355.881271709\n",
      "2017-03-06 15:53:42,693 - mtpy.imaging.penetration_depth_3d_profile - DEBUG - processing the edi file E:/Datasets/MT_Datasets/75098/EDI_files\\B18.edi\n",
      "2017-03-06 15:53:42,694 - mtpy.core.edi - INFO - Reading the edi file E:/Datasets/MT_Datasets/75098/EDI_files\\B18.edi\n",
      "2017-03-06 15:53:42,694 - mtpy.core.edi - INFO - Ordered arrays to be arranged from high to low frequency\n",
      "2017-03-06 15:53:42,700 - mtpy.core.edi - INFO - Could not find any Tipper data.\n",
      "2017-03-06 15:53:42,703 - mtpy.core.edi - INFO - Read in edi file for station BB18\n",
      "2017-03-06 15:53:42,707 - mtpy.imaging.penetration_depth_3d_profile - DEBUG - the scale parameter= 355.881271709\n",
      "2017-03-06 15:53:42,709 - mtpy.imaging.penetration_depth_3d_profile - DEBUG - processing the edi file E:/Datasets/MT_Datasets/75098/EDI_files\\B19.edi\n",
      "2017-03-06 15:53:42,710 - mtpy.core.edi - INFO - Reading the edi file E:/Datasets/MT_Datasets/75098/EDI_files\\B19.edi\n",
      "2017-03-06 15:53:42,710 - mtpy.core.edi - INFO - Ordered arrays to be arranged from high to low frequency\n",
      "2017-03-06 15:53:42,716 - mtpy.core.edi - INFO - Could not find any Tipper data.\n",
      "2017-03-06 15:53:42,717 - mtpy.core.edi - INFO - Read in edi file for station BB19\n",
      "2017-03-06 15:53:42,724 - mtpy.imaging.penetration_depth_3d_profile - DEBUG - the scale parameter= 355.881271709\n",
      "2017-03-06 15:53:42,726 - mtpy.imaging.penetration_depth_3d_profile - DEBUG - processing the edi file E:/Datasets/MT_Datasets/75098/EDI_files\\B20.edi\n",
      "2017-03-06 15:53:42,726 - mtpy.core.edi - INFO - Reading the edi file E:/Datasets/MT_Datasets/75098/EDI_files\\B20.edi\n",
      "2017-03-06 15:53:42,727 - mtpy.core.edi - INFO - Ordered arrays to be arranged from high to low frequency\n",
      "2017-03-06 15:53:42,733 - mtpy.core.edi - INFO - Could not find any Tipper data.\n",
      "2017-03-06 15:53:42,734 - mtpy.core.edi - INFO - Read in edi file for station BB20\n",
      "2017-03-06 15:53:42,740 - mtpy.imaging.penetration_depth_3d_profile - DEBUG - the scale parameter= 355.881271709\n",
      "2017-03-06 15:53:42,743 - mtpy.imaging.penetration_depth_3d_profile - DEBUG - processing the edi file E:/Datasets/MT_Datasets/75098/EDI_files\\B21.edi\n",
      "2017-03-06 15:53:42,743 - mtpy.core.edi - INFO - Reading the edi file E:/Datasets/MT_Datasets/75098/EDI_files\\B21.edi\n",
      "2017-03-06 15:53:42,744 - mtpy.core.edi - INFO - Ordered arrays to be arranged from high to low frequency\n",
      "2017-03-06 15:53:42,750 - mtpy.core.edi - INFO - Could not find any Tipper data.\n",
      "2017-03-06 15:53:42,752 - mtpy.core.edi - INFO - Read in edi file for station BB21\n",
      "2017-03-06 15:53:42,756 - mtpy.imaging.penetration_depth_3d_profile - DEBUG - the scale parameter= 355.881271709\n",
      "2017-03-06 15:53:42,759 - mtpy.imaging.penetration_depth_3d_profile - DEBUG - processing the edi file E:/Datasets/MT_Datasets/75098/EDI_files\\B22.edi\n",
      "2017-03-06 15:53:42,759 - mtpy.core.edi - INFO - Reading the edi file E:/Datasets/MT_Datasets/75098/EDI_files\\B22.edi\n",
      "2017-03-06 15:53:42,760 - mtpy.core.edi - INFO - Ordered arrays to be arranged from high to low frequency\n",
      "2017-03-06 15:53:42,765 - mtpy.core.edi - INFO - Could not find any Tipper data.\n",
      "2017-03-06 15:53:42,767 - mtpy.core.edi - INFO - Read in edi file for station BB22\n",
      "2017-03-06 15:53:42,773 - mtpy.imaging.penetration_depth_3d_profile - DEBUG - the scale parameter= 355.881271709\n",
      "2017-03-06 15:53:42,775 - mtpy.imaging.penetration_depth_3d_profile - DEBUG - processing the edi file E:/Datasets/MT_Datasets/75098/EDI_files\\B23.edi\n",
      "2017-03-06 15:53:42,775 - mtpy.core.edi - INFO - Reading the edi file E:/Datasets/MT_Datasets/75098/EDI_files\\B23.edi\n",
      "2017-03-06 15:53:42,776 - mtpy.core.edi - INFO - Ordered arrays to be arranged from high to low frequency\n",
      "2017-03-06 15:53:42,780 - mtpy.core.edi - INFO - Could not find any Tipper data.\n",
      "2017-03-06 15:53:42,783 - mtpy.core.edi - INFO - Read in edi file for station BB23\n",
      "2017-03-06 15:53:42,789 - mtpy.imaging.penetration_depth_3d_profile - DEBUG - the scale parameter= 355.881271709\n",
      "2017-03-06 15:53:42,789 - mtpy.imaging.penetration_depth_3d_profile - DEBUG - processing the edi file E:/Datasets/MT_Datasets/75098/EDI_files\\B24.edi\n",
      "2017-03-06 15:53:42,790 - mtpy.core.edi - INFO - Reading the edi file E:/Datasets/MT_Datasets/75098/EDI_files\\B24.edi\n",
      "2017-03-06 15:53:42,792 - mtpy.core.edi - INFO - Ordered arrays to be arranged from high to low frequency\n",
      "2017-03-06 15:53:42,796 - mtpy.core.edi - INFO - Could not find any Tipper data.\n",
      "2017-03-06 15:53:42,799 - mtpy.core.edi - INFO - Read in edi file for station BB24\n",
      "2017-03-06 15:53:42,805 - mtpy.imaging.penetration_depth_3d_profile - DEBUG - the scale parameter= 355.881271709\n",
      "2017-03-06 15:53:42,806 - mtpy.imaging.penetration_depth_3d_profile - DEBUG - processing the edi file E:/Datasets/MT_Datasets/75098/EDI_files\\B25.edi\n",
      "2017-03-06 15:53:42,808 - mtpy.core.edi - INFO - Reading the edi file E:/Datasets/MT_Datasets/75098/EDI_files\\B25.edi\n",
      "2017-03-06 15:53:42,809 - mtpy.core.edi - INFO - Ordered arrays to be arranged from high to low frequency\n",
      "2017-03-06 15:53:42,812 - mtpy.core.edi - INFO - Could not find any Tipper data.\n",
      "2017-03-06 15:53:42,815 - mtpy.core.edi - INFO - Read in edi file for station BB25\n",
      "2017-03-06 15:53:42,821 - mtpy.imaging.penetration_depth_3d_profile - DEBUG - the scale parameter= 355.881271709\n",
      "2017-03-06 15:53:42,822 - mtpy.imaging.penetration_depth_3d_profile - DEBUG - processing the edi file E:/Datasets/MT_Datasets/75098/EDI_files\\B27.edi\n",
      "2017-03-06 15:53:42,822 - mtpy.core.edi - INFO - Reading the edi file E:/Datasets/MT_Datasets/75098/EDI_files\\B27.edi\n",
      "2017-03-06 15:53:42,823 - mtpy.core.edi - INFO - Ordered arrays to be arranged from high to low frequency\n",
      "2017-03-06 15:53:42,828 - mtpy.core.edi - INFO - Could not find any Tipper data.\n",
      "2017-03-06 15:53:42,831 - mtpy.core.edi - INFO - Read in edi file for station BB27\n",
      "2017-03-06 15:53:42,836 - mtpy.imaging.penetration_depth_3d_profile - DEBUG - the scale parameter= 355.881271709\n",
      "2017-03-06 15:53:42,838 - mtpy.imaging.penetration_depth_3d_profile - DEBUG - processing the edi file E:/Datasets/MT_Datasets/75098/EDI_files\\B28.edi\n",
      "2017-03-06 15:53:42,838 - mtpy.core.edi - INFO - Reading the edi file E:/Datasets/MT_Datasets/75098/EDI_files\\B28.edi\n",
      "2017-03-06 15:53:42,839 - mtpy.core.edi - INFO - Ordered arrays to be arranged from high to low frequency\n",
      "2017-03-06 15:53:42,845 - mtpy.core.edi - INFO - Could not find any Tipper data.\n",
      "2017-03-06 15:53:42,846 - mtpy.core.edi - INFO - Read in edi file for station BB28\n",
      "2017-03-06 15:53:42,852 - mtpy.imaging.penetration_depth_3d_profile - DEBUG - the scale parameter= 355.881271709\n",
      "2017-03-06 15:53:42,854 - mtpy.imaging.penetration_depth_3d_profile - DEBUG - processing the edi file E:/Datasets/MT_Datasets/75098/EDI_files\\B29.edi\n",
      "2017-03-06 15:53:42,855 - mtpy.core.edi - INFO - Reading the edi file E:/Datasets/MT_Datasets/75098/EDI_files\\B29.edi\n",
      "2017-03-06 15:53:42,855 - mtpy.core.edi - INFO - Ordered arrays to be arranged from high to low frequency\n",
      "2017-03-06 15:53:42,861 - mtpy.core.edi - INFO - Could not find any Tipper data.\n",
      "2017-03-06 15:53:42,862 - mtpy.core.edi - INFO - Read in edi file for station BB29\n",
      "2017-03-06 15:53:42,868 - mtpy.imaging.penetration_depth_3d_profile - DEBUG - the scale parameter= 355.881271709\n",
      "2017-03-06 15:53:42,871 - mtpy.imaging.penetration_depth_3d_profile - DEBUG - processing the edi file E:/Datasets/MT_Datasets/75098/EDI_files\\B30.edi\n",
      "2017-03-06 15:53:42,871 - mtpy.core.edi - INFO - Reading the edi file E:/Datasets/MT_Datasets/75098/EDI_files\\B30.edi\n",
      "2017-03-06 15:53:42,872 - mtpy.core.edi - INFO - Ordered arrays to be arranged from high to low frequency\n",
      "2017-03-06 15:53:42,878 - mtpy.core.edi - INFO - Could not find any Tipper data.\n",
      "2017-03-06 15:53:42,880 - mtpy.core.edi - INFO - Read in edi file for station BB30\n",
      "2017-03-06 15:53:42,884 - mtpy.imaging.penetration_depth_3d_profile - DEBUG - the scale parameter= 355.881271709\n",
      "2017-03-06 15:53:42,885 - mtpy.imaging.penetration_depth_3d_profile - DEBUG - processing the edi file E:/Datasets/MT_Datasets/75098/EDI_files\\B31.edi\n",
      "2017-03-06 15:53:42,887 - mtpy.core.edi - INFO - Reading the edi file E:/Datasets/MT_Datasets/75098/EDI_files\\B31.edi\n",
      "2017-03-06 15:53:42,888 - mtpy.core.edi - INFO - Ordered arrays to be arranged from high to low frequency\n",
      "2017-03-06 15:53:42,892 - mtpy.core.edi - INFO - Could not find any Tipper data.\n",
      "2017-03-06 15:53:42,894 - mtpy.core.edi - INFO - Read in edi file for station BB31\n",
      "2017-03-06 15:53:42,901 - mtpy.imaging.penetration_depth_3d_profile - DEBUG - the scale parameter= 355.881271709\n",
      "2017-03-06 15:53:42,901 - mtpy.imaging.penetration_depth_3d_profile - DEBUG - processing the edi file E:/Datasets/MT_Datasets/75098/EDI_files\\B32.edi\n",
      "2017-03-06 15:53:42,903 - mtpy.core.edi - INFO - Reading the edi file E:/Datasets/MT_Datasets/75098/EDI_files\\B32.edi\n",
      "2017-03-06 15:53:42,904 - mtpy.core.edi - INFO - Ordered arrays to be arranged from high to low frequency\n",
      "2017-03-06 15:53:42,908 - mtpy.core.edi - INFO - Could not find any Tipper data.\n",
      "2017-03-06 15:53:42,911 - mtpy.core.edi - INFO - Read in edi file for station BB32\n",
      "2017-03-06 15:53:42,917 - mtpy.imaging.penetration_depth_3d_profile - DEBUG - the scale parameter= 355.881271709\n",
      "2017-03-06 15:53:42,917 - mtpy.imaging.penetration_depth_3d_profile - DEBUG - processing the edi file E:/Datasets/MT_Datasets/75098/EDI_files\\B33.edi\n",
      "2017-03-06 15:53:42,917 - mtpy.core.edi - INFO - Reading the edi file E:/Datasets/MT_Datasets/75098/EDI_files\\B33.edi\n",
      "2017-03-06 15:53:42,920 - mtpy.core.edi - INFO - Ordered arrays to be arranged from high to low frequency\n",
      "2017-03-06 15:53:42,924 - mtpy.core.edi - INFO - Could not find any Tipper data.\n",
      "2017-03-06 15:53:42,927 - mtpy.core.edi - INFO - Read in edi file for station BB33\n",
      "2017-03-06 15:53:42,931 - mtpy.imaging.penetration_depth_3d_profile - DEBUG - the scale parameter= 355.881271709\n",
      "2017-03-06 15:53:42,933 - mtpy.imaging.penetration_depth_3d_profile - DEBUG - processing the edi file E:/Datasets/MT_Datasets/75098/EDI_files\\B34.edi\n",
      "2017-03-06 15:53:42,934 - mtpy.core.edi - INFO - Reading the edi file E:/Datasets/MT_Datasets/75098/EDI_files\\B34.edi\n",
      "2017-03-06 15:53:42,934 - mtpy.core.edi - INFO - Ordered arrays to be arranged from high to low frequency\n",
      "2017-03-06 15:53:42,940 - mtpy.core.edi - INFO - Could not find any Tipper data.\n",
      "2017-03-06 15:53:42,941 - mtpy.core.edi - INFO - Read in edi file for station BB34\n",
      "2017-03-06 15:53:42,947 - mtpy.imaging.penetration_depth_3d_profile - DEBUG - the scale parameter= 355.881271709\n",
      "2017-03-06 15:53:42,948 - mtpy.imaging.penetration_depth_3d_profile - DEBUG - processing the edi file E:/Datasets/MT_Datasets/75098/EDI_files\\B35.edi\n",
      "2017-03-06 15:53:42,950 - mtpy.core.edi - INFO - Reading the edi file E:/Datasets/MT_Datasets/75098/EDI_files\\B35.edi\n",
      "2017-03-06 15:53:42,951 - mtpy.core.edi - INFO - Ordered arrays to be arranged from high to low frequency\n",
      "2017-03-06 15:53:42,956 - mtpy.core.edi - INFO - Could not find any Tipper data.\n",
      "2017-03-06 15:53:42,957 - mtpy.core.edi - INFO - Read in edi file for station BB35\n",
      "2017-03-06 15:53:42,963 - mtpy.imaging.penetration_depth_3d_profile - DEBUG - the scale parameter= 355.881271709\n",
      "2017-03-06 15:53:42,964 - mtpy.imaging.penetration_depth_3d_profile - DEBUG - processing the edi file E:/Datasets/MT_Datasets/75098/EDI_files\\B36.edi\n",
      "2017-03-06 15:53:42,966 - mtpy.core.edi - INFO - Reading the edi file E:/Datasets/MT_Datasets/75098/EDI_files\\B36.edi\n",
      "2017-03-06 15:53:42,967 - mtpy.core.edi - INFO - Ordered arrays to be arranged from high to low frequency\n",
      "2017-03-06 15:53:42,971 - mtpy.core.edi - INFO - Could not find any Tipper data.\n",
      "2017-03-06 15:53:42,974 - mtpy.core.edi - INFO - Read in edi file for station BB36\n",
      "2017-03-06 15:53:42,980 - mtpy.imaging.penetration_depth_3d_profile - DEBUG - the scale parameter= 355.881271709\n",
      "2017-03-06 15:53:42,982 - mtpy.imaging.penetration_depth_3d_profile - DEBUG - processing the edi file E:/Datasets/MT_Datasets/75098/EDI_files\\B37.edi\n",
      "2017-03-06 15:53:42,982 - mtpy.core.edi - INFO - Reading the edi file E:/Datasets/MT_Datasets/75098/EDI_files\\B37.edi\n",
      "2017-03-06 15:53:42,983 - mtpy.core.edi - INFO - Ordered arrays to be arranged from high to low frequency\n",
      "2017-03-06 15:53:42,987 - mtpy.core.edi - INFO - Could not find any Tipper data.\n",
      "2017-03-06 15:53:42,990 - mtpy.core.edi - INFO - Read in edi file for station BB37\n",
      "2017-03-06 15:53:42,996 - mtpy.imaging.penetration_depth_3d_profile - DEBUG - the scale parameter= 355.881271709\n",
      "2017-03-06 15:53:42,997 - mtpy.imaging.penetration_depth_3d_profile - DEBUG - processing the edi file E:/Datasets/MT_Datasets/75098/EDI_files\\B38.edi\n",
      "2017-03-06 15:53:42,997 - mtpy.core.edi - INFO - Reading the edi file E:/Datasets/MT_Datasets/75098/EDI_files\\B38.edi\n",
      "2017-03-06 15:53:43,000 - mtpy.core.edi - INFO - Ordered arrays to be arranged from high to low frequency\n",
      "2017-03-06 15:53:43,003 - mtpy.core.edi - INFO - Could not find any Tipper data.\n",
      "2017-03-06 15:53:43,007 - mtpy.core.edi - INFO - Read in edi file for station BB38\n",
      "2017-03-06 15:53:43,013 - mtpy.imaging.penetration_depth_3d_profile - DEBUG - the scale parameter= 355.881271709\n",
      "2017-03-06 15:53:43,013 - mtpy.imaging.penetration_depth_3d_profile - DEBUG - processing the edi file E:/Datasets/MT_Datasets/75098/EDI_files\\B39.edi\n",
      "2017-03-06 15:53:43,015 - mtpy.core.edi - INFO - Reading the edi file E:/Datasets/MT_Datasets/75098/EDI_files\\B39.edi\n",
      "2017-03-06 15:53:43,016 - mtpy.core.edi - INFO - Ordered arrays to be arranged from high to low frequency\n",
      "2017-03-06 15:53:43,020 - mtpy.core.edi - INFO - Could not find any Tipper data.\n",
      "2017-03-06 15:53:43,023 - mtpy.core.edi - INFO - Read in edi file for station BB39\n",
      "2017-03-06 15:53:43,029 - mtpy.imaging.penetration_depth_3d_profile - DEBUG - the scale parameter= 355.881271709\n",
      "2017-03-06 15:53:43,030 - mtpy.imaging.penetration_depth_3d_profile - DEBUG - processing the edi file E:/Datasets/MT_Datasets/75098/EDI_files\\B40.edi\n",
      "2017-03-06 15:53:43,030 - mtpy.core.edi - INFO - Reading the edi file E:/Datasets/MT_Datasets/75098/EDI_files\\B40.edi\n",
      "2017-03-06 15:53:43,032 - mtpy.core.edi - INFO - Ordered arrays to be arranged from high to low frequency\n",
      "2017-03-06 15:53:43,036 - mtpy.core.edi - INFO - Could not find any Tipper data.\n",
      "2017-03-06 15:53:43,040 - mtpy.core.edi - INFO - Read in edi file for station BB40\n",
      "2017-03-06 15:53:43,046 - mtpy.imaging.penetration_depth_3d_profile - DEBUG - the scale parameter= 355.881271709\n",
      "2017-03-06 15:53:43,046 - mtpy.imaging.penetration_depth_3d_profile - DEBUG - processing the edi file E:/Datasets/MT_Datasets/75098/EDI_files\\B41.edi\n",
      "2017-03-06 15:53:43,048 - mtpy.core.edi - INFO - Reading the edi file E:/Datasets/MT_Datasets/75098/EDI_files\\B41.edi\n",
      "2017-03-06 15:53:43,049 - mtpy.core.edi - INFO - Ordered arrays to be arranged from high to low frequency\n",
      "2017-03-06 15:53:43,053 - mtpy.core.edi - INFO - Could not find any Tipper data.\n",
      "2017-03-06 15:53:43,055 - mtpy.core.edi - INFO - Read in edi file for station BB41\n",
      "2017-03-06 15:53:43,062 - mtpy.imaging.penetration_depth_3d_profile - DEBUG - the scale parameter= 355.881271709\n",
      "2017-03-06 15:53:43,062 - mtpy.imaging.penetration_depth_3d_profile - DEBUG - processing the edi file E:/Datasets/MT_Datasets/75098/EDI_files\\B42.edi\n",
      "2017-03-06 15:53:43,063 - mtpy.core.edi - INFO - Reading the edi file E:/Datasets/MT_Datasets/75098/EDI_files\\B42.edi\n",
      "2017-03-06 15:53:43,065 - mtpy.core.edi - INFO - Ordered arrays to be arranged from high to low frequency\n",
      "2017-03-06 15:53:43,071 - mtpy.core.edi - INFO - Could not find any Tipper data.\n",
      "2017-03-06 15:53:43,073 - mtpy.core.edi - INFO - Read in edi file for station BB42\n",
      "2017-03-06 15:53:43,078 - mtpy.imaging.penetration_depth_3d_profile - DEBUG - the scale parameter= 355.881271709\n",
      "2017-03-06 15:53:43,081 - mtpy.imaging.penetration_depth_3d_profile - DEBUG - processing the edi file E:/Datasets/MT_Datasets/75098/EDI_files\\B43.edi\n",
      "2017-03-06 15:53:43,081 - mtpy.core.edi - INFO - Reading the edi file E:/Datasets/MT_Datasets/75098/EDI_files\\B43.edi\n",
      "2017-03-06 15:53:43,082 - mtpy.core.edi - INFO - Ordered arrays to be arranged from high to low frequency\n",
      "2017-03-06 15:53:43,086 - mtpy.core.edi - INFO - Could not find any Tipper data.\n",
      "2017-03-06 15:53:43,089 - mtpy.core.edi - INFO - Read in edi file for station BB43\n",
      "2017-03-06 15:53:43,095 - mtpy.imaging.penetration_depth_3d_profile - DEBUG - the scale parameter= 355.881271709\n",
      "2017-03-06 15:53:43,095 - mtpy.imaging.penetration_depth_3d_profile - DEBUG - processing the edi file E:/Datasets/MT_Datasets/75098/EDI_files\\B44.edi\n",
      "2017-03-06 15:53:43,096 - mtpy.core.edi - INFO - Reading the edi file E:/Datasets/MT_Datasets/75098/EDI_files\\B44.edi\n",
      "2017-03-06 15:53:43,098 - mtpy.core.edi - INFO - Ordered arrays to be arranged from high to low frequency\n",
      "2017-03-06 15:53:43,102 - mtpy.core.edi - INFO - Could not find any Tipper data.\n",
      "2017-03-06 15:53:43,105 - mtpy.core.edi - INFO - Read in edi file for station BB44\n",
      "2017-03-06 15:53:43,111 - mtpy.imaging.penetration_depth_3d_profile - DEBUG - the scale parameter= 355.881271709\n",
      "2017-03-06 15:53:43,111 - mtpy.imaging.penetration_depth_3d_profile - DEBUG - processing the edi file E:/Datasets/MT_Datasets/75098/EDI_files\\B45.edi\n",
      "2017-03-06 15:53:43,112 - mtpy.core.edi - INFO - Reading the edi file E:/Datasets/MT_Datasets/75098/EDI_files\\B45.edi\n",
      "2017-03-06 15:53:43,114 - mtpy.core.edi - INFO - Ordered arrays to be arranged from high to low frequency\n",
      "2017-03-06 15:53:43,119 - mtpy.core.edi - INFO - Could not find any Tipper data.\n",
      "2017-03-06 15:53:43,121 - mtpy.core.edi - INFO - Read in edi file for station BB45\n",
      "2017-03-06 15:53:43,127 - mtpy.imaging.penetration_depth_3d_profile - DEBUG - the scale parameter= 355.881271709\n",
      "2017-03-06 15:53:43,128 - mtpy.imaging.penetration_depth_3d_profile - DEBUG - processing the edi file E:/Datasets/MT_Datasets/75098/EDI_files\\B46.edi\n",
      "2017-03-06 15:53:43,128 - mtpy.core.edi - INFO - Reading the edi file E:/Datasets/MT_Datasets/75098/EDI_files\\B46.edi\n",
      "2017-03-06 15:53:43,131 - mtpy.core.edi - INFO - Ordered arrays to be arranged from high to low frequency\n",
      "2017-03-06 15:53:43,134 - mtpy.core.edi - INFO - Could not find any Tipper data.\n",
      "2017-03-06 15:53:43,138 - mtpy.core.edi - INFO - Read in edi file for station BB46\n",
      "2017-03-06 15:53:43,142 - mtpy.imaging.penetration_depth_3d_profile - DEBUG - the scale parameter= 355.881271709\n",
      "2017-03-06 15:53:43,144 - mtpy.imaging.penetration_depth_3d_profile - DEBUG - processing the edi file E:/Datasets/MT_Datasets/75098/EDI_files\\B47.edi\n",
      "2017-03-06 15:53:43,144 - mtpy.core.edi - INFO - Reading the edi file E:/Datasets/MT_Datasets/75098/EDI_files\\B47.edi\n",
      "2017-03-06 15:53:43,147 - mtpy.core.edi - INFO - Ordered arrays to be arranged from high to low frequency\n",
      "2017-03-06 15:53:43,151 - mtpy.core.edi - INFO - Could not find any Tipper data.\n",
      "2017-03-06 15:53:43,153 - mtpy.core.edi - INFO - Read in edi file for station BB47\n",
      "2017-03-06 15:53:43,157 - mtpy.imaging.penetration_depth_3d_profile - DEBUG - the scale parameter= 355.881271709\n",
      "2017-03-06 15:53:43,160 - mtpy.imaging.penetration_depth_3d_profile - DEBUG - processing the edi file E:/Datasets/MT_Datasets/75098/EDI_files\\B48.edi\n",
      "2017-03-06 15:53:43,161 - mtpy.core.edi - INFO - Reading the edi file E:/Datasets/MT_Datasets/75098/EDI_files\\B48.edi\n",
      "2017-03-06 15:53:43,161 - mtpy.core.edi - INFO - Ordered arrays to be arranged from high to low frequency\n",
      "2017-03-06 15:53:43,167 - mtpy.core.edi - INFO - Could not find any Tipper data.\n",
      "2017-03-06 15:53:43,168 - mtpy.core.edi - INFO - Read in edi file for station BB48\n",
      "2017-03-06 15:53:43,174 - mtpy.imaging.penetration_depth_3d_profile - DEBUG - the scale parameter= 355.881271709\n",
      "2017-03-06 15:53:43,176 - mtpy.imaging.penetration_depth_3d_profile - DEBUG - processing the edi file E:/Datasets/MT_Datasets/75098/EDI_files\\B49.edi\n",
      "2017-03-06 15:53:43,177 - mtpy.core.edi - INFO - Reading the edi file E:/Datasets/MT_Datasets/75098/EDI_files\\B49.edi\n",
      "2017-03-06 15:53:43,177 - mtpy.core.edi - INFO - Ordered arrays to be arranged from high to low frequency\n",
      "2017-03-06 15:53:43,183 - mtpy.core.edi - INFO - Could not find any Tipper data.\n",
      "2017-03-06 15:53:43,186 - mtpy.core.edi - INFO - Read in edi file for station BB49\n",
      "2017-03-06 15:53:43,190 - mtpy.imaging.penetration_depth_3d_profile - DEBUG - the scale parameter= 355.881271709\n",
      "2017-03-06 15:53:43,191 - mtpy.imaging.penetration_depth_3d_profile - DEBUG - processing the edi file E:/Datasets/MT_Datasets/75098/EDI_files\\B50.edi\n",
      "2017-03-06 15:53:43,193 - mtpy.core.edi - INFO - Reading the edi file E:/Datasets/MT_Datasets/75098/EDI_files\\B50.edi\n",
      "2017-03-06 15:53:43,194 - mtpy.core.edi - INFO - Ordered arrays to be arranged from high to low frequency\n",
      "2017-03-06 15:53:43,198 - mtpy.core.edi - INFO - Could not find any Tipper data.\n",
      "2017-03-06 15:53:43,201 - mtpy.core.edi - INFO - Read in edi file for station BB50\n",
      "2017-03-06 15:53:43,207 - mtpy.imaging.penetration_depth_3d_profile - DEBUG - the scale parameter= 355.881271709\n",
      "2017-03-06 15:53:43,207 - mtpy.imaging.penetration_depth_3d_profile - DEBUG - processing the edi file E:/Datasets/MT_Datasets/75098/EDI_files\\B51.edi\n",
      "2017-03-06 15:53:43,209 - mtpy.core.edi - INFO - Reading the edi file E:/Datasets/MT_Datasets/75098/EDI_files\\B51.edi\n",
      "2017-03-06 15:53:43,210 - mtpy.core.edi - INFO - Ordered arrays to be arranged from high to low frequency\n",
      "2017-03-06 15:53:43,214 - mtpy.core.edi - INFO - Could not find any Tipper data.\n",
      "2017-03-06 15:53:43,217 - mtpy.core.edi - INFO - Read in edi file for station BB51\n",
      "2017-03-06 15:53:43,223 - mtpy.imaging.penetration_depth_3d_profile - DEBUG - the scale parameter= 355.881271709\n",
      "2017-03-06 15:53:43,224 - mtpy.imaging.penetration_depth_3d_profile - DEBUG - processing the edi file E:/Datasets/MT_Datasets/75098/EDI_files\\B52.edi\n",
      "2017-03-06 15:53:43,224 - mtpy.core.edi - INFO - Reading the edi file E:/Datasets/MT_Datasets/75098/EDI_files\\B52.edi\n",
      "2017-03-06 15:53:43,226 - mtpy.core.edi - INFO - Ordered arrays to be arranged from high to low frequency\n",
      "2017-03-06 15:53:43,230 - mtpy.core.edi - INFO - Could not find any Tipper data.\n",
      "2017-03-06 15:53:43,233 - mtpy.core.edi - INFO - Read in edi file for station BB52\n",
      "2017-03-06 15:53:43,239 - mtpy.imaging.penetration_depth_3d_profile - DEBUG - the scale parameter= 355.881271709\n",
      "2017-03-06 15:53:43,240 - mtpy.imaging.penetration_depth_3d_profile - DEBUG - processing the edi file E:/Datasets/MT_Datasets/75098/EDI_files\\B53.edi\n",
      "2017-03-06 15:53:43,242 - mtpy.core.edi - INFO - Reading the edi file E:/Datasets/MT_Datasets/75098/EDI_files\\B53.edi\n",
      "2017-03-06 15:53:43,243 - mtpy.core.edi - INFO - Ordered arrays to be arranged from high to low frequency\n",
      "2017-03-06 15:53:43,246 - mtpy.core.edi - INFO - Could not find any Tipper data.\n",
      "2017-03-06 15:53:43,250 - mtpy.core.edi - INFO - Read in edi file for station BB53\n",
      "2017-03-06 15:53:43,255 - mtpy.imaging.penetration_depth_3d_profile - DEBUG - the scale parameter= 355.881271709\n",
      "2017-03-06 15:53:43,256 - mtpy.imaging.penetration_depth_3d_profile - DEBUG - processing the edi file E:/Datasets/MT_Datasets/75098/EDI_files\\B54.edi\n",
      "2017-03-06 15:53:43,257 - mtpy.core.edi - INFO - Reading the edi file E:/Datasets/MT_Datasets/75098/EDI_files\\B54.edi\n",
      "2017-03-06 15:53:43,259 - mtpy.core.edi - INFO - Ordered arrays to be arranged from high to low frequency\n",
      "2017-03-06 15:53:43,263 - mtpy.core.edi - INFO - Could not find any Tipper data.\n",
      "2017-03-06 15:53:43,266 - mtpy.core.edi - INFO - Read in edi file for station BB54\n",
      "2017-03-06 15:53:43,270 - mtpy.imaging.penetration_depth_3d_profile - DEBUG - the scale parameter= 355.881271709\n",
      "2017-03-06 15:53:43,273 - mtpy.imaging.penetration_depth_3d_profile - DEBUG - processing the edi file E:/Datasets/MT_Datasets/75098/EDI_files\\B55.edi\n",
      "2017-03-06 15:53:43,273 - mtpy.core.edi - INFO - Reading the edi file E:/Datasets/MT_Datasets/75098/EDI_files\\B55.edi\n",
      "2017-03-06 15:53:43,275 - mtpy.core.edi - INFO - Ordered arrays to be arranged from high to low frequency\n",
      "2017-03-06 15:53:43,279 - mtpy.core.edi - INFO - Could not find any Tipper data.\n",
      "2017-03-06 15:53:43,282 - mtpy.core.edi - INFO - Read in edi file for station BB55\n",
      "2017-03-06 15:53:43,286 - mtpy.imaging.penetration_depth_3d_profile - DEBUG - the scale parameter= 355.881271709\n",
      "2017-03-06 15:53:43,288 - mtpy.imaging.penetration_depth_3d_profile - DEBUG - processing the edi file E:/Datasets/MT_Datasets/75098/EDI_files\\B56.edi\n",
      "2017-03-06 15:53:43,289 - mtpy.core.edi - INFO - Reading the edi file E:/Datasets/MT_Datasets/75098/EDI_files\\B56.edi\n",
      "2017-03-06 15:53:43,290 - mtpy.core.edi - INFO - Ordered arrays to be arranged from high to low frequency\n",
      "2017-03-06 15:53:43,295 - mtpy.core.edi - INFO - Could not find any Tipper data.\n",
      "2017-03-06 15:53:43,298 - mtpy.core.edi - INFO - Read in edi file for station BB56\n",
      "2017-03-06 15:53:43,302 - mtpy.imaging.penetration_depth_3d_profile - DEBUG - the scale parameter= 355.881271709\n",
      "2017-03-06 15:53:43,303 - mtpy.imaging.penetration_depth_3d_profile - DEBUG - processing the edi file E:/Datasets/MT_Datasets/75098/EDI_files\\B57.edi\n",
      "2017-03-06 15:53:43,305 - mtpy.core.edi - INFO - Reading the edi file E:/Datasets/MT_Datasets/75098/EDI_files\\B57.edi\n",
      "2017-03-06 15:53:43,306 - mtpy.core.edi - INFO - Ordered arrays to be arranged from high to low frequency\n",
      "2017-03-06 15:53:43,311 - mtpy.core.edi - INFO - Could not find any Tipper data.\n",
      "2017-03-06 15:53:43,313 - mtpy.core.edi - INFO - Read in edi file for station BB57\n",
      "2017-03-06 15:53:43,319 - mtpy.imaging.penetration_depth_3d_profile - DEBUG - the scale parameter= 355.881271709\n",
      "2017-03-06 15:53:43,319 - mtpy.imaging.penetration_depth_3d_profile - DEBUG - processing the edi file E:/Datasets/MT_Datasets/75098/EDI_files\\B58.edi\n",
      "2017-03-06 15:53:43,321 - mtpy.core.edi - INFO - Reading the edi file E:/Datasets/MT_Datasets/75098/EDI_files\\B58.edi\n",
      "2017-03-06 15:53:43,322 - mtpy.core.edi - INFO - Ordered arrays to be arranged from high to low frequency\n",
      "2017-03-06 15:53:43,326 - mtpy.core.edi - INFO - Could not find any Tipper data.\n",
      "2017-03-06 15:53:43,329 - mtpy.core.edi - INFO - Read in edi file for station BB58\n",
      "2017-03-06 15:53:43,335 - mtpy.imaging.penetration_depth_3d_profile - DEBUG - the scale parameter= 355.881271709\n",
      "2017-03-06 15:53:43,335 - mtpy.imaging.penetration_depth_3d_profile - DEBUG - processing the edi file E:/Datasets/MT_Datasets/75098/EDI_files\\B59.edi\n",
      "2017-03-06 15:53:43,336 - mtpy.core.edi - INFO - Reading the edi file E:/Datasets/MT_Datasets/75098/EDI_files\\B59.edi\n",
      "2017-03-06 15:53:43,338 - mtpy.core.edi - INFO - Ordered arrays to be arranged from high to low frequency\n",
      "2017-03-06 15:53:43,342 - mtpy.core.edi - INFO - Could not find any Tipper data.\n",
      "2017-03-06 15:53:43,345 - mtpy.core.edi - INFO - Read in edi file for station BB59\n",
      "2017-03-06 15:53:43,349 - mtpy.imaging.penetration_depth_3d_profile - DEBUG - the scale parameter= 355.881271709\n",
      "2017-03-06 15:53:43,351 - mtpy.imaging.penetration_depth_3d_profile - DEBUG - processing the edi file E:/Datasets/MT_Datasets/75098/EDI_files\\B61.edi\n",
      "2017-03-06 15:53:43,351 - mtpy.core.edi - INFO - Reading the edi file E:/Datasets/MT_Datasets/75098/EDI_files\\B61.edi\n",
      "2017-03-06 15:53:43,352 - mtpy.core.edi - INFO - Ordered arrays to be arranged from high to low frequency\n",
      "2017-03-06 15:53:43,357 - mtpy.core.edi - INFO - Could not find any Tipper data.\n",
      "2017-03-06 15:53:43,359 - mtpy.core.edi - INFO - Read in edi file for station BB61\n",
      "2017-03-06 15:53:43,365 - mtpy.imaging.penetration_depth_3d_profile - DEBUG - the scale parameter= 355.881271709\n",
      "2017-03-06 15:53:43,367 - mtpy.imaging.penetration_depth_3d_profile - DEBUG - processing the edi file E:/Datasets/MT_Datasets/75098/EDI_files\\B62.edi\n",
      "2017-03-06 15:53:43,368 - mtpy.core.edi - INFO - Reading the edi file E:/Datasets/MT_Datasets/75098/EDI_files\\B62.edi\n",
      "2017-03-06 15:53:43,368 - mtpy.core.edi - INFO - Ordered arrays to be arranged from high to low frequency\n",
      "2017-03-06 15:53:43,374 - mtpy.core.edi - INFO - Could not find any Tipper data.\n",
      "2017-03-06 15:53:43,375 - mtpy.core.edi - INFO - Read in edi file for station BB62\n",
      "2017-03-06 15:53:43,381 - mtpy.imaging.penetration_depth_3d_profile - DEBUG - the scale parameter= 355.881271709\n",
      "2017-03-06 15:53:43,382 - mtpy.imaging.penetration_depth_3d_profile - DEBUG - processing the edi file E:/Datasets/MT_Datasets/75098/EDI_files\\B63.edi\n",
      "2017-03-06 15:53:43,382 - mtpy.core.edi - INFO - Reading the edi file E:/Datasets/MT_Datasets/75098/EDI_files\\B63.edi\n",
      "2017-03-06 15:53:43,384 - mtpy.core.edi - INFO - Ordered arrays to be arranged from high to low frequency\n",
      "2017-03-06 15:53:43,388 - mtpy.core.edi - INFO - Could not find any Tipper data.\n",
      "2017-03-06 15:53:43,391 - mtpy.core.edi - INFO - Read in edi file for station BB63\n",
      "2017-03-06 15:53:43,398 - mtpy.imaging.penetration_depth_3d_profile - DEBUG - the scale parameter= 355.881271709\n",
      "2017-03-06 15:53:43,398 - mtpy.imaging.penetration_depth_3d_profile - DEBUG - processing the edi file E:/Datasets/MT_Datasets/75098/EDI_files\\B64.edi\n",
      "2017-03-06 15:53:43,400 - mtpy.core.edi - INFO - Reading the edi file E:/Datasets/MT_Datasets/75098/EDI_files\\B64.edi\n",
      "2017-03-06 15:53:43,401 - mtpy.core.edi - INFO - Ordered arrays to be arranged from high to low frequency\n",
      "2017-03-06 15:53:43,405 - mtpy.core.edi - INFO - Could not find any Tipper data.\n",
      "2017-03-06 15:53:43,407 - mtpy.core.edi - INFO - Read in edi file for station BB64\n",
      "2017-03-06 15:53:43,415 - mtpy.imaging.penetration_depth_3d_profile - DEBUG - the scale parameter= 355.881271709\n",
      "2017-03-06 15:53:43,417 - mtpy.imaging.penetration_depth_3d_profile - DEBUG - processing the edi file E:/Datasets/MT_Datasets/75098/EDI_files\\B65.edi\n",
      "2017-03-06 15:53:43,417 - mtpy.core.edi - INFO - Reading the edi file E:/Datasets/MT_Datasets/75098/EDI_files\\B65.edi\n",
      "2017-03-06 15:53:43,418 - mtpy.core.edi - INFO - Ordered arrays to be arranged from high to low frequency\n",
      "2017-03-06 15:53:43,424 - mtpy.core.edi - INFO - Could not find any Tipper data.\n",
      "2017-03-06 15:53:43,426 - mtpy.core.edi - INFO - Read in edi file for station BB65\n",
      "2017-03-06 15:53:43,431 - mtpy.imaging.penetration_depth_3d_profile - DEBUG - the scale parameter= 355.881271709\n",
      "2017-03-06 15:53:43,434 - mtpy.imaging.penetration_depth_3d_profile - DEBUG - processing the edi file E:/Datasets/MT_Datasets/75098/EDI_files\\B66.edi\n",
      "2017-03-06 15:53:43,434 - mtpy.core.edi - INFO - Reading the edi file E:/Datasets/MT_Datasets/75098/EDI_files\\B66.edi\n",
      "2017-03-06 15:53:43,436 - mtpy.core.edi - INFO - Ordered arrays to be arranged from high to low frequency\n",
      "2017-03-06 15:53:43,440 - mtpy.core.edi - INFO - Could not find any Tipper data.\n",
      "2017-03-06 15:53:43,441 - mtpy.core.edi - INFO - Read in edi file for station BB66\n",
      "2017-03-06 15:53:43,447 - mtpy.imaging.penetration_depth_3d_profile - DEBUG - the scale parameter= 355.881271709\n",
      "2017-03-06 15:53:43,448 - mtpy.imaging.penetration_depth_3d_profile - DEBUG - processing the edi file E:/Datasets/MT_Datasets/75098/EDI_files\\B67.edi\n",
      "2017-03-06 15:53:43,450 - mtpy.core.edi - INFO - Reading the edi file E:/Datasets/MT_Datasets/75098/EDI_files\\B67.edi\n",
      "2017-03-06 15:53:43,450 - mtpy.core.edi - INFO - Ordered arrays to be arranged from high to low frequency\n",
      "2017-03-06 15:53:43,456 - mtpy.core.edi - INFO - Could not find any Tipper data.\n",
      "2017-03-06 15:53:43,459 - mtpy.core.edi - INFO - Read in edi file for station BB67\n",
      "2017-03-06 15:53:43,463 - mtpy.imaging.penetration_depth_3d_profile - DEBUG - the scale parameter= 355.881271709\n",
      "2017-03-06 15:53:43,464 - mtpy.imaging.penetration_depth_3d_profile - DEBUG - processing the edi file E:/Datasets/MT_Datasets/75098/EDI_files\\B68.edi\n",
      "2017-03-06 15:53:43,466 - mtpy.core.edi - INFO - Reading the edi file E:/Datasets/MT_Datasets/75098/EDI_files\\B68.edi\n",
      "2017-03-06 15:53:43,467 - mtpy.core.edi - INFO - Ordered arrays to be arranged from high to low frequency\n",
      "2017-03-06 15:53:43,470 - mtpy.core.edi - INFO - Could not find any Tipper data.\n",
      "2017-03-06 15:53:43,473 - mtpy.core.edi - INFO - Read in edi file for station BB68\n",
      "2017-03-06 15:53:43,479 - mtpy.imaging.penetration_depth_3d_profile - DEBUG - the scale parameter= 355.881271709\n",
      "2017-03-06 15:53:43,480 - mtpy.imaging.penetration_depth_3d_profile - DEBUG - processing the edi file E:/Datasets/MT_Datasets/75098/EDI_files\\B69.edi\n",
      "2017-03-06 15:53:43,480 - mtpy.core.edi - INFO - Reading the edi file E:/Datasets/MT_Datasets/75098/EDI_files\\B69.edi\n",
      "2017-03-06 15:53:43,482 - mtpy.core.edi - INFO - Ordered arrays to be arranged from high to low frequency\n",
      "2017-03-06 15:53:43,486 - mtpy.core.edi - INFO - Could not find any Tipper data.\n",
      "2017-03-06 15:53:43,489 - mtpy.core.edi - INFO - Read in edi file for station BB69\n",
      "2017-03-06 15:53:43,494 - mtpy.imaging.penetration_depth_3d_profile - DEBUG - the scale parameter= 355.881271709\n",
      "2017-03-06 15:53:43,496 - mtpy.imaging.penetration_depth_3d_profile - DEBUG - processing the edi file E:/Datasets/MT_Datasets/75098/EDI_files\\B70.edi\n",
      "2017-03-06 15:53:43,496 - mtpy.core.edi - INFO - Reading the edi file E:/Datasets/MT_Datasets/75098/EDI_files\\B70.edi\n",
      "2017-03-06 15:53:43,497 - mtpy.core.edi - INFO - Ordered arrays to be arranged from high to low frequency\n",
      "2017-03-06 15:53:43,502 - mtpy.core.edi - INFO - Could not find any Tipper data.\n",
      "2017-03-06 15:53:43,505 - mtpy.core.edi - INFO - Read in edi file for station BB70\n",
      "2017-03-06 15:53:43,510 - mtpy.imaging.penetration_depth_3d_profile - DEBUG - the scale parameter= 355.881271709\n",
      "2017-03-06 15:53:43,512 - mtpy.imaging.penetration_depth_3d_profile - DEBUG - processing the edi file E:/Datasets/MT_Datasets/75098/EDI_files\\B71.edi\n",
      "2017-03-06 15:53:43,512 - mtpy.core.edi - INFO - Reading the edi file E:/Datasets/MT_Datasets/75098/EDI_files\\B71.edi\n",
      "2017-03-06 15:53:43,513 - mtpy.core.edi - INFO - Ordered arrays to be arranged from high to low frequency\n",
      "2017-03-06 15:53:43,517 - mtpy.core.edi - INFO - Could not find any Tipper data.\n",
      "2017-03-06 15:53:43,520 - mtpy.core.edi - INFO - Read in edi file for station BB71\n",
      "2017-03-06 15:53:43,526 - mtpy.imaging.penetration_depth_3d_profile - DEBUG - the scale parameter= 355.881271709\n",
      "2017-03-06 15:53:43,528 - mtpy.imaging.penetration_depth_3d_profile - DEBUG - processing the edi file E:/Datasets/MT_Datasets/75098/EDI_files\\B72.edi\n",
      "2017-03-06 15:53:43,528 - mtpy.core.edi - INFO - Reading the edi file E:/Datasets/MT_Datasets/75098/EDI_files\\B72.edi\n",
      "2017-03-06 15:53:43,529 - mtpy.core.edi - INFO - Ordered arrays to be arranged from high to low frequency\n",
      "2017-03-06 15:53:43,533 - mtpy.core.edi - INFO - Could not find any Tipper data.\n",
      "2017-03-06 15:53:43,536 - mtpy.core.edi - INFO - Read in edi file for station BB72\n",
      "2017-03-06 15:53:43,542 - mtpy.imaging.penetration_depth_3d_profile - DEBUG - the scale parameter= 355.881271709\n",
      "2017-03-06 15:53:43,543 - mtpy.imaging.penetration_depth_3d_profile - DEBUG - processing the edi file E:/Datasets/MT_Datasets/75098/EDI_files\\B73.edi\n",
      "2017-03-06 15:53:43,543 - mtpy.core.edi - INFO - Reading the edi file E:/Datasets/MT_Datasets/75098/EDI_files\\B73.edi\n",
      "2017-03-06 15:53:43,546 - mtpy.core.edi - INFO - Ordered arrays to be arranged from high to low frequency\n",
      "2017-03-06 15:53:43,549 - mtpy.core.edi - INFO - Could not find any Tipper data.\n",
      "2017-03-06 15:53:43,552 - mtpy.core.edi - INFO - Read in edi file for station BB73\n",
      "2017-03-06 15:53:43,558 - mtpy.imaging.penetration_depth_3d_profile - DEBUG - the scale parameter= 355.881271709\n",
      "2017-03-06 15:53:43,559 - mtpy.imaging.penetration_depth_3d_profile - DEBUG - processing the edi file E:/Datasets/MT_Datasets/75098/EDI_files\\L01.edi\n",
      "2017-03-06 15:53:43,559 - mtpy.core.edi - INFO - Reading the edi file E:/Datasets/MT_Datasets/75098/EDI_files\\L01.edi\n",
      "2017-03-06 15:53:43,562 - mtpy.core.edi - INFO - Ordered arrays to be arranged from high to low frequency\n",
      "2017-03-06 15:53:43,566 - mtpy.core.edi - INFO - Read in edi file for station LP01\n",
      "2017-03-06 15:53:43,572 - mtpy.imaging.penetration_depth_3d_profile - DEBUG - the scale parameter= 355.881271709\n",
      "2017-03-06 15:53:43,572 - mtpy.imaging.penetration_depth_3d_profile - DEBUG - processing the edi file E:/Datasets/MT_Datasets/75098/EDI_files\\L02.edi\n",
      "2017-03-06 15:53:43,572 - mtpy.core.edi - INFO - Reading the edi file E:/Datasets/MT_Datasets/75098/EDI_files\\L02.edi\n",
      "2017-03-06 15:53:43,575 - mtpy.core.edi - INFO - Ordered arrays to be arranged from high to low frequency\n",
      "2017-03-06 15:53:43,579 - mtpy.core.edi - INFO - Read in edi file for station LP02\n",
      "2017-03-06 15:53:43,585 - mtpy.imaging.penetration_depth_3d_profile - DEBUG - the scale parameter= 355.881271709\n",
      "2017-03-06 15:53:43,585 - mtpy.imaging.penetration_depth_3d_profile - DEBUG - processing the edi file E:/Datasets/MT_Datasets/75098/EDI_files\\L03.edi\n",
      "2017-03-06 15:53:43,585 - mtpy.core.edi - INFO - Reading the edi file E:/Datasets/MT_Datasets/75098/EDI_files\\L03.edi\n",
      "2017-03-06 15:53:43,588 - mtpy.core.edi - INFO - Ordered arrays to be arranged from high to low frequency\n",
      "2017-03-06 15:53:43,592 - mtpy.core.edi - INFO - Read in edi file for station LP03\n",
      "2017-03-06 15:53:43,596 - mtpy.imaging.penetration_depth_3d_profile - DEBUG - the scale parameter= 355.881271709\n",
      "2017-03-06 15:53:43,598 - mtpy.imaging.penetration_depth_3d_profile - DEBUG - processing the edi file E:/Datasets/MT_Datasets/75098/EDI_files\\L04.edi\n",
      "2017-03-06 15:53:43,598 - mtpy.core.edi - INFO - Reading the edi file E:/Datasets/MT_Datasets/75098/EDI_files\\L04.edi\n",
      "2017-03-06 15:53:43,601 - mtpy.core.edi - INFO - Ordered arrays to be arranged from high to low frequency\n",
      "2017-03-06 15:53:43,605 - mtpy.core.edi - INFO - Read in edi file for station LP04\n",
      "2017-03-06 15:53:43,609 - mtpy.imaging.penetration_depth_3d_profile - DEBUG - the scale parameter= 355.881271709\n",
      "2017-03-06 15:53:43,611 - mtpy.imaging.penetration_depth_3d_profile - DEBUG - processing the edi file E:/Datasets/MT_Datasets/75098/EDI_files\\L05.edi\n",
      "2017-03-06 15:53:43,611 - mtpy.core.edi - INFO - Reading the edi file E:/Datasets/MT_Datasets/75098/EDI_files\\L05.edi\n",
      "2017-03-06 15:53:43,612 - mtpy.core.edi - INFO - Ordered arrays to be arranged from high to low frequency\n",
      "2017-03-06 15:53:43,618 - mtpy.core.edi - INFO - Read in edi file for station LP05\n",
      "2017-03-06 15:53:43,621 - mtpy.imaging.penetration_depth_3d_profile - DEBUG - the scale parameter= 355.881271709\n",
      "2017-03-06 15:53:43,622 - mtpy.imaging.penetration_depth_3d_profile - DEBUG - processing the edi file E:/Datasets/MT_Datasets/75098/EDI_files\\L06.edi\n",
      "2017-03-06 15:53:43,624 - mtpy.core.edi - INFO - Reading the edi file E:/Datasets/MT_Datasets/75098/EDI_files\\L06.edi\n",
      "2017-03-06 15:53:43,625 - mtpy.core.edi - INFO - Ordered arrays to be arranged from high to low frequency\n",
      "2017-03-06 15:53:43,631 - mtpy.core.edi - INFO - Read in edi file for station LP06\n",
      "2017-03-06 15:53:43,634 - mtpy.imaging.penetration_depth_3d_profile - DEBUG - the scale parameter= 355.881271709\n",
      "2017-03-06 15:53:43,635 - mtpy.imaging.penetration_depth_3d_profile - DEBUG - processing the edi file E:/Datasets/MT_Datasets/75098/EDI_files\\L07.edi\n",
      "2017-03-06 15:53:43,637 - mtpy.core.edi - INFO - Reading the edi file E:/Datasets/MT_Datasets/75098/EDI_files\\L07.edi\n",
      "2017-03-06 15:53:43,638 - mtpy.core.edi - INFO - Ordered arrays to be arranged from high to low frequency\n",
      "2017-03-06 15:53:43,642 - mtpy.core.edi - INFO - Read in edi file for station LP07\n",
      "2017-03-06 15:53:43,648 - mtpy.imaging.penetration_depth_3d_profile - DEBUG - the scale parameter= 355.881271709\n",
      "2017-03-06 15:53:43,650 - mtpy.imaging.penetration_depth_3d_profile - DEBUG - processing the edi file E:/Datasets/MT_Datasets/75098/EDI_files\\L08.edi\n",
      "2017-03-06 15:53:43,650 - mtpy.core.edi - INFO - Reading the edi file E:/Datasets/MT_Datasets/75098/EDI_files\\L08.edi\n",
      "2017-03-06 15:53:43,651 - mtpy.core.edi - INFO - Ordered arrays to be arranged from high to low frequency\n",
      "2017-03-06 15:53:43,657 - mtpy.core.edi - INFO - Read in edi file for station LP08\n",
      "2017-03-06 15:53:43,661 - mtpy.imaging.penetration_depth_3d_profile - DEBUG - the scale parameter= 355.881271709\n",
      "2017-03-06 15:53:43,664 - mtpy.imaging.penetration_depth_3d_profile - DEBUG - processing the edi file E:/Datasets/MT_Datasets/75098/EDI_files\\L09.edi\n",
      "2017-03-06 15:53:43,664 - mtpy.core.edi - INFO - Reading the edi file E:/Datasets/MT_Datasets/75098/EDI_files\\L09.edi\n",
      "2017-03-06 15:53:43,665 - mtpy.core.edi - INFO - Ordered arrays to be arranged from high to low frequency\n",
      "2017-03-06 15:53:43,671 - mtpy.core.edi - INFO - Read in edi file for station LP09\n",
      "2017-03-06 15:53:43,674 - mtpy.imaging.penetration_depth_3d_profile - DEBUG - the scale parameter= 355.881271709\n",
      "2017-03-06 15:53:43,676 - mtpy.imaging.penetration_depth_3d_profile - DEBUG - processing the edi file E:/Datasets/MT_Datasets/75098/EDI_files\\L10.edi\n",
      "2017-03-06 15:53:43,677 - mtpy.core.edi - INFO - Reading the edi file E:/Datasets/MT_Datasets/75098/EDI_files\\L10.edi\n",
      "2017-03-06 15:53:43,677 - mtpy.core.edi - INFO - Ordered arrays to be arranged from high to low frequency\n",
      "2017-03-06 15:53:43,684 - mtpy.core.edi - INFO - Read in edi file for station LP10\n",
      "2017-03-06 15:53:43,688 - mtpy.imaging.penetration_depth_3d_profile - DEBUG - the scale parameter= 355.881271709\n",
      "2017-03-06 15:53:43,690 - mtpy.imaging.penetration_depth_3d_profile - DEBUG - processing the edi file E:/Datasets/MT_Datasets/75098/EDI_files\\L11.edi\n",
      "2017-03-06 15:53:43,690 - mtpy.core.edi - INFO - Reading the edi file E:/Datasets/MT_Datasets/75098/EDI_files\\L11.edi\n",
      "2017-03-06 15:53:43,691 - mtpy.core.edi - INFO - Ordered arrays to be arranged from high to low frequency\n",
      "2017-03-06 15:53:43,694 - mtpy.core.edi - INFO - Read in edi file for station LP11\n",
      "2017-03-06 15:53:43,698 - mtpy.imaging.penetration_depth_3d_profile - DEBUG - the scale parameter= 355.881271709\n",
      "2017-03-06 15:53:43,700 - mtpy.imaging.penetration_depth_3d_profile - DEBUG - processing the edi file E:/Datasets/MT_Datasets/75098/EDI_files\\L12.edi\n",
      "2017-03-06 15:53:43,700 - mtpy.core.edi - INFO - Reading the edi file E:/Datasets/MT_Datasets/75098/EDI_files\\L12.edi\n",
      "2017-03-06 15:53:43,701 - mtpy.core.edi - INFO - Ordered arrays to be arranged from high to low frequency\n",
      "2017-03-06 15:53:43,707 - mtpy.core.edi - INFO - Read in edi file for station LP12\n",
      "2017-03-06 15:53:43,711 - mtpy.imaging.penetration_depth_3d_profile - DEBUG - the scale parameter= 355.881271709\n",
      "2017-03-06 15:53:43,713 - mtpy.imaging.penetration_depth_3d_profile - DEBUG - processing the edi file E:/Datasets/MT_Datasets/75098/EDI_files\\L13.edi\n",
      "2017-03-06 15:53:43,713 - mtpy.core.edi - INFO - Reading the edi file E:/Datasets/MT_Datasets/75098/EDI_files\\L13.edi\n",
      "2017-03-06 15:53:43,716 - mtpy.core.edi - INFO - Ordered arrays to be arranged from high to low frequency\n",
      "2017-03-06 15:53:43,720 - mtpy.core.edi - INFO - Read in edi file for station LP13\n",
      "2017-03-06 15:53:43,724 - mtpy.imaging.penetration_depth_3d_profile - DEBUG - the scale parameter= 355.881271709\n",
      "2017-03-06 15:53:43,726 - mtpy.imaging.penetration_depth_3d_profile - DEBUG - processing the edi file E:/Datasets/MT_Datasets/75098/EDI_files\\L14.edi\n",
      "2017-03-06 15:53:43,726 - mtpy.core.edi - INFO - Reading the edi file E:/Datasets/MT_Datasets/75098/EDI_files\\L14.edi\n",
      "2017-03-06 15:53:43,727 - mtpy.core.edi - INFO - Ordered arrays to be arranged from high to low frequency\n",
      "2017-03-06 15:53:43,733 - mtpy.core.edi - INFO - Read in edi file for station LP14\n",
      "2017-03-06 15:53:43,737 - mtpy.imaging.penetration_depth_3d_profile - DEBUG - the scale parameter= 355.881271709\n",
      "2017-03-06 15:53:43,739 - mtpy.imaging.penetration_depth_3d_profile - DEBUG - processing the edi file E:/Datasets/MT_Datasets/75098/EDI_files\\L15.edi\n",
      "2017-03-06 15:53:43,739 - mtpy.core.edi - INFO - Reading the edi file E:/Datasets/MT_Datasets/75098/EDI_files\\L15.edi\n",
      "2017-03-06 15:53:43,740 - mtpy.core.edi - INFO - Ordered arrays to be arranged from high to low frequency\n",
      "2017-03-06 15:53:43,746 - mtpy.core.edi - INFO - Read in edi file for station LP15\n",
      "2017-03-06 15:53:43,750 - mtpy.imaging.penetration_depth_3d_profile - DEBUG - the scale parameter= 355.881271709\n",
      "2017-03-06 15:53:43,750 - mtpy.imaging.penetration_depth_3d_profile - DEBUG - processing the edi file E:/Datasets/MT_Datasets/75098/EDI_files\\L16.edi\n",
      "2017-03-06 15:53:43,752 - mtpy.core.edi - INFO - Reading the edi file E:/Datasets/MT_Datasets/75098/EDI_files\\L16.edi\n",
      "2017-03-06 15:53:43,753 - mtpy.core.edi - INFO - Ordered arrays to be arranged from high to low frequency\n",
      "2017-03-06 15:53:43,759 - mtpy.core.edi - INFO - Read in edi file for station LP16\n",
      "2017-03-06 15:53:43,763 - mtpy.imaging.penetration_depth_3d_profile - DEBUG - the scale parameter= 355.881271709\n",
      "2017-03-06 15:53:43,765 - mtpy.imaging.penetration_depth_3d_profile - DEBUG - processing the edi file E:/Datasets/MT_Datasets/75098/EDI_files\\L17.edi\n",
      "2017-03-06 15:53:43,766 - mtpy.core.edi - INFO - Reading the edi file E:/Datasets/MT_Datasets/75098/EDI_files\\L17.edi\n",
      "2017-03-06 15:53:43,767 - mtpy.core.edi - INFO - Ordered arrays to be arranged from high to low frequency\n",
      "2017-03-06 15:53:43,773 - mtpy.core.edi - INFO - Read in edi file for station LP17\n",
      "2017-03-06 15:53:43,778 - mtpy.imaging.penetration_depth_3d_profile - DEBUG - the scale parameter= 355.881271709\n",
      "2017-03-06 15:53:43,779 - mtpy.imaging.penetration_depth_3d_profile - DEBUG - processing the edi file E:/Datasets/MT_Datasets/75098/EDI_files\\L18.edi\n",
      "2017-03-06 15:53:43,779 - mtpy.core.edi - INFO - Reading the edi file E:/Datasets/MT_Datasets/75098/EDI_files\\L18.edi\n",
      "2017-03-06 15:53:43,780 - mtpy.core.edi - INFO - Ordered arrays to be arranged from high to low frequency\n",
      "2017-03-06 15:53:43,785 - mtpy.core.edi - INFO - Read in edi file for station LP18\n",
      "2017-03-06 15:53:43,789 - mtpy.imaging.penetration_depth_3d_profile - DEBUG - the scale parameter= 355.881271709\n",
      "2017-03-06 15:53:43,789 - mtpy.imaging.penetration_depth_3d_profile - DEBUG - processing the edi file E:/Datasets/MT_Datasets/75098/EDI_files\\L19.edi\n",
      "2017-03-06 15:53:43,790 - mtpy.core.edi - INFO - Reading the edi file E:/Datasets/MT_Datasets/75098/EDI_files\\L19.edi\n",
      "2017-03-06 15:53:43,792 - mtpy.core.edi - INFO - Ordered arrays to be arranged from high to low frequency\n",
      "2017-03-06 15:53:43,796 - mtpy.core.edi - INFO - Read in edi file for station LP19\n",
      "2017-03-06 15:53:43,802 - mtpy.imaging.penetration_depth_3d_profile - DEBUG - the scale parameter= 355.881271709\n",
      "2017-03-06 15:53:43,802 - mtpy.imaging.penetration_depth_3d_profile - DEBUG - processing the edi file E:/Datasets/MT_Datasets/75098/EDI_files\\L20.edi\n",
      "2017-03-06 15:53:43,802 - mtpy.core.edi - INFO - Reading the edi file E:/Datasets/MT_Datasets/75098/EDI_files\\L20.edi\n",
      "2017-03-06 15:53:43,805 - mtpy.core.edi - INFO - Ordered arrays to be arranged from high to low frequency\n",
      "2017-03-06 15:53:43,809 - mtpy.core.edi - INFO - Read in edi file for station LP20\n",
      "2017-03-06 15:53:43,812 - mtpy.imaging.penetration_depth_3d_profile - DEBUG - the scale parameter= 355.881271709\n",
      "2017-03-06 15:53:43,813 - mtpy.imaging.penetration_depth_3d_profile - DEBUG - processing the edi file E:/Datasets/MT_Datasets/75098/EDI_files\\L21.edi\n",
      "2017-03-06 15:53:43,815 - mtpy.core.edi - INFO - Reading the edi file E:/Datasets/MT_Datasets/75098/EDI_files\\L21.edi\n",
      "2017-03-06 15:53:43,815 - mtpy.core.edi - INFO - Ordered arrays to be arranged from high to low frequency\n",
      "2017-03-06 15:53:43,821 - mtpy.core.edi - INFO - Read in edi file for station LP21\n",
      "2017-03-06 15:53:43,825 - mtpy.imaging.penetration_depth_3d_profile - DEBUG - the scale parameter= 355.881271709\n",
      "2017-03-06 15:53:43,826 - mtpy.imaging.penetration_depth_3d_profile - DEBUG - processing the edi file E:/Datasets/MT_Datasets/75098/EDI_files\\L22.edi\n",
      "2017-03-06 15:53:43,828 - mtpy.core.edi - INFO - Reading the edi file E:/Datasets/MT_Datasets/75098/EDI_files\\L22.edi\n",
      "2017-03-06 15:53:43,828 - mtpy.core.edi - INFO - Ordered arrays to be arranged from high to low frequency\n",
      "2017-03-06 15:53:43,834 - mtpy.core.edi - INFO - Read in edi file for station LP22\n",
      "2017-03-06 15:53:43,838 - mtpy.imaging.penetration_depth_3d_profile - DEBUG - the scale parameter= 355.881271709\n",
      "2017-03-06 15:53:43,839 - mtpy.imaging.penetration_depth_3d_profile - DEBUG - processing the edi file E:/Datasets/MT_Datasets/75098/EDI_files\\L23.edi\n",
      "2017-03-06 15:53:43,841 - mtpy.core.edi - INFO - Reading the edi file E:/Datasets/MT_Datasets/75098/EDI_files\\L23.edi\n",
      "2017-03-06 15:53:43,842 - mtpy.core.edi - INFO - Ordered arrays to be arranged from high to low frequency\n",
      "2017-03-06 15:53:43,846 - mtpy.core.edi - INFO - Read in edi file for station LP23\n",
      "2017-03-06 15:53:43,851 - mtpy.imaging.penetration_depth_3d_profile - DEBUG - the scale parameter= 355.881271709\n",
      "2017-03-06 15:53:43,852 - mtpy.imaging.penetration_depth_3d_profile - DEBUG - processing the edi file E:/Datasets/MT_Datasets/75098/EDI_files\\L24.edi\n",
      "2017-03-06 15:53:43,854 - mtpy.core.edi - INFO - Reading the edi file E:/Datasets/MT_Datasets/75098/EDI_files\\L24.edi\n",
      "2017-03-06 15:53:43,855 - mtpy.core.edi - INFO - Ordered arrays to be arranged from high to low frequency\n",
      "2017-03-06 15:53:43,861 - mtpy.core.edi - INFO - Read in edi file for station LP24\n"
     ]
    },
    {
     "name": "stderr",
     "output_type": "stream",
     "text": [
      "E:\\Githubz\\mtpy2\\mtpy\\analysis\\pt.py:1206: RuntimeWarning: invalid value encountered in absolute\n",
      "  np.sum([np.abs(-pt_array[0, 0] * realz[1, 1] * z_err_array[0, 0]) ** 2,\n",
      "E:\\Githubz\\mtpy2\\mtpy\\analysis\\pt.py:1206: RuntimeWarning: invalid value encountered in double_scalars\n",
      "  np.sum([np.abs(-pt_array[0, 0] * realz[1, 1] * z_err_array[0, 0]) ** 2,\n",
      "E:\\Githubz\\mtpy2\\mtpy\\analysis\\pt.py:1209: RuntimeWarning: invalid value encountered in absolute\n",
      "  z_err_array[0, 1]) ** 2,\n",
      "E:\\Githubz\\mtpy2\\mtpy\\analysis\\pt.py:1209: RuntimeWarning: invalid value encountered in double_scalars\n",
      "  z_err_array[0, 1]) ** 2,\n",
      "E:\\Githubz\\mtpy2\\mtpy\\analysis\\pt.py:1212: RuntimeWarning: invalid value encountered in absolute\n",
      "  np.abs(realz[1, 1] * z_err_array[0, 0]) ** 2,\n",
      "E:\\Githubz\\mtpy2\\mtpy\\analysis\\pt.py:1212: RuntimeWarning: invalid value encountered in double_scalars\n",
      "  np.abs(realz[1, 1] * z_err_array[0, 0]) ** 2,\n",
      "E:\\Githubz\\mtpy2\\mtpy\\analysis\\pt.py:1216: RuntimeWarning: invalid value encountered in absolute\n",
      "  np.sum([np.abs(-pt_array[0, 1] * realz[1, 1] * z_err_array[0, 0]) ** 2,\n",
      "E:\\Githubz\\mtpy2\\mtpy\\analysis\\pt.py:1216: RuntimeWarning: invalid value encountered in double_scalars\n",
      "  np.sum([np.abs(-pt_array[0, 1] * realz[1, 1] * z_err_array[0, 0]) ** 2,\n",
      "E:\\Githubz\\mtpy2\\mtpy\\analysis\\pt.py:1219: RuntimeWarning: invalid value encountered in absolute\n",
      "  z_err_array[0, 1]) ** 2,\n",
      "E:\\Githubz\\mtpy2\\mtpy\\analysis\\pt.py:1219: RuntimeWarning: invalid value encountered in double_scalars\n",
      "  z_err_array[0, 1]) ** 2,\n",
      "E:\\Githubz\\mtpy2\\mtpy\\analysis\\pt.py:1222: RuntimeWarning: invalid value encountered in absolute\n",
      "  np.abs(realz[1, 1] * z_err_array[0, 1]) ** 2,\n",
      "E:\\Githubz\\mtpy2\\mtpy\\analysis\\pt.py:1222: RuntimeWarning: invalid value encountered in double_scalars\n",
      "  np.abs(realz[1, 1] * z_err_array[0, 1]) ** 2,\n",
      "E:\\Githubz\\mtpy2\\mtpy\\analysis\\pt.py:1226: RuntimeWarning: invalid value encountered in absolute\n",
      "  np.sum([np.abs(pt_array[1, 0] * realz[1, 0] * z_err_array[0, 1]) ** 2,\n",
      "E:\\Githubz\\mtpy2\\mtpy\\analysis\\pt.py:1226: RuntimeWarning: invalid value encountered in double_scalars\n",
      "  np.sum([np.abs(pt_array[1, 0] * realz[1, 0] * z_err_array[0, 1]) ** 2,\n",
      "E:\\Githubz\\mtpy2\\mtpy\\analysis\\pt.py:1229: RuntimeWarning: invalid value encountered in absolute\n",
      "  z_err_array[0, 0]) ** 2,\n",
      "E:\\Githubz\\mtpy2\\mtpy\\analysis\\pt.py:1229: RuntimeWarning: invalid value encountered in double_scalars\n",
      "  z_err_array[0, 0]) ** 2,\n",
      "E:\\Githubz\\mtpy2\\mtpy\\analysis\\pt.py:1231: RuntimeWarning: invalid value encountered in absolute\n",
      "  z_err_array[0, 1]) ** 2,\n",
      "E:\\Githubz\\mtpy2\\mtpy\\analysis\\pt.py:1231: RuntimeWarning: invalid value encountered in double_scalars\n",
      "  z_err_array[0, 1]) ** 2,\n",
      "E:\\Githubz\\mtpy2\\mtpy\\analysis\\pt.py:1232: RuntimeWarning: invalid value encountered in absolute\n",
      "  np.abs(realz[1, 0] * z_err_array[0, 0]) ** 2,\n",
      "E:\\Githubz\\mtpy2\\mtpy\\analysis\\pt.py:1232: RuntimeWarning: invalid value encountered in double_scalars\n",
      "  np.abs(realz[1, 0] * z_err_array[0, 0]) ** 2,\n",
      "E:\\Githubz\\mtpy2\\mtpy\\analysis\\pt.py:1236: RuntimeWarning: invalid value encountered in absolute\n",
      "  np.sum([np.abs(pt_array[1, 1] * realz[1, 0] * z_err_array[0, 1]) ** 2,\n",
      "E:\\Githubz\\mtpy2\\mtpy\\analysis\\pt.py:1236: RuntimeWarning: invalid value encountered in double_scalars\n",
      "  np.sum([np.abs(pt_array[1, 1] * realz[1, 0] * z_err_array[0, 1]) ** 2,\n",
      "E:\\Githubz\\mtpy2\\mtpy\\analysis\\pt.py:1239: RuntimeWarning: invalid value encountered in absolute\n",
      "  z_err_array[0, 0]) ** 2,\n",
      "E:\\Githubz\\mtpy2\\mtpy\\analysis\\pt.py:1239: RuntimeWarning: invalid value encountered in double_scalars\n",
      "  z_err_array[0, 0]) ** 2,\n",
      "E:\\Githubz\\mtpy2\\mtpy\\analysis\\pt.py:1241: RuntimeWarning: invalid value encountered in absolute\n",
      "  z_err_array[0, 1]) ** 2,\n",
      "E:\\Githubz\\mtpy2\\mtpy\\analysis\\pt.py:1241: RuntimeWarning: invalid value encountered in double_scalars\n",
      "  z_err_array[0, 1]) ** 2,\n",
      "E:\\Githubz\\mtpy2\\mtpy\\analysis\\pt.py:1242: RuntimeWarning: invalid value encountered in absolute\n",
      "  np.abs(- realz[1, 0] * z_err_array[0, 1]) ** 2,\n",
      "E:\\Githubz\\mtpy2\\mtpy\\analysis\\pt.py:1242: RuntimeWarning: invalid value encountered in double_scalars\n",
      "  np.abs(- realz[1, 0] * z_err_array[0, 1]) ** 2,\n",
      "E:\\Githubz\\mtpy2\\mtpy\\analysis\\pt.py:1207: RuntimeWarning: invalid value encountered in absolute\n",
      "  np.abs(pt_array[0, 0] * realz[0, 1] * z_err_array[1, 0]) ** 2,\n",
      "E:\\Githubz\\mtpy2\\mtpy\\analysis\\pt.py:1207: RuntimeWarning: invalid value encountered in double_scalars\n",
      "  np.abs(pt_array[0, 0] * realz[0, 1] * z_err_array[1, 0]) ** 2,\n",
      "E:\\Githubz\\mtpy2\\mtpy\\analysis\\pt.py:1211: RuntimeWarning: invalid value encountered in absolute\n",
      "  z_err_array[1, 1]) ** 2,\n",
      "E:\\Githubz\\mtpy2\\mtpy\\analysis\\pt.py:1211: RuntimeWarning: invalid value encountered in double_scalars\n",
      "  z_err_array[1, 1]) ** 2,\n",
      "E:\\Githubz\\mtpy2\\mtpy\\analysis\\pt.py:1213: RuntimeWarning: invalid value encountered in absolute\n",
      "  np.abs(realz[0, 1] * z_err_array[1, 0]) ** 2]))\n",
      "E:\\Githubz\\mtpy2\\mtpy\\analysis\\pt.py:1213: RuntimeWarning: invalid value encountered in double_scalars\n",
      "  np.abs(realz[0, 1] * z_err_array[1, 0]) ** 2]))\n",
      "E:\\Githubz\\mtpy2\\mtpy\\analysis\\pt.py:1217: RuntimeWarning: invalid value encountered in absolute\n",
      "  np.abs(pt_array[0, 1] * realz[0, 1] * z_err_array[1, 0]) ** 2,\n",
      "E:\\Githubz\\mtpy2\\mtpy\\analysis\\pt.py:1217: RuntimeWarning: invalid value encountered in double_scalars\n",
      "  np.abs(pt_array[0, 1] * realz[0, 1] * z_err_array[1, 0]) ** 2,\n",
      "E:\\Githubz\\mtpy2\\mtpy\\analysis\\pt.py:1221: RuntimeWarning: invalid value encountered in absolute\n",
      "  z_err_array[1, 1]) ** 2,\n",
      "E:\\Githubz\\mtpy2\\mtpy\\analysis\\pt.py:1221: RuntimeWarning: invalid value encountered in double_scalars\n",
      "  z_err_array[1, 1]) ** 2,\n",
      "E:\\Githubz\\mtpy2\\mtpy\\analysis\\pt.py:1223: RuntimeWarning: invalid value encountered in absolute\n",
      "  np.abs(realz[0, 1] * z_err_array[1, 1]) ** 2]))\n",
      "E:\\Githubz\\mtpy2\\mtpy\\analysis\\pt.py:1223: RuntimeWarning: invalid value encountered in double_scalars\n",
      "  np.abs(realz[0, 1] * z_err_array[1, 1]) ** 2]))\n",
      "E:\\Githubz\\mtpy2\\mtpy\\analysis\\pt.py:1227: RuntimeWarning: invalid value encountered in absolute\n",
      "  np.abs(-pt_array[1, 0] * realz[0, 0] * z_err_array[1, 1]) ** 2,\n",
      "E:\\Githubz\\mtpy2\\mtpy\\analysis\\pt.py:1227: RuntimeWarning: invalid value encountered in double_scalars\n",
      "  np.abs(-pt_array[1, 0] * realz[0, 0] * z_err_array[1, 1]) ** 2,\n",
      "E:\\Githubz\\mtpy2\\mtpy\\analysis\\pt.py:1233: RuntimeWarning: invalid value encountered in absolute\n",
      "  np.abs(realz[0, 0] * z_err_array[1, 0]) ** 2]))\n",
      "E:\\Githubz\\mtpy2\\mtpy\\analysis\\pt.py:1233: RuntimeWarning: invalid value encountered in double_scalars\n",
      "  np.abs(realz[0, 0] * z_err_array[1, 0]) ** 2]))\n",
      "E:\\Githubz\\mtpy2\\mtpy\\analysis\\pt.py:1237: RuntimeWarning: invalid value encountered in absolute\n",
      "  np.abs(-pt_array[1, 1] * realz[0, 0] * z_err_array[1, 1]) ** 2,\n",
      "E:\\Githubz\\mtpy2\\mtpy\\analysis\\pt.py:1237: RuntimeWarning: invalid value encountered in double_scalars\n",
      "  np.abs(-pt_array[1, 1] * realz[0, 0] * z_err_array[1, 1]) ** 2,\n",
      "E:\\Githubz\\mtpy2\\mtpy\\analysis\\pt.py:1243: RuntimeWarning: invalid value encountered in absolute\n",
      "  np.abs(realz[0, 0] * z_err_array[1, 1]) ** 2]))\n",
      "E:\\Githubz\\mtpy2\\mtpy\\analysis\\pt.py:1243: RuntimeWarning: invalid value encountered in double_scalars\n",
      "  np.abs(realz[0, 0] * z_err_array[1, 1]) ** 2]))\n"
     ]
    },
    {
     "name": "stdout",
     "output_type": "stream",
     "text": [
      "2017-03-06 15:53:43,868 - mtpy.imaging.penetration_depth_3d_profile - DEBUG - the scale parameter= 355.881271709\n",
      "2017-03-06 15:53:43,868 - mtpy.imaging.penetration_depth_3d_profile - DEBUG - processing the edi file E:/Datasets/MT_Datasets/75098/EDI_files\\L25.edi\n",
      "2017-03-06 15:53:43,869 - mtpy.core.edi - INFO - Reading the edi file E:/Datasets/MT_Datasets/75098/EDI_files\\L25.edi\n",
      "2017-03-06 15:53:43,871 - mtpy.core.edi - INFO - Ordered arrays to be arranged from high to low frequency\n",
      "2017-03-06 15:53:43,875 - mtpy.core.edi - INFO - Read in edi file for station LP25\n",
      "2017-03-06 15:53:43,881 - mtpy.imaging.penetration_depth_3d_profile - DEBUG - the scale parameter= 355.881271709\n",
      "2017-03-06 15:53:43,881 - mtpy.imaging.penetration_depth_3d_profile - DEBUG - processing the edi file E:/Datasets/MT_Datasets/75098/EDI_files\\L26.edi\n",
      "2017-03-06 15:53:43,882 - mtpy.core.edi - INFO - Reading the edi file E:/Datasets/MT_Datasets/75098/EDI_files\\L26.edi\n",
      "2017-03-06 15:53:43,884 - mtpy.core.edi - INFO - Ordered arrays to be arranged from high to low frequency\n",
      "2017-03-06 15:53:43,890 - mtpy.core.edi - INFO - Read in edi file for station LP26\n",
      "2017-03-06 15:53:43,894 - mtpy.imaging.penetration_depth_3d_profile - DEBUG - the scale parameter= 355.881271709\n",
      "2017-03-06 15:53:43,895 - mtpy.imaging.penetration_depth_3d_profile - DEBUG - processing the edi file E:/Datasets/MT_Datasets/75098/EDI_files\\L27.edi\n",
      "2017-03-06 15:53:43,897 - mtpy.core.edi - INFO - Reading the edi file E:/Datasets/MT_Datasets/75098/EDI_files\\L27.edi\n",
      "2017-03-06 15:53:43,898 - mtpy.core.edi - INFO - Ordered arrays to be arranged from high to low frequency\n",
      "2017-03-06 15:53:43,904 - mtpy.core.edi - INFO - Read in edi file for station LP27\n",
      "2017-03-06 15:53:43,907 - mtpy.imaging.penetration_depth_3d_profile - DEBUG - the scale parameter= 355.881271709\n",
      "2017-03-06 15:53:43,910 - mtpy.imaging.penetration_depth_3d_profile - DEBUG - processing the edi file E:/Datasets/MT_Datasets/75098/EDI_files\\L28.edi\n",
      "2017-03-06 15:53:43,910 - mtpy.core.edi - INFO - Reading the edi file E:/Datasets/MT_Datasets/75098/EDI_files\\L28.edi\n",
      "2017-03-06 15:53:43,911 - mtpy.core.edi - INFO - Ordered arrays to be arranged from high to low frequency\n",
      "2017-03-06 15:53:43,917 - mtpy.core.edi - INFO - Read in edi file for station LP28\n",
      "2017-03-06 15:53:43,921 - mtpy.imaging.penetration_depth_3d_profile - DEBUG - the scale parameter= 355.881271709\n",
      "2017-03-06 15:53:43,924 - mtpy.imaging.penetration_depth_3d_profile - DEBUG - processing the edi file E:/Datasets/MT_Datasets/75098/EDI_files\\L29.edi\n",
      "2017-03-06 15:53:43,924 - mtpy.core.edi - INFO - Reading the edi file E:/Datasets/MT_Datasets/75098/EDI_files\\L29.edi\n",
      "2017-03-06 15:53:43,926 - mtpy.core.edi - INFO - Ordered arrays to be arranged from high to low frequency\n",
      "2017-03-06 15:53:43,930 - mtpy.core.edi - INFO - Read in edi file for station LP29\n",
      "2017-03-06 15:53:43,934 - mtpy.imaging.penetration_depth_3d_profile - DEBUG - the scale parameter= 355.881271709\n",
      "2017-03-06 15:53:43,934 - mtpy.imaging.penetration_depth_3d_profile - DEBUG - processing the edi file E:/Datasets/MT_Datasets/75098/EDI_files\\L30.edi\n",
      "2017-03-06 15:53:43,936 - mtpy.core.edi - INFO - Reading the edi file E:/Datasets/MT_Datasets/75098/EDI_files\\L30.edi\n",
      "2017-03-06 15:53:43,937 - mtpy.core.edi - INFO - Ordered arrays to be arranged from high to low frequency\n",
      "2017-03-06 15:53:43,944 - mtpy.core.edi - INFO - Read in edi file for station LP30\n",
      "2017-03-06 15:53:43,948 - mtpy.imaging.penetration_depth_3d_profile - DEBUG - the scale parameter= 355.881271709\n",
      "2017-03-06 15:53:43,950 - mtpy.imaging.penetration_depth_3d_profile - DEBUG - processing the edi file E:/Datasets/MT_Datasets/75098/EDI_files\\L31.edi\n",
      "2017-03-06 15:53:43,950 - mtpy.core.edi - INFO - Reading the edi file E:/Datasets/MT_Datasets/75098/EDI_files\\L31.edi\n",
      "2017-03-06 15:53:43,953 - mtpy.core.edi - INFO - Ordered arrays to be arranged from high to low frequency\n",
      "2017-03-06 15:53:43,957 - mtpy.core.edi - INFO - Read in edi file for station LP31\n",
      "2017-03-06 15:53:43,960 - mtpy.imaging.penetration_depth_3d_profile - DEBUG - the scale parameter= 355.881271709\n"
     ]
    }
   ],
   "source": [
    "\n",
    "EDI_DIR='/Softlab/Data/MT_datasets/728889/EDI_files'\n",
    "EDI_DIR='E:/Datasets/MT_Datasets/75098/EDI_files' #'E:/Datasets/MT_Datasets/728889/EDI_files'\n",
    "\n",
    "edi_files = glob.glob(os.path.join(EDI_DIR, \"*.edi\"))\n",
    "\n",
    "if (len(edi_files)<1):\n",
    "    raise Exception(\"No edi files found!!!\")\n",
    "    \n",
    "lat_lon_depth=process_edifiles(edi_files)"
   ]
  },
  {
   "cell_type": "code",
   "execution_count": 5,
   "metadata": {
    "collapsed": true
   },
   "outputs": [],
   "source": [
    "\n",
    "mypdf=pd.DataFrame(lat_lon_depth)"
   ]
  },
  {
   "cell_type": "code",
   "execution_count": 6,
   "metadata": {
    "collapsed": false
   },
   "outputs": [
    {
     "data": {
      "text/html": [
       "<div>\n",
       "<table border=\"1\" class=\"dataframe\">\n",
       "  <thead>\n",
       "    <tr style=\"text-align: right;\">\n",
       "      <th></th>\n",
       "      <th>0</th>\n",
       "      <th>1</th>\n",
       "      <th>2</th>\n",
       "    </tr>\n",
       "  </thead>\n",
       "  <tbody>\n",
       "    <tr>\n",
       "      <th>0</th>\n",
       "      <td>-25.0482</td>\n",
       "      <td>128.2728</td>\n",
       "      <td>5.17,54.13,69.46,111.20,139.19,214.43,266.28,4...</td>\n",
       "    </tr>\n",
       "    <tr>\n",
       "      <th>1</th>\n",
       "      <td>-25.1328</td>\n",
       "      <td>128.1152</td>\n",
       "      <td>10.33,86.29,191.71,386.30,542.84,856.02,1055.0...</td>\n",
       "    </tr>\n",
       "    <tr>\n",
       "      <th>2</th>\n",
       "      <td>-25.1951</td>\n",
       "      <td>128.0423</td>\n",
       "      <td>18.38,171.71,210.80,318.73,397.91,591.31,714.9...</td>\n",
       "    </tr>\n",
       "    <tr>\n",
       "      <th>3</th>\n",
       "      <td>-25.2557</td>\n",
       "      <td>127.9728</td>\n",
       "      <td>19.55,62.79,76.11,112.53,140.22,217.03,271.02,...</td>\n",
       "    </tr>\n",
       "    <tr>\n",
       "      <th>4</th>\n",
       "      <td>-25.2959</td>\n",
       "      <td>127.8855</td>\n",
       "      <td>46.14,89.30,94.37,119.33,141.58,199.62,240.01,...</td>\n",
       "    </tr>\n",
       "  </tbody>\n",
       "</table>\n",
       "</div>"
      ],
      "text/plain": [
       "         0         1                                                  2\n",
       "0 -25.0482  128.2728  5.17,54.13,69.46,111.20,139.19,214.43,266.28,4...\n",
       "1 -25.1328  128.1152  10.33,86.29,191.71,386.30,542.84,856.02,1055.0...\n",
       "2 -25.1951  128.0423  18.38,171.71,210.80,318.73,397.91,591.31,714.9...\n",
       "3 -25.2557  127.9728  19.55,62.79,76.11,112.53,140.22,217.03,271.02,...\n",
       "4 -25.2959  127.8855  46.14,89.30,94.37,119.33,141.58,199.62,240.01,..."
      ]
     },
     "execution_count": 6,
     "metadata": {},
     "output_type": "execute_result"
    }
   ],
   "source": [
    "mypdf.head()"
   ]
  },
  {
   "cell_type": "code",
   "execution_count": 7,
   "metadata": {
    "collapsed": false
   },
   "outputs": [],
   "source": [
    "history(mypdf.rename())"
   ]
  },
  {
   "cell_type": "code",
   "execution_count": 8,
   "metadata": {
    "collapsed": true
   },
   "outputs": [],
   "source": [
    "mypdf.rename(columns={0: 'lat', 1: 'lon', 2: 'pendepths'}, inplace=True)"
   ]
  },
  {
   "cell_type": "code",
   "execution_count": 9,
   "metadata": {
    "collapsed": false
   },
   "outputs": [
    {
     "data": {
      "text/html": [
       "<div>\n",
       "<table border=\"1\" class=\"dataframe\">\n",
       "  <thead>\n",
       "    <tr style=\"text-align: right;\">\n",
       "      <th></th>\n",
       "      <th>lat</th>\n",
       "      <th>lon</th>\n",
       "      <th>pendepths</th>\n",
       "    </tr>\n",
       "  </thead>\n",
       "  <tbody>\n",
       "    <tr>\n",
       "      <th>0</th>\n",
       "      <td>-25.0482</td>\n",
       "      <td>128.2728</td>\n",
       "      <td>5.17,54.13,69.46,111.20,139.19,214.43,266.28,4...</td>\n",
       "    </tr>\n",
       "    <tr>\n",
       "      <th>1</th>\n",
       "      <td>-25.1328</td>\n",
       "      <td>128.1152</td>\n",
       "      <td>10.33,86.29,191.71,386.30,542.84,856.02,1055.0...</td>\n",
       "    </tr>\n",
       "    <tr>\n",
       "      <th>2</th>\n",
       "      <td>-25.1951</td>\n",
       "      <td>128.0423</td>\n",
       "      <td>18.38,171.71,210.80,318.73,397.91,591.31,714.9...</td>\n",
       "    </tr>\n",
       "    <tr>\n",
       "      <th>3</th>\n",
       "      <td>-25.2557</td>\n",
       "      <td>127.9728</td>\n",
       "      <td>19.55,62.79,76.11,112.53,140.22,217.03,271.02,...</td>\n",
       "    </tr>\n",
       "    <tr>\n",
       "      <th>4</th>\n",
       "      <td>-25.2959</td>\n",
       "      <td>127.8855</td>\n",
       "      <td>46.14,89.30,94.37,119.33,141.58,199.62,240.01,...</td>\n",
       "    </tr>\n",
       "  </tbody>\n",
       "</table>\n",
       "</div>"
      ],
      "text/plain": [
       "       lat       lon                                          pendepths\n",
       "0 -25.0482  128.2728  5.17,54.13,69.46,111.20,139.19,214.43,266.28,4...\n",
       "1 -25.1328  128.1152  10.33,86.29,191.71,386.30,542.84,856.02,1055.0...\n",
       "2 -25.1951  128.0423  18.38,171.71,210.80,318.73,397.91,591.31,714.9...\n",
       "3 -25.2557  127.9728  19.55,62.79,76.11,112.53,140.22,217.03,271.02,...\n",
       "4 -25.2959  127.8855  46.14,89.30,94.37,119.33,141.58,199.62,240.01,..."
      ]
     },
     "execution_count": 9,
     "metadata": {},
     "output_type": "execute_result"
    }
   ],
   "source": [
    "mypdf.head()"
   ]
  },
  {
   "cell_type": "code",
   "execution_count": 10,
   "metadata": {
    "collapsed": false
   },
   "outputs": [
    {
     "data": {
      "text/plain": [
       "(68, 3)"
      ]
     },
     "execution_count": 10,
     "metadata": {},
     "output_type": "execute_result"
    }
   ],
   "source": [
    "mypdf.shape"
   ]
  },
  {
   "cell_type": "code",
   "execution_count": 11,
   "metadata": {
    "collapsed": false
   },
   "outputs": [],
   "source": [
    "from shapely.geometry import Point\n",
    "\n",
    "# combine lat and lon column to a shapely Point() object\n",
    "mypdf['geometry'] = mypdf.apply(lambda x: Point((float(x[1]), float(x[0]))), axis=1)"
   ]
  },
  {
   "cell_type": "code",
   "execution_count": 12,
   "metadata": {
    "collapsed": false
   },
   "outputs": [],
   "source": [
    "mygdf = gpd.GeoDataFrame(mypdf, geometry='geometry')"
   ]
  },
  {
   "cell_type": "code",
   "execution_count": 13,
   "metadata": {
    "collapsed": false
   },
   "outputs": [
    {
     "data": {
      "text/html": [
       "<div>\n",
       "<table border=\"1\" class=\"dataframe\">\n",
       "  <thead>\n",
       "    <tr style=\"text-align: right;\">\n",
       "      <th></th>\n",
       "      <th>lat</th>\n",
       "      <th>lon</th>\n",
       "      <th>pendepths</th>\n",
       "      <th>geometry</th>\n",
       "    </tr>\n",
       "  </thead>\n",
       "  <tbody>\n",
       "    <tr>\n",
       "      <th>0</th>\n",
       "      <td>-25.0482</td>\n",
       "      <td>128.2728</td>\n",
       "      <td>5.17,54.13,69.46,111.20,139.19,214.43,266.28,4...</td>\n",
       "      <td>POINT (128.2728 -25.0482)</td>\n",
       "    </tr>\n",
       "    <tr>\n",
       "      <th>1</th>\n",
       "      <td>-25.1328</td>\n",
       "      <td>128.1152</td>\n",
       "      <td>10.33,86.29,191.71,386.30,542.84,856.02,1055.0...</td>\n",
       "      <td>POINT (128.1152 -25.1328)</td>\n",
       "    </tr>\n",
       "    <tr>\n",
       "      <th>2</th>\n",
       "      <td>-25.1951</td>\n",
       "      <td>128.0423</td>\n",
       "      <td>18.38,171.71,210.80,318.73,397.91,591.31,714.9...</td>\n",
       "      <td>POINT (128.0423 -25.1951)</td>\n",
       "    </tr>\n",
       "    <tr>\n",
       "      <th>3</th>\n",
       "      <td>-25.2557</td>\n",
       "      <td>127.9728</td>\n",
       "      <td>19.55,62.79,76.11,112.53,140.22,217.03,271.02,...</td>\n",
       "      <td>POINT (127.9728 -25.2557)</td>\n",
       "    </tr>\n",
       "    <tr>\n",
       "      <th>4</th>\n",
       "      <td>-25.2959</td>\n",
       "      <td>127.8855</td>\n",
       "      <td>46.14,89.30,94.37,119.33,141.58,199.62,240.01,...</td>\n",
       "      <td>POINT (127.8855 -25.2959)</td>\n",
       "    </tr>\n",
       "  </tbody>\n",
       "</table>\n",
       "</div>"
      ],
      "text/plain": [
       "       lat       lon                                          pendepths  \\\n",
       "0 -25.0482  128.2728  5.17,54.13,69.46,111.20,139.19,214.43,266.28,4...   \n",
       "1 -25.1328  128.1152  10.33,86.29,191.71,386.30,542.84,856.02,1055.0...   \n",
       "2 -25.1951  128.0423  18.38,171.71,210.80,318.73,397.91,591.31,714.9...   \n",
       "3 -25.2557  127.9728  19.55,62.79,76.11,112.53,140.22,217.03,271.02,...   \n",
       "4 -25.2959  127.8855  46.14,89.30,94.37,119.33,141.58,199.62,240.01,...   \n",
       "\n",
       "                    geometry  \n",
       "0  POINT (128.2728 -25.0482)  \n",
       "1  POINT (128.1152 -25.1328)  \n",
       "2  POINT (128.0423 -25.1951)  \n",
       "3  POINT (127.9728 -25.2557)  \n",
       "4  POINT (127.8855 -25.2959)  "
      ]
     },
     "execution_count": 13,
     "metadata": {},
     "output_type": "execute_result"
    }
   ],
   "source": [
    "mygdf.head()"
   ]
  },
  {
   "cell_type": "code",
   "execution_count": 14,
   "metadata": {
    "collapsed": false
   },
   "outputs": [
    {
     "name": "stdout",
     "output_type": "stream",
     "text": [
      "2017-03-06 15:53:44,073 - Fiona - DEBUG - Deleted pre-existing layer at mt_survey_sites\n",
      "2017-03-06 15:53:44,101 - Fiona - DEBUG - Created layer\n",
      "2017-03-06 15:53:44,102 - Fiona - DEBUG - Creating field: lat float\n",
      "2017-03-06 15:53:44,102 - Fiona - DEBUG - Creating field: lon float\n",
      "2017-03-06 15:53:44,104 - Fiona - DEBUG - Creating field: pendepths str\n",
      "2017-03-06 15:53:44,105 - Fiona - DEBUG - Created fields\n",
      "2017-03-06 15:53:44,105 - Fiona - DEBUG - Writing started\n",
      "2017-03-06 15:53:44,107 - Fiona - DEBUG - Creating feature in layer: {'geometry': {'type': 'Point', 'coordinates': (128.2728, -25.0482)}, 'type': 'Feature', 'id': '0', 'properties': {'lat': -25.0482, 'lon': 128.2728, 'pendepths': '5.17,54.13,69.46,111.20,139.19,214.43,266.28,407.71,507.76,761.33,878.99,1180.16,1521.12,2126.29,2306.96,2899.96,3249.37,4128.82,4557.48,5581.23,6307.60,7911.22,8222.69,9446.33,10518.26,11536.26,12501.66,16185.18,17180.18,22980.80,28480.77,43330.94'}}\n",
      "2017-03-06 15:53:44,108 - Fiona - DEBUG - Looking up lat in {'lat': u'lat', 'lon': u'lon', 'pendepths': u'pendepths'}\n",
      "2017-03-06 15:53:44,108 - Fiona - DEBUG - Set field lat: -25.0482\n",
      "2017-03-06 15:53:44,109 - Fiona - DEBUG - Looking up lon in {'lat': u'lat', 'lon': u'lon', 'pendepths': u'pendepths'}\n",
      "2017-03-06 15:53:44,109 - Fiona - DEBUG - Set field lon: 128.2728\n",
      "2017-03-06 15:53:44,111 - Fiona - DEBUG - Looking up pendepths in {'lat': u'lat', 'lon': u'lon', 'pendepths': u'pendepths'}\n",
      "2017-03-06 15:53:44,111 - Fiona - DEBUG - Set field pendepths: 5.17,54.13,69.46,111.20,139.19,214.43,266.28,407.71,507.76,761.33,878.99,1180.16,1521.12,2126.29,2306.96,2899.96,3249.37,4128.82,4557.48,5581.23,6307.60,7911.22,8222.69,9446.33,10518.26,11536.26,12501.66,16185.18,17180.18,22980.80,28480.77,43330.94\n",
      "2017-03-06 15:53:44,112 - Fiona - DEBUG - Creating feature in layer: {'geometry': {'type': 'Point', 'coordinates': (128.1152, -25.1328)}, 'type': 'Feature', 'id': '1', 'properties': {'lat': -25.1328, 'lon': 128.1152, 'pendepths': '10.33,86.29,191.71,386.30,542.84,856.02,1055.00,1549.35,1876.25,2714.01,3127.99,4085.34,5162.82,6899.64,7370.28,8785.55,9687.33,11632.73,12537.45,14864.88,16495.97,18629.72,18582.30,19884.86,21298.91,26879.79,29853.52,35736.16,36823.47,43549.00,49507.46,61634.88'}}\n",
      "2017-03-06 15:53:44,112 - Fiona - DEBUG - Looking up lat in {'lat': u'lat', 'lon': u'lon', 'pendepths': u'pendepths'}\n",
      "2017-03-06 15:53:44,114 - Fiona - DEBUG - Set field lat: -25.1328\n",
      "2017-03-06 15:53:44,114 - Fiona - DEBUG - Looking up lon in {'lat': u'lat', 'lon': u'lon', 'pendepths': u'pendepths'}\n",
      "2017-03-06 15:53:44,115 - Fiona - DEBUG - Set field lon: 128.1152\n",
      "2017-03-06 15:53:44,115 - Fiona - DEBUG - Looking up pendepths in {'lat': u'lat', 'lon': u'lon', 'pendepths': u'pendepths'}\n",
      "2017-03-06 15:53:44,115 - Fiona - DEBUG - Set field pendepths: 10.33,86.29,191.71,386.30,542.84,856.02,1055.00,1549.35,1876.25,2714.01,3127.99,4085.34,5162.82,6899.64,7370.28,8785.55,9687.33,11632.73,12537.45,14864.88,16495.97,18629.72,18582.30,19884.86,21298.91,26879.79,29853.52,35736.16,36823.47,43549.00,49507.46,61634.88\n",
      "2017-03-06 15:53:44,117 - Fiona - DEBUG - Creating feature in layer: {'geometry': {'type': 'Point', 'coordinates': (128.0423, -25.1951)}, 'type': 'Feature', 'id': '2', 'properties': {'lat': -25.1951, 'lon': 128.0423, 'pendepths': '18.38,171.71,210.80,318.73,397.91,591.31,714.90,1033.76,1244.65,1792.09,2045.71,2741.37,3438.48,4727.32,5134.67,6373.73,7252.61,9347.70,10144.00,12232.96,14042.41,17605.37,18633.79,21040.37,21883.87,22118.61,26379.49,31335.40,34123.54,45086.71,54698.35,81168.29'}}\n",
      "2017-03-06 15:53:44,117 - Fiona - DEBUG - Looking up lat in {'lat': u'lat', 'lon': u'lon', 'pendepths': u'pendepths'}\n",
      "2017-03-06 15:53:44,118 - Fiona - DEBUG - Set field lat: -25.1951\n",
      "2017-03-06 15:53:44,118 - Fiona - DEBUG - Looking up lon in {'lat': u'lat', 'lon': u'lon', 'pendepths': u'pendepths'}\n",
      "2017-03-06 15:53:44,118 - Fiona - DEBUG - Set field lon: 128.0423\n",
      "2017-03-06 15:53:44,119 - Fiona - DEBUG - Looking up pendepths in {'lat': u'lat', 'lon': u'lon', 'pendepths': u'pendepths'}\n",
      "2017-03-06 15:53:44,119 - Fiona - DEBUG - Set field pendepths: 18.38,171.71,210.80,318.73,397.91,591.31,714.90,1033.76,1244.65,1792.09,2045.71,2741.37,3438.48,4727.32,5134.67,6373.73,7252.61,9347.70,10144.00,12232.96,14042.41,17605.37,18633.79,21040.37,21883.87,22118.61,26379.49,31335.40,34123.54,45086.71,54698.35,81168.29\n",
      "2017-03-06 15:53:44,121 - Fiona - DEBUG - Creating feature in layer: {'geometry': {'type': 'Point', 'coordinates': (127.9728, -25.2557)}, 'type': 'Feature', 'id': '3', 'properties': {'lat': -25.2557, 'lon': 127.9728, 'pendepths': '19.55,62.79,76.11,112.53,140.22,217.03,271.02,428.76,538.60,841.78,1003.35,1426.98,1832.73,2703.82,3058.62,4202.01,4956.78,6918.92,7990.08,10430.91,11990.52,15220.46,16449.02,18468.82,19903.66,22066.63,24974.63,30091.42,33331.31,43483.60,53699.21,78088.09'}}\n",
      "2017-03-06 15:53:44,121 - Fiona - DEBUG - Looking up lat in {'lat': u'lat', 'lon': u'lon', 'pendepths': u'pendepths'}\n",
      "2017-03-06 15:53:44,121 - Fiona - DEBUG - Set field lat: -25.2557\n",
      "2017-03-06 15:53:44,122 - Fiona - DEBUG - Looking up lon in {'lat': u'lat', 'lon': u'lon', 'pendepths': u'pendepths'}\n",
      "2017-03-06 15:53:44,122 - Fiona - DEBUG - Set field lon: 127.9728\n",
      "2017-03-06 15:53:44,124 - Fiona - DEBUG - Looking up pendepths in {'lat': u'lat', 'lon': u'lon', 'pendepths': u'pendepths'}\n",
      "2017-03-06 15:53:44,124 - Fiona - DEBUG - Set field pendepths: 19.55,62.79,76.11,112.53,140.22,217.03,271.02,428.76,538.60,841.78,1003.35,1426.98,1832.73,2703.82,3058.62,4202.01,4956.78,6918.92,7990.08,10430.91,11990.52,15220.46,16449.02,18468.82,19903.66,22066.63,24974.63,30091.42,33331.31,43483.60,53699.21,78088.09\n",
      "2017-03-06 15:53:44,125 - Fiona - DEBUG - Creating feature in layer: {'geometry': {'type': 'Point', 'coordinates': (127.8855, -25.2959)}, 'type': 'Feature', 'id': '4', 'properties': {'lat': -25.2959, 'lon': 127.8855, 'pendepths': '46.14,89.30,94.37,119.33,141.58,199.62,240.01,356.44,432.68,641.58,761.28,1131.90,1424.38,2293.80,2808.77,4372.29,5430.54,8347.35,9840.12,13642.92,16167.42,22052.87,24137.68,29010.86,30550.76,32857.99,36765.41,45372.80,50014.55,65509.44,80745.98,116273.71'}}\n",
      "2017-03-06 15:53:44,125 - Fiona - DEBUG - Looking up lat in {'lat': u'lat', 'lon': u'lon', 'pendepths': u'pendepths'}\n",
      "2017-03-06 15:53:44,125 - Fiona - DEBUG - Set field lat: -25.2959\n",
      "2017-03-06 15:53:44,127 - Fiona - DEBUG - Looking up lon in {'lat': u'lat', 'lon': u'lon', 'pendepths': u'pendepths'}\n",
      "2017-03-06 15:53:44,127 - Fiona - DEBUG - Set field lon: 127.8855\n",
      "2017-03-06 15:53:44,128 - Fiona - DEBUG - Looking up pendepths in {'lat': u'lat', 'lon': u'lon', 'pendepths': u'pendepths'}\n",
      "2017-03-06 15:53:44,128 - Fiona - DEBUG - Set field pendepths: 46.14,89.30,94.37,119.33,141.58,199.62,240.01,356.44,432.68,641.58,761.28,1131.90,1424.38,2293.80,2808.77,4372.29,5430.54,8347.35,9840.12,13642.92,16167.42,22052.87,24137.68,29010.86,30550.76,32857.99,36765.41,45372.80,50014.55,65509.44,80745.98,116273.71\n",
      "2017-03-06 15:53:44,128 - Fiona - DEBUG - Creating feature in layer: {'geometry': {'type': 'Point', 'coordinates': (127.7889, -25.307)}, 'type': 'Feature', 'id': '5', 'properties': {'lat': -25.307, 'lon': 127.7889, 'pendepths': '191.65,396.49,458.73,594.26,693.53,921.06,1068.28,1467.79,1748.06,2505.23,2906.82,3976.55,4942.70,7229.58,8339.07,11881.53,14207.03,20347.73,23732.40,31817.36,36606.76,46805.37,51331.17,59557.88,63099.52,76800.80,84339.15,99833.47,104075.40,133484.89,158876.76,228070.65'}}\n",
      "2017-03-06 15:53:44,130 - Fiona - DEBUG - Looking up lat in {'lat': u'lat', 'lon': u'lon', 'pendepths': u'pendepths'}\n",
      "2017-03-06 15:53:44,130 - Fiona - DEBUG - Set field lat: -25.307\n",
      "2017-03-06 15:53:44,131 - Fiona - DEBUG - Looking up lon in {'lat': u'lat', 'lon': u'lon', 'pendepths': u'pendepths'}\n",
      "2017-03-06 15:53:44,131 - Fiona - DEBUG - Set field lon: 127.7889\n",
      "2017-03-06 15:53:44,131 - Fiona - DEBUG - Looking up pendepths in {'lat': u'lat', 'lon': u'lon', 'pendepths': u'pendepths'}\n",
      "2017-03-06 15:53:44,131 - Fiona - DEBUG - Set field pendepths: 191.65,396.49,458.73,594.26,693.53,921.06,1068.28,1467.79,1748.06,2505.23,2906.82,3976.55,4942.70,7229.58,8339.07,11881.53,14207.03,20347.73,23732.40,31817.36,36606.76,46805.37,51331.17,59557.88,63099.52,76800.80,84339.15,99833.47,104075.40,133484.89,158876.76,228070.65\n",
      "2017-03-06 15:53:44,132 - Fiona - DEBUG - Creating feature in layer: {'geometry': {'type': 'Point', 'coordinates': (127.7019, -25.3445)}, 'type': 'Feature', 'id': '6', 'properties': {'lat': -25.3445, 'lon': 127.7019, 'pendepths': '521.58,1097.62,1257.28,1722.09,2082.13,2890.82,3381.95,4563.37,5302.99,6992.92,7667.30,9663.54,11572.74,15237.77,17108.70,22771.48,26308.53,35429.54,40640.59,53226.22,58862.62,70839.71,78008.80,89054.51,96340.25,113052.51,124912.45,153226.53,158939.10,202022.00,237622.23,343702.15'}}\n",
      "2017-03-06 15:53:44,134 - Fiona - DEBUG - Looking up lat in {'lat': u'lat', 'lon': u'lon', 'pendepths': u'pendepths'}\n",
      "2017-03-06 15:53:44,134 - Fiona - DEBUG - Set field lat: -25.3445\n",
      "2017-03-06 15:53:44,134 - Fiona - DEBUG - Looking up lon in {'lat': u'lat', 'lon': u'lon', 'pendepths': u'pendepths'}\n",
      "2017-03-06 15:53:44,135 - Fiona - DEBUG - Set field lon: 127.7019\n",
      "2017-03-06 15:53:44,135 - Fiona - DEBUG - Looking up pendepths in {'lat': u'lat', 'lon': u'lon', 'pendepths': u'pendepths'}\n",
      "2017-03-06 15:53:44,137 - Fiona - DEBUG - Set field pendepths: 521.58,1097.62,1257.28,1722.09,2082.13,2890.82,3381.95,4563.37,5302.99,6992.92,7667.30,9663.54,11572.74,15237.77,17108.70,22771.48,26308.53,35429.54,40640.59,53226.22,58862.62,70839.71,78008.80,89054.51,96340.25,113052.51,124912.45,153226.53,158939.10,202022.00,237622.23,343702.15\n",
      "2017-03-06 15:53:44,138 - Fiona - DEBUG - Creating feature in layer: {'geometry': {'type': 'Point', 'coordinates': (127.6127, -25.3905)}, 'type': 'Feature', 'id': '7', 'properties': {'lat': -25.3905, 'lon': 127.6127, 'pendepths': '8.21,31.57,39.94,67.30,87.49,143.67,181.79,286.87,360.80,558.85,666.34,961.01,1258.72,1939.86,2260.29,3251.15,3889.97,5572.85,6554.31,8920.00,10390.79,13865.03,15258.82,17822.58,19181.07,22415.08,26221.91,31937.52,34829.23,44610.74,53384.53,74748.70'}}\n",
      "2017-03-06 15:53:44,138 - Fiona - DEBUG - Looking up lat in {'lat': u'lat', 'lon': u'lon', 'pendepths': u'pendepths'}\n",
      "2017-03-06 15:53:44,138 - Fiona - DEBUG - Set field lat: -25.3905\n",
      "2017-03-06 15:53:44,140 - Fiona - DEBUG - Looking up lon in {'lat': u'lat', 'lon': u'lon', 'pendepths': u'pendepths'}\n",
      "2017-03-06 15:53:44,140 - Fiona - DEBUG - Set field lon: 127.6127\n",
      "2017-03-06 15:53:44,141 - Fiona - DEBUG - Looking up pendepths in {'lat': u'lat', 'lon': u'lon', 'pendepths': u'pendepths'}\n",
      "2017-03-06 15:53:44,141 - Fiona - DEBUG - Set field pendepths: 8.21,31.57,39.94,67.30,87.49,143.67,181.79,286.87,360.80,558.85,666.34,961.01,1258.72,1939.86,2260.29,3251.15,3889.97,5572.85,6554.31,8920.00,10390.79,13865.03,15258.82,17822.58,19181.07,22415.08,26221.91,31937.52,34829.23,44610.74,53384.53,74748.70\n",
      "2017-03-06 15:53:44,141 - Fiona - DEBUG - Creating feature in layer: {'geometry': {'type': 'Point', 'coordinates': (127.4315, -25.4592)}, 'type': 'Feature', 'id': '8', 'properties': {'lat': -25.4592, 'lon': 127.4315, 'pendepths': '22.53,62.20,74.89,111.46,140.07,215.36,266.26,401.93,496.53,748.64,907.45,1369.24,1786.07,2849.10,3429.13,5117.69,6127.43,8913.75,10446.21,14356.27,16686.50,22333.46,24413.31,30960.83,33181.20,40380.72,44343.00,53399.03,57709.88,73904.16,83830.42,124289.91'}}\n",
      "2017-03-06 15:53:44,142 - Fiona - DEBUG - Looking up lat in {'lat': u'lat', 'lon': u'lon', 'pendepths': u'pendepths'}\n",
      "2017-03-06 15:53:44,142 - Fiona - DEBUG - Set field lat: -25.4592\n",
      "2017-03-06 15:53:44,144 - Fiona - DEBUG - Looking up lon in {'lat': u'lat', 'lon': u'lon', 'pendepths': u'pendepths'}\n",
      "2017-03-06 15:53:44,144 - Fiona - DEBUG - Set field lon: 127.4315\n",
      "2017-03-06 15:53:44,144 - Fiona - DEBUG - Looking up pendepths in {'lat': u'lat', 'lon': u'lon', 'pendepths': u'pendepths'}\n",
      "2017-03-06 15:53:44,144 - Fiona - DEBUG - Set field pendepths: 22.53,62.20,74.89,111.46,140.07,215.36,266.26,401.93,496.53,748.64,907.45,1369.24,1786.07,2849.10,3429.13,5117.69,6127.43,8913.75,10446.21,14356.27,16686.50,22333.46,24413.31,30960.83,33181.20,40380.72,44343.00,53399.03,57709.88,73904.16,83830.42,124289.91\n",
      "2017-03-06 15:53:44,145 - Fiona - DEBUG - Creating feature in layer: {'geometry': {'type': 'Point', 'coordinates': (127.3649, -25.5206)}, 'type': 'Feature', 'id': '9', 'properties': {'lat': -25.5206, 'lon': 127.3649, 'pendepths': '39.72,264.48,311.49,445.84,547.30,789.94,947.78,1348.61,1618.28,2264.57,2580.15,3545.63,4533.54,6876.40,8061.47,11634.58,13724.75,19206.77,22285.33,29509.43,33601.79,42170.90,46107.65,56624.09,62547.11,70058.37,81728.18,102926.41,105101.53,134436.74,159946.79,227425.40'}}\n",
      "2017-03-06 15:53:44,147 - Fiona - DEBUG - Looking up lat in {'lat': u'lat', 'lon': u'lon', 'pendepths': u'pendepths'}\n",
      "2017-03-06 15:53:44,147 - Fiona - DEBUG - Set field lat: -25.5206\n",
      "2017-03-06 15:53:44,148 - Fiona - DEBUG - Looking up lon in {'lat': u'lat', 'lon': u'lon', 'pendepths': u'pendepths'}\n",
      "2017-03-06 15:53:44,148 - Fiona - DEBUG - Set field lon: 127.3649\n",
      "2017-03-06 15:53:44,148 - Fiona - DEBUG - Looking up pendepths in {'lat': u'lat', 'lon': u'lon', 'pendepths': u'pendepths'}\n",
      "2017-03-06 15:53:44,148 - Fiona - DEBUG - Set field pendepths: 39.72,264.48,311.49,445.84,547.30,789.94,947.78,1348.61,1618.28,2264.57,2580.15,3545.63,4533.54,6876.40,8061.47,11634.58,13724.75,19206.77,22285.33,29509.43,33601.79,42170.90,46107.65,56624.09,62547.11,70058.37,81728.18,102926.41,105101.53,134436.74,159946.79,227425.40\n",
      "2017-03-06 15:53:44,151 - Fiona - DEBUG - Creating feature in layer: {'geometry': {'type': 'Point', 'coordinates': (127.2845, -25.5594)}, 'type': 'Feature', 'id': '10', 'properties': {'lat': -25.5594, 'lon': 127.2845, 'pendepths': '16.24,50.51,60.01,89.14,112.24,177.24,221.11,346.07,430.03,662.31,806.95,1212.59,1520.93,2351.08,2834.72,4221.93,5119.78,7488.45,8711.11,11765.94,13826.55,18465.23,20265.21,24533.69,26830.09,31094.97,36221.58,43472.26,49068.07,63441.31,75930.31,107062.64'}}\n",
      "2017-03-06 15:53:44,151 - Fiona - DEBUG - Looking up lat in {'lat': u'lat', 'lon': u'lon', 'pendepths': u'pendepths'}\n",
      "2017-03-06 15:53:44,151 - Fiona - DEBUG - Set field lat: -25.5594\n",
      "2017-03-06 15:53:44,151 - Fiona - DEBUG - Looking up lon in {'lat': u'lat', 'lon': u'lon', 'pendepths': u'pendepths'}\n",
      "2017-03-06 15:53:44,153 - Fiona - DEBUG - Set field lon: 127.2845\n",
      "2017-03-06 15:53:44,153 - Fiona - DEBUG - Looking up pendepths in {'lat': u'lat', 'lon': u'lon', 'pendepths': u'pendepths'}\n",
      "2017-03-06 15:53:44,154 - Fiona - DEBUG - Set field pendepths: 16.24,50.51,60.01,89.14,112.24,177.24,221.11,346.07,430.03,662.31,806.95,1212.59,1520.93,2351.08,2834.72,4221.93,5119.78,7488.45,8711.11,11765.94,13826.55,18465.23,20265.21,24533.69,26830.09,31094.97,36221.58,43472.26,49068.07,63441.31,75930.31,107062.64\n",
      "2017-03-06 15:53:44,154 - Fiona - DEBUG - Creating feature in layer: {'geometry': {'type': 'Point', 'coordinates': (127.1832, -25.7097)}, 'type': 'Feature', 'id': '11', 'properties': {'lat': -25.7097, 'lon': 127.1832, 'pendepths': '103.50,345.38,426.71,646.20,809.79,1222.13,1482.65,2163.82,2594.17,3750.12,4293.62,5972.89,7478.68,10948.19,12375.34,16992.63,19794.99,26764.25,30434.66,39729.96,44437.22,54835.85,61178.49,73608.68,79072.91,103092.57,110924.15,142653.98,147824.23,188104.91,225892.71,310294.75'}}\n",
      "2017-03-06 15:53:44,154 - Fiona - DEBUG - Looking up lat in {'lat': u'lat', 'lon': u'lon', 'pendepths': u'pendepths'}\n",
      "2017-03-06 15:53:44,155 - Fiona - DEBUG - Set field lat: -25.7097\n",
      "2017-03-06 15:53:44,155 - Fiona - DEBUG - Looking up lon in {'lat': u'lat', 'lon': u'lon', 'pendepths': u'pendepths'}\n",
      "2017-03-06 15:53:44,157 - Fiona - DEBUG - Set field lon: 127.1832\n",
      "2017-03-06 15:53:44,157 - Fiona - DEBUG - Looking up pendepths in {'lat': u'lat', 'lon': u'lon', 'pendepths': u'pendepths'}\n",
      "2017-03-06 15:53:44,157 - Fiona - DEBUG - Set field pendepths: 103.50,345.38,426.71,646.20,809.79,1222.13,1482.65,2163.82,2594.17,3750.12,4293.62,5972.89,7478.68,10948.19,12375.34,16992.63,19794.99,26764.25,30434.66,39729.96,44437.22,54835.85,61178.49,73608.68,79072.91,103092.57,110924.15,142653.98,147824.23,188104.91,225892.71,310294.75\n",
      "2017-03-06 15:53:44,158 - Fiona - DEBUG - Creating feature in layer: {'geometry': {'type': 'Point', 'coordinates': (127.1238, -25.7706)}, 'type': 'Feature', 'id': '12', 'properties': {'lat': -25.7706, 'lon': 127.1238, 'pendepths': '8.61,105.21,134.46,210.30,262.60,392.69,475.17,692.20,838.15,1229.95,1445.10,2048.68,2592.02,3872.94,4412.18,6066.39,7069.48,9599.87,10950.84,13924.59,15848.01,20366.59,21802.05,25821.51,28417.99,34932.62,39800.68,47392.38,51586.39,68657.62,81527.72,114519.51'}}\n",
      "2017-03-06 15:53:44,158 - Fiona - DEBUG - Looking up lat in {'lat': u'lat', 'lon': u'lon', 'pendepths': u'pendepths'}\n",
      "2017-03-06 15:53:44,160 - Fiona - DEBUG - Set field lat: -25.7706\n",
      "2017-03-06 15:53:44,160 - Fiona - DEBUG - Looking up lon in {'lat': u'lat', 'lon': u'lon', 'pendepths': u'pendepths'}\n",
      "2017-03-06 15:53:44,161 - Fiona - DEBUG - Set field lon: 127.1238\n",
      "2017-03-06 15:53:44,161 - Fiona - DEBUG - Looking up pendepths in {'lat': u'lat', 'lon': u'lon', 'pendepths': u'pendepths'}\n",
      "2017-03-06 15:53:44,161 - Fiona - DEBUG - Set field pendepths: 8.61,105.21,134.46,210.30,262.60,392.69,475.17,692.20,838.15,1229.95,1445.10,2048.68,2592.02,3872.94,4412.18,6066.39,7069.48,9599.87,10950.84,13924.59,15848.01,20366.59,21802.05,25821.51,28417.99,34932.62,39800.68,47392.38,51586.39,68657.62,81527.72,114519.51\n",
      "2017-03-06 15:53:44,163 - Fiona - DEBUG - Creating feature in layer: {'geometry': {'type': 'Point', 'coordinates': (127.0372, -25.8145)}, 'type': 'Feature', 'id': '13', 'properties': {'lat': -25.8145, 'lon': 127.0372, 'pendepths': '24.37,42.38,49.38,71.24,89.82,139.45,172.35,260.88,321.50,492.41,593.51,872.73,1150.51,1798.25,2102.47,3038.74,3645.15,5186.21,5994.89,7927.69,9165.64,11902.60,13144.25,15820.30,17721.78,21238.24,24521.54,30002.62,33133.48,41914.79,51185.05,71486.75'}}\n",
      "2017-03-06 15:53:44,163 - Fiona - DEBUG - Looking up lat in {'lat': u'lat', 'lon': u'lon', 'pendepths': u'pendepths'}\n",
      "2017-03-06 15:53:44,164 - Fiona - DEBUG - Set field lat: -25.8145\n",
      "2017-03-06 15:53:44,164 - Fiona - DEBUG - Looking up lon in {'lat': u'lat', 'lon': u'lon', 'pendepths': u'pendepths'}\n",
      "2017-03-06 15:53:44,164 - Fiona - DEBUG - Set field lon: 127.0372\n",
      "2017-03-06 15:53:44,164 - Fiona - DEBUG - Looking up pendepths in {'lat': u'lat', 'lon': u'lon', 'pendepths': u'pendepths'}\n",
      "2017-03-06 15:53:44,165 - Fiona - DEBUG - Set field pendepths: 24.37,42.38,49.38,71.24,89.82,139.45,172.35,260.88,321.50,492.41,593.51,872.73,1150.51,1798.25,2102.47,3038.74,3645.15,5186.21,5994.89,7927.69,9165.64,11902.60,13144.25,15820.30,17721.78,21238.24,24521.54,30002.62,33133.48,41914.79,51185.05,71486.75\n",
      "2017-03-06 15:53:44,167 - Fiona - DEBUG - Creating feature in layer: {'geometry': {'type': 'Point', 'coordinates': (126.94801, -25.84861)}, 'type': 'Feature', 'id': '14', 'properties': {'lat': -25.84861, 'lon': 126.94801, 'pendepths': '12.25,24.86,29.35,42.93,53.85,85.15,108.72,171.11,215.36,341.03,427.55,691.06,929.59,1552.40,1887.97,2864.51,3455.24,5087.80,5960.59,7702.22,8821.73,11874.58,13510.82,17757.99,23246.00,23961.84,25649.18,31327.53,39014.76,48282.99,63394.19,85920.99'}}\n",
      "2017-03-06 15:53:44,167 - Fiona - DEBUG - Looking up lat in {'lat': u'lat', 'lon': u'lon', 'pendepths': u'pendepths'}\n",
      "2017-03-06 15:53:44,167 - Fiona - DEBUG - Set field lat: -25.84861\n",
      "2017-03-06 15:53:44,167 - Fiona - DEBUG - Looking up lon in {'lat': u'lat', 'lon': u'lon', 'pendepths': u'pendepths'}\n",
      "2017-03-06 15:53:44,168 - Fiona - DEBUG - Set field lon: 126.94801\n",
      "2017-03-06 15:53:44,168 - Fiona - DEBUG - Looking up pendepths in {'lat': u'lat', 'lon': u'lon', 'pendepths': u'pendepths'}\n",
      "2017-03-06 15:53:44,170 - Fiona - DEBUG - Set field pendepths: 12.25,24.86,29.35,42.93,53.85,85.15,108.72,171.11,215.36,341.03,427.55,691.06,929.59,1552.40,1887.97,2864.51,3455.24,5087.80,5960.59,7702.22,8821.73,11874.58,13510.82,17757.99,23246.00,23961.84,25649.18,31327.53,39014.76,48282.99,63394.19,85920.99\n",
      "2017-03-06 15:53:44,171 - Fiona - DEBUG - Creating feature in layer: {'geometry': {'type': 'Point', 'coordinates': (126.8733, -25.9113)}, 'type': 'Feature', 'id': '15', 'properties': {'lat': -25.9113, 'lon': 126.8733, 'pendepths': '109.82,492.50,584.45,784.13,921.76,1217.86,1404.65,1919.77,2271.22,3307.63,3925.40,5689.03,7098.08,10517.26,12069.87,16404.52,18866.50,25023.65,27821.89,33978.55,38309.30,47301.81,50971.25,59276.23,67131.53,77070.90,91774.78,112641.73,121948.75,158606.08,192239.60,272794.86'}}\n",
      "2017-03-06 15:53:44,171 - Fiona - DEBUG - Looking up lat in {'lat': u'lat', 'lon': u'lon', 'pendepths': u'pendepths'}\n",
      "2017-03-06 15:53:44,171 - Fiona - DEBUG - Set field lat: -25.9113\n",
      "2017-03-06 15:53:44,171 - Fiona - DEBUG - Looking up lon in {'lat': u'lat', 'lon': u'lon', 'pendepths': u'pendepths'}\n",
      "2017-03-06 15:53:44,173 - Fiona - DEBUG - Set field lon: 126.8733\n",
      "2017-03-06 15:53:44,173 - Fiona - DEBUG - Looking up pendepths in {'lat': u'lat', 'lon': u'lon', 'pendepths': u'pendepths'}\n",
      "2017-03-06 15:53:44,174 - Fiona - DEBUG - Set field pendepths: 109.82,492.50,584.45,784.13,921.76,1217.86,1404.65,1919.77,2271.22,3307.63,3925.40,5689.03,7098.08,10517.26,12069.87,16404.52,18866.50,25023.65,27821.89,33978.55,38309.30,47301.81,50971.25,59276.23,67131.53,77070.90,91774.78,112641.73,121948.75,158606.08,192239.60,272794.86\n",
      "2017-03-06 15:53:44,174 - Fiona - DEBUG - Creating feature in layer: {'geometry': {'type': 'Point', 'coordinates': (126.8033, -25.9698)}, 'type': 'Feature', 'id': '16', 'properties': {'lat': -25.9698, 'lon': 126.8033, 'pendepths': '271.81,657.38,766.46,1003.51,1179.48,1561.23,1802.83,2450.61,2898.00,4117.84,4704.44,6412.49,8121.89,11703.95,12952.82,17036.08,19492.46,25485.60,28509.93,34740.92,38889.44,47774.92,51670.24,60851.04,66828.41,83465.69,93138.45,118182.78,125234.83,160754.76,188505.98,268103.42'}}\n",
      "2017-03-06 15:53:44,174 - Fiona - DEBUG - Looking up lat in {'lat': u'lat', 'lon': u'lon', 'pendepths': u'pendepths'}\n",
      "2017-03-06 15:53:44,176 - Fiona - DEBUG - Set field lat: -25.9698\n",
      "2017-03-06 15:53:44,176 - Fiona - DEBUG - Looking up lon in {'lat': u'lat', 'lon': u'lon', 'pendepths': u'pendepths'}\n",
      "2017-03-06 15:53:44,177 - Fiona - DEBUG - Set field lon: 126.8033\n",
      "2017-03-06 15:53:44,177 - Fiona - DEBUG - Looking up pendepths in {'lat': u'lat', 'lon': u'lon', 'pendepths': u'pendepths'}\n",
      "2017-03-06 15:53:44,177 - Fiona - DEBUG - Set field pendepths: 271.81,657.38,766.46,1003.51,1179.48,1561.23,1802.83,2450.61,2898.00,4117.84,4704.44,6412.49,8121.89,11703.95,12952.82,17036.08,19492.46,25485.60,28509.93,34740.92,38889.44,47774.92,51670.24,60851.04,66828.41,83465.69,93138.45,118182.78,125234.83,160754.76,188505.98,268103.42\n",
      "2017-03-06 15:53:44,178 - Fiona - DEBUG - Creating feature in layer: {'geometry': {'type': 'Point', 'coordinates': (126.7371, -26.0347)}, 'type': 'Feature', 'id': '17', 'properties': {'lat': -26.0347, 'lon': 126.7371, 'pendepths': '487.71,1620.99,1912.07,2615.16,3126.50,4313.90,5066.89,7013.34,8263.99,11495.75,13069.40,17179.94,21400.16,29986.81,33225.30,44020.41,50222.15,66656.93,73914.31,90336.87,100736.30,121548.46,131569.28,160427.75,177437.39,227893.25,241341.46,293095.70,311451.62,397382.10,469524.48,649782.51'}}\n",
      "2017-03-06 15:53:44,178 - Fiona - DEBUG - Looking up lat in {'lat': u'lat', 'lon': u'lon', 'pendepths': u'pendepths'}\n",
      "2017-03-06 15:53:44,180 - Fiona - DEBUG - Set field lat: -26.0347\n",
      "2017-03-06 15:53:44,180 - Fiona - DEBUG - Looking up lon in {'lat': u'lat', 'lon': u'lon', 'pendepths': u'pendepths'}\n",
      "2017-03-06 15:53:44,180 - Fiona - DEBUG - Set field lon: 126.7371\n",
      "2017-03-06 15:53:44,180 - Fiona - DEBUG - Looking up pendepths in {'lat': u'lat', 'lon': u'lon', 'pendepths': u'pendepths'}\n",
      "2017-03-06 15:53:44,181 - Fiona - DEBUG - Set field pendepths: 487.71,1620.99,1912.07,2615.16,3126.50,4313.90,5066.89,7013.34,8263.99,11495.75,13069.40,17179.94,21400.16,29986.81,33225.30,44020.41,50222.15,66656.93,73914.31,90336.87,100736.30,121548.46,131569.28,160427.75,177437.39,227893.25,241341.46,293095.70,311451.62,397382.10,469524.48,649782.51\n",
      "2017-03-06 15:53:44,183 - Fiona - DEBUG - Creating feature in layer: {'geometry': {'type': 'Point', 'coordinates': (126.6943, -26.0486)}, 'type': 'Feature', 'id': '18', 'properties': {'lat': -26.0486, 'lon': 126.6943, 'pendepths': '41.95,225.00,406.53,762.06,975.70,1357.83,1597.69,2128.04,2457.48,3302.39,3699.13,4825.67,5944.07,8251.06,9104.41,11048.23,12811.01,15339.47,15067.04,24155.26,28548.64,30911.31,32823.92,35135.77,38988.55,65820.44,77330.13,97434.37,105129.09,135196.37,159779.10,222902.36'}}\n",
      "2017-03-06 15:53:44,183 - Fiona - DEBUG - Looking up lat in {'lat': u'lat', 'lon': u'lon', 'pendepths': u'pendepths'}\n",
      "2017-03-06 15:53:44,183 - Fiona - DEBUG - Set field lat: -26.0486\n",
      "2017-03-06 15:53:44,184 - Fiona - DEBUG - Looking up lon in {'lat': u'lat', 'lon': u'lon', 'pendepths': u'pendepths'}\n",
      "2017-03-06 15:53:44,184 - Fiona - DEBUG - Set field lon: 126.6943\n",
      "2017-03-06 15:53:44,184 - Fiona - DEBUG - Looking up pendepths in {'lat': u'lat', 'lon': u'lon', 'pendepths': u'pendepths'}\n",
      "2017-03-06 15:53:44,184 - Fiona - DEBUG - Set field pendepths: 41.95,225.00,406.53,762.06,975.70,1357.83,1597.69,2128.04,2457.48,3302.39,3699.13,4825.67,5944.07,8251.06,9104.41,11048.23,12811.01,15339.47,15067.04,24155.26,28548.64,30911.31,32823.92,35135.77,38988.55,65820.44,77330.13,97434.37,105129.09,135196.37,159779.10,222902.36\n",
      "2017-03-06 15:53:44,186 - Fiona - DEBUG - Creating feature in layer: {'geometry': {'type': 'Point', 'coordinates': (126.6472, -26.0426)}, 'type': 'Feature', 'id': '19', 'properties': {'lat': -26.0426, 'lon': 126.6472, 'pendepths': '106.21,340.65,419.22,601.94,719.85,961.41,1092.18,1378.25,1538.11,1956.25,2156.49,2807.64,3430.48,4961.27,5674.17,7929.07,9308.59,12962.52,14741.07,18789.41,21186.54,25988.40,28397.78,35245.39,38789.61,49842.04,53310.53,64680.29,68616.68,87563.20,103421.20,141125.20'}}\n",
      "2017-03-06 15:53:44,187 - Fiona - DEBUG - Looking up lat in {'lat': u'lat', 'lon': u'lon', 'pendepths': u'pendepths'}\n",
      "2017-03-06 15:53:44,187 - Fiona - DEBUG - Set field lat: -26.0426\n",
      "2017-03-06 15:53:44,187 - Fiona - DEBUG - Looking up lon in {'lat': u'lat', 'lon': u'lon', 'pendepths': u'pendepths'}\n",
      "2017-03-06 15:53:44,187 - Fiona - DEBUG - Set field lon: 126.6472\n",
      "2017-03-06 15:53:44,188 - Fiona - DEBUG - Looking up pendepths in {'lat': u'lat', 'lon': u'lon', 'pendepths': u'pendepths'}\n",
      "2017-03-06 15:53:44,188 - Fiona - DEBUG - Set field pendepths: 106.21,340.65,419.22,601.94,719.85,961.41,1092.18,1378.25,1538.11,1956.25,2156.49,2807.64,3430.48,4961.27,5674.17,7929.07,9308.59,12962.52,14741.07,18789.41,21186.54,25988.40,28397.78,35245.39,38789.61,49842.04,53310.53,64680.29,68616.68,87563.20,103421.20,141125.20\n",
      "2017-03-06 15:53:44,190 - Fiona - DEBUG - Creating feature in layer: {'geometry': {'type': 'Point', 'coordinates': (126.5995, -26.0582)}, 'type': 'Feature', 'id': '20', 'properties': {'lat': -26.0582, 'lon': 126.5995, 'pendepths': '35.81,135.78,169.02,261.54,322.88,474.94,560.15,763.62,913.55,1204.78,1299.66,1651.27,2061.69,3027.50,3444.18,4909.18,5823.08,8296.22,9514.35,12257.55,13921.33,17560.95,19153.02,22141.53,25107.52,28493.53,34041.13,41605.55,45252.59,56887.74,67761.22,92510.48'}}\n",
      "2017-03-06 15:53:44,190 - Fiona - DEBUG - Looking up lat in {'lat': u'lat', 'lon': u'lon', 'pendepths': u'pendepths'}\n",
      "2017-03-06 15:53:44,190 - Fiona - DEBUG - Set field lat: -26.0582\n",
      "2017-03-06 15:53:44,191 - Fiona - DEBUG - Looking up lon in {'lat': u'lat', 'lon': u'lon', 'pendepths': u'pendepths'}\n",
      "2017-03-06 15:53:44,191 - Fiona - DEBUG - Set field lon: 126.5995\n",
      "2017-03-06 15:53:44,193 - Fiona - DEBUG - Looking up pendepths in {'lat': u'lat', 'lon': u'lon', 'pendepths': u'pendepths'}\n",
      "2017-03-06 15:53:44,193 - Fiona - DEBUG - Set field pendepths: 35.81,135.78,169.02,261.54,322.88,474.94,560.15,763.62,913.55,1204.78,1299.66,1651.27,2061.69,3027.50,3444.18,4909.18,5823.08,8296.22,9514.35,12257.55,13921.33,17560.95,19153.02,22141.53,25107.52,28493.53,34041.13,41605.55,45252.59,56887.74,67761.22,92510.48\n",
      "2017-03-06 15:53:44,194 - Fiona - DEBUG - Creating feature in layer: {'geometry': {'type': 'Point', 'coordinates': (126.5793, -26.0961)}, 'type': 'Feature', 'id': '21', 'properties': {'lat': -26.0961, 'lon': 126.5793, 'pendepths': '119.74,250.46,276.69,350.55,382.29,469.20,525.15,686.17,761.33,1022.11,1108.04,1418.81,1758.36,2502.19,2834.32,4066.26,4832.87,6958.04,8144.17,11091.17,12533.38,15769.35,17504.78,22588.84,24938.78,32070.90,34494.36,41789.74,44340.78,57146.72,67842.16,92955.16'}}\n",
      "2017-03-06 15:53:44,194 - Fiona - DEBUG - Looking up lat in {'lat': u'lat', 'lon': u'lon', 'pendepths': u'pendepths'}\n",
      "2017-03-06 15:53:44,194 - Fiona - DEBUG - Set field lat: -26.0961\n",
      "2017-03-06 15:53:44,194 - Fiona - DEBUG - Looking up lon in {'lat': u'lat', 'lon': u'lon', 'pendepths': u'pendepths'}\n",
      "2017-03-06 15:53:44,196 - Fiona - DEBUG - Set field lon: 126.5793\n",
      "2017-03-06 15:53:44,196 - Fiona - DEBUG - Looking up pendepths in {'lat': u'lat', 'lon': u'lon', 'pendepths': u'pendepths'}\n",
      "2017-03-06 15:53:44,197 - Fiona - DEBUG - Set field pendepths: 119.74,250.46,276.69,350.55,382.29,469.20,525.15,686.17,761.33,1022.11,1108.04,1418.81,1758.36,2502.19,2834.32,4066.26,4832.87,6958.04,8144.17,11091.17,12533.38,15769.35,17504.78,22588.84,24938.78,32070.90,34494.36,41789.74,44340.78,57146.72,67842.16,92955.16\n",
      "2017-03-06 15:53:44,197 - Fiona - DEBUG - Creating feature in layer: {'geometry': {'type': 'Point', 'coordinates': (126.5208, -26.1572)}, 'type': 'Feature', 'id': '22', 'properties': {'lat': -26.1572, 'lon': 126.5208, 'pendepths': '29.12,66.03,77.70,105.78,123.77,165.36,190.83,250.85,289.24,385.03,431.16,545.61,684.44,972.50,1094.92,1560.25,1886.63,2807.98,3328.24,4626.34,5417.08,7235.39,8130.78,10427.51,11629.48,14672.15,16955.78,21045.17,23441.99,29559.28,35458.84,49613.31'}}\n",
      "2017-03-06 15:53:44,197 - Fiona - DEBUG - Looking up lat in {'lat': u'lat', 'lon': u'lon', 'pendepths': u'pendepths'}\n",
      "2017-03-06 15:53:44,198 - Fiona - DEBUG - Set field lat: -26.1572\n",
      "2017-03-06 15:53:44,198 - Fiona - DEBUG - Looking up lon in {'lat': u'lat', 'lon': u'lon', 'pendepths': u'pendepths'}\n",
      "2017-03-06 15:53:44,200 - Fiona - DEBUG - Set field lon: 126.5208\n",
      "2017-03-06 15:53:44,200 - Fiona - DEBUG - Looking up pendepths in {'lat': u'lat', 'lon': u'lon', 'pendepths': u'pendepths'}\n",
      "2017-03-06 15:53:44,200 - Fiona - DEBUG - Set field pendepths: 29.12,66.03,77.70,105.78,123.77,165.36,190.83,250.85,289.24,385.03,431.16,545.61,684.44,972.50,1094.92,1560.25,1886.63,2807.98,3328.24,4626.34,5417.08,7235.39,8130.78,10427.51,11629.48,14672.15,16955.78,21045.17,23441.99,29559.28,35458.84,49613.31\n",
      "2017-03-06 15:53:44,201 - Fiona - DEBUG - Creating feature in layer: {'geometry': {'type': 'Point', 'coordinates': (126.4576, -26.1684)}, 'type': 'Feature', 'id': '23', 'properties': {'lat': -26.1684, 'lon': 126.4576, 'pendepths': '33.42,72.09,80.40,98.16,112.75,144.27,164.12,213.07,242.06,314.03,343.06,417.45,504.10,653.33,678.88,759.61,828.33,1025.10,1196.68,1673.55,1975.83,2768.13,3032.46,4072.55,4686.39,6077.92,7164.54,9347.99,10541.66,13861.63,16451.41,22627.71'}}\n",
      "2017-03-06 15:53:44,201 - Fiona - DEBUG - Looking up lat in {'lat': u'lat', 'lon': u'lon', 'pendepths': u'pendepths'}\n",
      "2017-03-06 15:53:44,203 - Fiona - DEBUG - Set field lat: -26.1684\n",
      "2017-03-06 15:53:44,203 - Fiona - DEBUG - Looking up lon in {'lat': u'lat', 'lon': u'lon', 'pendepths': u'pendepths'}\n",
      "2017-03-06 15:53:44,203 - Fiona - DEBUG - Set field lon: 126.4576\n",
      "2017-03-06 15:53:44,203 - Fiona - DEBUG - Looking up pendepths in {'lat': u'lat', 'lon': u'lon', 'pendepths': u'pendepths'}\n",
      "2017-03-06 15:53:44,204 - Fiona - DEBUG - Set field pendepths: 33.42,72.09,80.40,98.16,112.75,144.27,164.12,213.07,242.06,314.03,343.06,417.45,504.10,653.33,678.88,759.61,828.33,1025.10,1196.68,1673.55,1975.83,2768.13,3032.46,4072.55,4686.39,6077.92,7164.54,9347.99,10541.66,13861.63,16451.41,22627.71\n",
      "2017-03-06 15:53:44,206 - Fiona - DEBUG - Creating feature in layer: {'geometry': {'type': 'Point', 'coordinates': (126.4245, -26.1798)}, 'type': 'Feature', 'id': '24', 'properties': {'lat': -26.1798, 'lon': 126.4245, 'pendepths': '54.72,100.80,108.45,123.78,140.24,176.07,200.20,262.28,299.13,391.01,428.37,528.20,620.34,792.07,833.35,942.07,995.49,1069.85,1097.39,1326.64,1575.15,2260.34,2581.09,3503.50,4219.82,4940.01,5642.13,7918.28,9171.85,13543.08,15476.84,22013.19'}}\n",
      "2017-03-06 15:53:44,206 - Fiona - DEBUG - Looking up lat in {'lat': u'lat', 'lon': u'lon', 'pendepths': u'pendepths'}\n",
      "2017-03-06 15:53:44,207 - Fiona - DEBUG - Set field lat: -26.1798\n",
      "2017-03-06 15:53:44,207 - Fiona - DEBUG - Looking up lon in {'lat': u'lat', 'lon': u'lon', 'pendepths': u'pendepths'}\n",
      "2017-03-06 15:53:44,207 - Fiona - DEBUG - Set field lon: 126.4245\n",
      "2017-03-06 15:53:44,207 - Fiona - DEBUG - Looking up pendepths in {'lat': u'lat', 'lon': u'lon', 'pendepths': u'pendepths'}\n",
      "2017-03-06 15:53:44,209 - Fiona - DEBUG - Set field pendepths: 54.72,100.80,108.45,123.78,140.24,176.07,200.20,262.28,299.13,391.01,428.37,528.20,620.34,792.07,833.35,942.07,995.49,1069.85,1097.39,1326.64,1575.15,2260.34,2581.09,3503.50,4219.82,4940.01,5642.13,7918.28,9171.85,13543.08,15476.84,22013.19\n",
      "2017-03-06 15:53:44,210 - Fiona - DEBUG - Creating feature in layer: {'geometry': {'type': 'Point', 'coordinates': (126.3714, -26.1973)}, 'type': 'Feature', 'id': '25', 'properties': {'lat': -26.1973, 'lon': 126.3714, 'pendepths': '46.49,93.70,102.93,119.86,134.52,160.04,175.61,211.45,231.91,281.90,295.63,339.38,406.15,518.69,540.72,633.81,705.94,844.39,938.83,1165.77,1305.45,1785.32,2111.38,2952.45,3514.00,4830.56,5807.66,7794.20,8905.87,12325.11,15041.86,22110.65'}}\n",
      "2017-03-06 15:53:44,210 - Fiona - DEBUG - Looking up lat in {'lat': u'lat', 'lon': u'lon', 'pendepths': u'pendepths'}\n",
      "2017-03-06 15:53:44,210 - Fiona - DEBUG - Set field lat: -26.1973\n",
      "2017-03-06 15:53:44,210 - Fiona - DEBUG - Looking up lon in {'lat': u'lat', 'lon': u'lon', 'pendepths': u'pendepths'}\n",
      "2017-03-06 15:53:44,211 - Fiona - DEBUG - Set field lon: 126.3714\n",
      "2017-03-06 15:53:44,211 - Fiona - DEBUG - Looking up pendepths in {'lat': u'lat', 'lon': u'lon', 'pendepths': u'pendepths'}\n",
      "2017-03-06 15:53:44,213 - Fiona - DEBUG - Set field pendepths: 46.49,93.70,102.93,119.86,134.52,160.04,175.61,211.45,231.91,281.90,295.63,339.38,406.15,518.69,540.72,633.81,705.94,844.39,938.83,1165.77,1305.45,1785.32,2111.38,2952.45,3514.00,4830.56,5807.66,7794.20,8905.87,12325.11,15041.86,22110.65\n",
      "2017-03-06 15:53:44,213 - Fiona - DEBUG - Creating feature in layer: {'geometry': {'type': 'Point', 'coordinates': (126.3308, -26.2111)}, 'type': 'Feature', 'id': '26', 'properties': {'lat': -26.2111, 'lon': 126.3308, 'pendepths': '32.48,62.23,70.42,90.96,106.04,132.57,146.48,171.93,186.30,226.85,246.64,323.38,395.99,576.68,656.73,911.36,1074.49,1477.24,1695.17,2215.25,2593.90,3643.60,4291.20,6020.51,7317.09,10179.20,12433.72,16822.35,19266.81,26759.75,33002.71,48463.21'}}\n",
      "2017-03-06 15:53:44,213 - Fiona - DEBUG - Looking up lat in {'lat': u'lat', 'lon': u'lon', 'pendepths': u'pendepths'}\n",
      "2017-03-06 15:53:44,214 - Fiona - DEBUG - Set field lat: -26.2111\n",
      "2017-03-06 15:53:44,214 - Fiona - DEBUG - Looking up lon in {'lat': u'lat', 'lon': u'lon', 'pendepths': u'pendepths'}\n",
      "2017-03-06 15:53:44,214 - Fiona - DEBUG - Set field lon: 126.3308\n",
      "2017-03-06 15:53:44,216 - Fiona - DEBUG - Looking up pendepths in {'lat': u'lat', 'lon': u'lon', 'pendepths': u'pendepths'}\n",
      "2017-03-06 15:53:44,216 - Fiona - DEBUG - Set field pendepths: 32.48,62.23,70.42,90.96,106.04,132.57,146.48,171.93,186.30,226.85,246.64,323.38,395.99,576.68,656.73,911.36,1074.49,1477.24,1695.17,2215.25,2593.90,3643.60,4291.20,6020.51,7317.09,10179.20,12433.72,16822.35,19266.81,26759.75,33002.71,48463.21\n",
      "2017-03-06 15:53:44,217 - Fiona - DEBUG - Creating feature in layer: {'geometry': {'type': 'Point', 'coordinates': (126.2748, -26.2346)}, 'type': 'Feature', 'id': '27', 'properties': {'lat': -26.2346, 'lon': 126.2748, 'pendepths': '32.65,69.06,77.06,93.49,106.49,133.66,151.32,196.06,223.42,293.57,320.59,396.62,486.18,672.13,741.32,981.15,1160.00,1504.80,1733.41,2197.62,2482.52,3222.98,3626.97,4936.22,5974.05,7977.18,9805.84,13337.76,15183.53,21028.82,25927.10,37738.83'}}\n",
      "2017-03-06 15:53:44,217 - Fiona - DEBUG - Looking up lat in {'lat': u'lat', 'lon': u'lon', 'pendepths': u'pendepths'}\n",
      "2017-03-06 15:53:44,217 - Fiona - DEBUG - Set field lat: -26.2346\n",
      "2017-03-06 15:53:44,219 - Fiona - DEBUG - Looking up lon in {'lat': u'lat', 'lon': u'lon', 'pendepths': u'pendepths'}\n",
      "2017-03-06 15:53:44,219 - Fiona - DEBUG - Set field lon: 126.2748\n",
      "2017-03-06 15:53:44,220 - Fiona - DEBUG - Looking up pendepths in {'lat': u'lat', 'lon': u'lon', 'pendepths': u'pendepths'}\n",
      "2017-03-06 15:53:44,220 - Fiona - DEBUG - Set field pendepths: 32.65,69.06,77.06,93.49,106.49,133.66,151.32,196.06,223.42,293.57,320.59,396.62,486.18,672.13,741.32,981.15,1160.00,1504.80,1733.41,2197.62,2482.52,3222.98,3626.97,4936.22,5974.05,7977.18,9805.84,13337.76,15183.53,21028.82,25927.10,37738.83\n",
      "2017-03-06 15:53:44,220 - Fiona - DEBUG - Creating feature in layer: {'geometry': {'type': 'Point', 'coordinates': (126.2455, -26.2561)}, 'type': 'Feature', 'id': '28', 'properties': {'lat': -26.2561, 'lon': 126.2455, 'pendepths': '87.57,123.46,133.82,149.95,165.80,191.29,206.88,243.54,264.33,329.16,349.04,432.41,521.63,699.06,746.60,923.42,1028.81,1249.09,1335.09,1499.84,1677.17,2114.57,2262.88,3099.05,3645.03,4653.27,5359.66,7908.39,9206.52,12496.99,15652.28,22444.70'}}\n",
      "2017-03-06 15:53:44,221 - Fiona - DEBUG - Looking up lat in {'lat': u'lat', 'lon': u'lon', 'pendepths': u'pendepths'}\n",
      "2017-03-06 15:53:44,221 - Fiona - DEBUG - Set field lat: -26.2561\n",
      "2017-03-06 15:53:44,223 - Fiona - DEBUG - Looking up lon in {'lat': u'lat', 'lon': u'lon', 'pendepths': u'pendepths'}\n",
      "2017-03-06 15:53:44,223 - Fiona - DEBUG - Set field lon: 126.2455\n",
      "2017-03-06 15:53:44,223 - Fiona - DEBUG - Looking up pendepths in {'lat': u'lat', 'lon': u'lon', 'pendepths': u'pendepths'}\n",
      "2017-03-06 15:53:44,223 - Fiona - DEBUG - Set field pendepths: 87.57,123.46,133.82,149.95,165.80,191.29,206.88,243.54,264.33,329.16,349.04,432.41,521.63,699.06,746.60,923.42,1028.81,1249.09,1335.09,1499.84,1677.17,2114.57,2262.88,3099.05,3645.03,4653.27,5359.66,7908.39,9206.52,12496.99,15652.28,22444.70\n",
      "2017-03-06 15:53:44,224 - Fiona - DEBUG - Creating feature in layer: {'geometry': {'type': 'Point', 'coordinates': (126.2262, -26.2995)}, 'type': 'Feature', 'id': '29', 'properties': {'lat': -26.2995, 'lon': 126.2262, 'pendepths': '52.06,78.02,82.91,91.83,102.59,119.74,130.46,156.89,173.64,220.15,238.63,294.36,356.89,472.83,497.95,607.46,670.34,811.64,877.03,995.97,1084.27,1259.75,1333.58,1638.66,1999.28,2507.31,3163.43,4133.80,4943.61,7111.29,8878.77,12381.90'}}\n",
      "2017-03-06 15:53:44,226 - Fiona - DEBUG - Looking up lat in {'lat': u'lat', 'lon': u'lon', 'pendepths': u'pendepths'}\n",
      "2017-03-06 15:53:44,226 - Fiona - DEBUG - Set field lat: -26.2995\n",
      "2017-03-06 15:53:44,226 - Fiona - DEBUG - Looking up lon in {'lat': u'lat', 'lon': u'lon', 'pendepths': u'pendepths'}\n",
      "2017-03-06 15:53:44,226 - Fiona - DEBUG - Set field lon: 126.2262\n",
      "2017-03-06 15:53:44,227 - Fiona - DEBUG - Looking up pendepths in {'lat': u'lat', 'lon': u'lon', 'pendepths': u'pendepths'}\n",
      "2017-03-06 15:53:44,227 - Fiona - DEBUG - Set field pendepths: 52.06,78.02,82.91,91.83,102.59,119.74,130.46,156.89,173.64,220.15,238.63,294.36,356.89,472.83,497.95,607.46,670.34,811.64,877.03,995.97,1084.27,1259.75,1333.58,1638.66,1999.28,2507.31,3163.43,4133.80,4943.61,7111.29,8878.77,12381.90\n",
      "2017-03-06 15:53:44,229 - Fiona - DEBUG - Creating feature in layer: {'geometry': {'type': 'Point', 'coordinates': (126.2099, -26.3426)}, 'type': 'Feature', 'id': '30', 'properties': {'lat': -26.3426, 'lon': 126.2099, 'pendepths': '51.06,94.29,99.94,111.94,125.19,145.13,157.06,184.31,200.58,242.71,261.65,318.85,365.97,462.98,497.73,599.78,654.80,780.09,836.65,973.27,1054.72,1251.08,1327.32,1611.60,1767.89,2440.28,2823.80,3941.44,4528.61,6441.67,7967.96,12365.24'}}\n",
      "2017-03-06 15:53:44,229 - Fiona - DEBUG - Looking up lat in {'lat': u'lat', 'lon': u'lon', 'pendepths': u'pendepths'}\n",
      "2017-03-06 15:53:44,230 - Fiona - DEBUG - Set field lat: -26.3426\n",
      "2017-03-06 15:53:44,230 - Fiona - DEBUG - Looking up lon in {'lat': u'lat', 'lon': u'lon', 'pendepths': u'pendepths'}\n",
      "2017-03-06 15:53:44,230 - Fiona - DEBUG - Set field lon: 126.2099\n",
      "2017-03-06 15:53:44,230 - Fiona - DEBUG - Looking up pendepths in {'lat': u'lat', 'lon': u'lon', 'pendepths': u'pendepths'}\n",
      "2017-03-06 15:53:44,232 - Fiona - DEBUG - Set field pendepths: 51.06,94.29,99.94,111.94,125.19,145.13,157.06,184.31,200.58,242.71,261.65,318.85,365.97,462.98,497.73,599.78,654.80,780.09,836.65,973.27,1054.72,1251.08,1327.32,1611.60,1767.89,2440.28,2823.80,3941.44,4528.61,6441.67,7967.96,12365.24\n",
      "2017-03-06 15:53:44,233 - Fiona - DEBUG - Creating feature in layer: {'geometry': {'type': 'Point', 'coordinates': (126.1892, -26.3851)}, 'type': 'Feature', 'id': '31', 'properties': {'lat': -26.3851, 'lon': 126.1892, 'pendepths': '53.09,120.39,129.99,148.71,167.22,197.21,215.76,261.71,291.02,367.25,402.97,494.82,583.79,758.61,811.59,995.42,1105.06,1354.34,1481.10,1726.04,1889.54,2284.24,2432.97,2832.67,3327.59,4567.45,5675.74,8172.28,9419.59,13910.50,17882.04,27448.98'}}\n",
      "2017-03-06 15:53:44,233 - Fiona - DEBUG - Looking up lat in {'lat': u'lat', 'lon': u'lon', 'pendepths': u'pendepths'}\n",
      "2017-03-06 15:53:44,233 - Fiona - DEBUG - Set field lat: -26.3851\n",
      "2017-03-06 15:53:44,233 - Fiona - DEBUG - Looking up lon in {'lat': u'lat', 'lon': u'lon', 'pendepths': u'pendepths'}\n",
      "2017-03-06 15:53:44,234 - Fiona - DEBUG - Set field lon: 126.1892\n",
      "2017-03-06 15:53:44,234 - Fiona - DEBUG - Looking up pendepths in {'lat': u'lat', 'lon': u'lon', 'pendepths': u'pendepths'}\n",
      "2017-03-06 15:53:44,236 - Fiona - DEBUG - Set field pendepths: 53.09,120.39,129.99,148.71,167.22,197.21,215.76,261.71,291.02,367.25,402.97,494.82,583.79,758.61,811.59,995.42,1105.06,1354.34,1481.10,1726.04,1889.54,2284.24,2432.97,2832.67,3327.59,4567.45,5675.74,8172.28,9419.59,13910.50,17882.04,27448.98\n",
      "2017-03-06 15:53:44,236 - Fiona - DEBUG - Creating feature in layer: {'geometry': {'type': 'Point', 'coordinates': (126.1637, -26.4161)}, 'type': 'Feature', 'id': '32', 'properties': {'lat': -26.4161, 'lon': 126.1637, 'pendepths': '61.04,111.00,119.86,138.37,156.39,187.54,206.80,252.69,282.87,360.40,395.06,485.78,596.32,781.29,820.43,963.11,1048.20,1238.68,1334.67,1527.23,1671.85,2007.37,2191.76,2646.95,3039.40,4080.27,4993.64,7087.83,8477.51,12384.14,16151.07,25530.59'}}\n",
      "2017-03-06 15:53:44,236 - Fiona - DEBUG - Looking up lat in {'lat': u'lat', 'lon': u'lon', 'pendepths': u'pendepths'}\n",
      "2017-03-06 15:53:44,237 - Fiona - DEBUG - Set field lat: -26.4161\n",
      "2017-03-06 15:53:44,237 - Fiona - DEBUG - Looking up lon in {'lat': u'lat', 'lon': u'lon', 'pendepths': u'pendepths'}\n",
      "2017-03-06 15:53:44,239 - Fiona - DEBUG - Set field lon: 126.1637\n",
      "2017-03-06 15:53:44,239 - Fiona - DEBUG - Looking up pendepths in {'lat': u'lat', 'lon': u'lon', 'pendepths': u'pendepths'}\n",
      "2017-03-06 15:53:44,240 - Fiona - DEBUG - Set field pendepths: 61.04,111.00,119.86,138.37,156.39,187.54,206.80,252.69,282.87,360.40,395.06,485.78,596.32,781.29,820.43,963.11,1048.20,1238.68,1334.67,1527.23,1671.85,2007.37,2191.76,2646.95,3039.40,4080.27,4993.64,7087.83,8477.51,12384.14,16151.07,25530.59\n",
      "2017-03-06 15:53:44,240 - Fiona - DEBUG - Creating feature in layer: {'geometry': {'type': 'Point', 'coordinates': (126.1232, -26.4416)}, 'type': 'Feature', 'id': '33', 'properties': {'lat': -26.4416, 'lon': 126.1232, 'pendepths': '54.98,101.69,111.22,130.69,149.04,184.53,207.15,265.33,302.76,402.01,443.65,557.67,679.51,898.38,937.70,1119.01,1227.92,1492.52,1629.07,1897.30,2083.77,2556.48,2691.77,3152.89,3863.21,5442.74,6722.20,9579.02,11134.32,17118.86,21902.99,35030.46'}}\n",
      "2017-03-06 15:53:44,240 - Fiona - DEBUG - Looking up lat in {'lat': u'lat', 'lon': u'lon', 'pendepths': u'pendepths'}\n",
      "2017-03-06 15:53:44,240 - Fiona - DEBUG - Set field lat: -26.4416\n",
      "2017-03-06 15:53:44,242 - Fiona - DEBUG - Looking up lon in {'lat': u'lat', 'lon': u'lon', 'pendepths': u'pendepths'}\n",
      "2017-03-06 15:53:44,242 - Fiona - DEBUG - Set field lon: 126.1232\n",
      "2017-03-06 15:53:44,243 - Fiona - DEBUG - Looking up pendepths in {'lat': u'lat', 'lon': u'lon', 'pendepths': u'pendepths'}\n",
      "2017-03-06 15:53:44,243 - Fiona - DEBUG - Set field pendepths: 54.98,101.69,111.22,130.69,149.04,184.53,207.15,265.33,302.76,402.01,443.65,557.67,679.51,898.38,937.70,1119.01,1227.92,1492.52,1629.07,1897.30,2083.77,2556.48,2691.77,3152.89,3863.21,5442.74,6722.20,9579.02,11134.32,17118.86,21902.99,35030.46\n",
      "2017-03-06 15:53:44,243 - Fiona - DEBUG - Creating feature in layer: {'geometry': {'type': 'Point', 'coordinates': (126.0877, -26.4728)}, 'type': 'Feature', 'id': '34', 'properties': {'lat': -26.4728, 'lon': 126.0877, 'pendepths': '37.49,63.24,65.78,75.03,84.36,99.82,108.62,131.24,145.33,187.62,204.11,263.75,322.27,438.99,464.58,567.52,620.16,749.08,810.25,921.31,1012.00,1248.14,1383.14,1719.81,1987.64,2707.87,3309.36,4805.67,5741.67,8701.68,11222.36,17711.25'}}\n",
      "2017-03-06 15:53:44,244 - Fiona - DEBUG - Looking up lat in {'lat': u'lat', 'lon': u'lon', 'pendepths': u'pendepths'}\n",
      "2017-03-06 15:53:44,244 - Fiona - DEBUG - Set field lat: -26.4728\n",
      "2017-03-06 15:53:44,246 - Fiona - DEBUG - Looking up lon in {'lat': u'lat', 'lon': u'lon', 'pendepths': u'pendepths'}\n",
      "2017-03-06 15:53:44,246 - Fiona - DEBUG - Set field lon: 126.0877\n",
      "2017-03-06 15:53:44,246 - Fiona - DEBUG - Looking up pendepths in {'lat': u'lat', 'lon': u'lon', 'pendepths': u'pendepths'}\n",
      "2017-03-06 15:53:44,246 - Fiona - DEBUG - Set field pendepths: 37.49,63.24,65.78,75.03,84.36,99.82,108.62,131.24,145.33,187.62,204.11,263.75,322.27,438.99,464.58,567.52,620.16,749.08,810.25,921.31,1012.00,1248.14,1383.14,1719.81,1987.64,2707.87,3309.36,4805.67,5741.67,8701.68,11222.36,17711.25\n",
      "2017-03-06 15:53:44,247 - Fiona - DEBUG - Creating feature in layer: {'geometry': {'type': 'Point', 'coordinates': (126.052, -26.502)}, 'type': 'Feature', 'id': '35', 'properties': {'lat': -26.502, 'lon': 126.052, 'pendepths': '30.41,61.99,70.60,88.54,102.28,127.78,143.83,186.56,215.10,292.21,326.57,423.69,508.65,679.13,709.95,838.81,915.66,1102.87,1177.49,1345.78,1496.52,1868.59,2099.96,2581.21,2731.46,4337.07,5190.98,7195.45,8371.58,12869.36,16817.09,27006.45'}}\n",
      "2017-03-06 15:53:44,249 - Fiona - DEBUG - Looking up lat in {'lat': u'lat', 'lon': u'lon', 'pendepths': u'pendepths'}\n",
      "2017-03-06 15:53:44,249 - Fiona - DEBUG - Set field lat: -26.502\n",
      "2017-03-06 15:53:44,249 - Fiona - DEBUG - Looking up lon in {'lat': u'lat', 'lon': u'lon', 'pendepths': u'pendepths'}\n",
      "2017-03-06 15:53:44,250 - Fiona - DEBUG - Set field lon: 126.052\n",
      "2017-03-06 15:53:44,250 - Fiona - DEBUG - Looking up pendepths in {'lat': u'lat', 'lon': u'lon', 'pendepths': u'pendepths'}\n",
      "2017-03-06 15:53:44,250 - Fiona - DEBUG - Set field pendepths: 30.41,61.99,70.60,88.54,102.28,127.78,143.83,186.56,215.10,292.21,326.57,423.69,508.65,679.13,709.95,838.81,915.66,1102.87,1177.49,1345.78,1496.52,1868.59,2099.96,2581.21,2731.46,4337.07,5190.98,7195.45,8371.58,12869.36,16817.09,27006.45\n",
      "2017-03-06 15:53:44,252 - Fiona - DEBUG - Creating feature in layer: {'geometry': {'type': 'Point', 'coordinates': (126.0194, -26.5352)}, 'type': 'Feature', 'id': '36', 'properties': {'lat': -26.5352, 'lon': 126.0194, 'pendepths': '49.72,92.32,98.54,115.75,131.49,159.98,177.30,226.91,259.68,353.11,398.75,521.97,614.71,809.00,851.99,1011.20,1080.47,1286.01,1385.60,1562.68,1714.38,2093.96,2215.59,2732.33,3160.67,4012.40,4960.24,7040.89,8317.19,12628.29,16293.20,26053.49'}}\n",
      "2017-03-06 15:53:44,252 - Fiona - DEBUG - Looking up lat in {'lat': u'lat', 'lon': u'lon', 'pendepths': u'pendepths'}\n",
      "2017-03-06 15:53:44,253 - Fiona - DEBUG - Set field lat: -26.5352\n",
      "2017-03-06 15:53:44,253 - Fiona - DEBUG - Looking up lon in {'lat': u'lat', 'lon': u'lon', 'pendepths': u'pendepths'}\n",
      "2017-03-06 15:53:44,253 - Fiona - DEBUG - Set field lon: 126.0194\n",
      "2017-03-06 15:53:44,255 - Fiona - DEBUG - Looking up pendepths in {'lat': u'lat', 'lon': u'lon', 'pendepths': u'pendepths'}\n",
      "2017-03-06 15:53:44,255 - Fiona - DEBUG - Set field pendepths: 49.72,92.32,98.54,115.75,131.49,159.98,177.30,226.91,259.68,353.11,398.75,521.97,614.71,809.00,851.99,1011.20,1080.47,1286.01,1385.60,1562.68,1714.38,2093.96,2215.59,2732.33,3160.67,4012.40,4960.24,7040.89,8317.19,12628.29,16293.20,26053.49\n",
      "2017-03-06 15:53:44,256 - Fiona - DEBUG - Creating feature in layer: {'geometry': {'type': 'Point', 'coordinates': (125.9677, -26.5516)}, 'type': 'Feature', 'id': '37', 'properties': {'lat': -26.5516, 'lon': 125.9677, 'pendepths': '49.40,98.75,106.39,128.34,147.16,185.77,210.93,276.32,318.44,427.50,480.29,614.69,719.30,930.15,989.91,1171.03,1281.32,1528.36,1652.32,1900.78,2099.06,2553.04,2714.92,3263.74,3736.29,5120.68,6210.08,8786.19,10306.35,15919.41,20619.82,33878.47'}}\n",
      "2017-03-06 15:53:44,256 - Fiona - DEBUG - Looking up lat in {'lat': u'lat', 'lon': u'lon', 'pendepths': u'pendepths'}\n",
      "2017-03-06 15:53:44,256 - Fiona - DEBUG - Set field lat: -26.5516\n",
      "2017-03-06 15:53:44,257 - Fiona - DEBUG - Looking up lon in {'lat': u'lat', 'lon': u'lon', 'pendepths': u'pendepths'}\n",
      "2017-03-06 15:53:44,257 - Fiona - DEBUG - Set field lon: 125.9677\n",
      "2017-03-06 15:53:44,259 - Fiona - DEBUG - Looking up pendepths in {'lat': u'lat', 'lon': u'lon', 'pendepths': u'pendepths'}\n",
      "2017-03-06 15:53:44,259 - Fiona - DEBUG - Set field pendepths: 49.40,98.75,106.39,128.34,147.16,185.77,210.93,276.32,318.44,427.50,480.29,614.69,719.30,930.15,989.91,1171.03,1281.32,1528.36,1652.32,1900.78,2099.06,2553.04,2714.92,3263.74,3736.29,5120.68,6210.08,8786.19,10306.35,15919.41,20619.82,33878.47\n",
      "2017-03-06 15:53:44,259 - Fiona - DEBUG - Creating feature in layer: {'geometry': {'type': 'Point', 'coordinates': (125.9357, -26.5767)}, 'type': 'Feature', 'id': '38', 'properties': {'lat': -26.5767, 'lon': 125.9357, 'pendepths': '56.16,95.80,102.86,119.85,135.35,161.90,177.82,222.23,251.34,335.23,376.23,490.61,584.67,775.54,825.72,997.75,1086.40,1308.11,1410.41,1606.55,1760.02,2137.42,2301.35,2813.97,3139.27,4091.03,5051.04,7152.42,8469.24,13042.42,17007.64,27527.61'}}\n",
      "2017-03-06 15:53:44,259 - Fiona - DEBUG - Looking up lat in {'lat': u'lat', 'lon': u'lon', 'pendepths': u'pendepths'}\n",
      "2017-03-06 15:53:44,260 - Fiona - DEBUG - Set field lat: -26.5767\n",
      "2017-03-06 15:53:44,262 - Fiona - DEBUG - Looking up lon in {'lat': u'lat', 'lon': u'lon', 'pendepths': u'pendepths'}\n",
      "2017-03-06 15:53:44,262 - Fiona - DEBUG - Set field lon: 125.9357\n",
      "2017-03-06 15:53:44,263 - Fiona - DEBUG - Looking up pendepths in {'lat': u'lat', 'lon': u'lon', 'pendepths': u'pendepths'}\n",
      "2017-03-06 15:53:44,263 - Fiona - DEBUG - Set field pendepths: 56.16,95.80,102.86,119.85,135.35,161.90,177.82,222.23,251.34,335.23,376.23,490.61,584.67,775.54,825.72,997.75,1086.40,1308.11,1410.41,1606.55,1760.02,2137.42,2301.35,2813.97,3139.27,4091.03,5051.04,7152.42,8469.24,13042.42,17007.64,27527.61\n",
      "2017-03-06 15:53:44,263 - Fiona - DEBUG - Creating feature in layer: {'geometry': {'type': 'Point', 'coordinates': (125.8505, -26.6265)}, 'type': 'Feature', 'id': '39', 'properties': {'lat': -26.6265, 'lon': 125.8505, 'pendepths': '34.85,91.36,102.28,124.40,142.36,175.62,196.54,251.36,286.61,379.22,423.14,530.31,634.17,826.71,877.81,1042.20,1136.76,1342.25,1459.77,1697.61,1835.03,2222.64,2375.28,2728.71,3087.56,4002.12,4894.72,7068.53,8310.67,12763.68,16611.99,27199.42'}}\n",
      "2017-03-06 15:53:44,263 - Fiona - DEBUG - Looking up lat in {'lat': u'lat', 'lon': u'lon', 'pendepths': u'pendepths'}\n",
      "2017-03-06 15:53:44,265 - Fiona - DEBUG - Set field lat: -26.6265\n",
      "2017-03-06 15:53:44,265 - Fiona - DEBUG - Looking up lon in {'lat': u'lat', 'lon': u'lon', 'pendepths': u'pendepths'}\n",
      "2017-03-06 15:53:44,266 - Fiona - DEBUG - Set field lon: 125.8505\n",
      "2017-03-06 15:53:44,266 - Fiona - DEBUG - Looking up pendepths in {'lat': u'lat', 'lon': u'lon', 'pendepths': u'pendepths'}\n",
      "2017-03-06 15:53:44,266 - Fiona - DEBUG - Set field pendepths: 34.85,91.36,102.28,124.40,142.36,175.62,196.54,251.36,286.61,379.22,423.14,530.31,634.17,826.71,877.81,1042.20,1136.76,1342.25,1459.77,1697.61,1835.03,2222.64,2375.28,2728.71,3087.56,4002.12,4894.72,7068.53,8310.67,12763.68,16611.99,27199.42\n",
      "2017-03-06 15:53:44,267 - Fiona - DEBUG - Creating feature in layer: {'geometry': {'type': 'Point', 'coordinates': (125.7822, -26.6876)}, 'type': 'Feature', 'id': '40', 'properties': {'lat': -26.6876, 'lon': 125.7822, 'pendepths': '63.08,115.39,125.72,149.00,170.24,211.01,238.17,311.53,359.92,486.13,541.49,681.05,809.92,1043.94,1098.67,1270.51,1390.09,1608.91,1714.76,1969.75,2105.34,2484.30,2580.33,3097.54,3453.78,4467.39,4818.97,7735.11,8714.64,13838.08,17305.95,29387.88'}}\n",
      "2017-03-06 15:53:44,267 - Fiona - DEBUG - Looking up lat in {'lat': u'lat', 'lon': u'lon', 'pendepths': u'pendepths'}\n",
      "2017-03-06 15:53:44,269 - Fiona - DEBUG - Set field lat: -26.6876\n",
      "2017-03-06 15:53:44,269 - Fiona - DEBUG - Looking up lon in {'lat': u'lat', 'lon': u'lon', 'pendepths': u'pendepths'}\n",
      "2017-03-06 15:53:44,269 - Fiona - DEBUG - Set field lon: 125.7822\n",
      "2017-03-06 15:53:44,269 - Fiona - DEBUG - Looking up pendepths in {'lat': u'lat', 'lon': u'lon', 'pendepths': u'pendepths'}\n",
      "2017-03-06 15:53:44,270 - Fiona - DEBUG - Set field pendepths: 63.08,115.39,125.72,149.00,170.24,211.01,238.17,311.53,359.92,486.13,541.49,681.05,809.92,1043.94,1098.67,1270.51,1390.09,1608.91,1714.76,1969.75,2105.34,2484.30,2580.33,3097.54,3453.78,4467.39,4818.97,7735.11,8714.64,13838.08,17305.95,29387.88\n",
      "2017-03-06 15:53:44,272 - Fiona - DEBUG - Creating feature in layer: {'geometry': {'type': 'Point', 'coordinates': (125.7321, -26.7643)}, 'type': 'Feature', 'id': '41', 'properties': {'lat': -26.7643, 'lon': 125.7321, 'pendepths': '35.29,74.58,82.34,100.08,114.79,141.07,156.19,197.48,224.97,306.37,341.18,446.76,548.15,747.80,794.74,975.37,1068.12,1292.59,1396.84,1583.41,1741.90,2157.59,2329.01,2801.75,3194.54,4082.22,4913.14,6954.77,8068.21,12771.58,16378.55,27752.27'}}\n",
      "2017-03-06 15:53:44,272 - Fiona - DEBUG - Looking up lat in {'lat': u'lat', 'lon': u'lon', 'pendepths': u'pendepths'}\n",
      "2017-03-06 15:53:44,273 - Fiona - DEBUG - Set field lat: -26.7643\n",
      "2017-03-06 15:53:44,273 - Fiona - DEBUG - Looking up lon in {'lat': u'lat', 'lon': u'lon', 'pendepths': u'pendepths'}\n",
      "2017-03-06 15:53:44,273 - Fiona - DEBUG - Set field lon: 125.7321\n",
      "2017-03-06 15:53:44,273 - Fiona - DEBUG - Looking up pendepths in {'lat': u'lat', 'lon': u'lon', 'pendepths': u'pendepths'}\n",
      "2017-03-06 15:53:44,275 - Fiona - DEBUG - Set field pendepths: 35.29,74.58,82.34,100.08,114.79,141.07,156.19,197.48,224.97,306.37,341.18,446.76,548.15,747.80,794.74,975.37,1068.12,1292.59,1396.84,1583.41,1741.90,2157.59,2329.01,2801.75,3194.54,4082.22,4913.14,6954.77,8068.21,12771.58,16378.55,27752.27\n",
      "2017-03-06 15:53:44,276 - Fiona - DEBUG - Creating feature in layer: {'geometry': {'type': 'Point', 'coordinates': (125.6676, -26.8324)}, 'type': 'Feature', 'id': '42', 'properties': {'lat': -26.8324, 'lon': 125.6676, 'pendepths': '26.88,57.01,65.30,82.86,96.31,122.16,137.88,180.95,209.14,286.60,322.64,414.67,499.72,670.69,710.19,843.69,946.44,1091.61,1164.99,1352.95,1470.41,1830.47,2012.40,2442.17,2685.86,3153.11,3864.07,5226.55,6305.86,9498.29,12192.88,19749.90'}}\n",
      "2017-03-06 15:53:44,276 - Fiona - DEBUG - Looking up lat in {'lat': u'lat', 'lon': u'lon', 'pendepths': u'pendepths'}\n",
      "2017-03-06 15:53:44,276 - Fiona - DEBUG - Set field lat: -26.8324\n",
      "2017-03-06 15:53:44,276 - Fiona - DEBUG - Looking up lon in {'lat': u'lat', 'lon': u'lon', 'pendepths': u'pendepths'}\n",
      "2017-03-06 15:53:44,278 - Fiona - DEBUG - Set field lon: 125.6676\n",
      "2017-03-06 15:53:44,278 - Fiona - DEBUG - Looking up pendepths in {'lat': u'lat', 'lon': u'lon', 'pendepths': u'pendepths'}\n",
      "2017-03-06 15:53:44,279 - Fiona - DEBUG - Set field pendepths: 26.88,57.01,65.30,82.86,96.31,122.16,137.88,180.95,209.14,286.60,322.64,414.67,499.72,670.69,710.19,843.69,946.44,1091.61,1164.99,1352.95,1470.41,1830.47,2012.40,2442.17,2685.86,3153.11,3864.07,5226.55,6305.86,9498.29,12192.88,19749.90\n",
      "2017-03-06 15:53:44,279 - Fiona - DEBUG - Creating feature in layer: {'geometry': {'type': 'Point', 'coordinates': (125.5826, -26.8794)}, 'type': 'Feature', 'id': '43', 'properties': {'lat': -26.8794, 'lon': 125.5826, 'pendepths': '73.22,129.94,144.93,181.00,212.35,279.37,320.00,412.53,462.99,578.29,607.86,708.90,820.23,1025.25,1064.18,1212.51,1315.26,1500.42,1596.49,1862.62,2031.50,2520.92,2767.59,3535.82,3861.63,5161.29,6020.84,8636.42,10404.24,15461.60,20538.13,33404.63'}}\n",
      "2017-03-06 15:53:44,279 - Fiona - DEBUG - Looking up lat in {'lat': u'lat', 'lon': u'lon', 'pendepths': u'pendepths'}\n",
      "2017-03-06 15:53:44,280 - Fiona - DEBUG - Set field lat: -26.8794\n",
      "2017-03-06 15:53:44,280 - Fiona - DEBUG - Looking up lon in {'lat': u'lat', 'lon': u'lon', 'pendepths': u'pendepths'}\n",
      "2017-03-06 15:53:44,282 - Fiona - DEBUG - Set field lon: 125.5826\n",
      "2017-03-06 15:53:44,282 - Fiona - DEBUG - Looking up pendepths in {'lat': u'lat', 'lon': u'lon', 'pendepths': u'pendepths'}\n",
      "2017-03-06 15:53:44,282 - Fiona - DEBUG - Set field pendepths: 73.22,129.94,144.93,181.00,212.35,279.37,320.00,412.53,462.99,578.29,607.86,708.90,820.23,1025.25,1064.18,1212.51,1315.26,1500.42,1596.49,1862.62,2031.50,2520.92,2767.59,3535.82,3861.63,5161.29,6020.84,8636.42,10404.24,15461.60,20538.13,33404.63\n",
      "2017-03-06 15:53:44,283 - Fiona - DEBUG - Creating feature in layer: {'geometry': {'type': 'Point', 'coordinates': (125.542, -26.9039)}, 'type': 'Feature', 'id': '44', 'properties': {'lat': -26.9039, 'lon': 125.542, 'pendepths': '12.55,44.72,81.39,147.65,188.77,257.99,298.30,381.98,427.79,527.28,556.00,624.13,739.97,895.66,902.03,993.45,1049.11,1158.02,1172.21,1408.61,1584.05,1841.37,1752.21,2131.35,2308.08,4597.75,5754.45,8478.24,9905.19,15323.84,19519.37,32107.01'}}\n",
      "2017-03-06 15:53:44,283 - Fiona - DEBUG - Looking up lat in {'lat': u'lat', 'lon': u'lon', 'pendepths': u'pendepths'}\n",
      "2017-03-06 15:53:44,285 - Fiona - DEBUG - Set field lat: -26.9039\n",
      "2017-03-06 15:53:44,285 - Fiona - DEBUG - Looking up lon in {'lat': u'lat', 'lon': u'lon', 'pendepths': u'pendepths'}\n",
      "2017-03-06 15:53:44,286 - Fiona - DEBUG - Set field lon: 125.542\n",
      "2017-03-06 15:53:44,286 - Fiona - DEBUG - Looking up pendepths in {'lat': u'lat', 'lon': u'lon', 'pendepths': u'pendepths'}\n",
      "2017-03-06 15:53:44,286 - Fiona - DEBUG - Set field pendepths: 12.55,44.72,81.39,147.65,188.77,257.99,298.30,381.98,427.79,527.28,556.00,624.13,739.97,895.66,902.03,993.45,1049.11,1158.02,1172.21,1408.61,1584.05,1841.37,1752.21,2131.35,2308.08,4597.75,5754.45,8478.24,9905.19,15323.84,19519.37,32107.01\n",
      "2017-03-06 15:53:44,286 - Fiona - DEBUG - Creating feature in layer: {'geometry': {'type': 'Point', 'coordinates': (125.4979, -26.9252)}, 'type': 'Feature', 'id': '45', 'properties': {'lat': -26.9252, 'lon': 125.4979, 'pendepths': '25.39,52.24,55.60,66.20,75.97,94.35,105.59,132.22,149.68,191.70,209.36,252.52,303.98,395.49,416.91,487.01,547.55,617.77,662.21,778.93,837.57,1085.39,1201.89,1698.50,1755.09,2437.92,2708.58,4276.63,5074.09,8032.76,10126.99,16011.57'}}\n",
      "2017-03-06 15:53:44,288 - Fiona - DEBUG - Looking up lat in {'lat': u'lat', 'lon': u'lon', 'pendepths': u'pendepths'}\n",
      "2017-03-06 15:53:44,288 - Fiona - DEBUG - Set field lat: -26.9252\n",
      "2017-03-06 15:53:44,289 - Fiona - DEBUG - Looking up lon in {'lat': u'lat', 'lon': u'lon', 'pendepths': u'pendepths'}\n",
      "2017-03-06 15:53:44,289 - Fiona - DEBUG - Set field lon: 125.4979\n",
      "2017-03-06 15:53:44,289 - Fiona - DEBUG - Looking up pendepths in {'lat': u'lat', 'lon': u'lon', 'pendepths': u'pendepths'}\n",
      "2017-03-06 15:53:44,289 - Fiona - DEBUG - Set field pendepths: 25.39,52.24,55.60,66.20,75.97,94.35,105.59,132.22,149.68,191.70,209.36,252.52,303.98,395.49,416.91,487.01,547.55,617.77,662.21,778.93,837.57,1085.39,1201.89,1698.50,1755.09,2437.92,2708.58,4276.63,5074.09,8032.76,10126.99,16011.57\n",
      "2017-03-06 15:53:44,290 - Fiona - DEBUG - Creating feature in layer: {'geometry': {'type': 'Point', 'coordinates': (125.4546, -26.9473)}, 'type': 'Feature', 'id': '46', 'properties': {'lat': -26.9473, 'lon': 125.4546, 'pendepths': '46.64,75.18,81.58,97.88,112.81,140.50,156.82,194.22,216.63,277.04,294.47,360.62,430.83,560.46,590.87,697.77,770.30,904.15,968.82,1140.16,1257.96,1603.54,1761.10,2319.30,2515.09,4075.20,4893.79,6752.20,8059.90,12185.34,16024.15,26373.38'}}\n",
      "2017-03-06 15:53:44,292 - Fiona - DEBUG - Looking up lat in {'lat': u'lat', 'lon': u'lon', 'pendepths': u'pendepths'}\n",
      "2017-03-06 15:53:44,292 - Fiona - DEBUG - Set field lat: -26.9473\n",
      "2017-03-06 15:53:44,292 - Fiona - DEBUG - Looking up lon in {'lat': u'lat', 'lon': u'lon', 'pendepths': u'pendepths'}\n",
      "2017-03-06 15:53:44,292 - Fiona - DEBUG - Set field lon: 125.4546\n",
      "2017-03-06 15:53:44,293 - Fiona - DEBUG - Looking up pendepths in {'lat': u'lat', 'lon': u'lon', 'pendepths': u'pendepths'}\n",
      "2017-03-06 15:53:44,293 - Fiona - DEBUG - Set field pendepths: 46.64,75.18,81.58,97.88,112.81,140.50,156.82,194.22,216.63,277.04,294.47,360.62,430.83,560.46,590.87,697.77,770.30,904.15,968.82,1140.16,1257.96,1603.54,1761.10,2319.30,2515.09,4075.20,4893.79,6752.20,8059.90,12185.34,16024.15,26373.38\n",
      "2017-03-06 15:53:44,295 - Fiona - DEBUG - Creating feature in layer: {'geometry': {'type': 'Point', 'coordinates': (125.4119, -26.9692)}, 'type': 'Feature', 'id': '47', 'properties': {'lat': -26.9692, 'lon': 125.4119, 'pendepths': '62.26,99.87,100.58,111.02,123.37,141.31,151.48,178.41,194.31,238.18,248.64,290.50,336.78,427.14,438.89,519.72,553.89,658.98,720.92,833.13,932.65,1240.61,1387.04,1809.68,2214.73,3116.36,3864.70,5564.63,6580.86,9764.93,12514.41,19961.99'}}\n",
      "2017-03-06 15:53:44,296 - Fiona - DEBUG - Looking up lat in {'lat': u'lat', 'lon': u'lon', 'pendepths': u'pendepths'}\n",
      "2017-03-06 15:53:44,296 - Fiona - DEBUG - Set field lat: -26.9692\n",
      "2017-03-06 15:53:44,296 - Fiona - DEBUG - Looking up lon in {'lat': u'lat', 'lon': u'lon', 'pendepths': u'pendepths'}\n",
      "2017-03-06 15:53:44,296 - Fiona - DEBUG - Set field lon: 125.4119\n",
      "2017-03-06 15:53:44,298 - Fiona - DEBUG - Looking up pendepths in {'lat': u'lat', 'lon': u'lon', 'pendepths': u'pendepths'}\n",
      "2017-03-06 15:53:44,298 - Fiona - DEBUG - Set field pendepths: 62.26,99.87,100.58,111.02,123.37,141.31,151.48,178.41,194.31,238.18,248.64,290.50,336.78,427.14,438.89,519.72,553.89,658.98,720.92,833.13,932.65,1240.61,1387.04,1809.68,2214.73,3116.36,3864.70,5564.63,6580.86,9764.93,12514.41,19961.99\n",
      "2017-03-06 15:53:44,299 - Fiona - DEBUG - Creating feature in layer: {'geometry': {'type': 'Point', 'coordinates': (125.3646, -26.9847)}, 'type': 'Feature', 'id': '48', 'properties': {'lat': -26.9847, 'lon': 125.3646, 'pendepths': '30.33,60.58,67.81,83.28,96.31,121.86,138.53,179.08,204.88,265.54,283.14,336.00,399.37,506.61,530.48,617.19,677.29,791.58,848.43,1042.21,1179.19,1576.09,1847.94,2557.18,3007.68,4370.69,5255.65,7348.90,8895.31,13269.34,17232.64,26802.69'}}\n",
      "2017-03-06 15:53:44,299 - Fiona - DEBUG - Looking up lat in {'lat': u'lat', 'lon': u'lon', 'pendepths': u'pendepths'}\n",
      "2017-03-06 15:53:44,299 - Fiona - DEBUG - Set field lat: -26.9847\n",
      "2017-03-06 15:53:44,301 - Fiona - DEBUG - Looking up lon in {'lat': u'lat', 'lon': u'lon', 'pendepths': u'pendepths'}\n",
      "2017-03-06 15:53:44,301 - Fiona - DEBUG - Set field lon: 125.3646\n",
      "2017-03-06 15:53:44,302 - Fiona - DEBUG - Looking up pendepths in {'lat': u'lat', 'lon': u'lon', 'pendepths': u'pendepths'}\n",
      "2017-03-06 15:53:44,302 - Fiona - DEBUG - Set field pendepths: 30.33,60.58,67.81,83.28,96.31,121.86,138.53,179.08,204.88,265.54,283.14,336.00,399.37,506.61,530.48,617.19,677.29,791.58,848.43,1042.21,1179.19,1576.09,1847.94,2557.18,3007.68,4370.69,5255.65,7348.90,8895.31,13269.34,17232.64,26802.69\n",
      "2017-03-06 15:53:44,302 - Fiona - DEBUG - Creating feature in layer: {'geometry': {'type': 'Point', 'coordinates': (125.3214, -27.0059)}, 'type': 'Feature', 'id': '49', 'properties': {'lat': -27.0059, 'lon': 125.3214, 'pendepths': '58.74,102.41,109.17,131.07,151.58,192.03,215.59,267.42,296.56,360.41,376.00,427.16,504.36,637.99,658.65,750.27,831.85,945.50,1026.55,1281.41,1445.21,2002.44,2312.01,3342.36,3912.82,5913.98,7085.54,10544.91,11692.15,17420.20,22377.69,36151.24'}}\n",
      "2017-03-06 15:53:44,303 - Fiona - DEBUG - Looking up lat in {'lat': u'lat', 'lon': u'lon', 'pendepths': u'pendepths'}\n",
      "2017-03-06 15:53:44,303 - Fiona - DEBUG - Set field lat: -27.0059\n",
      "2017-03-06 15:53:44,305 - Fiona - DEBUG - Looking up lon in {'lat': u'lat', 'lon': u'lon', 'pendepths': u'pendepths'}\n",
      "2017-03-06 15:53:44,305 - Fiona - DEBUG - Set field lon: 125.3214\n",
      "2017-03-06 15:53:44,305 - Fiona - DEBUG - Looking up pendepths in {'lat': u'lat', 'lon': u'lon', 'pendepths': u'pendepths'}\n",
      "2017-03-06 15:53:44,306 - Fiona - DEBUG - Set field pendepths: 58.74,102.41,109.17,131.07,151.58,192.03,215.59,267.42,296.56,360.41,376.00,427.16,504.36,637.99,658.65,750.27,831.85,945.50,1026.55,1281.41,1445.21,2002.44,2312.01,3342.36,3912.82,5913.98,7085.54,10544.91,11692.15,17420.20,22377.69,36151.24\n",
      "2017-03-06 15:53:44,308 - Fiona - DEBUG - Creating feature in layer: {'geometry': {'type': 'Point', 'coordinates': (125.273, -27.0149)}, 'type': 'Feature', 'id': '50', 'properties': {'lat': -27.0149, 'lon': 125.273, 'pendepths': '51.09,90.24,96.70,117.67,136.55,173.94,196.27,245.69,275.62,339.95,359.42,413.63,492.04,622.75,641.38,724.12,802.24,919.13,1005.64,1254.59,1423.59,1971.89,2257.82,3563.50,3874.16,6326.84,7022.20,10074.22,11998.44,17436.79,21974.20,35670.16'}}\n",
      "2017-03-06 15:53:44,309 - Fiona - DEBUG - Looking up lat in {'lat': u'lat', 'lon': u'lon', 'pendepths': u'pendepths'}\n",
      "2017-03-06 15:53:44,309 - Fiona - DEBUG - Set field lat: -27.0149\n",
      "2017-03-06 15:53:44,309 - Fiona - DEBUG - Looking up lon in {'lat': u'lat', 'lon': u'lon', 'pendepths': u'pendepths'}\n",
      "2017-03-06 15:53:44,309 - Fiona - DEBUG - Set field lon: 125.273\n",
      "2017-03-06 15:53:44,311 - Fiona - DEBUG - Looking up pendepths in {'lat': u'lat', 'lon': u'lon', 'pendepths': u'pendepths'}\n",
      "2017-03-06 15:53:44,311 - Fiona - DEBUG - Set field pendepths: 51.09,90.24,96.70,117.67,136.55,173.94,196.27,245.69,275.62,339.95,359.42,413.63,492.04,622.75,641.38,724.12,802.24,919.13,1005.64,1254.59,1423.59,1971.89,2257.82,3563.50,3874.16,6326.84,7022.20,10074.22,11998.44,17436.79,21974.20,35670.16\n",
      "2017-03-06 15:53:44,312 - Fiona - DEBUG - Creating feature in layer: {'geometry': {'type': 'Point', 'coordinates': (125.2278, -27.0344)}, 'type': 'Feature', 'id': '51', 'properties': {'lat': -27.0344, 'lon': 125.2278, 'pendepths': '48.72,80.29,86.54,106.61,125.02,165.13,189.27,246.87,279.23,351.21,379.27,452.87,525.25,667.21,695.27,786.13,867.63,987.00,1071.94,1360.81,1561.40,2228.22,2671.85,3915.39,4652.70,6915.40,8188.60,12237.90,13568.92,19909.38,25296.11,39715.61'}}\n",
      "2017-03-06 15:53:44,312 - Fiona - DEBUG - Looking up lat in {'lat': u'lat', 'lon': u'lon', 'pendepths': u'pendepths'}\n",
      "2017-03-06 15:53:44,313 - Fiona - DEBUG - Set field lat: -27.0344\n",
      "2017-03-06 15:53:44,313 - Fiona - DEBUG - Looking up lon in {'lat': u'lat', 'lon': u'lon', 'pendepths': u'pendepths'}\n",
      "2017-03-06 15:53:44,315 - Fiona - DEBUG - Set field lon: 125.2278\n",
      "2017-03-06 15:53:44,315 - Fiona - DEBUG - Looking up pendepths in {'lat': u'lat', 'lon': u'lon', 'pendepths': u'pendepths'}\n",
      "2017-03-06 15:53:44,315 - Fiona - DEBUG - Set field pendepths: 48.72,80.29,86.54,106.61,125.02,165.13,189.27,246.87,279.23,351.21,379.27,452.87,525.25,667.21,695.27,786.13,867.63,987.00,1071.94,1360.81,1561.40,2228.22,2671.85,3915.39,4652.70,6915.40,8188.60,12237.90,13568.92,19909.38,25296.11,39715.61\n",
      "2017-03-06 15:53:44,316 - Fiona - DEBUG - Creating feature in layer: {'geometry': {'type': 'Point', 'coordinates': (125.1857, -27.0571)}, 'type': 'Feature', 'id': '52', 'properties': {'lat': -27.0571, 'lon': 125.1857, 'pendepths': '72.27,132.38,134.89,161.51,186.09,233.98,261.90,325.21,359.86,450.21,469.65,565.87,666.38,850.19,864.63,970.33,1063.11,1196.53,1316.98,1742.96,2009.45,2888.19,3572.22,5052.32,6026.84,9702.84,11085.63,15722.15,17316.96,25354.74,31698.87,48748.33'}}\n",
      "2017-03-06 15:53:44,318 - Fiona - DEBUG - Looking up lat in {'lat': u'lat', 'lon': u'lon', 'pendepths': u'pendepths'}\n",
      "2017-03-06 15:53:44,318 - Fiona - DEBUG - Set field lat: -27.0571\n",
      "2017-03-06 15:53:44,319 - Fiona - DEBUG - Looking up lon in {'lat': u'lat', 'lon': u'lon', 'pendepths': u'pendepths'}\n",
      "2017-03-06 15:53:44,319 - Fiona - DEBUG - Set field lon: 125.1857\n",
      "2017-03-06 15:53:44,319 - Fiona - DEBUG - Looking up pendepths in {'lat': u'lat', 'lon': u'lon', 'pendepths': u'pendepths'}\n",
      "2017-03-06 15:53:44,319 - Fiona - DEBUG - Set field pendepths: 72.27,132.38,134.89,161.51,186.09,233.98,261.90,325.21,359.86,450.21,469.65,565.87,666.38,850.19,864.63,970.33,1063.11,1196.53,1316.98,1742.96,2009.45,2888.19,3572.22,5052.32,6026.84,9702.84,11085.63,15722.15,17316.96,25354.74,31698.87,48748.33\n",
      "2017-03-06 15:53:44,322 - Fiona - DEBUG - Creating feature in layer: {'geometry': {'type': 'Point', 'coordinates': (125.1358, -27.0535)}, 'type': 'Feature', 'id': '53', 'properties': {'lat': -27.0535, 'lon': 125.1358, 'pendepths': '66.85,101.18,105.47,123.70,142.08,178.83,201.69,255.71,287.97,365.82,404.28,495.63,572.18,712.05,746.75,819.71,926.92,1087.46,1208.71,1715.61,2071.75,3089.57,3377.20,5225.66,5754.29,8287.36,10495.60,15228.40,17743.30,25228.75,31918.56,49073.01'}}\n",
      "2017-03-06 15:53:44,322 - Fiona - DEBUG - Looking up lat in {'lat': u'lat', 'lon': u'lon', 'pendepths': u'pendepths'}\n",
      "2017-03-06 15:53:44,322 - Fiona - DEBUG - Set field lat: -27.0535\n",
      "2017-03-06 15:53:44,322 - Fiona - DEBUG - Looking up lon in {'lat': u'lat', 'lon': u'lon', 'pendepths': u'pendepths'}\n",
      "2017-03-06 15:53:44,323 - Fiona - DEBUG - Set field lon: 125.1358\n",
      "2017-03-06 15:53:44,325 - Fiona - DEBUG - Looking up pendepths in {'lat': u'lat', 'lon': u'lon', 'pendepths': u'pendepths'}\n",
      "2017-03-06 15:53:44,325 - Fiona - DEBUG - Set field pendepths: 66.85,101.18,105.47,123.70,142.08,178.83,201.69,255.71,287.97,365.82,404.28,495.63,572.18,712.05,746.75,819.71,926.92,1087.46,1208.71,1715.61,2071.75,3089.57,3377.20,5225.66,5754.29,8287.36,10495.60,15228.40,17743.30,25228.75,31918.56,49073.01\n",
      "2017-03-06 15:53:44,325 - Fiona - DEBUG - Creating feature in layer: {'geometry': {'type': 'Point', 'coordinates': (125.088, -27.0402)}, 'type': 'Feature', 'id': '54', 'properties': {'lat': -27.0402, 'lon': 125.088, 'pendepths': '56.57,125.06,134.78,169.64,197.25,248.62,276.57,338.46,372.59,465.31,495.05,594.85,684.14,840.74,848.72,946.94,1051.45,1275.17,1465.96,2094.21,2511.57,3787.97,4549.81,6306.68,7998.85,10564.19,13482.17,18837.96,21517.19,30479.06,38173.67,59299.36'}}\n",
      "2017-03-06 15:53:44,326 - Fiona - DEBUG - Looking up lat in {'lat': u'lat', 'lon': u'lon', 'pendepths': u'pendepths'}\n",
      "2017-03-06 15:53:44,326 - Fiona - DEBUG - Set field lat: -27.0402\n",
      "2017-03-06 15:53:44,328 - Fiona - DEBUG - Looking up lon in {'lat': u'lat', 'lon': u'lon', 'pendepths': u'pendepths'}\n",
      "2017-03-06 15:53:44,328 - Fiona - DEBUG - Set field lon: 125.088\n",
      "2017-03-06 15:53:44,328 - Fiona - DEBUG - Looking up pendepths in {'lat': u'lat', 'lon': u'lon', 'pendepths': u'pendepths'}\n",
      "2017-03-06 15:53:44,329 - Fiona - DEBUG - Set field pendepths: 56.57,125.06,134.78,169.64,197.25,248.62,276.57,338.46,372.59,465.31,495.05,594.85,684.14,840.74,848.72,946.94,1051.45,1275.17,1465.96,2094.21,2511.57,3787.97,4549.81,6306.68,7998.85,10564.19,13482.17,18837.96,21517.19,30479.06,38173.67,59299.36\n",
      "2017-03-06 15:53:44,331 - Fiona - DEBUG - Creating feature in layer: {'geometry': {'type': 'Point', 'coordinates': (124.9897, -27.0257)}, 'type': 'Feature', 'id': '55', 'properties': {'lat': -27.0257, 'lon': 124.9897, 'pendepths': '65.08,133.96,145.14,178.72,206.26,254.12,279.37,340.27,375.21,477.32,503.69,590.93,679.96,840.25,818.49,969.62,1020.91,1316.65,1615.91,2231.99,2903.55,4209.50,5833.38,7418.56,9502.26,14102.76,16293.51,21741.23,24033.51,34159.11,42836.08,65253.07'}}\n",
      "2017-03-06 15:53:44,332 - Fiona - DEBUG - Looking up lat in {'lat': u'lat', 'lon': u'lon', 'pendepths': u'pendepths'}\n",
      "2017-03-06 15:53:44,332 - Fiona - DEBUG - Set field lat: -27.0257\n",
      "2017-03-06 15:53:44,332 - Fiona - DEBUG - Looking up lon in {'lat': u'lat', 'lon': u'lon', 'pendepths': u'pendepths'}\n",
      "2017-03-06 15:53:44,334 - Fiona - DEBUG - Set field lon: 124.9897\n",
      "2017-03-06 15:53:44,334 - Fiona - DEBUG - Looking up pendepths in {'lat': u'lat', 'lon': u'lon', 'pendepths': u'pendepths'}\n",
      "2017-03-06 15:53:44,335 - Fiona - DEBUG - Set field pendepths: 65.08,133.96,145.14,178.72,206.26,254.12,279.37,340.27,375.21,477.32,503.69,590.93,679.96,840.25,818.49,969.62,1020.91,1316.65,1615.91,2231.99,2903.55,4209.50,5833.38,7418.56,9502.26,14102.76,16293.51,21741.23,24033.51,34159.11,42836.08,65253.07\n",
      "2017-03-06 15:53:44,335 - Fiona - DEBUG - Creating feature in layer: {'geometry': {'type': 'Point', 'coordinates': (124.9398, -27.0321)}, 'type': 'Feature', 'id': '56', 'properties': {'lat': -27.0321, 'lon': 124.9398, 'pendepths': '51.39,105.73,111.50,136.51,156.79,190.87,209.42,252.17,279.09,353.33,372.67,435.05,502.39,605.63,606.45,692.16,790.32,1008.53,1194.16,1763.78,2161.14,3268.91,4077.12,6321.23,7363.32,10382.85,12284.88,16688.35,18311.80,26226.47,32122.28,48552.08'}}\n",
      "2017-03-06 15:53:44,335 - Fiona - DEBUG - Looking up lat in {'lat': u'lat', 'lon': u'lon', 'pendepths': u'pendepths'}\n",
      "2017-03-06 15:53:44,336 - Fiona - DEBUG - Set field lat: -27.0321\n",
      "2017-03-06 15:53:44,338 - Fiona - DEBUG - Looking up lon in {'lat': u'lat', 'lon': u'lon', 'pendepths': u'pendepths'}\n",
      "2017-03-06 15:53:44,338 - Fiona - DEBUG - Set field lon: 124.9398\n",
      "2017-03-06 15:53:44,338 - Fiona - DEBUG - Looking up pendepths in {'lat': u'lat', 'lon': u'lon', 'pendepths': u'pendepths'}\n",
      "2017-03-06 15:53:44,338 - Fiona - DEBUG - Set field pendepths: 51.39,105.73,111.50,136.51,156.79,190.87,209.42,252.17,279.09,353.33,372.67,435.05,502.39,605.63,606.45,692.16,790.32,1008.53,1194.16,1763.78,2161.14,3268.91,4077.12,6321.23,7363.32,10382.85,12284.88,16688.35,18311.80,26226.47,32122.28,48552.08\n",
      "2017-03-06 15:53:44,341 - Fiona - DEBUG - Creating feature in layer: {'geometry': {'type': 'Point', 'coordinates': (124.8919, -27.024)}, 'type': 'Feature', 'id': '57', 'properties': {'lat': -27.024, 'lon': 124.8919, 'pendepths': '39.58,94.71,104.00,132.11,152.99,189.63,209.29,257.36,286.41,365.60,394.75,466.11,517.59,611.59,614.73,700.43,789.28,1026.99,1210.29,1828.12,2253.88,3453.89,4361.54,6428.23,7805.58,11033.69,12799.69,17397.67,19167.82,27240.05,33928.91,51813.68'}}\n",
      "2017-03-06 15:53:44,341 - Fiona - DEBUG - Looking up lat in {'lat': u'lat', 'lon': u'lon', 'pendepths': u'pendepths'}\n",
      "2017-03-06 15:53:44,342 - Fiona - DEBUG - Set field lat: -27.024\n",
      "2017-03-06 15:53:44,342 - Fiona - DEBUG - Looking up lon in {'lat': u'lat', 'lon': u'lon', 'pendepths': u'pendepths'}\n",
      "2017-03-06 15:53:44,342 - Fiona - DEBUG - Set field lon: 124.8919\n",
      "2017-03-06 15:53:44,342 - Fiona - DEBUG - Looking up pendepths in {'lat': u'lat', 'lon': u'lon', 'pendepths': u'pendepths'}\n",
      "2017-03-06 15:53:44,344 - Fiona - DEBUG - Set field pendepths: 39.58,94.71,104.00,132.11,152.99,189.63,209.29,257.36,286.41,365.60,394.75,466.11,517.59,611.59,614.73,700.43,789.28,1026.99,1210.29,1828.12,2253.88,3453.89,4361.54,6428.23,7805.58,11033.69,12799.69,17397.67,19167.82,27240.05,33928.91,51813.68\n",
      "2017-03-06 15:53:44,345 - Fiona - DEBUG - Creating feature in layer: {'geometry': {'type': 'Point', 'coordinates': (124.8448, -27.0235)}, 'type': 'Feature', 'id': '58', 'properties': {'lat': -27.0235, 'lon': 124.8448, 'pendepths': '37.96,89.37,94.56,116.66,134.39,165.84,184.31,230.25,260.02,339.68,360.32,419.97,484.84,578.65,575.37,650.62,742.05,969.26,1175.44,1833.86,2289.73,3462.35,4413.53,5890.92,7866.38,11217.10,12912.02,17093.69,18495.05,26641.14,32174.55,48990.25'}}\n",
      "2017-03-06 15:53:44,345 - Fiona - DEBUG - Looking up lat in {'lat': u'lat', 'lon': u'lon', 'pendepths': u'pendepths'}\n",
      "2017-03-06 15:53:44,345 - Fiona - DEBUG - Set field lat: -27.0235\n",
      "2017-03-06 15:53:44,346 - Fiona - DEBUG - Looking up lon in {'lat': u'lat', 'lon': u'lon', 'pendepths': u'pendepths'}\n",
      "2017-03-06 15:53:44,346 - Fiona - DEBUG - Set field lon: 124.8448\n",
      "2017-03-06 15:53:44,348 - Fiona - DEBUG - Looking up pendepths in {'lat': u'lat', 'lon': u'lon', 'pendepths': u'pendepths'}\n",
      "2017-03-06 15:53:44,348 - Fiona - DEBUG - Set field pendepths: 37.96,89.37,94.56,116.66,134.39,165.84,184.31,230.25,260.02,339.68,360.32,419.97,484.84,578.65,575.37,650.62,742.05,969.26,1175.44,1833.86,2289.73,3462.35,4413.53,5890.92,7866.38,11217.10,12912.02,17093.69,18495.05,26641.14,32174.55,48990.25\n",
      "2017-03-06 15:53:44,349 - Fiona - DEBUG - Creating feature in layer: {'geometry': {'type': 'Point', 'coordinates': (124.8045, -27.0506)}, 'type': 'Feature', 'id': '59', 'properties': {'lat': -27.0506, 'lon': 124.8045, 'pendepths': '50.68,111.69,118.98,141.46,160.99,194.93,216.43,269.23,302.89,381.81,403.31,460.73,530.08,664.16,712.72,929.01,1105.91,1606.00,1951.91,2973.87,3669.09,5640.89,6789.44,9798.89,11643.84,15808.36,18859.29,24847.35,27940.63,38229.60,48248.08,72244.74'}}\n",
      "2017-03-06 15:53:44,349 - Fiona - DEBUG - Looking up lat in {'lat': u'lat', 'lon': u'lon', 'pendepths': u'pendepths'}\n",
      "2017-03-06 15:53:44,351 - Fiona - DEBUG - Set field lat: -27.0506\n",
      "2017-03-06 15:53:44,351 - Fiona - DEBUG - Looking up lon in {'lat': u'lat', 'lon': u'lon', 'pendepths': u'pendepths'}\n",
      "2017-03-06 15:53:44,351 - Fiona - DEBUG - Set field lon: 124.8045\n",
      "2017-03-06 15:53:44,351 - Fiona - DEBUG - Looking up pendepths in {'lat': u'lat', 'lon': u'lon', 'pendepths': u'pendepths'}\n",
      "2017-03-06 15:53:44,352 - Fiona - DEBUG - Set field pendepths: 50.68,111.69,118.98,141.46,160.99,194.93,216.43,269.23,302.89,381.81,403.31,460.73,530.08,664.16,712.72,929.01,1105.91,1606.00,1951.91,2973.87,3669.09,5640.89,6789.44,9798.89,11643.84,15808.36,18859.29,24847.35,27940.63,38229.60,48248.08,72244.74\n",
      "2017-03-06 15:53:44,354 - Fiona - DEBUG - Creating feature in layer: {'geometry': {'type': 'Point', 'coordinates': (124.764, -27.0775)}, 'type': 'Feature', 'id': '60', 'properties': {'lat': -27.0775, 'lon': 124.764, 'pendepths': '37.84,77.31,87.76,115.70,136.16,178.39,203.98,267.94,304.69,389.36,411.07,483.79,557.78,738.84,813.73,1134.70,1394.90,2058.09,2528.10,3916.51,4798.71,7379.22,8832.53,12377.78,14783.21,19380.23,23528.03,30627.95,33932.21,46539.54,57579.69,85969.80'}}\n",
      "2017-03-06 15:53:44,355 - Fiona - DEBUG - Looking up lat in {'lat': u'lat', 'lon': u'lon', 'pendepths': u'pendepths'}\n",
      "2017-03-06 15:53:44,355 - Fiona - DEBUG - Set field lat: -27.0775\n",
      "2017-03-06 15:53:44,355 - Fiona - DEBUG - Looking up lon in {'lat': u'lat', 'lon': u'lon', 'pendepths': u'pendepths'}\n",
      "2017-03-06 15:53:44,355 - Fiona - DEBUG - Set field lon: 124.764\n",
      "2017-03-06 15:53:44,357 - Fiona - DEBUG - Looking up pendepths in {'lat': u'lat', 'lon': u'lon', 'pendepths': u'pendepths'}\n",
      "2017-03-06 15:53:44,358 - Fiona - DEBUG - Set field pendepths: 37.84,77.31,87.76,115.70,136.16,178.39,203.98,267.94,304.69,389.36,411.07,483.79,557.78,738.84,813.73,1134.70,1394.90,2058.09,2528.10,3916.51,4798.71,7379.22,8832.53,12377.78,14783.21,19380.23,23528.03,30627.95,33932.21,46539.54,57579.69,85969.80\n",
      "2017-03-06 15:53:44,358 - Fiona - DEBUG - Creating feature in layer: {'geometry': {'type': 'Point', 'coordinates': (124.7243, -27.1053)}, 'type': 'Feature', 'id': '61', 'properties': {'lat': -27.1053, 'lon': 124.7243, 'pendepths': '38.11,89.76,98.01,120.88,139.72,177.76,201.56,256.82,287.05,351.69,370.03,439.96,509.60,699.68,811.96,1190.48,1462.40,2227.68,2730.07,4181.79,5147.50,7813.39,9467.54,13076.30,15427.23,20470.25,24072.13,31328.71,35213.52,47963.82,59940.24,89529.96'}}\n",
      "2017-03-06 15:53:44,358 - Fiona - DEBUG - Looking up lat in {'lat': u'lat', 'lon': u'lon', 'pendepths': u'pendepths'}\n",
      "2017-03-06 15:53:44,359 - Fiona - DEBUG - Set field lat: -27.1053\n",
      "2017-03-06 15:53:44,359 - Fiona - DEBUG - Looking up lon in {'lat': u'lat', 'lon': u'lon', 'pendepths': u'pendepths'}\n",
      "2017-03-06 15:53:44,361 - Fiona - DEBUG - Set field lon: 124.7243\n",
      "2017-03-06 15:53:44,361 - Fiona - DEBUG - Looking up pendepths in {'lat': u'lat', 'lon': u'lon', 'pendepths': u'pendepths'}\n",
      "2017-03-06 15:53:44,361 - Fiona - DEBUG - Set field pendepths: 38.11,89.76,98.01,120.88,139.72,177.76,201.56,256.82,287.05,351.69,370.03,439.96,509.60,699.68,811.96,1190.48,1462.40,2227.68,2730.07,4181.79,5147.50,7813.39,9467.54,13076.30,15427.23,20470.25,24072.13,31328.71,35213.52,47963.82,59940.24,89529.96\n",
      "2017-03-06 15:53:44,362 - Fiona - DEBUG - Creating feature in layer: {'geometry': {'type': 'Point', 'coordinates': (124.681, -27.127)}, 'type': 'Feature', 'id': '62', 'properties': {'lat': -27.127, 'lon': 124.681, 'pendepths': '42.22,88.39,96.83,120.62,140.36,180.08,203.74,251.31,276.77,333.80,348.60,426.42,522.29,765.17,895.84,1332.21,1647.01,2522.19,3089.59,4724.92,5802.19,8702.86,10408.99,14384.67,17026.15,22532.25,26330.20,33812.03,37913.80,51676.27,63964.22,95599.54'}}\n",
      "2017-03-06 15:53:44,364 - Fiona - DEBUG - Looking up lat in {'lat': u'lat', 'lon': u'lon', 'pendepths': u'pendepths'}\n",
      "2017-03-06 15:53:44,365 - Fiona - DEBUG - Set field lat: -27.127\n",
      "2017-03-06 15:53:44,365 - Fiona - DEBUG - Looking up lon in {'lat': u'lat', 'lon': u'lon', 'pendepths': u'pendepths'}\n",
      "2017-03-06 15:53:44,365 - Fiona - DEBUG - Set field lon: 124.681\n",
      "2017-03-06 15:53:44,365 - Fiona - DEBUG - Looking up pendepths in {'lat': u'lat', 'lon': u'lon', 'pendepths': u'pendepths'}\n",
      "2017-03-06 15:53:44,367 - Fiona - DEBUG - Set field pendepths: 42.22,88.39,96.83,120.62,140.36,180.08,203.74,251.31,276.77,333.80,348.60,426.42,522.29,765.17,895.84,1332.21,1647.01,2522.19,3089.59,4724.92,5802.19,8702.86,10408.99,14384.67,17026.15,22532.25,26330.20,33812.03,37913.80,51676.27,63964.22,95599.54\n",
      "2017-03-06 15:53:44,368 - Fiona - DEBUG - Creating feature in layer: {'geometry': {'type': 'Point', 'coordinates': (124.6367, -27.1459)}, 'type': 'Feature', 'id': '63', 'properties': {'lat': -27.1459, 'lon': 124.6367, 'pendepths': '34.46,75.82,86.82,110.15,128.12,164.40,185.89,227.48,249.88,305.69,327.06,415.16,514.87,768.71,900.21,1341.58,1655.40,2526.02,3106.15,4707.76,5759.63,8646.59,10295.72,14327.95,16614.41,22063.69,25791.20,33337.24,37130.18,50124.44,62864.60,94316.46'}}\n",
      "2017-03-06 15:53:44,368 - Fiona - DEBUG - Looking up lat in {'lat': u'lat', 'lon': u'lon', 'pendepths': u'pendepths'}\n",
      "2017-03-06 15:53:44,368 - Fiona - DEBUG - Set field lat: -27.1459\n",
      "2017-03-06 15:53:44,369 - Fiona - DEBUG - Looking up lon in {'lat': u'lat', 'lon': u'lon', 'pendepths': u'pendepths'}\n",
      "2017-03-06 15:53:44,369 - Fiona - DEBUG - Set field lon: 124.6367\n",
      "2017-03-06 15:53:44,371 - Fiona - DEBUG - Looking up pendepths in {'lat': u'lat', 'lon': u'lon', 'pendepths': u'pendepths'}\n",
      "2017-03-06 15:53:44,371 - Fiona - DEBUG - Set field pendepths: 34.46,75.82,86.82,110.15,128.12,164.40,185.89,227.48,249.88,305.69,327.06,415.16,514.87,768.71,900.21,1341.58,1655.40,2526.02,3106.15,4707.76,5759.63,8646.59,10295.72,14327.95,16614.41,22063.69,25791.20,33337.24,37130.18,50124.44,62864.60,94316.46\n",
      "2017-03-06 15:53:44,371 - Fiona - DEBUG - Creating feature in layer: {'geometry': {'type': 'Point', 'coordinates': (124.5879, -27.1551)}, 'type': 'Feature', 'id': '64', 'properties': {'lat': -27.1551, 'lon': 124.5879, 'pendepths': '42.27,91.86,104.26,136.80,160.76,204.82,228.26,275.74,303.61,385.92,430.50,592.89,735.20,1127.30,1347.62,2008.11,2467.39,3707.00,4506.32,6737.66,8231.54,12223.07,14511.98,19905.29,23311.53,30666.67,35935.36,46191.57,51452.89,69458.35,86603.92,129088.61'}}\n",
      "2017-03-06 15:53:44,372 - Fiona - DEBUG - Looking up lat in {'lat': u'lat', 'lon': u'lon', 'pendepths': u'pendepths'}\n",
      "2017-03-06 15:53:44,374 - Fiona - DEBUG - Set field lat: -27.1551\n",
      "2017-03-06 15:53:44,374 - Fiona - DEBUG - Looking up lon in {'lat': u'lat', 'lon': u'lon', 'pendepths': u'pendepths'}\n",
      "2017-03-06 15:53:44,375 - Fiona - DEBUG - Set field lon: 124.5879\n",
      "2017-03-06 15:53:44,375 - Fiona - DEBUG - Looking up pendepths in {'lat': u'lat', 'lon': u'lon', 'pendepths': u'pendepths'}\n",
      "2017-03-06 15:53:44,375 - Fiona - DEBUG - Set field pendepths: 42.27,91.86,104.26,136.80,160.76,204.82,228.26,275.74,303.61,385.92,430.50,592.89,735.20,1127.30,1347.62,2008.11,2467.39,3707.00,4506.32,6737.66,8231.54,12223.07,14511.98,19905.29,23311.53,30666.67,35935.36,46191.57,51452.89,69458.35,86603.92,129088.61\n",
      "2017-03-06 15:53:44,377 - Fiona - DEBUG - Creating feature in layer: {'geometry': {'type': 'Point', 'coordinates': (124.5399, -27.1686)}, 'type': 'Feature', 'id': '65', 'properties': {'lat': -27.1686, 'lon': 124.5399, 'pendepths': '62.54,118.31,131.57,154.08,173.34,202.34,220.87,264.87,295.90,397.40,460.21,674.74,851.38,1337.74,1629.98,2492.41,3072.87,4684.63,5739.38,8628.00,10409.41,15309.45,18191.53,25232.63,29092.92,38017.32,43509.02,55804.67,60947.77,83203.14,102426.07,152892.42'}}\n",
      "2017-03-06 15:53:44,378 - Fiona - DEBUG - Looking up lat in {'lat': u'lat', 'lon': u'lon', 'pendepths': u'pendepths'}\n",
      "2017-03-06 15:53:44,378 - Fiona - DEBUG - Set field lat: -27.1686\n",
      "2017-03-06 15:53:44,378 - Fiona - DEBUG - Looking up lon in {'lat': u'lat', 'lon': u'lon', 'pendepths': u'pendepths'}\n",
      "2017-03-06 15:53:44,380 - Fiona - DEBUG - Set field lon: 124.5399\n",
      "2017-03-06 15:53:44,380 - Fiona - DEBUG - Looking up pendepths in {'lat': u'lat', 'lon': u'lon', 'pendepths': u'pendepths'}\n",
      "2017-03-06 15:53:44,381 - Fiona - DEBUG - Set field pendepths: 62.54,118.31,131.57,154.08,173.34,202.34,220.87,264.87,295.90,397.40,460.21,674.74,851.38,1337.74,1629.98,2492.41,3072.87,4684.63,5739.38,8628.00,10409.41,15309.45,18191.53,25232.63,29092.92,38017.32,43509.02,55804.67,60947.77,83203.14,102426.07,152892.42\n",
      "2017-03-06 15:53:44,381 - Fiona - DEBUG - Creating feature in layer: {'geometry': {'type': 'Point', 'coordinates': (124.4943, -27.1793)}, 'type': 'Feature', 'id': '66', 'properties': {'lat': -27.1793, 'lon': 124.4943, 'pendepths': '62.89,102.98,112.18,127.05,142.13,166.61,182.95,223.46,252.60,348.40,407.34,605.66,781.23,1262.77,1519.30,2349.81,2897.70,4466.82,5490.94,8270.09,10041.09,14855.60,17656.71,24045.24,27890.59,36457.22,42433.39,53765.61,59404.67,79804.80,99563.12,148241.25'}}\n",
      "2017-03-06 15:53:44,381 - Fiona - DEBUG - Looking up lat in {'lat': u'lat', 'lon': u'lon', 'pendepths': u'pendepths'}\n",
      "2017-03-06 15:53:44,382 - Fiona - DEBUG - Set field lat: -27.1793\n",
      "2017-03-06 15:53:44,382 - Fiona - DEBUG - Looking up lon in {'lat': u'lat', 'lon': u'lon', 'pendepths': u'pendepths'}\n",
      "2017-03-06 15:53:44,384 - Fiona - DEBUG - Set field lon: 124.4943\n",
      "2017-03-06 15:53:44,384 - Fiona - DEBUG - Looking up pendepths in {'lat': u'lat', 'lon': u'lon', 'pendepths': u'pendepths'}\n",
      "2017-03-06 15:53:44,384 - Fiona - DEBUG - Set field pendepths: 62.89,102.98,112.18,127.05,142.13,166.61,182.95,223.46,252.60,348.40,407.34,605.66,781.23,1262.77,1519.30,2349.81,2897.70,4466.82,5490.94,8270.09,10041.09,14855.60,17656.71,24045.24,27890.59,36457.22,42433.39,53765.61,59404.67,79804.80,99563.12,148241.25\n",
      "2017-03-06 15:53:44,385 - Fiona - DEBUG - Creating feature in layer: {'geometry': {'type': 'Point', 'coordinates': (124.4478, -27.2229)}, 'type': 'Feature', 'id': '67', 'properties': {'lat': -27.2229, 'lon': 124.4478, 'pendepths': '9.03,15.82,17.19,22.45,26.70,35.94,42.00,58.85,71.49,114.65,141.38,232.01,305.79,524.81,655.42,1041.97,1334.13,2091.49,2572.49,3670.17,4275.37,6964.81,7604.43,10451.81,13142.51,17960.98,23044.87,26823.43,28368.36,38157.69,50885.49,69267.81'}}\n",
      "2017-03-06 15:53:44,387 - Fiona - DEBUG - Looking up lat in {'lat': u'lat', 'lon': u'lon', 'pendepths': u'pendepths'}\n",
      "2017-03-06 15:53:44,387 - Fiona - DEBUG - Set field lat: -27.2229\n",
      "2017-03-06 15:53:44,388 - Fiona - DEBUG - Looking up lon in {'lat': u'lat', 'lon': u'lon', 'pendepths': u'pendepths'}\n",
      "2017-03-06 15:53:44,388 - Fiona - DEBUG - Set field lon: 124.4478\n",
      "2017-03-06 15:53:44,388 - Fiona - DEBUG - Looking up pendepths in {'lat': u'lat', 'lon': u'lon', 'pendepths': u'pendepths'}\n",
      "2017-03-06 15:53:44,390 - Fiona - DEBUG - Set field pendepths: 9.03,15.82,17.19,22.45,26.70,35.94,42.00,58.85,71.49,114.65,141.38,232.01,305.79,524.81,655.42,1041.97,1334.13,2091.49,2572.49,3670.17,4275.37,6964.81,7604.43,10451.81,13142.51,17960.98,23044.87,26823.43,28368.36,38157.69,50885.49,69267.81\n",
      "2017-03-06 15:53:44,390 - Fiona - DEBUG - Syncing OGR to disk\n"
     ]
    }
   ],
   "source": [
    "\n",
    "mygdf.crs= \"+proj=longlat +ellps=WGS84 +datum=WGS84 +no_defs\"\n",
    "\n",
    "mt_survey_loc_shp = os.path.join(EDI_DIR,'mt_survey_sites.shp') \n",
    "mygdf.to_file(mt_survey_loc_shp, driver='ESRI Shapefile')"
   ]
  },
  {
   "cell_type": "code",
   "execution_count": 15,
   "metadata": {
    "collapsed": false
   },
   "outputs": [
    {
     "data": {
      "text/plain": [
       "<matplotlib.axes._subplots.AxesSubplot at 0x2511240>"
      ]
     },
     "execution_count": 15,
     "metadata": {},
     "output_type": "execute_result"
    },
    {
     "data": {
      "image/png": "[encoded data removed]",
      "text/plain": [
       "<matplotlib.figure.Figure at 0x125bc550>"
      ]
     },
     "metadata": {},
     "output_type": "display_data"
    }
   ],
   "source": [
    "mygdf.plot()"
   ]
  },
  {
   "cell_type": "code",
   "execution_count": 16,
   "metadata": {
    "collapsed": false
   },
   "outputs": [],
   "source": [
    "mygdf2=mygdf.to_crs({'init':'epsg:4283'}) \n",
    "# WGS84: 'epsg:4326'\n",
    "\n",
    "# GDA94:  EPSG:4283 See  http://epsg.io/4283\n",
    "\n",
    "#http://spatialreference.org/ref/epsg/4283/\n"
   ]
  },
  {
   "cell_type": "code",
   "execution_count": 17,
   "metadata": {
    "collapsed": false
   },
   "outputs": [
    {
     "data": {
      "text/plain": [
       "{'init': 'epsg:4283'}"
      ]
     },
     "execution_count": 17,
     "metadata": {},
     "output_type": "execute_result"
    }
   ],
   "source": [
    "mygdf2.crs"
   ]
  },
  {
   "cell_type": "code",
   "execution_count": 18,
   "metadata": {
    "collapsed": true
   },
   "outputs": [],
   "source": [
    "mygdf2utm=mygdf2.to_crs({'init':'epsg:32750'}) "
   ]
  },
  {
   "cell_type": "code",
   "execution_count": 19,
   "metadata": {
    "collapsed": false
   },
   "outputs": [
    {
     "data": {
      "text/plain": [
       "<matplotlib.axes._subplots.AxesSubplot at 0x12b13668>"
      ]
     },
     "execution_count": 19,
     "metadata": {},
     "output_type": "execute_result"
    },
    {
     "data": {
      "image/png": "[encoded data removed]",
      "text/plain": [
       "<matplotlib.figure.Figure at 0x12a4c8d0>"
      ]
     },
     "metadata": {},
     "output_type": "display_data"
    }
   ],
   "source": [
    "mygdf2utm.plot()"
   ]
  },
  {
   "cell_type": "code",
   "execution_count": 20,
   "metadata": {
    "collapsed": false
   },
   "outputs": [
    {
     "data": {
      "text/plain": [
       "{'init': 'epsg:32750'}"
      ]
     },
     "execution_count": 20,
     "metadata": {},
     "output_type": "execute_result"
    }
   ],
   "source": [
    "mygdf2utm.crs"
   ]
  },
  {
   "cell_type": "code",
   "execution_count": 21,
   "metadata": {
    "collapsed": false
   },
   "outputs": [],
   "source": [
    "new_gdf = mygdf2utm.to_crs({'init':'epsg:4283'}) "
   ]
  },
  {
   "cell_type": "code",
   "execution_count": 22,
   "metadata": {
    "collapsed": false
   },
   "outputs": [
    {
     "data": {
      "text/plain": [
       "<matplotlib.axes._subplots.AxesSubplot at 0x12f43588>"
      ]
     },
     "execution_count": 22,
     "metadata": {},
     "output_type": "execute_result"
    },
    {
     "data": {
      "image/png": "[encoded data removed]",
      "text/plain": [
       "<matplotlib.figure.Figure at 0x6829710>"
      ]
     },
     "metadata": {},
     "output_type": "display_data"
    }
   ],
   "source": [
    "new_gdf.plot()"
   ]
  },
  {
   "cell_type": "code",
   "execution_count": 23,
   "metadata": {
    "collapsed": false
   },
   "outputs": [
    {
     "data": {
      "text/html": [
       "<div>\n",
       "<table border=\"1\" class=\"dataframe\">\n",
       "  <thead>\n",
       "    <tr style=\"text-align: right;\">\n",
       "      <th></th>\n",
       "      <th>lat</th>\n",
       "      <th>lon</th>\n",
       "      <th>pendepths</th>\n",
       "      <th>geometry</th>\n",
       "    </tr>\n",
       "  </thead>\n",
       "  <tbody>\n",
       "    <tr>\n",
       "      <th>0</th>\n",
       "      <td>-25.0482</td>\n",
       "      <td>128.2728</td>\n",
       "      <td>5.17,54.13,69.46,111.20,139.19,214.43,266.28,4...</td>\n",
       "      <td>POINT (128.2728 -25.0482)</td>\n",
       "    </tr>\n",
       "    <tr>\n",
       "      <th>1</th>\n",
       "      <td>-25.1328</td>\n",
       "      <td>128.1152</td>\n",
       "      <td>10.33,86.29,191.71,386.30,542.84,856.02,1055.0...</td>\n",
       "      <td>POINT (128.1152 -25.1328)</td>\n",
       "    </tr>\n",
       "    <tr>\n",
       "      <th>2</th>\n",
       "      <td>-25.1951</td>\n",
       "      <td>128.0423</td>\n",
       "      <td>18.38,171.71,210.80,318.73,397.91,591.31,714.9...</td>\n",
       "      <td>POINT (128.0423 -25.1951)</td>\n",
       "    </tr>\n",
       "    <tr>\n",
       "      <th>3</th>\n",
       "      <td>-25.2557</td>\n",
       "      <td>127.9728</td>\n",
       "      <td>19.55,62.79,76.11,112.53,140.22,217.03,271.02,...</td>\n",
       "      <td>POINT (127.9728 -25.2557)</td>\n",
       "    </tr>\n",
       "    <tr>\n",
       "      <th>4</th>\n",
       "      <td>-25.2959</td>\n",
       "      <td>127.8855</td>\n",
       "      <td>46.14,89.30,94.37,119.33,141.58,199.62,240.01,...</td>\n",
       "      <td>POINT (127.8855 -25.29590000000001)</td>\n",
       "    </tr>\n",
       "  </tbody>\n",
       "</table>\n",
       "</div>"
      ],
      "text/plain": [
       "       lat       lon                                          pendepths  \\\n",
       "0 -25.0482  128.2728  5.17,54.13,69.46,111.20,139.19,214.43,266.28,4...   \n",
       "1 -25.1328  128.1152  10.33,86.29,191.71,386.30,542.84,856.02,1055.0...   \n",
       "2 -25.1951  128.0423  18.38,171.71,210.80,318.73,397.91,591.31,714.9...   \n",
       "3 -25.2557  127.9728  19.55,62.79,76.11,112.53,140.22,217.03,271.02,...   \n",
       "4 -25.2959  127.8855  46.14,89.30,94.37,119.33,141.58,199.62,240.01,...   \n",
       "\n",
       "                              geometry  \n",
       "0            POINT (128.2728 -25.0482)  \n",
       "1            POINT (128.1152 -25.1328)  \n",
       "2            POINT (128.0423 -25.1951)  \n",
       "3            POINT (127.9728 -25.2557)  \n",
       "4  POINT (127.8855 -25.29590000000001)  "
      ]
     },
     "execution_count": 23,
     "metadata": {},
     "output_type": "execute_result"
    }
   ],
   "source": [
    "new_gdf.head()"
   ]
  },
  {
   "cell_type": "code",
   "execution_count": 47,
   "metadata": {
    "collapsed": false
   },
   "outputs": [
    {
     "name": "stdout",
     "output_type": "stream",
     "text": [
      "2017-03-06 16:09:49,908 - Fiona - DEBUG - Got coordinate system\n",
      "2017-03-06 16:09:49,911 - Fiona - DEBUG - Index: 0\n",
      "(46, 7)\n"
     ]
    },
    {
     "data": {
      "image/png": "[encoded data removed]",
      "text/plain": [
       "<matplotlib.figure.Figure at 0x197ce630>"
      ]
     },
     "metadata": {},
     "output_type": "display_data"
    }
   ],
   "source": [
    "\n",
    "shpfile=r'/Softlab/Data/MT_datasets/728889/Phase_Tensor_Shapes/Tip_2s_WGS84_imag.shp'\n",
    "shpfile=r'E:/Datasets/MT_Datasets/75098/Phase_Tensor_Shapes/PT_2s_WGS84.shp'\n",
    "\n",
    "shpf=gpd.GeoDataFrame.from_file(shpfile)\n",
    "\n",
    "#shpf['phi_max'].plot(marker='*', markersize=14)\n",
    "\n",
    "shpf.plot(cmap='OrRd', scheme='quantiles');  #(marker='o', color='red', markersize=5)\n",
    "print shpf.shape"
   ]
  },
  {
   "cell_type": "code",
   "execution_count": 48,
   "metadata": {
    "collapsed": false
   },
   "outputs": [
    {
     "data": {
      "text/plain": [
       "(46, 7)"
      ]
     },
     "execution_count": 48,
     "metadata": {},
     "output_type": "execute_result"
    }
   ],
   "source": [
    "shpf.shape"
   ]
  },
  {
   "cell_type": "code",
   "execution_count": 43,
   "metadata": {
    "collapsed": false
   },
   "outputs": [
    {
     "data": {
      "text/plain": [
       "{u'ellps': u'GRS80', u'no_defs': True, u'proj': u'longlat'}"
      ]
     },
     "execution_count": 43,
     "metadata": {},
     "output_type": "execute_result"
    }
   ],
   "source": [
    "shpf.crs"
   ]
  },
  {
   "cell_type": "code",
   "execution_count": 44,
   "metadata": {
    "collapsed": false
   },
   "outputs": [
    {
     "data": {
      "text/plain": [
       "<matplotlib.axes._subplots.AxesSubplot at 0x172126a0>"
      ]
     },
     "execution_count": 44,
     "metadata": {},
     "output_type": "execute_result"
    },
    {
     "data": {
      "image/png": "[encoded data removed]",
      "text/plain": [
       "<matplotlib.figure.Figure at 0x17788438>"
      ]
     },
     "metadata": {},
     "output_type": "display_data"
    }
   ],
   "source": [
    "shpf.to_crs({'init':'epsg:4283'}).plot()"
   ]
  },
  {
   "cell_type": "code",
   "execution_count": 39,
   "metadata": {
    "collapsed": false
   },
   "outputs": [
    {
     "data": {
      "text/plain": [
       "<matplotlib.axes._subplots.AxesSubplot at 0x176e18d0>"
      ]
     },
     "execution_count": 39,
     "metadata": {},
     "output_type": "execute_result"
    },
    {
     "data": {
      "image/png": "[encoded data removed]",
      "text/plain": [
       "<matplotlib.figure.Figure at 0x16caab00>"
      ]
     },
     "metadata": {},
     "output_type": "display_data"
    }
   ],
   "source": [
    "shpf.to_crs({'init':'epsg:32752'}).plot()\n"
   ]
  },
  {
   "cell_type": "markdown",
   "metadata": {},
   "source": [
    "# Reading Shape files\n",
    "\n",
    "# Analyze and visualize the geodata"
   ]
  },
  {
   "cell_type": "code",
   "execution_count": 29,
   "metadata": {
    "collapsed": false
   },
   "outputs": [
    {
     "name": "stdout",
     "output_type": "stream",
     "text": [
      "('Processing shape file: %s', '/Softlab/Data/MT_datasets/75099_Youanmi/Location_shapefiles/YMB2.shp')\n"
     ]
    },
    {
     "ename": "IOError",
     "evalue": "no such file or directory: '/Softlab/Data/MT_datasets/75099_Youanmi/Location_shapefiles/YMB2.shp'",
     "output_type": "error",
     "traceback": [
      "\u001b[0;31m\u001b[0m",
      "\u001b[0;31mIOError\u001b[0mTraceback (most recent call last)",
      "\u001b[0;32m<ipython-input-29-b8144dcba133>\u001b[0m in \u001b[0;36m<module>\u001b[0;34m()\u001b[0m\n\u001b[1;32m     15\u001b[0m     \u001b[1;32mprint\u001b[0m \u001b[1;33m(\u001b[0m\u001b[1;34m\"Processing shape file: %s\"\u001b[0m\u001b[1;33m,\u001b[0m\u001b[0mshpfile\u001b[0m\u001b[1;33m)\u001b[0m\u001b[1;33m\u001b[0m\u001b[0m\n\u001b[1;32m     16\u001b[0m \u001b[1;33m\u001b[0m\u001b[0m\n\u001b[0;32m---> 17\u001b[0;31m     \u001b[0mshp_gpd\u001b[0m\u001b[1;33m=\u001b[0m\u001b[0mgpd\u001b[0m\u001b[1;33m.\u001b[0m\u001b[0mGeoDataFrame\u001b[0m\u001b[1;33m.\u001b[0m\u001b[0mfrom_file\u001b[0m\u001b[1;33m(\u001b[0m\u001b[0mshpfile\u001b[0m\u001b[1;33m)\u001b[0m\u001b[1;33m\u001b[0m\u001b[0m\n\u001b[0m\u001b[1;32m     18\u001b[0m     \u001b[0mshp_list\u001b[0m\u001b[1;33m.\u001b[0m\u001b[0mappend\u001b[0m\u001b[1;33m(\u001b[0m\u001b[0mshp_gpd\u001b[0m\u001b[1;33m)\u001b[0m\u001b[1;33m\u001b[0m\u001b[0m\n\u001b[1;32m     19\u001b[0m \u001b[1;33m\u001b[0m\u001b[0m\n",
      "\u001b[0;32mC:\\Anaconda2\\lib\\site-packages\\geopandas\\geodataframe.pyc\u001b[0m in \u001b[0;36mfrom_file\u001b[0;34m(cls, filename, **kwargs)\u001b[0m\n\u001b[1;32m    173\u001b[0m \u001b[1;33m\u001b[0m\u001b[0m\n\u001b[1;32m    174\u001b[0m         \"\"\"\n\u001b[0;32m--> 175\u001b[0;31m         \u001b[1;32mreturn\u001b[0m \u001b[0mgeopandas\u001b[0m\u001b[1;33m.\u001b[0m\u001b[0mio\u001b[0m\u001b[1;33m.\u001b[0m\u001b[0mfile\u001b[0m\u001b[1;33m.\u001b[0m\u001b[0mread_file\u001b[0m\u001b[1;33m(\u001b[0m\u001b[0mfilename\u001b[0m\u001b[1;33m,\u001b[0m \u001b[1;33m**\u001b[0m\u001b[0mkwargs\u001b[0m\u001b[1;33m)\u001b[0m\u001b[1;33m\u001b[0m\u001b[0m\n\u001b[0m\u001b[1;32m    176\u001b[0m \u001b[1;33m\u001b[0m\u001b[0m\n\u001b[1;32m    177\u001b[0m     \u001b[1;33m@\u001b[0m\u001b[0mclassmethod\u001b[0m\u001b[1;33m\u001b[0m\u001b[0m\n",
      "\u001b[0;32mC:\\Anaconda2\\lib\\site-packages\\geopandas\\io\\file.pyc\u001b[0m in \u001b[0;36mread_file\u001b[0;34m(filename, **kwargs)\u001b[0m\n\u001b[1;32m     19\u001b[0m     \"\"\"\n\u001b[1;32m     20\u001b[0m     \u001b[0mbbox\u001b[0m \u001b[1;33m=\u001b[0m \u001b[0mkwargs\u001b[0m\u001b[1;33m.\u001b[0m\u001b[0mpop\u001b[0m\u001b[1;33m(\u001b[0m\u001b[1;34m'bbox'\u001b[0m\u001b[1;33m,\u001b[0m \u001b[0mNone\u001b[0m\u001b[1;33m)\u001b[0m\u001b[1;33m\u001b[0m\u001b[0m\n\u001b[0;32m---> 21\u001b[0;31m     \u001b[1;32mwith\u001b[0m \u001b[0mfiona\u001b[0m\u001b[1;33m.\u001b[0m\u001b[0mopen\u001b[0m\u001b[1;33m(\u001b[0m\u001b[0mfilename\u001b[0m\u001b[1;33m,\u001b[0m \u001b[1;33m**\u001b[0m\u001b[0mkwargs\u001b[0m\u001b[1;33m)\u001b[0m \u001b[1;32mas\u001b[0m \u001b[0mf\u001b[0m\u001b[1;33m:\u001b[0m\u001b[1;33m\u001b[0m\u001b[0m\n\u001b[0m\u001b[1;32m     22\u001b[0m         \u001b[0mcrs\u001b[0m \u001b[1;33m=\u001b[0m \u001b[0mf\u001b[0m\u001b[1;33m.\u001b[0m\u001b[0mcrs\u001b[0m\u001b[1;33m\u001b[0m\u001b[0m\n\u001b[1;32m     23\u001b[0m         \u001b[1;32mif\u001b[0m \u001b[0mbbox\u001b[0m \u001b[1;32mis\u001b[0m \u001b[1;32mnot\u001b[0m \u001b[0mNone\u001b[0m\u001b[1;33m:\u001b[0m\u001b[1;33m\u001b[0m\u001b[0m\n",
      "\u001b[0;32mC:\\Anaconda2\\lib\\site-packages\\fiona\\__init__.pyc\u001b[0m in \u001b[0;36mopen\u001b[0;34m(path, mode, driver, schema, crs, encoding, layer, vfs, enabled_drivers, crs_wkt)\u001b[0m\n\u001b[1;32m    163\u001b[0m                 \u001b[1;32mraise\u001b[0m \u001b[0mIOError\u001b[0m\u001b[1;33m(\u001b[0m\u001b[1;34m\"no such archive file: %r\"\u001b[0m \u001b[1;33m%\u001b[0m \u001b[0marchive\u001b[0m\u001b[1;33m)\u001b[0m\u001b[1;33m\u001b[0m\u001b[0m\n\u001b[1;32m    164\u001b[0m         \u001b[1;32melif\u001b[0m \u001b[0mpath\u001b[0m \u001b[1;33m!=\u001b[0m \u001b[1;34m'-'\u001b[0m \u001b[1;32mand\u001b[0m \u001b[1;32mnot\u001b[0m \u001b[0mos\u001b[0m\u001b[1;33m.\u001b[0m\u001b[0mpath\u001b[0m\u001b[1;33m.\u001b[0m\u001b[0mexists\u001b[0m\u001b[1;33m(\u001b[0m\u001b[0mpath\u001b[0m\u001b[1;33m)\u001b[0m\u001b[1;33m:\u001b[0m\u001b[1;33m\u001b[0m\u001b[0m\n\u001b[0;32m--> 165\u001b[0;31m             \u001b[1;32mraise\u001b[0m \u001b[0mIOError\u001b[0m\u001b[1;33m(\u001b[0m\u001b[1;34m\"no such file or directory: %r\"\u001b[0m \u001b[1;33m%\u001b[0m \u001b[0mpath\u001b[0m\u001b[1;33m)\u001b[0m\u001b[1;33m\u001b[0m\u001b[0m\n\u001b[0m\u001b[1;32m    166\u001b[0m         c = Collection(path, mode, driver=driver, encoding=encoding,\n\u001b[1;32m    167\u001b[0m                        \u001b[0mlayer\u001b[0m\u001b[1;33m=\u001b[0m\u001b[0mlayer\u001b[0m\u001b[1;33m,\u001b[0m \u001b[0mvsi\u001b[0m\u001b[1;33m=\u001b[0m\u001b[0mvsi\u001b[0m\u001b[1;33m,\u001b[0m \u001b[0marchive\u001b[0m\u001b[1;33m=\u001b[0m\u001b[0marchive\u001b[0m\u001b[1;33m,\u001b[0m\u001b[1;33m\u001b[0m\u001b[0m\n",
      "\u001b[0;31mIOError\u001b[0m: no such file or directory: '/Softlab/Data/MT_datasets/75099_Youanmi/Location_shapefiles/YMB2.shp'"
     ]
    }
   ],
   "source": [
    "# #shpfile=r'E:\\MT_shape_files\\PT_0.8547s_WGS84.shp'\n",
    "# shpfile=r'/Softlab/Data/MT_datasets/75099_Youanmi/Phase_Tensor_Shapes/PT_109.23s_WGS84.shp'\n",
    "# shpfile=r'/Softlab/Data/MT_datasets/75098/Location_shapefile/YOM_MT_CDP.shp'\n",
    "\n",
    "shapefile_list=[\n",
    "    \"/Softlab/Data/MT_datasets/75099_Youanmi/Location_shapefiles/YMB2.shp\",\n",
    "    \"/Softlab/Data/MT_datasets/75099_Youanmi/Location_shapefiles/YMB1.shp\",\n",
    "    \"/Softlab/Data/MT_datasets/75099_Youanmi/Location_shapefiles/YML.shp\",\n",
    "    \"/Softlab/Data/MT_datasets/75099_Youanmi/Location_shapefiles/YNB3.shp\",\n",
    "    r'/Softlab/Data/MT_datasets/75098/Location_shapefile/YOM_MT_CDP.shp'\n",
    "    ]\n",
    "\n",
    "shp_list=[]\n",
    "for shpfile in shapefile_list:\n",
    "    print (\"Processing shape file: %s\",shpfile)\n",
    "\n",
    "    shp_gpd=gpd.GeoDataFrame.from_file(shpfile)\n",
    "    shp_list.append(shp_gpd)\n",
    "\n",
    "    print(shp_gpd.shape, shp_gpd.columns)\n",
    "    print(\"Projection: \", shp_gpd.crs)\n"
   ]
  },
  {
   "cell_type": "code",
   "execution_count": null,
   "metadata": {
    "collapsed": false
   },
   "outputs": [],
   "source": [
    "\n",
    "\n",
    "# the first 3 shape files are of the same structure, they can be joined well:\n",
    "rdf = gpd.GeoDataFrame( pd.concat( shp_list[:3], ignore_index=True) )\n",
    "\n",
    "# if include the 4'th shapoe file, which has different columns, the concat will produce a many more columns gpd!!!!!"
   ]
  },
  {
   "cell_type": "code",
   "execution_count": null,
   "metadata": {
    "collapsed": false
   },
   "outputs": [],
   "source": [
    "rdf.shape"
   ]
  },
  {
   "cell_type": "code",
   "execution_count": null,
   "metadata": {
    "collapsed": false
   },
   "outputs": [],
   "source": [
    "rdf.columns"
   ]
  },
  {
   "cell_type": "code",
   "execution_count": null,
   "metadata": {
    "collapsed": false
   },
   "outputs": [],
   "source": [
    "rdf.head()"
   ]
  },
  {
   "cell_type": "code",
   "execution_count": null,
   "metadata": {
    "collapsed": false
   },
   "outputs": [],
   "source": [
    "rdf.plot()"
   ]
  },
  {
   "cell_type": "code",
   "execution_count": null,
   "metadata": {
    "collapsed": false
   },
   "outputs": [],
   "source": [
    "\n",
    "icount=4\n",
    "\n",
    "shpf=shp_list[ icount ]\n",
    "\n",
    "shpf.head()\n"
   ]
  },
  {
   "cell_type": "code",
   "execution_count": null,
   "metadata": {
    "collapsed": false
   },
   "outputs": [],
   "source": [
    "shpf.plot(marker='*', markersize=8)\n"
   ]
  },
  {
   "cell_type": "markdown",
   "metadata": {},
   "source": [
    "# Re-Projecting"
   ]
  },
  {
   "cell_type": "code",
   "execution_count": null,
   "metadata": {
    "collapsed": false
   },
   "outputs": [],
   "source": [
    "shpf.geometry.crs"
   ]
  },
  {
   "cell_type": "code",
   "execution_count": null,
   "metadata": {
    "collapsed": false
   },
   "outputs": [],
   "source": [
    "# WGS84: 'epsg:4326'\n",
    "\n",
    "# GDA94:  EPSG:4283 See  http://epsg.io/4283\n",
    "\n",
    "#http://spatialreference.org/ref/epsg/4283/\n",
    "    \n",
    "myshpf= shpf.to_crs({'init':'epsg:4283'}) \n"
   ]
  },
  {
   "cell_type": "code",
   "execution_count": null,
   "metadata": {
    "collapsed": false
   },
   "outputs": [],
   "source": [
    "myshpf.geometry.crs"
   ]
  },
  {
   "cell_type": "code",
   "execution_count": null,
   "metadata": {
    "collapsed": false
   },
   "outputs": [],
   "source": [
    "myshpf.plot(marker='^', markersize=10)\n"
   ]
  },
  {
   "cell_type": "code",
   "execution_count": null,
   "metadata": {
    "collapsed": false
   },
   "outputs": [],
   "source": [
    "# Now, we create centroids and make it the geometry:\n",
    "\n",
    "myshpf['centroid_column'] =myshpf.centroid\n",
    "\n",
    "myshpf = myshpf.set_geometry('centroid_column')\n",
    "\n",
    "myshpf.plot(marker='o', markersize='12');"
   ]
  },
  {
   "cell_type": "code",
   "execution_count": null,
   "metadata": {
    "collapsed": false
   },
   "outputs": [],
   "source": [
    "myshpf.iloc[-2:]"
   ]
  },
  {
   "cell_type": "code",
   "execution_count": null,
   "metadata": {
    "collapsed": false
   },
   "outputs": [],
   "source": [
    "myshpf['geometry'][:10]"
   ]
  },
  {
   "cell_type": "markdown",
   "metadata": {
    "collapsed": true
   },
   "source": [
    "## Mapping onto World Basemap"
   ]
  },
  {
   "cell_type": "code",
   "execution_count": null,
   "metadata": {
    "collapsed": false
   },
   "outputs": [],
   "source": [
    "# geopandas included shape datasets\n",
    "world = gpd.read_file(gpd.datasets.get_path('naturalearth_lowres'))\n",
    "\n",
    "world.shape"
   ]
  },
  {
   "cell_type": "code",
   "execution_count": null,
   "metadata": {
    "collapsed": false
   },
   "outputs": [],
   "source": [
    "\n",
    "\n",
    "myax=world.plot(alpha=0.5)\n",
    "#myax.set_xlim([149,150])\n",
    "myax.set_xlim([110,155])\n",
    "myax.set_ylim([-40,-10])\n",
    "    \n",
    "myax=myshpf.plot(ax=myax, figsize=(10, 6),  marker='o', color='blue', markersize=5);"
   ]
  },
  {
   "cell_type": "code",
   "execution_count": null,
   "metadata": {
    "collapsed": false
   },
   "outputs": [],
   "source": [
    "# what if the crs are different in layers.\n",
    "world.crs"
   ]
  },
  {
   "cell_type": "code",
   "execution_count": null,
   "metadata": {
    "collapsed": false
   },
   "outputs": [],
   "source": [
    "myax=world.plot(alpha=0.5)\n",
    "#myax.set_xlim([149,150])\n",
    "myax.set_xlim([110,155])\n",
    "myax.set_ylim([-40,-10])\n",
    "\n",
    "rdf.plot(ax=myax, figsize=(10, 6),  marker='^', color='blue', markersize=5);\n"
   ]
  },
  {
   "cell_type": "code",
   "execution_count": null,
   "metadata": {
    "collapsed": true
   },
   "outputs": [],
   "source": []
  },
  {
   "cell_type": "code",
   "execution_count": null,
   "metadata": {
    "collapsed": true
   },
   "outputs": [],
   "source": []
  },
  {
   "cell_type": "code",
   "execution_count": null,
   "metadata": {
    "collapsed": true
   },
   "outputs": [],
   "source": []
  },
  {
   "cell_type": "code",
   "execution_count": null,
   "metadata": {
    "collapsed": false
   },
   "outputs": [],
   "source": []
  },
  {
   "cell_type": "markdown",
   "metadata": {
    "collapsed": true
   },
   "source": [
    "# Mapping with Folium"
   ]
  },
  {
   "cell_type": "code",
   "execution_count": null,
   "metadata": {
    "collapsed": false
   },
   "outputs": [],
   "source": [
    "# conda install folium\n",
    "\n",
    "import folium\n",
    "\n",
    "mapa = folium.Map([-30.0, 149.0], zoom_start=4,   tiles='cartodbpositron')\n"
   ]
  },
  {
   "cell_type": "code",
   "execution_count": null,
   "metadata": {
    "collapsed": false
   },
   "outputs": [],
   "source": [
    "myshpf = myshpf.set_geometry('geometry')\n",
    "myshp2json=myshpf.geometry.to_json()\n",
    "\n",
    "points =folium.features.GeoJson(myshp2json)\n",
    "mapa.add_children(points)"
   ]
  },
  {
   "cell_type": "code",
   "execution_count": null,
   "metadata": {
    "collapsed": false
   },
   "outputs": [],
   "source": [
    "geoj2=shpf.to_crs(epsg=4326).to_json()\n",
    "\n",
    "points2 =folium.features.GeoJson(geoj2)\n",
    "mapa.add_children(points2)"
   ]
  },
  {
   "cell_type": "code",
   "execution_count": null,
   "metadata": {
    "collapsed": false
   },
   "outputs": [],
   "source": [
    "shpf3= shpf.to_crs({'init': 'epsg:4326'})\n",
    "shpf3.plot()\n"
   ]
  },
  {
   "cell_type": "code",
   "execution_count": null,
   "metadata": {
    "collapsed": false
   },
   "outputs": [],
   "source": [
    "myax=world.plot(alpha=0.5)\n",
    "#myax.set_xlim([149,150])\n",
    "myax.set_xlim([110,155])\n",
    "myax.set_ylim([-40,-10])\n",
    "shpf3.plot(ax=myax, figsize=(10, 6),  marker='o', color='blue', markersize=5);"
   ]
  },
  {
   "cell_type": "code",
   "execution_count": null,
   "metadata": {
    "collapsed": false
   },
   "outputs": [],
   "source": [
    "#Phase Tensor shape files and Tipper (Real/Imag) Shape Files\n",
    "\n",
    "#shpfile=r'E:\\MT_shape_files\\Tip_1.4286s_WGS84_imag.shp'\n",
    "#shpfile=r'/Softlab/Data/MT_datasets/728889/Phase_Tensor_Shapes/Tip_2s_WGS84_imag.shp'\n",
    "shpfile=mt_survey_loc_shp\n",
    "\n",
    "shpf=gpd.GeoDataFrame.from_file(shpfile)\n",
    "\n",
    "#shpf['phi_max'].plot(marker='*', markersize=14)\n",
    "\n",
    "shpf.plot(cmap='OrRd', scheme='quantiles');  #(marker='o', color='red', markersize=5)\n",
    "print mt_survey_loc_shp\n",
    "print shpf.shape"
   ]
  },
  {
   "cell_type": "code",
   "execution_count": null,
   "metadata": {
    "collapsed": false
   },
   "outputs": [],
   "source": [
    "\n",
    "shpfile=r'/Softlab/Data/MT_datasets/728889/Phase_Tensor_Shapes/Tip_2s_WGS84_imag.shp'\n",
    "#shpfile=r'E:/Datasets/MT_Datasets/75098/Phase_Tensor_Shapes/PT_2s_WGS84.shp'\n",
    "\n",
    "shpf=gpd.GeoDataFrame.from_file(shpfile)\n",
    "\n",
    "#shpf['phi_max'].plot(marker='*', markersize=14)\n",
    "\n",
    "shpf.plot(cmap='OrRd', scheme='quantiles');  #(marker='o', color='red', markersize=5)\n",
    "print shpf.shape"
   ]
  },
  {
   "cell_type": "code",
   "execution_count": null,
   "metadata": {
    "collapsed": false
   },
   "outputs": [],
   "source": [
    "shpf.crs"
   ]
  },
  {
   "cell_type": "code",
   "execution_count": null,
   "metadata": {
    "collapsed": true
   },
   "outputs": [],
   "source": []
  },
  {
   "cell_type": "code",
   "execution_count": null,
   "metadata": {
    "collapsed": true
   },
   "outputs": [],
   "source": []
  }
 ],
 "metadata": {
  "kernelspec": {
   "display_name": "Python [default]",
   "language": "python",
   "name": "python2"
  },
  "language_info": {
   "codemirror_mode": {
    "name": "ipython",
    "version": 2
   },
   "file_extension": ".py",
   "mimetype": "text/x-python",
   "name": "python",
   "nbconvert_exporter": "python",
   "pygments_lexer": "ipython2",
   "version": "2.7.12"
  }
 },
 "nbformat": 4,
 "nbformat_minor": 1
}
