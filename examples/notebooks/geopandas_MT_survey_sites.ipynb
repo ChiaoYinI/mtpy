{
 "cells": [
  {
   "cell_type": "markdown",
   "metadata": {},
   "source": [
    "# Geopandas Advanced\n",
    "    *  How to concatenate multiple geopandas frames?\n",
    "    *  How to chnage the geometry crs\n",
    "    *  how to display on a basemap\n",
    "    *  how to display on folium map\n",
    "\n",
    "\n",
    "## http://geopandas.org/index.html\n",
    "## https://geohackweek.github.io/vector/04-geopandas-intro/\n",
    "## https://pythongisresources.wordpress.com/packages/\n",
    "\n",
    "\n",
    "GeoPandas is an open source project to make working with geospatial data in python easier. GeoPandas extends the datatypes used by pandas to allow spatial operations on geometric types. Geometric operations are performed by shapely. Geopandas further depends on fiona for file access and descartes and matplotlib for plotting."
   ]
  },
  {
   "cell_type": "code",
   "execution_count": 1,
   "metadata": {
    "collapsed": false
   },
   "outputs": [],
   "source": [
    "import os,sys\n",
    "import glob\n",
    "import csv\n",
    "import numpy as np\n",
    "import pandas as pd\n",
    "import geopandas as gpd\n",
    "\n",
    "%matplotlib inline\n",
    "import matplotlib.pyplot as plt\n",
    "import matplotlib as mpl\n",
    "\n",
    "\n",
    "mpl.rcParams['lines.linewidth'] = 2\n",
    "# mpl.rcParams['lines.color'] = 'r'\n",
    "\n",
    "mpl.rcParams['figure.figsize']=[30,10]"
   ]
  },
  {
   "cell_type": "code",
   "execution_count": null,
   "metadata": {
    "collapsed": true
   },
   "outputs": [],
   "source": []
  },
  {
   "cell_type": "markdown",
   "metadata": {
    "collapsed": true
   },
   "source": [
    "# Create Geo-database of MT Surveys datasets\n",
    "\n",
    "\n",
    "1) walk through all edi files\n",
    "\n",
    "2) get lat lon, station name, etc.\n",
    "\n",
    "3) create csv, export to shapefile\n"
   ]
  },
  {
   "cell_type": "code",
   "execution_count": 2,
   "metadata": {
    "collapsed": false
   },
   "outputs": [
    {
     "name": "stderr",
     "output_type": "stream",
     "text": [
      "INFO:root:module file: /Softlab/Githubz/mtpy2/mtpy/utils/mtpylog.pyc\n",
      "INFO:root:Effective yaml configuration file /Softlab/Githubz/mtpy2/mtpy/utils/logging.yml\n"
     ]
    },
    {
     "name": "stdout",
     "output_type": "stream",
     "text": [
      "2017-03-12 14:14:18,418 - root - INFO - module file: /Softlab/Githubz/mtpy2/mtpy/utils/mtpylog.pyc\n",
      "2017-03-12 14:14:18,445 - root - INFO - Effective yaml configuration file /Softlab/Githubz/mtpy2/mtpy/utils/logging.yml\n"
     ]
    }
   ],
   "source": [
    "import mtpy.imaging.penetration_depth_3d_profile as pen3d"
   ]
  },
  {
   "cell_type": "code",
   "execution_count": 3,
   "metadata": {
    "collapsed": true
   },
   "outputs": [],
   "source": [
    "\n",
    "def process_edifiles(edi_files):\n",
    "    \"\"\"loop over all edi files to extract relevant properties from each edifile:\n",
    "        lat, lon, elev, station_name, acquisition_date, ....... \n",
    "    \"\"\"\n",
    "    \n",
    "    PER_LIST0=None   # the first period list as a reference for checking other stations period\n",
    "    latlon_dep=[]  # CSV to be returned\n",
    "    for afile in edi_files:\n",
    "        # for efile in edi_files[:2]:\n",
    "#         logger.debug(\"processing %s\", afile)\n",
    "        lat,lon, per, depths=pen3d.get_penetration_depths_from_edi_file(afile)\n",
    "        if PER_LIST0 is None:\n",
    "            PER_LIST0=per # initial value assignment\n",
    "            depth_string = ','.join(['%.2f' % num for num in depths])\n",
    "            latlon_dep.append((lat, lon, depth_string))\n",
    "\n",
    "        elif len(per)== len(PER_LIST0) and (per == PER_LIST0).all():  # same length and same values.\n",
    "            depth_string = ','.join(['%.2f' % num for num in depths])\n",
    "            latlon_dep.append((lat,lon, depth_string))\n",
    "        else:\n",
    "            #logger.warn(\"MT Periods Not Equal !! %s VS %s\", per, PER_LIST0 )\n",
    "            pass\n",
    "\n",
    "    return latlon_dep\n",
    "\n"
   ]
  },
  {
   "cell_type": "code",
   "execution_count": 5,
   "metadata": {
    "collapsed": false,
    "scrolled": true
   },
   "outputs": [
    {
     "name": "stdout",
     "output_type": "stream",
     "text": [
      "2017-03-12 14:14:34,202 - mtpy.core.edi - INFO - Reading the edi file /Softlab/Data/MT_datasets/728889/EDI_files/GB11.edi\n",
      "2017-03-12 14:14:34,230 - mtpy.core.edi - INFO - Ordered arrays to be arranged from high to low frequency\n",
      "2017-03-12 14:14:34,248 - mtpy.core.edi - INFO - Could not find any Tipper data.\n",
      "2017-03-12 14:14:34,262 - mtpy.core.edi - INFO - Read in edi file for station GB11\n",
      "2017-03-12 14:14:34,338 - mtpy.core.edi - INFO - Reading the edi file /Softlab/Data/MT_datasets/728889/EDI_files/GB08.edi\n",
      "2017-03-12 14:14:34,357 - mtpy.core.edi - INFO - Ordered arrays to be arranged from high to low frequency\n",
      "2017-03-12 14:14:34,388 - mtpy.core.edi - INFO - Could not find any Tipper data.\n",
      "2017-03-12 14:14:34,403 - mtpy.core.edi - INFO - Read in edi file for station GB08\n",
      "2017-03-12 14:14:34,442 - mtpy.core.edi - INFO - Reading the edi file /Softlab/Data/MT_datasets/728889/EDI_files/GB33.edi\n",
      "2017-03-12 14:14:34,465 - mtpy.core.edi - INFO - Ordered arrays to be arranged from high to low frequency\n",
      "2017-03-12 14:14:34,501 - mtpy.core.edi - INFO - Could not find any Tipper data.\n",
      "2017-03-12 14:14:34,515 - mtpy.core.edi - INFO - Read in edi file for station GB33\n"
     ]
    },
    {
     "name": "stderr",
     "output_type": "stream",
     "text": [
      "/Softlab/Githubz/mtpy2/mtpy/analysis/zinvariants.py:227: RuntimeWarning: invalid value encountered in arcsin\n",
      "  strikeangerr = abs(.5 * np.arcsin(inv7)) * (180 / np.pi)\n"
     ]
    },
    {
     "name": "stdout",
     "output_type": "stream",
     "text": [
      "2017-03-12 14:14:34,552 - mtpy.core.edi - INFO - Reading the edi file /Softlab/Data/MT_datasets/728889/EDI_files/GL02.edi\n",
      "2017-03-12 14:14:34,573 - mtpy.core.edi - INFO - Ordered arrays to be arranged from high to low frequency\n",
      "2017-03-12 14:14:34,609 - mtpy.core.edi - INFO - Read in edi file for station GL02\n",
      "2017-03-12 14:14:34,639 - mtpy.core.edi - INFO - Reading the edi file /Softlab/Data/MT_datasets/728889/EDI_files/GL15.edi\n",
      "2017-03-12 14:14:34,648 - mtpy.core.edi - INFO - Ordered arrays to be arranged from high to low frequency\n",
      "2017-03-12 14:14:34,684 - mtpy.core.edi - INFO - Read in edi file for station GL15\n",
      "2017-03-12 14:14:34,712 - mtpy.core.edi - INFO - Reading the edi file /Softlab/Data/MT_datasets/728889/EDI_files/GB27.edi\n",
      "2017-03-12 14:14:34,760 - mtpy.core.edi - INFO - Ordered arrays to be arranged from high to low frequency\n",
      "2017-03-12 14:14:34,791 - mtpy.core.edi - INFO - Could not find any Tipper data.\n",
      "2017-03-12 14:14:34,801 - mtpy.core.edi - INFO - Read in edi file for station GB27\n",
      "2017-03-12 14:14:34,830 - mtpy.core.edi - INFO - Reading the edi file /Softlab/Data/MT_datasets/728889/EDI_files/GB01.edi\n",
      "2017-03-12 14:14:34,835 - mtpy.core.edi - INFO - Ordered arrays to be arranged from high to low frequency\n",
      "2017-03-12 14:14:34,855 - mtpy.core.edi - INFO - Could not find any Tipper data.\n",
      "2017-03-12 14:14:34,866 - mtpy.core.edi - INFO - Read in edi file for station GB01\n",
      "2017-03-12 14:14:34,896 - mtpy.core.edi - INFO - Reading the edi file /Softlab/Data/MT_datasets/728889/EDI_files/GL04.edi\n",
      "2017-03-12 14:14:34,938 - mtpy.core.edi - INFO - Ordered arrays to be arranged from high to low frequency\n",
      "2017-03-12 14:14:34,960 - mtpy.core.edi - INFO - Read in edi file for station GL04\n",
      "2017-03-12 14:14:34,980 - mtpy.core.edi - INFO - Reading the edi file /Softlab/Data/MT_datasets/728889/EDI_files/GL11.edi\n",
      "2017-03-12 14:14:35,088 - mtpy.core.edi - INFO - Ordered arrays to be arranged from high to low frequency\n",
      "2017-03-12 14:14:35,126 - mtpy.core.edi - INFO - Read in edi file for station GL11\n",
      "2017-03-12 14:14:35,149 - mtpy.core.edi - INFO - Reading the edi file /Softlab/Data/MT_datasets/728889/EDI_files/GB32.edi\n",
      "2017-03-12 14:14:35,177 - mtpy.core.edi - INFO - Ordered arrays to be arranged from high to low frequency\n",
      "2017-03-12 14:14:35,208 - mtpy.core.edi - INFO - Could not find any Tipper data.\n",
      "2017-03-12 14:14:35,222 - mtpy.core.edi - INFO - Read in edi file for station GB32\n",
      "2017-03-12 14:14:35,256 - mtpy.core.edi - INFO - Reading the edi file /Softlab/Data/MT_datasets/728889/EDI_files/GB28.edi\n",
      "2017-03-12 14:14:35,262 - mtpy.core.edi - INFO - Ordered arrays to be arranged from high to low frequency\n",
      "2017-03-12 14:14:35,293 - mtpy.core.edi - INFO - Could not find any Tipper data.\n",
      "2017-03-12 14:14:35,307 - mtpy.core.edi - INFO - Read in edi file for station GB28\n",
      "2017-03-12 14:14:35,342 - mtpy.core.edi - INFO - Reading the edi file /Softlab/Data/MT_datasets/728889/EDI_files/GL03.edi\n",
      "2017-03-12 14:14:35,355 - mtpy.core.edi - INFO - Ordered arrays to be arranged from high to low frequency\n",
      "2017-03-12 14:14:35,390 - mtpy.core.edi - INFO - Read in edi file for station GL03\n",
      "2017-03-12 14:14:35,417 - mtpy.core.edi - INFO - Reading the edi file /Softlab/Data/MT_datasets/728889/EDI_files/GB06.edi\n",
      "2017-03-12 14:14:35,429 - mtpy.core.edi - INFO - Ordered arrays to be arranged from high to low frequency\n",
      "2017-03-12 14:14:35,460 - mtpy.core.edi - INFO - Could not find any Tipper data.\n",
      "2017-03-12 14:14:35,474 - mtpy.core.edi - INFO - Read in edi file for station GB06\n",
      "2017-03-12 14:14:35,509 - mtpy.core.edi - INFO - Reading the edi file /Softlab/Data/MT_datasets/728889/EDI_files/GB02.edi\n",
      "2017-03-12 14:14:35,518 - mtpy.core.edi - INFO - Ordered arrays to be arranged from high to low frequency\n",
      "2017-03-12 14:14:35,545 - mtpy.core.edi - INFO - Could not find any Tipper data.\n",
      "2017-03-12 14:14:35,559 - mtpy.core.edi - INFO - Read in edi file for station GB02\n",
      "2017-03-12 14:14:35,595 - mtpy.core.edi - INFO - Reading the edi file /Softlab/Data/MT_datasets/728889/EDI_files/GL06.edi\n",
      "2017-03-12 14:14:35,603 - mtpy.core.edi - INFO - Ordered arrays to be arranged from high to low frequency\n",
      "2017-03-12 14:14:35,628 - mtpy.core.edi - INFO - Read in edi file for station GL06\n",
      "2017-03-12 14:14:35,651 - mtpy.core.edi - INFO - Reading the edi file /Softlab/Data/MT_datasets/728889/EDI_files/GB07.edi\n",
      "2017-03-12 14:14:35,665 - mtpy.core.edi - INFO - Ordered arrays to be arranged from high to low frequency\n",
      "2017-03-12 14:14:35,702 - mtpy.core.edi - INFO - Could not find any Tipper data.\n",
      "2017-03-12 14:14:35,717 - mtpy.core.edi - INFO - Read in edi file for station GB07\n",
      "2017-03-12 14:14:35,751 - mtpy.core.edi - INFO - Reading the edi file /Softlab/Data/MT_datasets/728889/EDI_files/GB16.edi\n",
      "2017-03-12 14:14:35,766 - mtpy.core.edi - INFO - Ordered arrays to be arranged from high to low frequency\n",
      "2017-03-12 14:14:35,794 - mtpy.core.edi - INFO - Could not find any Tipper data.\n",
      "2017-03-12 14:14:35,807 - mtpy.core.edi - INFO - Read in edi file for station GB16\n",
      "2017-03-12 14:14:35,835 - mtpy.core.edi - INFO - Reading the edi file /Softlab/Data/MT_datasets/728889/EDI_files/GB38.edi\n"
     ]
    },
    {
     "name": "stderr",
     "output_type": "stream",
     "text": [
      "/Softlab/Githubz/mtpy2/mtpy/analysis/pt.py:1206: RuntimeWarning: invalid value encountered in absolute\n",
      "  np.sum([np.abs(-pt_array[0, 0] * realz[1, 1] * z_err_array[0, 0]) ** 2,\n",
      "/Softlab/Githubz/mtpy2/mtpy/analysis/pt.py:1209: RuntimeWarning: invalid value encountered in absolute\n",
      "  z_err_array[0, 1]) ** 2,\n",
      "/Softlab/Githubz/mtpy2/mtpy/analysis/pt.py:1212: RuntimeWarning: invalid value encountered in absolute\n",
      "  np.abs(realz[1, 1] * z_err_array[0, 0]) ** 2,\n",
      "/Softlab/Githubz/mtpy2/mtpy/analysis/pt.py:1216: RuntimeWarning: invalid value encountered in absolute\n",
      "  np.sum([np.abs(-pt_array[0, 1] * realz[1, 1] * z_err_array[0, 0]) ** 2,\n",
      "/Softlab/Githubz/mtpy2/mtpy/analysis/pt.py:1219: RuntimeWarning: invalid value encountered in absolute\n",
      "  z_err_array[0, 1]) ** 2,\n",
      "/Softlab/Githubz/mtpy2/mtpy/analysis/pt.py:1222: RuntimeWarning: invalid value encountered in absolute\n",
      "  np.abs(realz[1, 1] * z_err_array[0, 1]) ** 2,\n",
      "/Softlab/Githubz/mtpy2/mtpy/analysis/pt.py:1226: RuntimeWarning: invalid value encountered in absolute\n",
      "  np.sum([np.abs(pt_array[1, 0] * realz[1, 0] * z_err_array[0, 1]) ** 2,\n",
      "/Softlab/Githubz/mtpy2/mtpy/analysis/pt.py:1229: RuntimeWarning: invalid value encountered in absolute\n",
      "  z_err_array[0, 0]) ** 2,\n",
      "/Softlab/Githubz/mtpy2/mtpy/analysis/pt.py:1231: RuntimeWarning: invalid value encountered in absolute\n",
      "  z_err_array[0, 1]) ** 2,\n",
      "/Softlab/Githubz/mtpy2/mtpy/analysis/pt.py:1232: RuntimeWarning: invalid value encountered in absolute\n",
      "  np.abs(realz[1, 0] * z_err_array[0, 0]) ** 2,\n",
      "/Softlab/Githubz/mtpy2/mtpy/analysis/pt.py:1236: RuntimeWarning: invalid value encountered in absolute\n",
      "  np.sum([np.abs(pt_array[1, 1] * realz[1, 0] * z_err_array[0, 1]) ** 2,\n",
      "/Softlab/Githubz/mtpy2/mtpy/analysis/pt.py:1239: RuntimeWarning: invalid value encountered in absolute\n",
      "  z_err_array[0, 0]) ** 2,\n",
      "/Softlab/Githubz/mtpy2/mtpy/analysis/pt.py:1241: RuntimeWarning: invalid value encountered in absolute\n",
      "  z_err_array[0, 1]) ** 2,\n",
      "/Softlab/Githubz/mtpy2/mtpy/analysis/pt.py:1242: RuntimeWarning: invalid value encountered in absolute\n",
      "  np.abs(- realz[1, 0] * z_err_array[0, 1]) ** 2,\n"
     ]
    },
    {
     "name": "stdout",
     "output_type": "stream",
     "text": [
      "2017-03-12 14:14:35,848 - mtpy.core.edi - INFO - Ordered arrays to be arranged from high to low frequency\n",
      "2017-03-12 14:14:35,871 - mtpy.core.edi - INFO - Could not find any Tipper data.\n",
      "2017-03-12 14:14:35,882 - mtpy.core.edi - INFO - Read in edi file for station GB38\n",
      "2017-03-12 14:14:35,908 - mtpy.core.edi - INFO - Reading the edi file /Softlab/Data/MT_datasets/728889/EDI_files/GL14.edi\n",
      "2017-03-12 14:14:35,914 - mtpy.core.edi - INFO - Ordered arrays to be arranged from high to low frequency\n",
      "2017-03-12 14:14:35,941 - mtpy.core.edi - INFO - Read in edi file for station GL14\n",
      "2017-03-12 14:14:35,967 - mtpy.core.edi - INFO - Reading the edi file /Softlab/Data/MT_datasets/728889/EDI_files/GB31.edi\n",
      "2017-03-12 14:14:35,973 - mtpy.core.edi - INFO - Ordered arrays to be arranged from high to low frequency\n",
      "2017-03-12 14:14:35,997 - mtpy.core.edi - INFO - Could not find any Tipper data.\n",
      "2017-03-12 14:14:36,007 - mtpy.core.edi - INFO - Read in edi file for station GB31\n",
      "2017-03-12 14:14:36,035 - mtpy.core.edi - INFO - Reading the edi file /Softlab/Data/MT_datasets/728889/EDI_files/GB09.edi\n",
      "2017-03-12 14:14:36,042 - mtpy.core.edi - INFO - Ordered arrays to be arranged from high to low frequency\n",
      "2017-03-12 14:14:36,062 - mtpy.core.edi - INFO - Could not find any Tipper data.\n",
      "2017-03-12 14:14:36,071 - mtpy.core.edi - INFO - Read in edi file for station GB09\n",
      "2017-03-12 14:14:36,098 - mtpy.core.edi - INFO - Reading the edi file /Softlab/Data/MT_datasets/728889/EDI_files/GB14.edi\n",
      "2017-03-12 14:14:36,113 - mtpy.core.edi - INFO - Ordered arrays to be arranged from high to low frequency\n",
      "2017-03-12 14:14:36,133 - mtpy.core.edi - INFO - Could not find any Tipper data.\n",
      "2017-03-12 14:14:36,143 - mtpy.core.edi - INFO - Read in edi file for station GB14\n",
      "2017-03-12 14:14:36,165 - mtpy.core.edi - INFO - Reading the edi file /Softlab/Data/MT_datasets/728889/EDI_files/GB13.edi\n",
      "2017-03-12 14:14:36,171 - mtpy.core.edi - INFO - Ordered arrays to be arranged from high to low frequency\n",
      "2017-03-12 14:14:36,190 - mtpy.core.edi - INFO - Could not find any Tipper data.\n",
      "2017-03-12 14:14:36,200 - mtpy.core.edi - INFO - Read in edi file for station GB13\n",
      "2017-03-12 14:14:36,226 - mtpy.core.edi - INFO - Reading the edi file /Softlab/Data/MT_datasets/728889/EDI_files/GL07.edi\n",
      "2017-03-12 14:14:36,232 - mtpy.core.edi - INFO - Ordered arrays to be arranged from high to low frequency\n",
      "2017-03-12 14:14:36,254 - mtpy.core.edi - INFO - Read in edi file for station GL07\n",
      "2017-03-12 14:14:36,275 - mtpy.core.edi - INFO - Reading the edi file /Softlab/Data/MT_datasets/728889/EDI_files/GB04.edi\n",
      "2017-03-12 14:14:36,284 - mtpy.core.edi - INFO - Ordered arrays to be arranged from high to low frequency\n",
      "2017-03-12 14:14:36,304 - mtpy.core.edi - INFO - Could not find any Tipper data.\n",
      "2017-03-12 14:14:36,315 - mtpy.core.edi - INFO - Read in edi file for station GB04\n",
      "2017-03-12 14:14:36,339 - mtpy.core.edi - INFO - Reading the edi file /Softlab/Data/MT_datasets/728889/EDI_files/GB35.edi\n",
      "2017-03-12 14:14:36,345 - mtpy.core.edi - INFO - Ordered arrays to be arranged from high to low frequency\n",
      "2017-03-12 14:14:36,365 - mtpy.core.edi - INFO - Could not find any Tipper data.\n",
      "2017-03-12 14:14:36,376 - mtpy.core.edi - INFO - Read in edi file for station GB35\n",
      "2017-03-12 14:14:36,399 - mtpy.core.edi - INFO - Reading the edi file /Softlab/Data/MT_datasets/728889/EDI_files/GB10.edi\n",
      "2017-03-12 14:14:36,405 - mtpy.core.edi - INFO - Ordered arrays to be arranged from high to low frequency\n",
      "2017-03-12 14:14:36,423 - mtpy.core.edi - INFO - Could not find any Tipper data.\n",
      "2017-03-12 14:14:36,433 - mtpy.core.edi - INFO - Read in edi file for station GB10\n",
      "2017-03-12 14:14:36,462 - mtpy.core.edi - INFO - Reading the edi file /Softlab/Data/MT_datasets/728889/EDI_files/GB05.edi\n",
      "2017-03-12 14:14:36,467 - mtpy.core.edi - INFO - Ordered arrays to be arranged from high to low frequency\n",
      "2017-03-12 14:14:36,487 - mtpy.core.edi - INFO - Could not find any Tipper data.\n",
      "2017-03-12 14:14:36,497 - mtpy.core.edi - INFO - Read in edi file for station GB05\n",
      "2017-03-12 14:14:36,523 - mtpy.core.edi - INFO - Reading the edi file /Softlab/Data/MT_datasets/728889/EDI_files/GB26.edi\n",
      "2017-03-12 14:14:36,533 - mtpy.core.edi - INFO - Ordered arrays to be arranged from high to low frequency\n",
      "2017-03-12 14:14:36,552 - mtpy.core.edi - INFO - Could not find any Tipper data.\n",
      "2017-03-12 14:14:36,563 - mtpy.core.edi - INFO - Read in edi file for station GB26\n",
      "2017-03-12 14:14:36,586 - mtpy.core.edi - INFO - Reading the edi file /Softlab/Data/MT_datasets/728889/EDI_files/GL10.edi\n",
      "2017-03-12 14:14:36,592 - mtpy.core.edi - INFO - Ordered arrays to be arranged from high to low frequency\n",
      "2017-03-12 14:14:36,613 - mtpy.core.edi - INFO - Read in edi file for station GL08\n",
      "2017-03-12 14:14:36,636 - mtpy.core.edi - INFO - Reading the edi file /Softlab/Data/MT_datasets/728889/EDI_files/GB15.edi\n",
      "2017-03-12 14:14:36,641 - mtpy.core.edi - INFO - Ordered arrays to be arranged from high to low frequency\n",
      "2017-03-12 14:14:36,660 - mtpy.core.edi - INFO - Could not find any Tipper data.\n",
      "2017-03-12 14:14:36,671 - mtpy.core.edi - INFO - Read in edi file for station GB15\n",
      "2017-03-12 14:14:36,697 - mtpy.core.edi - INFO - Reading the edi file /Softlab/Data/MT_datasets/728889/EDI_files/GL05.edi\n",
      "2017-03-12 14:14:36,702 - mtpy.core.edi - INFO - Ordered arrays to be arranged from high to low frequency\n",
      "2017-03-12 14:14:36,725 - mtpy.core.edi - INFO - Read in edi file for station GL05\n",
      "2017-03-12 14:14:36,749 - mtpy.core.edi - INFO - Reading the edi file /Softlab/Data/MT_datasets/728889/EDI_files/GL18.edi\n",
      "2017-03-12 14:14:36,754 - mtpy.core.edi - INFO - Ordered arrays to be arranged from high to low frequency\n",
      "2017-03-12 14:14:36,777 - mtpy.core.edi - INFO - Read in edi file for station GL18\n",
      "2017-03-12 14:14:36,799 - mtpy.core.edi - INFO - Reading the edi file /Softlab/Data/MT_datasets/728889/EDI_files/GB03.edi\n",
      "2017-03-12 14:14:36,807 - mtpy.core.edi - INFO - Ordered arrays to be arranged from high to low frequency\n",
      "2017-03-12 14:14:36,828 - mtpy.core.edi - INFO - Could not find any Tipper data.\n",
      "2017-03-12 14:14:36,839 - mtpy.core.edi - INFO - Read in edi file for station GB03\n",
      "2017-03-12 14:14:36,865 - mtpy.core.edi - INFO - Reading the edi file /Softlab/Data/MT_datasets/728889/EDI_files/GB30.edi\n",
      "2017-03-12 14:14:36,870 - mtpy.core.edi - INFO - Ordered arrays to be arranged from high to low frequency\n",
      "2017-03-12 14:14:36,893 - mtpy.core.edi - INFO - Could not find any Tipper data.\n",
      "2017-03-12 14:14:36,904 - mtpy.core.edi - INFO - Read in edi file for station GB30\n",
      "2017-03-12 14:14:36,930 - mtpy.core.edi - INFO - Reading the edi file /Softlab/Data/MT_datasets/728889/EDI_files/GB24.edi\n",
      "2017-03-12 14:14:36,943 - mtpy.core.edi - INFO - Ordered arrays to be arranged from high to low frequency\n",
      "2017-03-12 14:14:36,964 - mtpy.core.edi - INFO - Could not find any Tipper data.\n",
      "2017-03-12 14:14:36,973 - mtpy.core.edi - INFO - Read in edi file for station GB24\n",
      "2017-03-12 14:14:37,000 - mtpy.core.edi - INFO - Reading the edi file /Softlab/Data/MT_datasets/728889/EDI_files/GB21.edi\n",
      "2017-03-12 14:14:37,010 - mtpy.core.edi - INFO - Ordered arrays to be arranged from high to low frequency\n",
      "2017-03-12 14:14:37,030 - mtpy.core.edi - INFO - Could not find any Tipper data.\n",
      "2017-03-12 14:14:37,040 - mtpy.core.edi - INFO - Read in edi file for station GB21\n",
      "2017-03-12 14:14:37,067 - mtpy.core.edi - INFO - Reading the edi file /Softlab/Data/MT_datasets/728889/EDI_files/GB22.edi\n",
      "2017-03-12 14:14:37,075 - mtpy.core.edi - INFO - Ordered arrays to be arranged from high to low frequency\n",
      "2017-03-12 14:14:37,095 - mtpy.core.edi - INFO - Could not find any Tipper data.\n",
      "2017-03-12 14:14:37,107 - mtpy.core.edi - INFO - Read in edi file for station GB22\n",
      "2017-03-12 14:14:37,131 - mtpy.core.edi - INFO - Reading the edi file /Softlab/Data/MT_datasets/728889/EDI_files/GL01.edi\n",
      "2017-03-12 14:14:37,145 - mtpy.core.edi - INFO - Ordered arrays to be arranged from high to low frequency\n",
      "2017-03-12 14:14:37,162 - mtpy.core.edi - INFO - Read in edi file for station GL01\n",
      "2017-03-12 14:14:37,177 - mtpy.core.edi - INFO - Reading the edi file /Softlab/Data/MT_datasets/728889/EDI_files/GB12.edi\n",
      "2017-03-12 14:14:37,181 - mtpy.core.edi - INFO - Ordered arrays to be arranged from high to low frequency\n",
      "2017-03-12 14:14:37,195 - mtpy.core.edi - INFO - Could not find any Tipper data.\n",
      "2017-03-12 14:14:37,203 - mtpy.core.edi - INFO - Read in edi file for station GB12\n",
      "2017-03-12 14:14:37,221 - mtpy.core.edi - INFO - Reading the edi file /Softlab/Data/MT_datasets/728889/EDI_files/GL12.edi\n",
      "2017-03-12 14:14:37,225 - mtpy.core.edi - INFO - Ordered arrays to be arranged from high to low frequency\n",
      "2017-03-12 14:14:37,241 - mtpy.core.edi - INFO - Read in edi file for station GL12\n",
      "2017-03-12 14:14:37,257 - mtpy.core.edi - INFO - Reading the edi file /Softlab/Data/MT_datasets/728889/EDI_files/GB19.edi\n",
      "2017-03-12 14:14:37,261 - mtpy.core.edi - INFO - Ordered arrays to be arranged from high to low frequency\n",
      "2017-03-12 14:14:37,275 - mtpy.core.edi - INFO - Could not find any Tipper data.\n",
      "2017-03-12 14:14:37,282 - mtpy.core.edi - INFO - Read in edi file for station GB19\n",
      "2017-03-12 14:14:37,303 - mtpy.core.edi - INFO - Reading the edi file /Softlab/Data/MT_datasets/728889/EDI_files/GB36.edi\n",
      "2017-03-12 14:14:37,308 - mtpy.core.edi - INFO - Ordered arrays to be arranged from high to low frequency\n",
      "2017-03-12 14:14:37,324 - mtpy.core.edi - INFO - Could not find any Tipper data.\n",
      "2017-03-12 14:14:37,331 - mtpy.core.edi - INFO - Read in edi file for station GB36\n",
      "2017-03-12 14:14:37,353 - mtpy.core.edi - INFO - Reading the edi file /Softlab/Data/MT_datasets/728889/EDI_files/GB34.edi\n",
      "2017-03-12 14:14:37,357 - mtpy.core.edi - INFO - Ordered arrays to be arranged from high to low frequency\n",
      "2017-03-12 14:14:37,375 - mtpy.core.edi - INFO - Could not find any Tipper data.\n",
      "2017-03-12 14:14:37,385 - mtpy.core.edi - INFO - Read in edi file for station GB34\n",
      "2017-03-12 14:14:37,416 - mtpy.core.edi - INFO - Reading the edi file /Softlab/Data/MT_datasets/728889/EDI_files/GL16.edi\n",
      "2017-03-12 14:14:37,421 - mtpy.core.edi - INFO - Ordered arrays to be arranged from high to low frequency\n",
      "2017-03-12 14:14:37,442 - mtpy.core.edi - INFO - Read in edi file for station GL16\n",
      "2017-03-12 14:14:37,457 - mtpy.core.edi - INFO - Reading the edi file /Softlab/Data/MT_datasets/728889/EDI_files/GL09.edi\n",
      "2017-03-12 14:14:37,461 - mtpy.core.edi - INFO - Ordered arrays to be arranged from high to low frequency\n",
      "2017-03-12 14:14:37,477 - mtpy.core.edi - INFO - Read in edi file for station GL09\n",
      "2017-03-12 14:14:37,491 - mtpy.core.edi - INFO - Reading the edi file /Softlab/Data/MT_datasets/728889/EDI_files/GL13.edi\n",
      "2017-03-12 14:14:37,495 - mtpy.core.edi - INFO - Ordered arrays to be arranged from high to low frequency\n",
      "2017-03-12 14:14:37,512 - mtpy.core.edi - INFO - Read in edi file for station GL13\n",
      "2017-03-12 14:14:37,525 - mtpy.core.edi - INFO - Reading the edi file /Softlab/Data/MT_datasets/728889/EDI_files/GB18.edi\n",
      "2017-03-12 14:14:37,528 - mtpy.core.edi - INFO - Ordered arrays to be arranged from high to low frequency\n",
      "2017-03-12 14:14:37,542 - mtpy.core.edi - INFO - Could not find any Tipper data.\n",
      "2017-03-12 14:14:37,550 - mtpy.core.edi - INFO - Read in edi file for station GB18\n",
      "2017-03-12 14:14:37,567 - mtpy.core.edi - INFO - Reading the edi file /Softlab/Data/MT_datasets/728889/EDI_files/GB25.edi\n",
      "2017-03-12 14:14:37,571 - mtpy.core.edi - INFO - Ordered arrays to be arranged from high to low frequency\n",
      "2017-03-12 14:14:37,585 - mtpy.core.edi - INFO - Could not find any Tipper data.\n",
      "2017-03-12 14:14:37,593 - mtpy.core.edi - INFO - Read in edi file for station GB25\n",
      "2017-03-12 14:14:37,608 - mtpy.core.edi - INFO - Reading the edi file /Softlab/Data/MT_datasets/728889/EDI_files/GL17.edi\n",
      "2017-03-12 14:14:37,612 - mtpy.core.edi - INFO - Ordered arrays to be arranged from high to low frequency\n",
      "2017-03-12 14:14:37,642 - mtpy.core.edi - INFO - Read in edi file for station GL17\n",
      "2017-03-12 14:14:37,655 - mtpy.core.edi - INFO - Reading the edi file /Softlab/Data/MT_datasets/728889/EDI_files/GB17.edi\n",
      "2017-03-12 14:14:37,659 - mtpy.core.edi - INFO - Ordered arrays to be arranged from high to low frequency\n",
      "2017-03-12 14:14:37,671 - mtpy.core.edi - INFO - Could not find any Tipper data.\n",
      "2017-03-12 14:14:37,678 - mtpy.core.edi - INFO - Read in edi file for station GB17\n",
      "2017-03-12 14:14:37,695 - mtpy.core.edi - INFO - Reading the edi file /Softlab/Data/MT_datasets/728889/EDI_files/GB20.edi\n",
      "2017-03-12 14:14:37,702 - mtpy.core.edi - INFO - Ordered arrays to be arranged from high to low frequency\n",
      "2017-03-12 14:14:37,716 - mtpy.core.edi - INFO - Could not find any Tipper data.\n",
      "2017-03-12 14:14:37,723 - mtpy.core.edi - INFO - Read in edi file for station GB20\n",
      "2017-03-12 14:14:37,742 - mtpy.core.edi - INFO - Reading the edi file /Softlab/Data/MT_datasets/728889/EDI_files/GL08.edi\n",
      "2017-03-12 14:14:37,746 - mtpy.core.edi - INFO - Ordered arrays to be arranged from high to low frequency\n",
      "2017-03-12 14:14:37,761 - mtpy.core.edi - INFO - Read in edi file for station GL08\n",
      "2017-03-12 14:14:37,776 - mtpy.core.edi - INFO - Reading the edi file /Softlab/Data/MT_datasets/728889/EDI_files/GB29.edi\n",
      "2017-03-12 14:14:37,779 - mtpy.core.edi - INFO - Ordered arrays to be arranged from high to low frequency\n",
      "2017-03-12 14:14:37,793 - mtpy.core.edi - INFO - Could not find any Tipper data.\n",
      "2017-03-12 14:14:37,800 - mtpy.core.edi - INFO - Read in edi file for station GB29\n",
      "2017-03-12 14:14:37,819 - mtpy.core.edi - INFO - Reading the edi file /Softlab/Data/MT_datasets/728889/EDI_files/GB37.edi\n",
      "2017-03-12 14:14:37,823 - mtpy.core.edi - INFO - Ordered arrays to be arranged from high to low frequency\n",
      "2017-03-12 14:14:37,837 - mtpy.core.edi - INFO - Could not find any Tipper data.\n",
      "2017-03-12 14:14:37,844 - mtpy.core.edi - INFO - Read in edi file for station GB37\n",
      "2017-03-12 14:14:37,864 - mtpy.core.edi - INFO - Reading the edi file /Softlab/Data/MT_datasets/728889/EDI_files/GB39.edi\n",
      "2017-03-12 14:14:37,868 - mtpy.core.edi - INFO - Ordered arrays to be arranged from high to low frequency\n",
      "2017-03-12 14:14:37,883 - mtpy.core.edi - INFO - Could not find any Tipper data.\n",
      "2017-03-12 14:14:37,891 - mtpy.core.edi - INFO - Read in edi file for station GB39\n",
      "2017-03-12 14:14:37,908 - mtpy.core.edi - INFO - Reading the edi file /Softlab/Data/MT_datasets/728889/EDI_files/GB23.edi\n",
      "2017-03-12 14:14:37,912 - mtpy.core.edi - INFO - Ordered arrays to be arranged from high to low frequency\n",
      "2017-03-12 14:14:37,926 - mtpy.core.edi - INFO - Could not find any Tipper data.\n",
      "2017-03-12 14:14:37,936 - mtpy.core.edi - INFO - Read in edi file for station GB23\n"
     ]
    }
   ],
   "source": [
    "\n",
    "EDI_DIR='/Softlab/Data/MT_datasets/728889/EDI_files'\n",
    "#EDI_DIR='E:/Datasets/MT_Datasets/75098/EDI_files' #'E:/Datasets/MT_Datasets/728889/EDI_files'\n",
    "\n",
    "edi_files = glob.glob(os.path.join(EDI_DIR, \"*.edi\"))\n",
    "\n",
    "if (len(edi_files)<1):\n",
    "    raise Exception(\"No edi files found!!!\")\n",
    "    \n",
    "lat_lon_depth=process_edifiles(edi_files)"
   ]
  },
  {
   "cell_type": "code",
   "execution_count": 6,
   "metadata": {
    "collapsed": true
   },
   "outputs": [],
   "source": [
    "\n",
    "mypdf=pd.DataFrame(lat_lon_depth)"
   ]
  },
  {
   "cell_type": "code",
   "execution_count": 7,
   "metadata": {
    "collapsed": false
   },
   "outputs": [
    {
     "data": {
      "text/html": [
       "<div>\n",
       "<table border=\"1\" class=\"dataframe\">\n",
       "  <thead>\n",
       "    <tr style=\"text-align: right;\">\n",
       "      <th></th>\n",
       "      <th>0</th>\n",
       "      <th>1</th>\n",
       "      <th>2</th>\n",
       "    </tr>\n",
       "  </thead>\n",
       "  <tbody>\n",
       "    <tr>\n",
       "      <th>0</th>\n",
       "      <td>-22.238889</td>\n",
       "      <td>135.274444</td>\n",
       "      <td>12.92,36.88,43.37,63.78,76.71,104.25,120.81,16...</td>\n",
       "    </tr>\n",
       "    <tr>\n",
       "      <th>1</th>\n",
       "      <td>-23.863889</td>\n",
       "      <td>135.472222</td>\n",
       "      <td>3.81,18.25,31.51,82.78,114.37,160.13,185.02,23...</td>\n",
       "    </tr>\n",
       "    <tr>\n",
       "      <th>2</th>\n",
       "      <td>-23.396667</td>\n",
       "      <td>135.473056</td>\n",
       "      <td>194.71,576.45,682.21,923.06,1098.65,1519.90,17...</td>\n",
       "    </tr>\n",
       "    <tr>\n",
       "      <th>3</th>\n",
       "      <td>-21.480833</td>\n",
       "      <td>135.325833</td>\n",
       "      <td>29.27,96.95,121.23,187.00,236.11,368.13,458.03...</td>\n",
       "    </tr>\n",
       "    <tr>\n",
       "      <th>4</th>\n",
       "      <td>-23.805000</td>\n",
       "      <td>135.527500</td>\n",
       "      <td>112.68,255.71,296.39,379.95,443.17,557.82,620....</td>\n",
       "    </tr>\n",
       "  </tbody>\n",
       "</table>\n",
       "</div>"
      ],
      "text/plain": [
       "           0           1                                                  2\n",
       "0 -22.238889  135.274444  12.92,36.88,43.37,63.78,76.71,104.25,120.81,16...\n",
       "1 -23.863889  135.472222  3.81,18.25,31.51,82.78,114.37,160.13,185.02,23...\n",
       "2 -23.396667  135.473056  194.71,576.45,682.21,923.06,1098.65,1519.90,17...\n",
       "3 -21.480833  135.325833  29.27,96.95,121.23,187.00,236.11,368.13,458.03...\n",
       "4 -23.805000  135.527500  112.68,255.71,296.39,379.95,443.17,557.82,620...."
      ]
     },
     "execution_count": 7,
     "metadata": {},
     "output_type": "execute_result"
    }
   ],
   "source": [
    "mypdf.head()"
   ]
  },
  {
   "cell_type": "code",
   "execution_count": 8,
   "metadata": {
    "collapsed": false
   },
   "outputs": [],
   "source": [
    "history(mypdf.rename())"
   ]
  },
  {
   "cell_type": "code",
   "execution_count": 9,
   "metadata": {
    "collapsed": true
   },
   "outputs": [],
   "source": [
    "mypdf.rename(columns={0: 'lat', 1: 'lon', 2: 'pendepths'}, inplace=True)"
   ]
  },
  {
   "cell_type": "code",
   "execution_count": 10,
   "metadata": {
    "collapsed": false
   },
   "outputs": [
    {
     "data": {
      "text/html": [
       "<div>\n",
       "<table border=\"1\" class=\"dataframe\">\n",
       "  <thead>\n",
       "    <tr style=\"text-align: right;\">\n",
       "      <th></th>\n",
       "      <th>lat</th>\n",
       "      <th>lon</th>\n",
       "      <th>pendepths</th>\n",
       "    </tr>\n",
       "  </thead>\n",
       "  <tbody>\n",
       "    <tr>\n",
       "      <th>0</th>\n",
       "      <td>-22.238889</td>\n",
       "      <td>135.274444</td>\n",
       "      <td>12.92,36.88,43.37,63.78,76.71,104.25,120.81,16...</td>\n",
       "    </tr>\n",
       "    <tr>\n",
       "      <th>1</th>\n",
       "      <td>-23.863889</td>\n",
       "      <td>135.472222</td>\n",
       "      <td>3.81,18.25,31.51,82.78,114.37,160.13,185.02,23...</td>\n",
       "    </tr>\n",
       "    <tr>\n",
       "      <th>2</th>\n",
       "      <td>-23.396667</td>\n",
       "      <td>135.473056</td>\n",
       "      <td>194.71,576.45,682.21,923.06,1098.65,1519.90,17...</td>\n",
       "    </tr>\n",
       "    <tr>\n",
       "      <th>3</th>\n",
       "      <td>-21.480833</td>\n",
       "      <td>135.325833</td>\n",
       "      <td>29.27,96.95,121.23,187.00,236.11,368.13,458.03...</td>\n",
       "    </tr>\n",
       "    <tr>\n",
       "      <th>4</th>\n",
       "      <td>-23.805000</td>\n",
       "      <td>135.527500</td>\n",
       "      <td>112.68,255.71,296.39,379.95,443.17,557.82,620....</td>\n",
       "    </tr>\n",
       "  </tbody>\n",
       "</table>\n",
       "</div>"
      ],
      "text/plain": [
       "         lat         lon                                          pendepths\n",
       "0 -22.238889  135.274444  12.92,36.88,43.37,63.78,76.71,104.25,120.81,16...\n",
       "1 -23.863889  135.472222  3.81,18.25,31.51,82.78,114.37,160.13,185.02,23...\n",
       "2 -23.396667  135.473056  194.71,576.45,682.21,923.06,1098.65,1519.90,17...\n",
       "3 -21.480833  135.325833  29.27,96.95,121.23,187.00,236.11,368.13,458.03...\n",
       "4 -23.805000  135.527500  112.68,255.71,296.39,379.95,443.17,557.82,620...."
      ]
     },
     "execution_count": 10,
     "metadata": {},
     "output_type": "execute_result"
    }
   ],
   "source": [
    "mypdf.head()"
   ]
  },
  {
   "cell_type": "code",
   "execution_count": 11,
   "metadata": {
    "collapsed": false
   },
   "outputs": [
    {
     "data": {
      "text/plain": [
       "(23, 3)"
      ]
     },
     "execution_count": 11,
     "metadata": {},
     "output_type": "execute_result"
    }
   ],
   "source": [
    "mypdf.shape"
   ]
  },
  {
   "cell_type": "code",
   "execution_count": 12,
   "metadata": {
    "collapsed": false
   },
   "outputs": [],
   "source": [
    "from shapely.geometry import Point\n",
    "\n",
    "# combine lat and lon column to a shapely Point() object\n",
    "mypdf['geometry'] = mypdf.apply(lambda x: Point((float(x[1]), float(x[0]))), axis=1)"
   ]
  },
  {
   "cell_type": "code",
   "execution_count": 13,
   "metadata": {
    "collapsed": false
   },
   "outputs": [],
   "source": [
    "mygdf = gpd.GeoDataFrame(mypdf, geometry='geometry')"
   ]
  },
  {
   "cell_type": "code",
   "execution_count": 14,
   "metadata": {
    "collapsed": false
   },
   "outputs": [
    {
     "data": {
      "text/html": [
       "<div>\n",
       "<table border=\"1\" class=\"dataframe\">\n",
       "  <thead>\n",
       "    <tr style=\"text-align: right;\">\n",
       "      <th></th>\n",
       "      <th>lat</th>\n",
       "      <th>lon</th>\n",
       "      <th>pendepths</th>\n",
       "      <th>geometry</th>\n",
       "    </tr>\n",
       "  </thead>\n",
       "  <tbody>\n",
       "    <tr>\n",
       "      <th>0</th>\n",
       "      <td>-22.238889</td>\n",
       "      <td>135.274444</td>\n",
       "      <td>12.92,36.88,43.37,63.78,76.71,104.25,120.81,16...</td>\n",
       "      <td>POINT (135.2744444444445 -22.23888888888889)</td>\n",
       "    </tr>\n",
       "    <tr>\n",
       "      <th>1</th>\n",
       "      <td>-23.863889</td>\n",
       "      <td>135.472222</td>\n",
       "      <td>3.81,18.25,31.51,82.78,114.37,160.13,185.02,23...</td>\n",
       "      <td>POINT (135.4722222222222 -23.86388888888889)</td>\n",
       "    </tr>\n",
       "    <tr>\n",
       "      <th>2</th>\n",
       "      <td>-23.396667</td>\n",
       "      <td>135.473056</td>\n",
       "      <td>194.71,576.45,682.21,923.06,1098.65,1519.90,17...</td>\n",
       "      <td>POINT (135.4730555555556 -23.39666666666666)</td>\n",
       "    </tr>\n",
       "    <tr>\n",
       "      <th>3</th>\n",
       "      <td>-21.480833</td>\n",
       "      <td>135.325833</td>\n",
       "      <td>29.27,96.95,121.23,187.00,236.11,368.13,458.03...</td>\n",
       "      <td>POINT (135.3258333333333 -21.48083333333333)</td>\n",
       "    </tr>\n",
       "    <tr>\n",
       "      <th>4</th>\n",
       "      <td>-23.805000</td>\n",
       "      <td>135.527500</td>\n",
       "      <td>112.68,255.71,296.39,379.95,443.17,557.82,620....</td>\n",
       "      <td>POINT (135.5275 -23.805)</td>\n",
       "    </tr>\n",
       "  </tbody>\n",
       "</table>\n",
       "</div>"
      ],
      "text/plain": [
       "         lat         lon                                          pendepths  \\\n",
       "0 -22.238889  135.274444  12.92,36.88,43.37,63.78,76.71,104.25,120.81,16...   \n",
       "1 -23.863889  135.472222  3.81,18.25,31.51,82.78,114.37,160.13,185.02,23...   \n",
       "2 -23.396667  135.473056  194.71,576.45,682.21,923.06,1098.65,1519.90,17...   \n",
       "3 -21.480833  135.325833  29.27,96.95,121.23,187.00,236.11,368.13,458.03...   \n",
       "4 -23.805000  135.527500  112.68,255.71,296.39,379.95,443.17,557.82,620....   \n",
       "\n",
       "                                       geometry  \n",
       "0  POINT (135.2744444444445 -22.23888888888889)  \n",
       "1  POINT (135.4722222222222 -23.86388888888889)  \n",
       "2  POINT (135.4730555555556 -23.39666666666666)  \n",
       "3  POINT (135.3258333333333 -21.48083333333333)  \n",
       "4                      POINT (135.5275 -23.805)  "
      ]
     },
     "execution_count": 14,
     "metadata": {},
     "output_type": "execute_result"
    }
   ],
   "source": [
    "mygdf.head()"
   ]
  },
  {
   "cell_type": "code",
   "execution_count": 15,
   "metadata": {
    "collapsed": false
   },
   "outputs": [],
   "source": [
    "\n",
    "mygdf.crs= \"+proj=longlat +ellps=WGS84 +datum=WGS84 +no_defs\"\n",
    "\n",
    "mt_survey_loc_shp = os.path.join(EDI_DIR,'mt_survey_sites.shp') \n",
    "mygdf.to_file(mt_survey_loc_shp, driver='ESRI Shapefile')"
   ]
  },
  {
   "cell_type": "code",
   "execution_count": 16,
   "metadata": {
    "collapsed": false
   },
   "outputs": [
    {
     "data": {
      "text/plain": [
       "<matplotlib.axes._subplots.AxesSubplot at 0x7ff6a53d7850>"
      ]
     },
     "execution_count": 16,
     "metadata": {},
     "output_type": "execute_result"
    },
    {
     "data": {
      "image/png": "[encoded data removed]",
      "text/plain": [
       "<matplotlib.figure.Figure at 0x7ff6a526cd50>"
      ]
     },
     "metadata": {},
     "output_type": "display_data"
    }
   ],
   "source": [
    "mygdf.plot()"
   ]
  },
  {
   "cell_type": "code",
   "execution_count": 17,
   "metadata": {
    "collapsed": false
   },
   "outputs": [],
   "source": [
    "mygdf2=mygdf.to_crs({'init':'epsg:4283'}) \n",
    "# WGS84: 'epsg:4326'\n",
    "\n",
    "# GDA94:  EPSG:4283 See  http://epsg.io/4283\n",
    "\n",
    "#http://spatialreference.org/ref/epsg/4283/\n"
   ]
  },
  {
   "cell_type": "code",
   "execution_count": 18,
   "metadata": {
    "collapsed": false
   },
   "outputs": [
    {
     "data": {
      "text/plain": [
       "{'init': 'epsg:4283'}"
      ]
     },
     "execution_count": 18,
     "metadata": {},
     "output_type": "execute_result"
    }
   ],
   "source": [
    "mygdf2.crs"
   ]
  },
  {
   "cell_type": "code",
   "execution_count": 19,
   "metadata": {
    "collapsed": true
   },
   "outputs": [],
   "source": [
    "mygdf2utm=mygdf2.to_crs({'init':'epsg:32750'}) "
   ]
  },
  {
   "cell_type": "code",
   "execution_count": 20,
   "metadata": {
    "collapsed": false
   },
   "outputs": [
    {
     "data": {
      "text/plain": [
       "<matplotlib.axes._subplots.AxesSubplot at 0x7ff6a1880dd0>"
      ]
     },
     "execution_count": 20,
     "metadata": {},
     "output_type": "execute_result"
    },
    {
     "data": {
      "image/png": "[encoded data removed]",
      "text/plain": [
       "<matplotlib.figure.Figure at 0x7ff6a184d0d0>"
      ]
     },
     "metadata": {},
     "output_type": "display_data"
    }
   ],
   "source": [
    "mygdf2utm.plot()"
   ]
  },
  {
   "cell_type": "code",
   "execution_count": 21,
   "metadata": {
    "collapsed": false
   },
   "outputs": [
    {
     "data": {
      "text/plain": [
       "{'init': 'epsg:32750'}"
      ]
     },
     "execution_count": 21,
     "metadata": {},
     "output_type": "execute_result"
    }
   ],
   "source": [
    "mygdf2utm.crs"
   ]
  },
  {
   "cell_type": "code",
   "execution_count": 22,
   "metadata": {
    "collapsed": false
   },
   "outputs": [],
   "source": [
    "new_gdf = mygdf2utm.to_crs({'init':'epsg:4283'}) "
   ]
  },
  {
   "cell_type": "code",
   "execution_count": 23,
   "metadata": {
    "collapsed": false
   },
   "outputs": [
    {
     "data": {
      "text/plain": [
       "<matplotlib.axes._subplots.AxesSubplot at 0x7ff6a17496d0>"
      ]
     },
     "execution_count": 23,
     "metadata": {},
     "output_type": "execute_result"
    },
    {
     "data": {
      "image/png": "[encoded data removed]",
      "text/plain": [
       "<matplotlib.figure.Figure at 0x7ff6a184d1d0>"
      ]
     },
     "metadata": {},
     "output_type": "display_data"
    }
   ],
   "source": [
    "new_gdf.plot()"
   ]
  },
  {
   "cell_type": "code",
   "execution_count": 24,
   "metadata": {
    "collapsed": false
   },
   "outputs": [
    {
     "data": {
      "text/html": [
       "<div>\n",
       "<table border=\"1\" class=\"dataframe\">\n",
       "  <thead>\n",
       "    <tr style=\"text-align: right;\">\n",
       "      <th></th>\n",
       "      <th>lat</th>\n",
       "      <th>lon</th>\n",
       "      <th>pendepths</th>\n",
       "      <th>geometry</th>\n",
       "    </tr>\n",
       "  </thead>\n",
       "  <tbody>\n",
       "    <tr>\n",
       "      <th>0</th>\n",
       "      <td>-22.238889</td>\n",
       "      <td>135.274444</td>\n",
       "      <td>12.92,36.88,43.37,63.78,76.71,104.25,120.81,16...</td>\n",
       "      <td>POINT (135.2744444444444 -22.23888888888888)</td>\n",
       "    </tr>\n",
       "    <tr>\n",
       "      <th>1</th>\n",
       "      <td>-23.863889</td>\n",
       "      <td>135.472222</td>\n",
       "      <td>3.81,18.25,31.51,82.78,114.37,160.13,185.02,23...</td>\n",
       "      <td>POINT (135.4722222222222 -23.86388888888889)</td>\n",
       "    </tr>\n",
       "    <tr>\n",
       "      <th>2</th>\n",
       "      <td>-23.396667</td>\n",
       "      <td>135.473056</td>\n",
       "      <td>194.71,576.45,682.21,923.06,1098.65,1519.90,17...</td>\n",
       "      <td>POINT (135.4730555555556 -23.39666666666667)</td>\n",
       "    </tr>\n",
       "    <tr>\n",
       "      <th>3</th>\n",
       "      <td>-21.480833</td>\n",
       "      <td>135.325833</td>\n",
       "      <td>29.27,96.95,121.23,187.00,236.11,368.13,458.03...</td>\n",
       "      <td>POINT (135.3258333333333 -21.48083333333333)</td>\n",
       "    </tr>\n",
       "    <tr>\n",
       "      <th>4</th>\n",
       "      <td>-23.805000</td>\n",
       "      <td>135.527500</td>\n",
       "      <td>112.68,255.71,296.39,379.95,443.17,557.82,620....</td>\n",
       "      <td>POINT (135.5275 -23.805)</td>\n",
       "    </tr>\n",
       "  </tbody>\n",
       "</table>\n",
       "</div>"
      ],
      "text/plain": [
       "         lat         lon                                          pendepths  \\\n",
       "0 -22.238889  135.274444  12.92,36.88,43.37,63.78,76.71,104.25,120.81,16...   \n",
       "1 -23.863889  135.472222  3.81,18.25,31.51,82.78,114.37,160.13,185.02,23...   \n",
       "2 -23.396667  135.473056  194.71,576.45,682.21,923.06,1098.65,1519.90,17...   \n",
       "3 -21.480833  135.325833  29.27,96.95,121.23,187.00,236.11,368.13,458.03...   \n",
       "4 -23.805000  135.527500  112.68,255.71,296.39,379.95,443.17,557.82,620....   \n",
       "\n",
       "                                       geometry  \n",
       "0  POINT (135.2744444444444 -22.23888888888888)  \n",
       "1  POINT (135.4722222222222 -23.86388888888889)  \n",
       "2  POINT (135.4730555555556 -23.39666666666667)  \n",
       "3  POINT (135.3258333333333 -21.48083333333333)  \n",
       "4                      POINT (135.5275 -23.805)  "
      ]
     },
     "execution_count": 24,
     "metadata": {},
     "output_type": "execute_result"
    }
   ],
   "source": [
    "new_gdf.head()"
   ]
  },
  {
   "cell_type": "code",
   "execution_count": 25,
   "metadata": {
    "collapsed": false
   },
   "outputs": [
    {
     "ename": "IOError",
     "evalue": "no such file or directory: 'E:/Datasets/MT_Datasets/75098/Phase_Tensor_Shapes/PT_2s_WGS84.shp'",
     "output_type": "error",
     "traceback": [
      "\u001b[0;31m\u001b[0m",
      "\u001b[0;31mIOError\u001b[0mTraceback (most recent call last)",
      "\u001b[0;32m<ipython-input-25-e559beebc6d9>\u001b[0m in \u001b[0;36m<module>\u001b[0;34m()\u001b[0m\n\u001b[1;32m      3\u001b[0m \u001b[0mshpfile\u001b[0m\u001b[0;34m=\u001b[0m\u001b[0;34mr'E:/Datasets/MT_Datasets/75098/Phase_Tensor_Shapes/PT_2s_WGS84.shp'\u001b[0m\u001b[0;34m\u001b[0m\u001b[0m\n\u001b[1;32m      4\u001b[0m \u001b[0;34m\u001b[0m\u001b[0m\n\u001b[0;32m----> 5\u001b[0;31m \u001b[0mshpf\u001b[0m\u001b[0;34m=\u001b[0m\u001b[0mgpd\u001b[0m\u001b[0;34m.\u001b[0m\u001b[0mGeoDataFrame\u001b[0m\u001b[0;34m.\u001b[0m\u001b[0mfrom_file\u001b[0m\u001b[0;34m(\u001b[0m\u001b[0mshpfile\u001b[0m\u001b[0;34m)\u001b[0m\u001b[0;34m\u001b[0m\u001b[0m\n\u001b[0m\u001b[1;32m      6\u001b[0m \u001b[0;34m\u001b[0m\u001b[0m\n\u001b[1;32m      7\u001b[0m \u001b[0;31m#shpf['phi_max'].plot(marker='*', markersize=14)\u001b[0m\u001b[0;34m\u001b[0m\u001b[0;34m\u001b[0m\u001b[0m\n",
      "\u001b[0;32m/usr/local/lib/python2.7/dist-packages/geopandas/geodataframe.pyc\u001b[0m in \u001b[0;36mfrom_file\u001b[0;34m(cls, filename, **kwargs)\u001b[0m\n\u001b[1;32m    173\u001b[0m \u001b[0;34m\u001b[0m\u001b[0m\n\u001b[1;32m    174\u001b[0m         \"\"\"\n\u001b[0;32m--> 175\u001b[0;31m         \u001b[0;32mreturn\u001b[0m \u001b[0mgeopandas\u001b[0m\u001b[0;34m.\u001b[0m\u001b[0mio\u001b[0m\u001b[0;34m.\u001b[0m\u001b[0mfile\u001b[0m\u001b[0;34m.\u001b[0m\u001b[0mread_file\u001b[0m\u001b[0;34m(\u001b[0m\u001b[0mfilename\u001b[0m\u001b[0;34m,\u001b[0m \u001b[0;34m**\u001b[0m\u001b[0mkwargs\u001b[0m\u001b[0;34m)\u001b[0m\u001b[0;34m\u001b[0m\u001b[0m\n\u001b[0m\u001b[1;32m    176\u001b[0m \u001b[0;34m\u001b[0m\u001b[0m\n\u001b[1;32m    177\u001b[0m     \u001b[0;34m@\u001b[0m\u001b[0mclassmethod\u001b[0m\u001b[0;34m\u001b[0m\u001b[0m\n",
      "\u001b[0;32m/usr/local/lib/python2.7/dist-packages/geopandas/io/file.pyc\u001b[0m in \u001b[0;36mread_file\u001b[0;34m(filename, **kwargs)\u001b[0m\n\u001b[1;32m     19\u001b[0m     \"\"\"\n\u001b[1;32m     20\u001b[0m     \u001b[0mbbox\u001b[0m \u001b[0;34m=\u001b[0m \u001b[0mkwargs\u001b[0m\u001b[0;34m.\u001b[0m\u001b[0mpop\u001b[0m\u001b[0;34m(\u001b[0m\u001b[0;34m'bbox'\u001b[0m\u001b[0;34m,\u001b[0m \u001b[0mNone\u001b[0m\u001b[0;34m)\u001b[0m\u001b[0;34m\u001b[0m\u001b[0m\n\u001b[0;32m---> 21\u001b[0;31m     \u001b[0;32mwith\u001b[0m \u001b[0mfiona\u001b[0m\u001b[0;34m.\u001b[0m\u001b[0mopen\u001b[0m\u001b[0;34m(\u001b[0m\u001b[0mfilename\u001b[0m\u001b[0;34m,\u001b[0m \u001b[0;34m**\u001b[0m\u001b[0mkwargs\u001b[0m\u001b[0;34m)\u001b[0m \u001b[0;32mas\u001b[0m \u001b[0mf\u001b[0m\u001b[0;34m:\u001b[0m\u001b[0;34m\u001b[0m\u001b[0m\n\u001b[0m\u001b[1;32m     22\u001b[0m         \u001b[0mcrs\u001b[0m \u001b[0;34m=\u001b[0m \u001b[0mf\u001b[0m\u001b[0;34m.\u001b[0m\u001b[0mcrs\u001b[0m\u001b[0;34m\u001b[0m\u001b[0m\n\u001b[1;32m     23\u001b[0m         \u001b[0;32mif\u001b[0m \u001b[0mbbox\u001b[0m \u001b[0;32mis\u001b[0m \u001b[0;32mnot\u001b[0m \u001b[0mNone\u001b[0m\u001b[0;34m:\u001b[0m\u001b[0;34m\u001b[0m\u001b[0m\n",
      "\u001b[0;32m/usr/local/lib/python2.7/dist-packages/fiona/__init__.pyc\u001b[0m in \u001b[0;36mopen\u001b[0;34m(path, mode, driver, schema, crs, encoding, layer, vfs, enabled_drivers, crs_wkt)\u001b[0m\n\u001b[1;32m    163\u001b[0m                 \u001b[0;32mraise\u001b[0m \u001b[0mIOError\u001b[0m\u001b[0;34m(\u001b[0m\u001b[0;34m\"no such archive file: %r\"\u001b[0m \u001b[0;34m%\u001b[0m \u001b[0marchive\u001b[0m\u001b[0;34m)\u001b[0m\u001b[0;34m\u001b[0m\u001b[0m\n\u001b[1;32m    164\u001b[0m         \u001b[0;32melif\u001b[0m \u001b[0mpath\u001b[0m \u001b[0;34m!=\u001b[0m \u001b[0;34m'-'\u001b[0m \u001b[0;32mand\u001b[0m \u001b[0;32mnot\u001b[0m \u001b[0mos\u001b[0m\u001b[0;34m.\u001b[0m\u001b[0mpath\u001b[0m\u001b[0;34m.\u001b[0m\u001b[0mexists\u001b[0m\u001b[0;34m(\u001b[0m\u001b[0mpath\u001b[0m\u001b[0;34m)\u001b[0m\u001b[0;34m:\u001b[0m\u001b[0;34m\u001b[0m\u001b[0m\n\u001b[0;32m--> 165\u001b[0;31m             \u001b[0;32mraise\u001b[0m \u001b[0mIOError\u001b[0m\u001b[0;34m(\u001b[0m\u001b[0;34m\"no such file or directory: %r\"\u001b[0m \u001b[0;34m%\u001b[0m \u001b[0mpath\u001b[0m\u001b[0;34m)\u001b[0m\u001b[0;34m\u001b[0m\u001b[0m\n\u001b[0m\u001b[1;32m    166\u001b[0m         c = Collection(path, mode, driver=driver, encoding=encoding,\n\u001b[1;32m    167\u001b[0m                        \u001b[0mlayer\u001b[0m\u001b[0;34m=\u001b[0m\u001b[0mlayer\u001b[0m\u001b[0;34m,\u001b[0m \u001b[0mvsi\u001b[0m\u001b[0;34m=\u001b[0m\u001b[0mvsi\u001b[0m\u001b[0;34m,\u001b[0m \u001b[0marchive\u001b[0m\u001b[0;34m=\u001b[0m\u001b[0marchive\u001b[0m\u001b[0;34m,\u001b[0m\u001b[0;34m\u001b[0m\u001b[0m\n",
      "\u001b[0;31mIOError\u001b[0m: no such file or directory: 'E:/Datasets/MT_Datasets/75098/Phase_Tensor_Shapes/PT_2s_WGS84.shp'"
     ]
    }
   ],
   "source": [
    "\n",
    "shpfile=r'/Softlab/Data/MT_datasets/728889/Phase_Tensor_Shapes/Tip_2s_WGS84_imag.shp'\n",
    "shpfile=r'E:/Datasets/MT_Datasets/75098/Phase_Tensor_Shapes/PT_2s_WGS84.shp'\n",
    "\n",
    "shpf=gpd.GeoDataFrame.from_file(shpfile)\n",
    "\n",
    "#shpf['phi_max'].plot(marker='*', markersize=14)\n",
    "\n",
    "shpf.plot(cmap='OrRd', scheme='quantiles');  #(marker='o', color='red', markersize=5)\n",
    "print shpf.shape"
   ]
  },
  {
   "cell_type": "code",
   "execution_count": null,
   "metadata": {
    "collapsed": false
   },
   "outputs": [],
   "source": [
    "shpf.shape"
   ]
  },
  {
   "cell_type": "code",
   "execution_count": null,
   "metadata": {
    "collapsed": false
   },
   "outputs": [],
   "source": [
    "shpf.crs"
   ]
  },
  {
   "cell_type": "code",
   "execution_count": null,
   "metadata": {
    "collapsed": false
   },
   "outputs": [],
   "source": [
    "shpf.to_crs({'init':'epsg:4283'}).plot()"
   ]
  },
  {
   "cell_type": "code",
   "execution_count": null,
   "metadata": {
    "collapsed": false
   },
   "outputs": [],
   "source": [
    "shpf.to_crs({'init':'epsg:32752'}).plot()\n"
   ]
  },
  {
   "cell_type": "markdown",
   "metadata": {},
   "source": [
    "# Reading Shape files\n",
    "\n",
    "# Analyze and visualize the geodata"
   ]
  },
  {
   "cell_type": "code",
   "execution_count": null,
   "metadata": {
    "collapsed": false
   },
   "outputs": [],
   "source": [
    "# #shpfile=r'E:\\MT_shape_files\\PT_0.8547s_WGS84.shp'\n",
    "# shpfile=r'/Softlab/Data/MT_datasets/75099_Youanmi/Phase_Tensor_Shapes/PT_109.23s_WGS84.shp'\n",
    "# shpfile=r'/Softlab/Data/MT_datasets/75098/Location_shapefile/YOM_MT_CDP.shp'\n",
    "\n",
    "shapefile_list=[\n",
    "    \"/Softlab/Data/MT_datasets/75099_Youanmi/Location_shapefiles/YMB2.shp\",\n",
    "    \"/Softlab/Data/MT_datasets/75099_Youanmi/Location_shapefiles/YMB1.shp\",\n",
    "    \"/Softlab/Data/MT_datasets/75099_Youanmi/Location_shapefiles/YML.shp\",\n",
    "    \"/Softlab/Data/MT_datasets/75099_Youanmi/Location_shapefiles/YNB3.shp\",\n",
    "    r'/Softlab/Data/MT_datasets/75098/Location_shapefile/YOM_MT_CDP.shp'\n",
    "    ]\n",
    "\n",
    "shp_list=[]\n",
    "for shpfile in shapefile_list:\n",
    "    print (\"Processing shape file: %s\",shpfile)\n",
    "\n",
    "    shp_gpd=gpd.GeoDataFrame.from_file(shpfile)\n",
    "    shp_list.append(shp_gpd)\n",
    "\n",
    "    print(shp_gpd.shape, shp_gpd.columns)\n",
    "    print(\"Projection: \", shp_gpd.crs)\n"
   ]
  },
  {
   "cell_type": "code",
   "execution_count": null,
   "metadata": {
    "collapsed": false
   },
   "outputs": [],
   "source": [
    "\n",
    "\n",
    "# the first 3 shape files are of the same structure, they can be joined well:\n",
    "rdf = gpd.GeoDataFrame( pd.concat( shp_list[:3], ignore_index=True) )\n",
    "\n",
    "# if include the 4'th shapoe file, which has different columns, the concat will produce a many more columns gpd!!!!!"
   ]
  },
  {
   "cell_type": "code",
   "execution_count": null,
   "metadata": {
    "collapsed": false
   },
   "outputs": [],
   "source": [
    "rdf.shape"
   ]
  },
  {
   "cell_type": "code",
   "execution_count": null,
   "metadata": {
    "collapsed": false
   },
   "outputs": [],
   "source": [
    "rdf.columns"
   ]
  },
  {
   "cell_type": "code",
   "execution_count": null,
   "metadata": {
    "collapsed": false
   },
   "outputs": [],
   "source": [
    "rdf.head()"
   ]
  },
  {
   "cell_type": "code",
   "execution_count": null,
   "metadata": {
    "collapsed": false
   },
   "outputs": [],
   "source": [
    "rdf.plot()"
   ]
  },
  {
   "cell_type": "code",
   "execution_count": null,
   "metadata": {
    "collapsed": false
   },
   "outputs": [],
   "source": [
    "\n",
    "icount=4\n",
    "\n",
    "shpf=shp_list[ icount ]\n",
    "\n",
    "shpf.head()\n"
   ]
  },
  {
   "cell_type": "code",
   "execution_count": null,
   "metadata": {
    "collapsed": false
   },
   "outputs": [],
   "source": [
    "shpf.plot(marker='*', markersize=8)\n"
   ]
  },
  {
   "cell_type": "markdown",
   "metadata": {},
   "source": [
    "# Re-Projecting"
   ]
  },
  {
   "cell_type": "code",
   "execution_count": null,
   "metadata": {
    "collapsed": false
   },
   "outputs": [],
   "source": [
    "shpf.geometry.crs"
   ]
  },
  {
   "cell_type": "code",
   "execution_count": null,
   "metadata": {
    "collapsed": false
   },
   "outputs": [],
   "source": [
    "# WGS84: 'epsg:4326'\n",
    "\n",
    "# GDA94:  EPSG:4283 See  http://epsg.io/4283\n",
    "\n",
    "#http://spatialreference.org/ref/epsg/4283/\n",
    "    \n",
    "myshpf= shpf.to_crs({'init':'epsg:4283'}) \n"
   ]
  },
  {
   "cell_type": "code",
   "execution_count": null,
   "metadata": {
    "collapsed": false
   },
   "outputs": [],
   "source": [
    "myshpf.geometry.crs"
   ]
  },
  {
   "cell_type": "code",
   "execution_count": null,
   "metadata": {
    "collapsed": false
   },
   "outputs": [],
   "source": [
    "myshpf.plot(marker='^', markersize=10)\n"
   ]
  },
  {
   "cell_type": "code",
   "execution_count": null,
   "metadata": {
    "collapsed": false
   },
   "outputs": [],
   "source": [
    "# Now, we create centroids and make it the geometry:\n",
    "\n",
    "myshpf['centroid_column'] =myshpf.centroid\n",
    "\n",
    "myshpf = myshpf.set_geometry('centroid_column')\n",
    "\n",
    "myshpf.plot(marker='o', markersize='12');"
   ]
  },
  {
   "cell_type": "code",
   "execution_count": null,
   "metadata": {
    "collapsed": false
   },
   "outputs": [],
   "source": [
    "myshpf.iloc[-2:]"
   ]
  },
  {
   "cell_type": "code",
   "execution_count": null,
   "metadata": {
    "collapsed": false
   },
   "outputs": [],
   "source": [
    "myshpf['geometry'][:10]"
   ]
  },
  {
   "cell_type": "markdown",
   "metadata": {
    "collapsed": true
   },
   "source": [
    "## Mapping onto World Basemap"
   ]
  },
  {
   "cell_type": "code",
   "execution_count": null,
   "metadata": {
    "collapsed": false
   },
   "outputs": [],
   "source": [
    "# geopandas included shape datasets\n",
    "world = gpd.read_file(gpd.datasets.get_path('naturalearth_lowres'))\n",
    "\n",
    "world.shape"
   ]
  },
  {
   "cell_type": "code",
   "execution_count": null,
   "metadata": {
    "collapsed": false
   },
   "outputs": [],
   "source": [
    "\n",
    "\n",
    "myax=world.plot(alpha=0.5)\n",
    "#myax.set_xlim([149,150])\n",
    "myax.set_xlim([110,155])\n",
    "myax.set_ylim([-40,-10])\n",
    "    \n",
    "myax=myshpf.plot(ax=myax, figsize=(10, 6),  marker='o', color='blue', markersize=5);"
   ]
  },
  {
   "cell_type": "code",
   "execution_count": null,
   "metadata": {
    "collapsed": false
   },
   "outputs": [],
   "source": [
    "# what if the crs are different in layers.\n",
    "world.crs"
   ]
  },
  {
   "cell_type": "code",
   "execution_count": null,
   "metadata": {
    "collapsed": false
   },
   "outputs": [],
   "source": [
    "myax=world.plot(alpha=0.5)\n",
    "#myax.set_xlim([149,150])\n",
    "myax.set_xlim([110,155])\n",
    "myax.set_ylim([-40,-10])\n",
    "\n",
    "rdf.plot(ax=myax, figsize=(10, 6),  marker='^', color='blue', markersize=5);\n"
   ]
  },
  {
   "cell_type": "code",
   "execution_count": null,
   "metadata": {
    "collapsed": true
   },
   "outputs": [],
   "source": []
  },
  {
   "cell_type": "code",
   "execution_count": null,
   "metadata": {
    "collapsed": true
   },
   "outputs": [],
   "source": []
  },
  {
   "cell_type": "code",
   "execution_count": null,
   "metadata": {
    "collapsed": true
   },
   "outputs": [],
   "source": []
  },
  {
   "cell_type": "code",
   "execution_count": null,
   "metadata": {
    "collapsed": false
   },
   "outputs": [],
   "source": []
  },
  {
   "cell_type": "markdown",
   "metadata": {
    "collapsed": true
   },
   "source": [
    "# Mapping with Folium"
   ]
  },
  {
   "cell_type": "code",
   "execution_count": null,
   "metadata": {
    "collapsed": false
   },
   "outputs": [],
   "source": [
    "# conda install folium\n",
    "\n",
    "import folium\n",
    "\n",
    "mapa = folium.Map([-30.0, 149.0], zoom_start=4,   tiles='cartodbpositron')\n"
   ]
  },
  {
   "cell_type": "code",
   "execution_count": null,
   "metadata": {
    "collapsed": false
   },
   "outputs": [],
   "source": [
    "myshpf = myshpf.set_geometry('geometry')\n",
    "myshp2json=myshpf.geometry.to_json()\n",
    "\n",
    "points =folium.features.GeoJson(myshp2json)\n",
    "mapa.add_children(points)"
   ]
  },
  {
   "cell_type": "code",
   "execution_count": null,
   "metadata": {
    "collapsed": false
   },
   "outputs": [],
   "source": [
    "geoj2=shpf.to_crs(epsg=4326).to_json()\n",
    "\n",
    "points2 =folium.features.GeoJson(geoj2)\n",
    "mapa.add_children(points2)"
   ]
  },
  {
   "cell_type": "code",
   "execution_count": null,
   "metadata": {
    "collapsed": false
   },
   "outputs": [],
   "source": [
    "shpf3= shpf.to_crs({'init': 'epsg:4326'})\n",
    "shpf3.plot()\n"
   ]
  },
  {
   "cell_type": "code",
   "execution_count": null,
   "metadata": {
    "collapsed": false
   },
   "outputs": [],
   "source": [
    "myax=world.plot(alpha=0.5)\n",
    "#myax.set_xlim([149,150])\n",
    "myax.set_xlim([110,155])\n",
    "myax.set_ylim([-40,-10])\n",
    "shpf3.plot(ax=myax, figsize=(10, 6),  marker='o', color='blue', markersize=5);"
   ]
  },
  {
   "cell_type": "code",
   "execution_count": null,
   "metadata": {
    "collapsed": false
   },
   "outputs": [],
   "source": [
    "#Phase Tensor shape files and Tipper (Real/Imag) Shape Files\n",
    "\n",
    "#shpfile=r'E:\\MT_shape_files\\Tip_1.4286s_WGS84_imag.shp'\n",
    "#shpfile=r'/Softlab/Data/MT_datasets/728889/Phase_Tensor_Shapes/Tip_2s_WGS84_imag.shp'\n",
    "shpfile=mt_survey_loc_shp\n",
    "\n",
    "shpf=gpd.GeoDataFrame.from_file(shpfile)\n",
    "\n",
    "#shpf['phi_max'].plot(marker='*', markersize=14)\n",
    "\n",
    "shpf.plot(cmap='OrRd', scheme='quantiles');  #(marker='o', color='red', markersize=5)\n",
    "print mt_survey_loc_shp\n",
    "print shpf.shape"
   ]
  },
  {
   "cell_type": "code",
   "execution_count": null,
   "metadata": {
    "collapsed": false
   },
   "outputs": [],
   "source": [
    "\n",
    "shpfile=r'/Softlab/Data/MT_datasets/728889/Phase_Tensor_Shapes/Tip_2s_WGS84_imag.shp'\n",
    "#shpfile=r'E:/Datasets/MT_Datasets/75098/Phase_Tensor_Shapes/PT_2s_WGS84.shp'\n",
    "\n",
    "shpf=gpd.GeoDataFrame.from_file(shpfile)\n",
    "\n",
    "#shpf['phi_max'].plot(marker='*', markersize=14)\n",
    "\n",
    "shpf.plot(cmap='OrRd', scheme='quantiles');  #(marker='o', color='red', markersize=5)\n",
    "print shpf.shape"
   ]
  },
  {
   "cell_type": "code",
   "execution_count": null,
   "metadata": {
    "collapsed": false
   },
   "outputs": [],
   "source": [
    "shpf.crs"
   ]
  },
  {
   "cell_type": "code",
   "execution_count": null,
   "metadata": {
    "collapsed": true
   },
   "outputs": [],
   "source": []
  },
  {
   "cell_type": "code",
   "execution_count": null,
   "metadata": {
    "collapsed": true
   },
   "outputs": [],
   "source": []
  }
 ],
 "metadata": {
  "kernelspec": {
   "display_name": "Python 2",
   "language": "python",
   "name": "python2"
  },
  "language_info": {
   "codemirror_mode": {
    "name": "ipython",
    "version": 2
   },
   "file_extension": ".py",
   "mimetype": "text/x-python",
   "name": "python",
   "nbconvert_exporter": "python",
   "pygments_lexer": "ipython2",
   "version": "2.7.12"
  }
 },
 "nbformat": 4,
 "nbformat_minor": 1
}
