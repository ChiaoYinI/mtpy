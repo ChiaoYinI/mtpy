{
 "cells": [
  {
   "cell_type": "markdown",
   "metadata": {},
   "source": [
    "# Demo:  Plot Resistivity and Phase\n",
    "\n",
    "- using the module mtpy.imaging.resistivity_and_phase_plot\n",
    "- input edi file"
   ]
  },
  {
   "cell_type": "code",
   "execution_count": null,
   "metadata": {
    "collapsed": true
   },
   "outputs": [],
   "source": [
    "import os, sys\n",
    "\n",
    "#1) set env variables PYTHONPATH and MTPYPATH before starting jupyther notebook,\n",
    "# OR alternatively\n",
    "#2) do the following two statements. Then it will all works fine.\n",
    "mtpydir='E:/Github/mtpy2'  #'/Softlab/Githubz/mtpy'\n",
    "sys.path.insert(0,mtpydir)   # python path for import \n",
    "os.environ['MTPYPATH']=mtpydir #Data  resources configuration"
   ]
  },
  {
   "cell_type": "code",
   "execution_count": null,
   "metadata": {
    "collapsed": true
   },
   "outputs": [],
   "source": [
    "# import some required modules\n",
    "import os\n",
    "import glob\n",
    "\n",
    "from mtpy.tests.common import DATA, MTPY_DEVELOPMENT_AMT\n",
    "from mtpy.tests.common import MTPY_DEVELOPMENT_BBMT, MTPY_DEVELOPMENT_LMT\n",
    "\n",
    "from mtpy.imaging.mtplottools import MTArrows, MTEllipse"
   ]
  },
  {
   "cell_type": "code",
   "execution_count": null,
   "metadata": {
    "collapsed": false
   },
   "outputs": [],
   "source": [
    "# Provide full path of an input edi file.\n",
    "\n",
    "edi_file_name = os.path.join(MTPY_DEVELOPMENT_AMT, '15125A_imp.edi')\n",
    "\n",
    "print(edi_file_name)"
   ]
  },
  {
   "cell_type": "code",
   "execution_count": null,
   "metadata": {
    "collapsed": false
   },
   "outputs": [],
   "source": [
    "# impedance plot\n",
    "\n",
    "% matplotlib inline\n",
    "import matplotlib.pyplot as plt\n",
    "from mtpy.imaging.resistivity_and_phase_plot import PlotResistivityAndPhase\n",
    "res_plot = PlotResistivityAndPhase(\n",
    "    edi_file_name=edi_file_name, \n",
    "    plot_yn='n', \n",
    "    fig_size=[10, 10], \n",
    "    marker_size=6,\n",
    "    )\n",
    "res_plot.plot_impedance()"
   ]
  },
  {
   "cell_type": "code",
   "execution_count": null,
   "metadata": {
    "collapsed": false
   },
   "outputs": [],
   "source": [
    "# Simple resistivy and phase plot\n",
    "pt1 = PlotResistivityAndPhase(\n",
    "        edi_file_name=edi_file_name,\n",
    "        plot_num=2, fig_size =[10, 10], font_size=10, marker_size=5)"
   ]
  },
  {
   "cell_type": "code",
   "execution_count": null,
   "metadata": {
    "collapsed": false
   },
   "outputs": [],
   "source": [
    "# Plot real and imaginary tipper with resistivity and phase plot\n",
    "# Use \"plot_tipper='yr'\" to plot only real tipper\n",
    "# Use \"plot_tipper='yi'\" to plot only imag tipper\n",
    "\n",
    "# edi_file_name = os.path.join(MTPY_DEVELOPMENT_AMT, '15125A_imp.edi')\n",
    "\n",
    "pt2 = PlotResistivityAndPhase(\n",
    "        edi_file_name=edi_file_name,\n",
    "        plot_tipper='yri',\n",
    "        plot_num=2,\n",
    "        fig_size=[10, 12],\n",
    "        font_size=14\n",
    "        )"
   ]
  },
  {
   "cell_type": "code",
   "execution_count": null,
   "metadata": {
    "collapsed": false
   },
   "outputs": [],
   "source": [
    "# Plot strike (from invariants) with resistivity and phase plot\n",
    "# Use \"plot_strike='yt'\" to plot strike from tipper\n",
    "# Use \"plot_strike='yp'\" to plot strike from tipper\n",
    "\n",
    "pt2 = PlotResistivityAndPhase(\n",
    "        edi_file_name=edi_file_name,\n",
    "        plot_strike='yi',\n",
    "        plot_num=2,\n",
    "        fig_size=[10, 12],\n",
    "        marker_size=8,\n",
    "        font_size=14\n",
    "        )"
   ]
  },
  {
   "cell_type": "code",
   "execution_count": null,
   "metadata": {
    "collapsed": false
   },
   "outputs": [],
   "source": [
    "# Here is how one can change arrow and ellipse properties\n",
    "ellipse_dict = {'range': (20, 70), 'cmap': 'mt_bl2gr2rd',\n",
    "                    'colorby': 'phimin', 'size': 0.25}\n",
    "ellipse = MTEllipse(ellipse_dict=ellipse_dict)\n",
    "arrow_dict = {'color': ('k', 'b'), 'direction': 0, 'head_length': .03,\n",
    "                  'head_width': .03, 'lw': .1}\n",
    "arrow = MTArrows(arrow_dict)\n",
    "pt2 = PlotResistivityAndPhase(\n",
    "        edi_file_name=edi_file_name,\n",
    "        data_type='z',\n",
    "        ellipse=ellipse,\n",
    "        arrow=arrow,\n",
    "        plot_tipper='yri',\n",
    "        plot_skew='y',\n",
    "        plot_strike='yt',\n",
    "        plot_num=3,\n",
    "        plot_yn='y',\n",
    "        fig_size=[10,16],\n",
    "        marker_size=6,\n",
    "        font_size=10,\n",
    "    )"
   ]
  },
  {
   "cell_type": "code",
   "execution_count": null,
   "metadata": {
    "collapsed": false
   },
   "outputs": [],
   "source": [
    "# add phase tensor to the resisitivity plot\n",
    "pt2 = PlotResistivityAndPhase(\n",
    "        edi_file_name=edi_file_name,\n",
    "        data_type='z',\n",
    "        ellipse=ellipse,\n",
    "        arrow=arrow,\n",
    "        plot_tipper='yri',\n",
    "        plot_skew='y',\n",
    "        plot_strike='yt',\n",
    "        plot_num=3,\n",
    "        plot_yn='y',\n",
    "        plot_pt='y',\n",
    "        fig_size=[10, 20],\n",
    "        font_size=14,\n",
    "        marker_size=8,\n",
    "    )"
   ]
  },
  {
   "cell_type": "code",
   "execution_count": null,
   "metadata": {
    "collapsed": true
   },
   "outputs": [],
   "source": []
  }
 ],
 "metadata": {
  "anaconda-cloud": {},
  "kernelspec": {
   "display_name": "Python [default]",
   "language": "python",
   "name": "python2"
  },
  "language_info": {
   "codemirror_mode": {
    "name": "ipython",
    "version": 2
   },
   "file_extension": ".py",
   "mimetype": "text/x-python",
   "name": "python",
   "nbconvert_exporter": "python",
   "pygments_lexer": "ipython2",
   "version": "2.7.12"
  }
 },
 "nbformat": 4,
 "nbformat_minor": 0
}
