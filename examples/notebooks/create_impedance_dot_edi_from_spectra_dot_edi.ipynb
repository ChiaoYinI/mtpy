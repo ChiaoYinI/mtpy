{
 "cells": [
  {
   "cell_type": "markdown",
   "metadata": {},
   "source": [
    "# Demo: Create an impedance.edi file from a given a spectra.edi file\n",
    "\n"
   ]
  },
  {
   "cell_type": "code",
   "execution_count": 2,
   "metadata": {
    "collapsed": false
   },
   "outputs": [
    {
     "name": "stdout",
     "output_type": "stream",
     "text": [
      "/g/data/ha3/fxz547/mtpy2\r\n"
     ]
    }
   ],
   "source": [
    "import os, sys\n",
    "\n",
    "!echo $PYTHONPATH"
   ]
  },
  {
   "cell_type": "code",
   "execution_count": 1,
   "metadata": {
    "collapsed": false
   },
   "outputs": [],
   "source": [
    "\n",
    "\n",
    "#1) set env variables PYTHONPATH and MTPYPATH before starting jupyther notebook,\n",
    "# OR alternatively\n",
    "#2) do the following two statements. Then it will all works fine.\n",
    "mtpydir='E:/Github/mtpy2'  #'/Softlab/Githubz/mtpy'\n",
    "sys.path.insert(0,mtpydir)\n",
    "os.environ['MTPYPATH']=mtpydir"
   ]
  },
  {
   "cell_type": "code",
   "execution_count": 3,
   "metadata": {
    "collapsed": false
   },
   "outputs": [],
   "source": [
    "# import some necessary modules\n",
    "import glob\n",
    "from mtpy.tests import common\n",
    "from mtpy.core import edi"
   ]
  },
  {
   "cell_type": "code",
   "execution_count": 4,
   "metadata": {
    "collapsed": false
   },
   "outputs": [
    {
     "name": "stdout",
     "output_type": "stream",
     "text": [
      "/g/data/ha3/fxz547/mtpy2/MTPy_development/AMT/15125A_spe.edi\n"
     ]
    }
   ],
   "source": [
    "# Name of the output edi file\n",
    "output_impedance_edi_file = os.path.join(os.environ.get('MTPYPATH'), 'impedance.edi')\n",
    "spectra_edi_file =os.path.join(os.environ.get('MTPYPATH'), 'MTPy_development/AMT/15125A_spe.edi')\n",
    "print spectra_edi_file\n"
   ]
  },
  {
   "cell_type": "code",
   "execution_count": 5,
   "metadata": {
    "collapsed": false
   },
   "outputs": [
    {
     "ename": "TypeError",
     "evalue": "__init__() got an unexpected keyword argument 'datatype'",
     "output_type": "error",
     "traceback": [
      "\u001b[1;31m\u001b[0m",
      "\u001b[1;31mTypeError\u001b[0mTraceback (most recent call last)",
      "\u001b[1;32m<ipython-input-5-b9b5615a0f51>\u001b[0m in \u001b[0;36m<module>\u001b[1;34m()\u001b[0m\n\u001b[0;32m      1\u001b[0m \u001b[1;31m# Read in the spectra edi file\u001b[0m\u001b[1;33m\u001b[0m\u001b[1;33m\u001b[0m\u001b[0m\n\u001b[0;32m      2\u001b[0m edi_object_from_spectra = edi.Edi(filename=spectra_edi_file,\n\u001b[1;32m----> 3\u001b[1;33m                                   datatype='spectra')\n\u001b[0m",
      "\u001b[1;31mTypeError\u001b[0m: __init__() got an unexpected keyword argument 'datatype'"
     ]
    }
   ],
   "source": [
    "# Read in the spectra edi file\n",
    "edi_object_from_spectra = edi.Edi(filename=spectra_edi_file,\n",
    "                                  datatype='spectra')"
   ]
  },
  {
   "cell_type": "code",
   "execution_count": 5,
   "metadata": {
    "collapsed": false
   },
   "outputs": [
    {
     "data": {
      "text/plain": [
       "'E:\\\\Github\\\\mtpy2\\\\impedance_1.edi'"
      ]
     },
     "execution_count": 5,
     "metadata": {},
     "output_type": "execute_result"
    }
   ],
   "source": [
    "# Write the spectra edi file in a an impedance edi file\n",
    "edi_object_from_spectra.writefile(out_file=output_impedance_edi_file)"
   ]
  },
  {
   "cell_type": "code",
   "execution_count": 6,
   "metadata": {
    "collapsed": false
   },
   "outputs": [
    {
     "name": "stdout",
     "output_type": "stream",
     "text": [
      "-rw-r--r-- 1 u25656 1049089 39139 Nov 23 09:22 E:\\\\Github\\\\mtpy2\\\\impedance.edi\n"
     ]
    }
   ],
   "source": [
    "!ls -l E:\\\\Github\\\\mtpy2\\\\impedance.edi"
   ]
  },
  {
   "cell_type": "code",
   "execution_count": 7,
   "metadata": {
    "collapsed": false
   },
   "outputs": [
    {
     "name": "stdout",
     "output_type": "stream",
     "text": [
      ">HEAD\n",
      "    ACQBY=PHOENIX\n",
      "    ACQDATE=09/12/15\n",
      "    DATAID=15125A\n",
      "    ELEV=200.0\n",
      "    EMPTY=1.0E+32\n",
      "    FILEBY=PHOENIX\n",
      "    LAT=-22:22:14.90\n",
      "    LONG=139:11:19.10\n",
      "    PROGDATE=03.09.2010\n"
     ]
    }
   ],
   "source": [
    "!head E:\\\\Github\\\\mtpy2\\\\impedance.edi"
   ]
  },
  {
   "cell_type": "code",
   "execution_count": null,
   "metadata": {
    "collapsed": true
   },
   "outputs": [],
   "source": []
  },
  {
   "cell_type": "markdown",
   "metadata": {
    "collapsed": true
   },
   "source": [
    "# Conclusion\n",
    "\n",
    "### The pathto/impedence.edi file should have been created."
   ]
  }
 ],
 "metadata": {
  "anaconda-cloud": {},
  "kernelspec": {
   "display_name": "Python 2",
   "language": "python",
   "name": "python2"
  },
  "language_info": {
   "codemirror_mode": {
    "name": "ipython",
    "version": 2
   },
   "file_extension": ".py",
   "mimetype": "text/x-python",
   "name": "python",
   "nbconvert_exporter": "python",
   "pygments_lexer": "ipython2",
   "version": "2.7.11"
  }
 },
 "nbformat": 4,
 "nbformat_minor": 0
}
