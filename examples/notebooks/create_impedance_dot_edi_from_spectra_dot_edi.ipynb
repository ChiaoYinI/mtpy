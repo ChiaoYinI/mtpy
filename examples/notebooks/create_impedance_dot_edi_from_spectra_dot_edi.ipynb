{
 "cells": [
  {
   "cell_type": "markdown",
   "metadata": {},
   "source": [
    "# Demo: Create an impedance.edi file from a given a spectra.edi file\n",
    "\n",
    "Fei Zhang\n",
    "2016-12-19 "
   ]
  },
  {
   "cell_type": "code",
   "execution_count": 1,
   "metadata": {
    "collapsed": false
   },
   "outputs": [
    {
     "name": "stdout",
     "output_type": "stream",
     "text": [
      ".\r\n"
     ]
    }
   ],
   "source": [
    "import os, sys\n",
    "\n",
    "!echo $PYTHONPATH"
   ]
  },
  {
   "cell_type": "code",
   "execution_count": 2,
   "metadata": {
    "collapsed": false
   },
   "outputs": [],
   "source": [
    "\n",
    "\n",
    "#1) set env variables PYTHONPATH and MTPYPATH before starting jupyther notebook,\n",
    "# OR alternatively\n",
    "#2) do the following two statements. Then it will all works fine.\n",
    "mtpydir='/Softlab/Githubz/mtpy2' #'/g/data/ha3/fxz547/Githubz/mtpy2'  #'E:/Github/mtpy2'  #\n",
    "sys.path.insert(0,mtpydir)\n",
    "os.environ['MTPYPATH']=mtpydir"
   ]
  },
  {
   "cell_type": "code",
   "execution_count": 3,
   "metadata": {
    "collapsed": false
   },
   "outputs": [
    {
     "name": "stderr",
     "output_type": "stream",
     "text": [
      "INFO:root:module file: /Softlab/Githubz/mtpy2/mtpy/utils/mtpylog.pyc\n",
      "INFO:root:Effective yaml configuration file /Softlab/Githubz/mtpy2/mtpy/utils/logging.yml\n"
     ]
    }
   ],
   "source": [
    "# import some necessary modules\n",
    "\n",
    "from mtpy.core import edi"
   ]
  },
  {
   "cell_type": "code",
   "execution_count": 4,
   "metadata": {
    "collapsed": false
   },
   "outputs": [
    {
     "name": "stdout",
     "output_type": "stream",
     "text": [
      "/Softlab/Githubz/mtpy2/tests/data/AMT/15125A_spe.edi\n"
     ]
    }
   ],
   "source": [
    "# Name of the output edi file\n",
    "output_impedance_edi_file = os.path.join(os.environ.get('MTPYPATH'), 'impedance.edi')\n",
    "spectra_edi_file =os.path.join(os.environ.get('MTPYPATH'), 'tests/data/AMT/15125A_spe.edi')\n",
    "print spectra_edi_file\n"
   ]
  },
  {
   "cell_type": "code",
   "execution_count": 5,
   "metadata": {
    "collapsed": false
   },
   "outputs": [
    {
     "name": "stdout",
     "output_type": "stream",
     "text": [
      "2017-01-01 06:43:52,593 - mtpy.core.edi - INFO - Converting Spectra to Impedance and Tipper\n",
      "2017-01-01 06:43:52,596 - mtpy.core.edi - INFO - Check to make sure input channel list is correct if\n",
      "2017-01-01 06:43:52,598 - mtpy.core.edi - INFO -  the data looks incorrect.\n",
      "Need to input frequency list\n",
      "Need to input frequency list\n",
      "2017-01-01 06:43:52,749 - mtpy.core.edi - INFO - Read in edi file for station 15125A\n"
     ]
    },
    {
     "name": "stderr",
     "output_type": "stream",
     "text": [
      "/Softlab/Githubz/mtpy2/mtpy/core/z.py:1292: FutureWarning: comparison to `None` will result in an elementwise object comparison in the future.\n",
      "  if (self._tipper != None) and (self._tipper.shape != tipper_array.shape):\n",
      "/Softlab/Githubz/mtpy2/mtpy/core/z.py:1349: FutureWarning: comparison to `None` will result in an elementwise object comparison in the future.\n",
      "  if (self.tipper_err != None) and \\\n"
     ]
    }
   ],
   "source": [
    "# Read in the spectra edi file\n",
    "edi_object_from_spectra = edi.Edi(spectra_edi_file)"
   ]
  },
  {
   "cell_type": "code",
   "execution_count": 6,
   "metadata": {
    "collapsed": false
   },
   "outputs": [
    {
     "name": "stdout",
     "output_type": "stream",
     "text": [
      "2017-01-01 06:43:52,757 - mtpy.core.edi - INFO - Writing out data a impedances\n",
      "2017-01-01 06:43:52,799 - mtpy.core.edi - INFO - Wrote /Softlab/Githubz/mtpy2/impedance.edi\n"
     ]
    },
    {
     "data": {
      "text/plain": [
       "'/Softlab/Githubz/mtpy2/impedance.edi'"
      ]
     },
     "execution_count": 6,
     "metadata": {},
     "output_type": "execute_result"
    }
   ],
   "source": [
    "# Write the spectra edi file in a an impedance edi file\n",
    "edi_object_from_spectra.write_edi_file(output_impedance_edi_file)"
   ]
  },
  {
   "cell_type": "code",
   "execution_count": 8,
   "metadata": {
    "collapsed": false
   },
   "outputs": [
    {
     "data": {
      "text/plain": [
       "['/Softlab/Githubz/mtpy2',\n",
       " '',\n",
       " '/Softlab/Githubz/mtpy2/examples/notebooks',\n",
       " '/usr/lib/python2.7',\n",
       " '/usr/lib/python2.7/plat-x86_64-linux-gnu',\n",
       " '/usr/lib/python2.7/lib-tk',\n",
       " '/usr/lib/python2.7/lib-old',\n",
       " '/usr/lib/python2.7/lib-dynload',\n",
       " '/home/fzhang/.local/lib/python2.7/site-packages',\n",
       " '/usr/local/lib/python2.7/dist-packages',\n",
       " '/usr/local/lib/python2.7/dist-packages/distribute-0.7.3-py2.7.egg',\n",
       " '/usr/lib/python2.7/dist-packages',\n",
       " '/usr/lib/python2.7/dist-packages/PILcompat',\n",
       " '/usr/lib/python2.7/dist-packages/gtk-2.0',\n",
       " '/usr/local/lib/python2.7/dist-packages/IPython/extensions',\n",
       " '/home/fzhang/.ipython']"
      ]
     },
     "execution_count": 8,
     "metadata": {},
     "output_type": "execute_result"
    }
   ],
   "source": [
    "# !ls -l /g/data/ha3/fxz547/Githubz/mtpy2/impedance.edi\n",
    "import sys \n",
    "sys.path"
   ]
  },
  {
   "cell_type": "markdown",
   "metadata": {
    "collapsed": true
   },
   "source": [
    "# Conclusion\n",
    "\n",
    "### The pathto/impedence.edi file should have been created."
   ]
  }
 ],
 "metadata": {
  "anaconda-cloud": {},
  "kernelspec": {
   "display_name": "Python 2",
   "language": "python",
   "name": "python2"
  },
  "language_info": {
   "codemirror_mode": {
    "name": "ipython",
    "version": 2
   },
   "file_extension": ".py",
   "mimetype": "text/x-python",
   "name": "python",
   "nbconvert_exporter": "python",
   "pygments_lexer": "ipython2",
   "version": "2.7.12"
  }
 },
 "nbformat": 4,
 "nbformat_minor": 0
}
