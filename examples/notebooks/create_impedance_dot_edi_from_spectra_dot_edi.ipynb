{
 "cells": [
  {
   "cell_type": "markdown",
   "metadata": {},
   "source": [
    "# Demo: Create an impedance.edi file from a given a spectra.edi file\n",
    "\n",
    "Fei Zhang\n",
    "2016-12-19 "
   ]
  },
  {
   "cell_type": "code",
   "execution_count": 6,
   "metadata": {
    "collapsed": false
   },
   "outputs": [
    {
     "name": "stdout",
     "output_type": "stream",
     "text": [
      "E:/Githubz/mtpy2\n"
     ]
    }
   ],
   "source": [
    "import os, sys\n",
    "\n",
    "print os.environ['PYTHONPATH']"
   ]
  },
  {
   "cell_type": "code",
   "execution_count": 11,
   "metadata": {
    "collapsed": false
   },
   "outputs": [],
   "source": [
    "\n",
    "#1) set env variables PYTHONPATH and MTPYPATH before starting jupyther notebook,\n",
    "# OR alternatively\n",
    "#2) do the following two statements. Then it will all works fine.\n",
    "mtpydir='/Softlab/Githubz/mtpy2' \n",
    "#'/g/data/ha3/fxz547/Githubz/mtpy2'  \n",
    "mtpydir='E:/Githubz/mtpy2'  \n",
    "sys.path.insert(0,mtpydir)\n",
    "os.environ['MTPYPATH']=mtpydir"
   ]
  },
  {
   "cell_type": "code",
   "execution_count": 8,
   "metadata": {
    "collapsed": false
   },
   "outputs": [],
   "source": [
    "# import some necessary modules\n",
    "\n",
    "from mtpy.core import edi"
   ]
  },
  {
   "cell_type": "code",
   "execution_count": 12,
   "metadata": {
    "collapsed": false
   },
   "outputs": [
    {
     "name": "stdout",
     "output_type": "stream",
     "text": [
      "E:/Githubz/mtpy2\\tests/data/AMT/15125A_spe.edi\n"
     ]
    }
   ],
   "source": [
    "# Name of the output edi file\n",
    "output_impedance_edi_file = os.path.join(os.environ.get('MTPYPATH'), 'impedance.edi')\n",
    "spectra_edi_file =os.path.join(os.environ.get('MTPYPATH'), 'tests/data/AMT/15125A_spe.edi')\n",
    "print spectra_edi_file\n"
   ]
  },
  {
   "cell_type": "code",
   "execution_count": 13,
   "metadata": {
    "collapsed": false
   },
   "outputs": [
    {
     "name": "stdout",
     "output_type": "stream",
     "text": [
      "Need to input frequency list\n",
      "Need to input frequency list\n"
     ]
    },
    {
     "name": "stderr",
     "output_type": "stream",
     "text": [
      "E:\\Githubz\\mtpy2\\mtpy\\core\\z.py:1292: FutureWarning: comparison to `None` will result in an elementwise object comparison in the future.\n",
      "  if (self._tipper != None) and (self._tipper.shape != tipper_array.shape):\n",
      "E:\\Githubz\\mtpy2\\mtpy\\core\\z.py:1349: FutureWarning: comparison to `None` will result in an elementwise object comparison in the future.\n",
      "  if (self.tipper_err != None) and \\\n"
     ]
    }
   ],
   "source": [
    "# Read in the spectra edi file\n",
    "edi_object_from_spectra = edi.Edi(spectra_edi_file)"
   ]
  },
  {
   "cell_type": "code",
   "execution_count": 14,
   "metadata": {
    "collapsed": false
   },
   "outputs": [
    {
     "data": {
      "text/plain": [
       "'E:\\\\Githubz\\\\mtpy2\\\\impedance.edi'"
      ]
     },
     "execution_count": 14,
     "metadata": {},
     "output_type": "execute_result"
    }
   ],
   "source": [
    "# Write the spectra edi file in a an impedance edi file\n",
    "edi_object_from_spectra.write_edi_file(output_impedance_edi_file)"
   ]
  },
  {
   "cell_type": "code",
   "execution_count": 15,
   "metadata": {
    "collapsed": false
   },
   "outputs": [
    {
     "data": {
      "text/plain": [
       "['E:/Githubz/mtpy2',\n",
       " 'E:/Github/mtpy2',\n",
       " '',\n",
       " 'E:\\\\Githubz\\\\mtpy2',\n",
       " 'C:\\\\Anaconda2\\\\python27.zip',\n",
       " 'C:\\\\Anaconda2\\\\DLLs',\n",
       " 'C:\\\\Anaconda2\\\\lib',\n",
       " 'C:\\\\Anaconda2\\\\lib\\\\plat-win',\n",
       " 'C:\\\\Anaconda2\\\\lib\\\\lib-tk',\n",
       " 'C:\\\\Anaconda2',\n",
       " 'C:\\\\Anaconda2\\\\lib\\\\site-packages',\n",
       " 'C:\\\\Anaconda2\\\\lib\\\\site-packages\\\\Sphinx-1.4.6-py2.7.egg',\n",
       " 'C:\\\\Anaconda2\\\\lib\\\\site-packages\\\\win32',\n",
       " 'C:\\\\Anaconda2\\\\lib\\\\site-packages\\\\win32\\\\lib',\n",
       " 'C:\\\\Anaconda2\\\\lib\\\\site-packages\\\\Pythonwin',\n",
       " 'C:\\\\Anaconda2\\\\lib\\\\site-packages\\\\setuptools-27.2.0-py2.7.egg',\n",
       " 'C:\\\\Anaconda2\\\\lib\\\\site-packages\\\\IPython\\\\extensions',\n",
       " 'H:\\\\.ipython']"
      ]
     },
     "execution_count": 15,
     "metadata": {},
     "output_type": "execute_result"
    }
   ],
   "source": [
    "# !ls -l /g/data/ha3/fxz547/Githubz/mtpy2/impedance.edi\n",
    "import sys \n",
    "sys.path"
   ]
  },
  {
   "cell_type": "markdown",
   "metadata": {
    "collapsed": true
   },
   "source": [
    "# Conclusion\n",
    "\n",
    "### The pathto/impedence.edi file should have been created."
   ]
  }
 ],
 "metadata": {
  "anaconda-cloud": {},
  "kernelspec": {
   "display_name": "Python [default]",
   "language": "python",
   "name": "python2"
  },
  "language_info": {
   "codemirror_mode": {
    "name": "ipython",
    "version": 2
   },
   "file_extension": ".py",
   "mimetype": "text/x-python",
   "name": "python",
   "nbconvert_exporter": "python",
   "pygments_lexer": "ipython2",
   "version": "2.7.12"
  }
 },
 "nbformat": 4,
 "nbformat_minor": 0
}
