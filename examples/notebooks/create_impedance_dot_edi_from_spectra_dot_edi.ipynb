{
 "cells": [
  {
   "cell_type": "markdown",
   "metadata": {},
   "source": [
    "# Demo: Create an impedance.edi file from a given a spectra.edi file\n",
    "\n",
    "Fei Zhang\n",
    "2016-12-19 "
   ]
  },
  {
   "cell_type": "code",
   "execution_count": 2,
   "metadata": {
    "collapsed": false
   },
   "outputs": [
    {
     "name": "stdout",
     "output_type": "stream",
     "text": [
      "/g/data/ha3/fxz547/Githubz/mtpy2\r\n"
     ]
    }
   ],
   "source": [
    "import os, sys\n",
    "\n",
    "!echo $PYTHONPATH"
   ]
  },
  {
   "cell_type": "code",
   "execution_count": 3,
   "metadata": {
    "collapsed": false
   },
   "outputs": [],
   "source": [
    "\n",
    "\n",
    "#1) set env variables PYTHONPATH and MTPYPATH before starting jupyther notebook,\n",
    "# OR alternatively\n",
    "#2) do the following two statements. Then it will all works fine.\n",
    "mtpydir='/g/data/ha3/fxz547/Githubz/mtpy2'  #'E:/Github/mtpy2'  #'/Softlab/Githubz/mtpy'\n",
    "sys.path.insert(0,mtpydir)\n",
    "os.environ['MTPYPATH']=mtpydir"
   ]
  },
  {
   "cell_type": "code",
   "execution_count": 4,
   "metadata": {
    "collapsed": false
   },
   "outputs": [],
   "source": [
    "# import some necessary modules\n",
    "import glob\n",
    "from mtpy.tests import common\n",
    "from mtpy.core import edi"
   ]
  },
  {
   "cell_type": "code",
   "execution_count": 5,
   "metadata": {
    "collapsed": false
   },
   "outputs": [
    {
     "name": "stdout",
     "output_type": "stream",
     "text": [
      "/g/data/ha3/fxz547/Githubz/mtpy2/tests/data/AMT/15125A_spe.edi\n"
     ]
    }
   ],
   "source": [
    "# Name of the output edi file\n",
    "output_impedance_edi_file = os.path.join(os.environ.get('MTPYPATH'), 'impedance.edi')\n",
    "spectra_edi_file =os.path.join(os.environ.get('MTPYPATH'), 'tests/data/AMT/15125A_spe.edi')\n",
    "print spectra_edi_file\n"
   ]
  },
  {
   "cell_type": "code",
   "execution_count": 8,
   "metadata": {
    "collapsed": false
   },
   "outputs": [
    {
     "name": "stdout",
     "output_type": "stream",
     "text": [
      "Converting Spectra to Impedance and Tipper\n",
      "Check to make sure input channel list is correct if\n",
      " the data looks incorrect.\n",
      "Need to input frequency list\n",
      "Need to input frequency list\n",
      "Read in edi file for station 15125A\n"
     ]
    },
    {
     "name": "stderr",
     "output_type": "stream",
     "text": [
      "/g/data/ha3/fxz547/Githubz/mtpy2/mtpy/core/z.py:1292: FutureWarning: comparison to `None` will result in an elementwise object comparison in the future.\n",
      "  if (self._tipper != None) and (self._tipper.shape != tipper_array.shape):\n",
      "/g/data/ha3/fxz547/Githubz/mtpy2/mtpy/core/z.py:1349: FutureWarning: comparison to `None` will result in an elementwise object comparison in the future.\n",
      "  if (self.tipper_err != None) and \\\n"
     ]
    }
   ],
   "source": [
    "# Read in the spectra edi file\n",
    "edi_object_from_spectra = edi.Edi(spectra_edi_file)"
   ]
  },
  {
   "cell_type": "code",
   "execution_count": 10,
   "metadata": {
    "collapsed": false
   },
   "outputs": [
    {
     "name": "stdout",
     "output_type": "stream",
     "text": [
      "Writing out data a impedances\n",
      "Wrote /g/data/ha3/fxz547/Githubz/mtpy2/impedance.edi\n"
     ]
    },
    {
     "data": {
      "text/plain": [
       "'/g/data/ha3/fxz547/Githubz/mtpy2/impedance.edi'"
      ]
     },
     "execution_count": 10,
     "metadata": {},
     "output_type": "execute_result"
    }
   ],
   "source": [
    "# Write the spectra edi file in a an impedance edi file\n",
    "edi_object_from_spectra.write_edi_file(output_impedance_edi_file)"
   ]
  },
  {
   "cell_type": "code",
   "execution_count": 11,
   "metadata": {
    "collapsed": false
   },
   "outputs": [
    {
     "name": "stdout",
     "output_type": "stream",
     "text": [
      "-rw-r--r-- 1 fxz547 ha3 22186 Dec 19 13:44 /g/data/ha3/fxz547/Githubz/mtpy2/impedance.edi\r\n"
     ]
    }
   ],
   "source": [
    "!ls -l /g/data/ha3/fxz547/Githubz/mtpy2/impedance.edi"
   ]
  },
  {
   "cell_type": "markdown",
   "metadata": {
    "collapsed": true
   },
   "source": [
    "# Conclusion\n",
    "\n",
    "### The pathto/impedence.edi file should have been created."
   ]
  }
 ],
 "metadata": {
  "anaconda-cloud": {},
  "kernelspec": {
   "display_name": "Python [default]",
   "language": "python",
   "name": "python2"
  },
  "language_info": {
   "codemirror_mode": {
    "name": "ipython",
    "version": 2
   },
   "file_extension": ".py",
   "mimetype": "text/x-python",
   "name": "python",
   "nbconvert_exporter": "python",
   "pygments_lexer": "ipython2",
   "version": "2.7.12"
  }
 },
 "nbformat": 4,
 "nbformat_minor": 0
}
