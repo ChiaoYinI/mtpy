{
 "cells": [
  {
   "cell_type": "markdown",
   "metadata": {},
   "source": [
    "# Debug the penetration depth3d imaging function"
   ]
  },
  {
   "cell_type": "markdown",
   "metadata": {},
   "source": [
    "## Test Run the Pentration_Depth3D imaging function"
   ]
  },
  {
   "cell_type": "code",
   "execution_count": null,
   "metadata": {},
   "outputs": [],
   "source": [
    "import matplotlib\n",
    "import matplotlib.pyplot as plt"
   ]
  },
  {
   "cell_type": "code",
   "execution_count": null,
   "metadata": {
    "scrolled": false
   },
   "outputs": [],
   "source": [
    "#Import required modules\n",
    "from mtpy.imaging import penetration_depth3d as pen3d\n",
    "\n",
    "# Set path to edi files to include in the plot and define savepath\n",
    "edi_path = r'C:/mtpywin/mtpy/Alison_penetrationDepth3D/EDI_files'  # unequal periods across EDI files\n",
    "#edi_path = r\"E:/Data/MT_Datasets/Cloncurry\"  # unequal periods across EDI files\n",
    "#edi_path = r'C:/mtpywin/mtpy/examples/data/edi2'\n",
    "savepath = r'C:/tmp'\n",
    "\n",
    "# Create plot for a period index number 1,2,3 ..., 10 for determinant. This may not make sense sometimes.\n",
    "# The recommended case is to use a float value for the period. \n",
    "# pen3d.plot_latlon_depth_profile(edi_path, 21.3333, 'det', showfig=True, savefig=True, savepath=savepath,fontsize=11, fig_dpi=400, file_format='png')\n",
    "# pen3d.plot_latlon_depth_profile(edi_path, 10922.63,'det', showfig=True, savefig=True, savepath=savepath,fontsize=11, fig_dpi=400, file_format='png')\n",
    "#pen3d.plot_latlon_depth_profile(edi_path, 31.6,'det', showfig=True, savefig=True, savepath=savepath,fontsize=11, fig_dpi=400, file_format='png')\n",
    "pen3d.plot_latlon_depth_profile(edi_path, 21.0,'det', showfig=True, savefig=True, savepath=savepath,fontsize=11, fig_dpi=400, file_format='png')"
   ]
  },
  {
   "cell_type": "code",
   "execution_count": null,
   "metadata": {},
   "outputs": [],
   "source": [
    "breakpoint"
   ]
  },
  {
   "cell_type": "markdown",
   "metadata": {},
   "source": [
    "# matplotlib rcParams\n",
    "\n",
    "Behind the scenes, matplotlib also interacts with different backends. A backend is the workhorse behind actually rendering a chart. (On the popular Anaconda distribution, for instance, the default backend is Qt5Agg.) Some backends are interactive, meaning they are dynamically updated and “pop up” to the user when changed.\n",
    "\n",
    "While interactive mode is off by default, you can check its status with plt.rcParams['interactive'] or plt.isinteractive(), and toggle it on and off with plt.ion() and plt.ioff(), respectively.\n",
    "See more https://realpython.com/python-matplotlib-guide/"
   ]
  },
  {
   "cell_type": "code",
   "execution_count": null,
   "metadata": {},
   "outputs": [],
   "source": []
  },
  {
   "cell_type": "code",
   "execution_count": null,
   "metadata": {},
   "outputs": [],
   "source": [
    "plt.rcParams['interactive'] # or plt.isinteractive(), "
   ]
  },
  {
   "cell_type": "code",
   "execution_count": null,
   "metadata": {},
   "outputs": [],
   "source": [
    "#and toggle it on and off with plt.ion() and plt.ioff(), respectively:\n",
    "plt.ion()\n",
    "print (plt.rcParams['interactive'] )"
   ]
  },
  {
   "cell_type": "code",
   "execution_count": null,
   "metadata": {},
   "outputs": [],
   "source": [
    "# plt.ioff()\n",
    "# print (plt.rcParams['interactive'] )"
   ]
  },
  {
   "cell_type": "code",
   "execution_count": null,
   "metadata": {},
   "outputs": [],
   "source": [
    "# to check all config params of matplotlib\n",
    "# print (matplotlib.rcParams)"
   ]
  },
  {
   "cell_type": "code",
   "execution_count": null,
   "metadata": {},
   "outputs": [],
   "source": []
  },
  {
   "cell_type": "code",
   "execution_count": null,
   "metadata": {},
   "outputs": [],
   "source": []
  }
 ],
 "metadata": {
  "kernelspec": {
   "display_name": "Python 2",
   "language": "python",
   "name": "python2"
  },
  "language_info": {
   "codemirror_mode": {
    "name": "ipython",
    "version": 2
   },
   "file_extension": ".py",
   "mimetype": "text/x-python",
   "name": "python",
   "nbconvert_exporter": "python",
   "pygments_lexer": "ipython2",
   "version": "2.7.14"
  }
 },
 "nbformat": 4,
 "nbformat_minor": 2
}
