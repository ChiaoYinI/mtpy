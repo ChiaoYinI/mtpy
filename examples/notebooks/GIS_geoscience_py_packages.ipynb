{
 "cells": [
  {
   "cell_type": "markdown",
   "metadata": {},
   "source": [
    "# Popular python packages for GIS and Geoscience\n",
    "\n",
    "### FZ-2017-03-05\n",
    "\n",
    "####  References\n",
    "\n",
    "https://pythongisresources.wordpress.com/packages/\n",
    "\n",
    "https://pythongisresources.wordpress.com/tag/gis-framework/\n",
    "\n",
    "https://github.com/geopandas/geopandas\n",
    "\n",
    "http://www.ironicmtn.com/karta.html\n",
    "\n",
    "http://geojson.io/#map=2/20.0/0.0\n",
    "\n",
    "http://www.gaia-gis.it/gaia-sins/\n",
    "\n",
    "https://docs.djangoproject.com/en/1.10/ref/contrib/gis/tutorial/\n",
    "\n",
    "http://thematicmapping.org/downloads/world_borders.php\n",
    "\n",
    "http://hatamyar.com/mapping-with-geodjango-django-leaflet-and-mapbox.html\n",
    "\n",
    "\n",
    "http://earthpy.org/\n",
    "\n"
   ]
  },
  {
   "cell_type": "raw",
   "metadata": {},
   "source": [
    "# GeoRasters - https://github.com/ozak/georasters\n",
    "\n",
    "\n",
    "The GeoRasters package is a python module that provides a fast and flexible tool to work with GIS raster files. It provides the GeoRaster class, which makes working with rasters quite transparent and easy. In a way it tries to do for rasters what GeoPandas does for geometries.\n",
    "\n",
    "PyCSW - \n",
    "pycsw is an OGC CSW server implementation written in Python. Started in 2010 (more formally announced in 2011), pycsw allows for the publishing and discovery of geospatial metadata, providing a standards-based metadata and catalogue component of spatial data infrastructures. pycsw is Open Source, released under an MIT license, and runs on all major platforms (Windows, Linux, Mac OS X).\n",
    "\n",
    "PyWPS - (Python Web Processing Service) is an implementation of the Web processing Service standard from Open Geospatial Consortium. It offers an environment for programming own processes (geofunctions or models) which can be accessed from the public. The main advantage of PyWPS is, that it has been written with native support for GRASS GIS. Access to GRASS modules via web interface should be as easy as possible.\n",
    "\n",
    "Follium - Folium builds on the data wrangling strengths of the Python ecosystem and the mapping strengths of the Leaflet.js library. Manipulate your data in Python, then visualize it in on a Leaflet map via Folium.\n",
    "Papyrus - Papyrus provides geospatial extensions for the Pyramid web framework and includes an implementation of the MapFish Protocol. The MapFish Protocol defines a HTTP interface for creating, reading, updating, and deleting (CRUD) geographic objects (a.k.a. features).\n",
    "\n",
    "MapFish - MapFish is a flexible and complete framework for building rich web-mapping applications. It emphasizes high productivity, and high-quality development. MapFish extends the Pylons Python web framework with geospatial-specific functionality. For example MapFish provides specific tools for creating web services that allows querying and editing geographic objects.\n",
    "\n",
    "GeoDjango - GeoDjango intends to be a world-class geographic Web framework. Its goal is to make it as easy as possible to build GIS Web applications and harness the power of spatially enabled data.\n",
    "\n",
    "PyEPSG - Easy access to the EPSG database via http://epsg.io/\n",
    "\n",
    "GeometryIO - Here is a GDAL wrapper for reading and writing geospatial data to a variety of vector formats.\n",
    "PyShapeLib - Python bindings for Shapelib with SWIG.\n",
    "\n",
    "Fiona - Fiona is OGR's neat, nimble, no-nonsense API for Python programmers. It focuses on reading and writing data in standard Python IO style and relies upon familiar Python types and protocols such as files, dictionaries, mappings, and iterators instead of classes specific to OGR.\n",
    "\n",
    "Fastkml - Fastkml is a library to read, write and manipulate KML files. It aims to keep it simple and fast (using lxml if available). Fast refers to the time you spend to write and read KML files as well as the time you spend to get aquainted to the library or to create KML objects. It aims to provide all of the functionality that KML clients such as OpenLayers, Google Maps, and Google Earth provides.\n",
    "\n",
    "Python-Geojson - This library contains: Functions for encoding and decoding GeoJSON formatted data; Classes for all GeoJSON Objects; An implementation of the Python __geo_interface__ Specification.\n",
    "\n",
    "PyGeoj - PyGeoj is a simple Python GeoJSON file reader and writer intended for end-users. It exposees dictionary structures as high level objects with convenience methods, so the user does not have to get caught up in the details of the format specification.\n",
    "\n",
    "PyShp - This library reads and writes ESRI Shapefiles in pure Python.\n",
    "\n",
    "Python-Geohash - This module provides fast, accurate geohash encoding, decoding functionality.\n",
    "\n",
    "Rtree - Rtree is a ctypes Python wrapper of libspatialindex that provides a number of advanced spatial indexing features for the spatially curious Python user.\n",
    "\n",
    "GeoPandas - GeoPandas is an open source project to make working with geospatial data in python easier. GeoPandas extends the datatypes used by pandas to allow spatial operations on geometric types. Geometric operations are performed by shapely.\n",
    "\n",
    "Karta - The goals of Karta is to expose a simple and fast framework for spatial analysis. Karta serves as a Leatherman for geographic analyses. It provides simple and clean vector and raster data types, a selection of geographical analysis methods, and the ability to read and write several formats, including GeoJSON, shapefiles, and ESRI ASCII.\n",
    "\n",
    "Rasterio - Rasterio employs GDAL under the hood for file I/O and raster formatting. Its functions typically accept and return Numpy ndarrays. Rasterio is designed to make working with geospatial raster data more productive and more fun.\n",
    "Spectral Python - Spectral Python (SPy) is a Python module for processing hyperspectral image data. It has functions for reading, displaying, manipulating, and classifying hyperspectral imagery.\n",
    "\n",
    "RasterStats - The rasterstats python module provides a fast and flexible tool to summarize geospatial raster datasets based on vector geometries (i.e. zonal statistics).\n",
    "\n",
    "GDAL - This Python package and extensions are a number of tools for programming and manipulating the GDAL Geospatial Data Abstraction Library.\n",
    "\n",
    "\n",
    "ClusterPy - ClusterPy is a Python library with algorithms for spatially constrained clustering. Spatial (geographic) data clustering: library of algorithms, create and test customized formulations using data simulations, visualization, map data utilities.\n",
    "\n",
    "PySAL - PySAL is an open source library of spatial analysis functions written in Python intended to support the development of high level applications.\n",
    "\n",
    "GeoCoon - GeoCoon is GIS data analysis Python library, which integrates Pandas data frames with Shapely GIS geometries.\n",
    "\n",
    "Shapely - Shapely is a BSD-licensed Python package for manipulation and analysis of planar geometric objects.\n",
    "UTM - Bidirectional UTM-WGS84 converter for python.\n",
    "\n",
    "GeographicLib - This is a python implementation of the geodesic routines from GeographicLib. GeographicLib is a small set of C++ classes for performing conversions between geographic, UTM, UPS, MGRS, geocentric, and local cartesian coordinates, for gravity (e.g., EGM2008), geoid height, and geomagnetic field (e.g., WMM2010) calculations, and for solving geodesic problems.\n",
    "\n",
    "Smear - An open-source parallel python toolkit for spatial interpolation of large irregular two-dimensional scatter datasets.\n",
    "\n",
    "HPGL - HPGL stands for High Performance Geostatistics Library. HPGL is written in C++ / Python to realize some geostatistical algorithms (see full list below). The algorithms are called in Python, by executing the corresponding commands.\n",
    "\n",
    "Python-Geocoder - Python-Geocoder is a simple library that uses Google Maps API for geocoding.\n",
    "PyGeocoder - Pygeocoder is a Python library that helps you make use of Google's Geocoding functionality. With this module, you can easily find addresses corresponding to coordinates and vice versa. You can also use it to validate and format addresses.\n",
    "\n",
    "GeoPy - Geopy is a Python 2 and 3 client for several popular geocoding web services. geopy makes it easy for Python developers to locate the coordinates of addresses, cities, countries, and landmarks across the globe using third-party geocoders and other data sources.\n",
    "\n",
    "PyProj - Python interface to PROJ.4 library. Performs cartographic transformations and geodetic computations.\n",
    "Basemap - The matplotlib basemap toolkit is a library for plotting 2D data on maps in Python. Basemap does not do any plotting on it's own, but provides the facilities to transform coordinates to one of 25 different map projections (using the PROJ.4 C library). Matplotlib is then used to plot contours, images, vectors, lines or points in the transformed coordinates.\n",
    "\n",
    "PySpatialite - Pyspatialite is an interface to the SQLite 3.x embedded relational database engine with spatialite extensions. It is almost fully compliant with the Python database API version 2.0 and also exposes the unique features of SQLite and spatialite.\n",
    "Python-dbgis - Python-dbgis is a fork of PPyGIS. python-dbgis is an extension to Psycopg and pyspatialite, respectively a PostgreSQL and SQLite database adapter for the Python programming language. python-dbgis support geometry objects used by PostGIS and SpatiaLite by translating between their EWKB representation and Python objects.\n",
    "PPyGIS - PPyGIS is an extension to the Psycopg, a PostgreSQL database adapter for the Python programming language. PPyGIS adds support for PostGIS geometry objects by transparently translating between their PostGIS EWKB representation and Python objects.\n",
    "\n",
    "GeoAlchemy - GeoAlchemy 2 is a support library for SQLAlchemy, that adds support for spatial databases. GeoAlchemy 2 focuses on PostGIS.\n",
    "\n",
    "PyResample - Resampling (reprojection) of geospatial image data in Python. Pyresample uses a kd-tree approach for resampling. Pyresample is designed for resampling of remote sensing data and supports resampling from both fixed grids and geolocated swath data. Plotting capability using Basemap.\n",
    "\n",
    "GeoBases - This project provides tools to play with geographical data. There are embedded data sources in the project, but you can easily play with your own data in addition to the available ones.\n",
    "\n",
    "Heatmap - Python module to create heatmaps\n",
    "\n",
    "Descartes - Shapely or GeoJSON-like geometric objects as matplotlib paths and patches\n",
    "\n",
    "Kartograph - A powerful Python library for generating beautiful, Illustrator-friendly SVG maps.\n",
    "\n",
    "Mapnik - Python bindings to C++ library. Mapnik is about making beautiful maps. It uses the AGG library and offers world class anti-aliasing rendering with subpixel accuracy for geographic data.\n",
    "\n",
    "Cartopy - Cartopy is a Python package designed to make drawing maps for data analysis and visualisation as easy as possible. Some of the key features of cartopy are: object oriented projection definitions; point, line, vector, polygon and image transformations between projections; integration to expose advanced mapping in matplotlib with a simple and intuitive interface; powerful vector data handling by integrating shapefile reading with Shapely capabilities\n",
    "\n",
    "GeoVis - A geographic visualization module that has one-liners for quickly inspecting a shapefile in a pop-up window, building and styling basic maps with multiple shapefile layers, and/or saving to imagefiles. No dependencies or installation needed.\n"
   ]
  },
  {
   "cell_type": "code",
   "execution_count": 18,
   "metadata": {
    "collapsed": false
   },
   "outputs": [
    {
     "name": "stdout",
     "output_type": "stream",
     "text": [
      "('5 52 59.88 N', '162 4 59.88 W')\n"
     ]
    }
   ],
   "source": [
    "from LatLon import *\n",
    "from LatLon import Latitude\n",
    "from LatLon import Longitude\n",
    "\n",
    "#palmyra = LatLon(Latitude(5.8833), Longitude(-162.0833)) # Location of Palmyra Atoll in decimal degrees\n",
    "palmyra = LatLon(5.8833, -162.0833) # Same thing but simpler!\n",
    "palmyra = LatLon(Latitude(degree = 5, minute = 52, second = 59.88),Longitude(degree = -162, minute = -4.998)) # or more complicated!\n",
    "print palmyra.to_string('d% %m% %S% %H') # Print coordinates to degree minute second\n",
    "# ('5 52 59.88 N', '162 4 59.88 W')"
   ]
  },
  {
   "cell_type": "code",
   "execution_count": 12,
   "metadata": {
    "collapsed": false
   },
   "outputs": [
    {
     "data": {
      "text/plain": [
       "['GeoVector',\n",
       " 'LatLon',\n",
       " 'Latitude',\n",
       " 'Longitude',\n",
       " '__builtins__',\n",
       " '__doc__',\n",
       " '__file__',\n",
       " '__name__',\n",
       " '__package__',\n",
       " '__path__',\n",
       " 'lat_lon',\n",
       " 'string2geocoord',\n",
       " 'string2latlon']"
      ]
     },
     "execution_count": 12,
     "metadata": {},
     "output_type": "execute_result"
    }
   ],
   "source": [
    "dir(LatLon)"
   ]
  },
  {
   "cell_type": "code",
   "execution_count": 19,
   "metadata": {
    "collapsed": false
   },
   "outputs": [
    {
     "ename": "IOError",
     "evalue": "[Errno 2] No such file or directory: 'map.geojson'",
     "output_type": "error",
     "traceback": [
      "\u001b[0;31m\u001b[0m",
      "\u001b[0;31mIOError\u001b[0mTraceback (most recent call last)",
      "\u001b[0;32m<ipython-input-19-cd9a040490f0>\u001b[0m in \u001b[0;36m<module>\u001b[0;34m()\u001b[0m\n\u001b[1;32m      2\u001b[0m \u001b[0;32mfrom\u001b[0m \u001b[0mgeojsonio\u001b[0m \u001b[0;32mimport\u001b[0m \u001b[0mdisplay\u001b[0m\u001b[0;34m\u001b[0m\u001b[0m\n\u001b[1;32m      3\u001b[0m \u001b[0;34m\u001b[0m\u001b[0m\n\u001b[0;32m----> 4\u001b[0;31m \u001b[0;32mwith\u001b[0m \u001b[0mopen\u001b[0m\u001b[0;34m(\u001b[0m\u001b[0;34m'map.geojson'\u001b[0m\u001b[0;34m)\u001b[0m \u001b[0;32mas\u001b[0m \u001b[0mf\u001b[0m\u001b[0;34m:\u001b[0m\u001b[0;34m\u001b[0m\u001b[0m\n\u001b[0m\u001b[1;32m      5\u001b[0m     \u001b[0mcontents\u001b[0m \u001b[0;34m=\u001b[0m \u001b[0mf\u001b[0m\u001b[0;34m.\u001b[0m\u001b[0mread\u001b[0m\u001b[0;34m(\u001b[0m\u001b[0;34m)\u001b[0m\u001b[0;34m\u001b[0m\u001b[0m\n\u001b[1;32m      6\u001b[0m     \u001b[0mdisplay\u001b[0m\u001b[0;34m(\u001b[0m\u001b[0mcontents\u001b[0m\u001b[0;34m)\u001b[0m\u001b[0;34m\u001b[0m\u001b[0m\n",
      "\u001b[0;31mIOError\u001b[0m: [Errno 2] No such file or directory: 'map.geojson'"
     ]
    }
   ],
   "source": [
    "# https://github.com/jwass/geojsonio.py\n",
    "from geojsonio import display\n",
    "\n",
    "with open('map.geojson') as f:\n",
    "    contents = f.read()\n",
    "    display(contents)\n"
   ]
  },
  {
   "cell_type": "markdown",
   "metadata": {},
   "source": [
    "\n",
    "https://www.youtube.com/results?search_query=geodjango\n",
    "    \n"
   ]
  },
  {
   "cell_type": "markdown",
   "metadata": {},
   "source": [
    "# Geoscience\n",
    "\n",
    "http://earthpy.org/"
   ]
  },
  {
   "cell_type": "code",
   "execution_count": null,
   "metadata": {
    "collapsed": true
   },
   "outputs": [],
   "source": []
  },
  {
   "cell_type": "code",
   "execution_count": null,
   "metadata": {
    "collapsed": true
   },
   "outputs": [],
   "source": []
  },
  {
   "cell_type": "code",
   "execution_count": null,
   "metadata": {
    "collapsed": true
   },
   "outputs": [],
   "source": []
  },
  {
   "cell_type": "code",
   "execution_count": null,
   "metadata": {
    "collapsed": true
   },
   "outputs": [],
   "source": []
  },
  {
   "cell_type": "code",
   "execution_count": null,
   "metadata": {
    "collapsed": true
   },
   "outputs": [],
   "source": []
  },
  {
   "cell_type": "code",
   "execution_count": null,
   "metadata": {
    "collapsed": true
   },
   "outputs": [],
   "source": []
  },
  {
   "cell_type": "code",
   "execution_count": null,
   "metadata": {
    "collapsed": true
   },
   "outputs": [],
   "source": []
  },
  {
   "cell_type": "code",
   "execution_count": null,
   "metadata": {
    "collapsed": true
   },
   "outputs": [],
   "source": []
  },
  {
   "cell_type": "code",
   "execution_count": null,
   "metadata": {
    "collapsed": true
   },
   "outputs": [],
   "source": []
  },
  {
   "cell_type": "code",
   "execution_count": null,
   "metadata": {
    "collapsed": true
   },
   "outputs": [],
   "source": []
  }
 ],
 "metadata": {
  "kernelspec": {
   "display_name": "Python [default]",
   "language": "python",
   "name": "python2"
  },
  "language_info": {
   "codemirror_mode": {
    "name": "ipython",
    "version": 2
   },
   "file_extension": ".py",
   "mimetype": "text/x-python",
   "name": "python",
   "nbconvert_exporter": "python",
   "pygments_lexer": "ipython2",
   "version": "2.7.12"
  }
 },
 "nbformat": 4,
 "nbformat_minor": 2
}
