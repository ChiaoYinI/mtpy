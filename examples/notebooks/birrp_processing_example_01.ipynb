{
 "cells": [
  {
   "cell_type": "markdown",
   "metadata": {},
   "source": [
    "# Processing with BIRRP\n",
    "\n",
    "This sample code shows how you might process MT time series with BIRRP.\n",
    "\n",
    "- Step 1: Convert the raw time series into MTTS time series (mtpy.core.ts.MTTS), see below for an example.  This will depend on the instruments you use and therefore it is assumed here that your data are already in MTTS format.  \n",
    "\n",
    "- Step 2: Gather information from each time series block and put that into a structured numpy array\n",
    "\n",
    "- Step 3: Write a script file to run BIRRP\n",
    "\n",
    "- Step 4: Run BIRRP\n",
    "    - **MAKE SURE YOU HAVE BIRRP INSTALLED ON YOUR COMPUTER**\n",
    "    - *IF YOU DON'T EMAIL ACHAVE@WHOI.EDU TO GET THE LATEST VERSION*\n",
    "\n",
    "- Step 5: Convert BIRRP output to EDI"
   ]
  },
  {
   "cell_type": "markdown",
   "metadata": {},
   "source": [
    "## Imports \n",
    "*Note*: Be sure you have downloaded the latest version of MTPy from https://github.com/MTgeophysics/mtpy"
   ]
  },
  {
   "cell_type": "code",
   "execution_count": null,
   "metadata": {},
   "outputs": [],
   "source": [
    "import numpy as np\n",
    "from mtpy.processing import birrp\n",
    "from mtpy.core import ts"
   ]
  },
  {
   "cell_type": "markdown",
   "metadata": {},
   "source": [
    "## Step 1: Convert data to MTTS format\n",
    "### Make some example time series that are MTTS objects\n",
    "\n",
    "- We will make one recording station and one remote reference station.\n",
    "- You can use this a template to put your own data into MTTS format."
   ]
  },
  {
   "cell_type": "code",
   "execution_count": null,
   "metadata": {},
   "outputs": [],
   "source": [
    "### some generic parameters for making time series\n",
    "sampling_rate = 64\n",
    "n_samples = sampling_rate * 3600 * 4\n",
    "### make a time array\n",
    "t = np.arange(n_samples) * 1./sampling_rate"
   ]
  },
  {
   "cell_type": "code",
   "execution_count": null,
   "metadata": {},
   "outputs": [],
   "source": [
    "for comp in ['ex', 'ey', 'hx', 'hy', 'hz']:\n",
    "    ts_obj = ts.MTTS()\n",
    "    if 'x' in comp:\n",
    "        ts_obj.azimuth = 0\n",
    "    elif 'y' in comp:\n",
    "        ts_obj.azimuth = 90\n",
    "    ts_obj.component = comp\n",
    "    ts_obj.coordinate_system = 'geomagnetic'\n",
    "    ts_obj.datum = 'WGS84'\n",
    "    ts_obj.declination = -11.5\n",
    "    ts_obj.data_logger = 'example'\n",
    "    ts_obj.instrument_id = 'test'\n",
    "    ts_obj.lat = 40.0\n",
    "    ts_obj.lon = -120.00\n",
    "    ts_obj.sampling_rate = sampling_rate\n",
    "    ts_obj.start_time_utc = '2018-01-01T12:00:00.00 UTC'\n",
    "    ts_obj.station = 'MT01'\n",
    "    ts_obj.units = 'mV'\n",
    "    if 'h' in comp:\n",
    "        ts_obj.calibration_fn = 'coil_calibration_file'\n",
    "    if 'e' in comp:\n",
    "        ts_obj.dipole_length = 100.0\n",
    "    ### make a somewhat realistic time series\n",
    "    ts_obj.ts = np.sum([amp*np.sin(2*np.pi*omega*t+phi) for amp, omega, phi in zip(np.random.random(50), np.logspace(-3, 3, num=50), np.random.random(50))], axis=0)\n",
    "    ts_obj.write_ascii_file('sample_station_TS.{0}'.format(comp.upper()))\n",
    "    ### make remote reference stations\n",
    "    if comp in ['hx', 'hy']:\n",
    "        ts_obj.ts = np.sum([amp*np.sin(2*np.pi*omega*t+phi) for amp, omega, phi in zip(np.random.random(50), np.logspace(-3, 3, num=50), np.random.random(50))], axis=0)\n",
    "        ts_obj.write_ascii_file('sample_rr_station_TS.{0}'.format(comp.upper()))"
   ]
  },
  {
   "cell_type": "markdown",
   "metadata": {},
   "source": [
    "# Step 2: Gather the time series into a structured numpy array to put into BIRRP"
   ]
  },
  {
   "cell_type": "markdown",
   "metadata": {},
   "source": [
    "### add any BIRRP parameters\n",
    "\n",
    "*see BIRRP documentation for descriptions of these parameters.Below are some that you might change.*"
   ]
  },
  {
   "cell_type": "code",
   "execution_count": null,
   "metadata": {},
   "outputs": [],
   "source": [
    "birrp_param_dict = {'c2threshb' : 0.45, 'c2threshe': 0.45, 'ainuin' : .9995, 'ainlin' : 0.0005, 'nar' : 7, 'tbw' : 2}"
   ]
  },
  {
   "cell_type": "code",
   "execution_count": null,
   "metadata": {},
   "outputs": [],
   "source": [
    "script_obj = birrp.ScriptFile(**birrp_param_dict)\n",
    "\n",
    "### set sampling rate (negative numbers for samples/second)\n",
    "script_obj.deltat = -1 * sampling_rate\n",
    "\n",
    "### make an empty array with data type that the script file wants,\n",
    "### length of 7 for 5 station components and 1 remote reference dataion with 2 remote reference components\n",
    "### need to make it [number_of_blocks, 7], here we only have one time series block\n",
    "### if you have multiple blocks add an array\n",
    "script_obj.fn_arr = np.array([np.zeros(7, dtype=script_obj._fn_dtype)])\n",
    "\n",
    "### fill the array from the metadata within the MTTS files\n",
    "for ii, comp in enumerate(['ex', 'ey', 'hx', 'hy', 'hz']):\n",
    "    ### read in time series file\n",
    "    ts_obj = ts.MTTS()\n",
    "    ts_obj.read_ascii_header('sample_station_TS.{0}'.format(comp.upper()))\n",
    "    script_obj.fn_arr[0][ii]['fn'] = ts_obj.fn\n",
    "    script_obj.fn_arr[0][ii]['nread'] = ts_obj.n_samples\n",
    "    script_obj.fn_arr[0][ii]['nskip'] = 22 ### birrp only reads in numbers so need to skip the header \n",
    "    script_obj.fn_arr[0][ii]['comp'] = ts_obj.component\n",
    "    script_obj.fn_arr[0][ii]['calibration_fn'] = ts_obj.calibration_fn\n",
    "    script_obj.fn_arr[0][ii]['rr'] = False\n",
    "    script_obj.fn_arr[0][ii]['rr_num'] = 0\n",
    "    script_obj.fn_arr[0][ii]['start_dt'] = ts_obj.start_time_utc\n",
    "for ii, comp in enumerate(['hx', 'hy'], 5):\n",
    "        ### read in time series file\n",
    "        ts_obj = ts.MTTS()\n",
    "        ts_obj.read_ascii_header('sample_rr_station_TS.{0}'.format(comp.upper()))\n",
    "        script_obj.fn_arr[0][ii]['fn'] = ts_obj.fn\n",
    "        script_obj.fn_arr[0][ii]['nread'] = ts_obj.n_samples\n",
    "        script_obj.fn_arr[0][ii]['nskip'] = 22 ### birrp only reads in numbers so need to skip the header \n",
    "        script_obj.fn_arr[0][ii]['comp'] = ts_obj.component\n",
    "        script_obj.fn_arr[0][ii]['calibration_fn'] = ts_obj.calibration_fn\n",
    "        script_obj.fn_arr[0][ii]['rr'] = True\n",
    "        script_obj.fn_arr[0][ii]['rr_num'] = 1 \n",
    "        script_obj.fn_arr[0][ii]['start_dt'] = ts_obj.start_time_utc\n",
    "\n",
    "### make sure we assembled the array properly\n",
    "script_obj._validate_fn_arr()\n",
    "print(script_obj.fn_arr)"
   ]
  },
  {
   "cell_type": "markdown",
   "metadata": {},
   "source": [
    "## Step 3: Write script file to run BIRRP"
   ]
  },
  {
   "cell_type": "code",
   "execution_count": null,
   "metadata": {},
   "outputs": [],
   "source": [
    "script_obj.write_script_file('example_birrp.script')"
   ]
  },
  {
   "cell_type": "markdown",
   "metadata": {},
   "source": [
    "### Write a configuration file so you remember what you did"
   ]
  },
  {
   "cell_type": "code",
   "execution_count": null,
   "metadata": {},
   "outputs": [],
   "source": [
    "script_obj.write_config_file('example_birrp_config.cfg')"
   ]
  },
  {
   "cell_type": "markdown",
   "metadata": {},
   "source": [
    "## Step 4: Run BIRRP"
   ]
  },
  {
   "cell_type": "code",
   "execution_count": null,
   "metadata": {},
   "outputs": [],
   "source": [
    "birrp_exe_path = '/home/path/to/birrp/executable'"
   ]
  },
  {
   "cell_type": "markdown",
   "metadata": {},
   "source": [
    "**NOTE**: this will not work you need to fill in the correct path to BIRRP executable"
   ]
  },
  {
   "cell_type": "code",
   "execution_count": null,
   "metadata": {},
   "outputs": [],
   "source": [
    "birrp.run(birrp_exe_path, 'example_birrp.script')"
   ]
  },
  {
   "cell_type": "markdown",
   "metadata": {},
   "source": [
    "## Step 5: Convert BIRRP outputs to an EDI file\n",
    "\n",
    "* You should have a survey configuration file with the format:\n",
    "\n",
    "    > [station_name]\n",
    "       metadata_key = metadata_value\n",
    "    \n",
    "    * For Example:\n",
    "    \n",
    "        > [MT01]\n",
    "            b_instrument_amplification = 1\n",
    "            b_instrument_type = coil\n",
    "            b_logger_gain = 1\n",
    "            b_logger_type = zen\n",
    "            b_xaxis_azimuth = 0\n",
    "            b_yaxis_azimuth = 90\n",
    "            box = 26\n",
    "            date = 2015/06/09\n",
    "            e_instrument_amplification = 1\n",
    "            e_instrument_type = Ag-Agcl electrodes\n",
    "            e_logger_gain = 1\n",
    "            e_logger_type = zen\n",
    "            e_xaxis_azimuth = 0\n",
    "            e_xaxis_length = 100\n",
    "            e_yaxis_azimuth = 90\n",
    "            e_yaxis_length = 100\n",
    "            elevation = 2113.2\n",
    "            hx = 2274\n",
    "            hy = 2284\n",
    "            hz = 2254\n",
    "            lat = 37.7074236995\n",
    "            location = Earth\n",
    "            lon = -118.999542099\n",
    "            network = USGS\n",
    "            notes = Generic config file\n",
    "            rr_box = 25\n",
    "            rr_date = 2015/06/09\n",
    "            rr_hx = 2334\n",
    "            rr_hy = 2324\n",
    "            rr_lat = 37.6909139779\n",
    "            rr_lon = -119.028707542\n",
    "            rr_station = 302\n",
    "            sampling_interval = all\n",
    "            save_path = \\home\\mtdata\\survey_01\\mt_01\n",
    "            station = 300\n",
    "            station_type = mt\n",
    "        \n",
    "        \n",
    "    \n",
    "    \n",
    "* fill in the file paths below to make this work.\n",
    "    "
   ]
  },
  {
   "cell_type": "code",
   "execution_count": null,
   "metadata": {},
   "outputs": [],
   "source": [
    "j2edi = birrp.J2EDI()\n",
    "j2edi.survey_config_fn = r'/path/to/survey/configuration/file'\n",
    "j2edi.birrp_config_fn = r'/path/to/birrp/configuration/file' ### here it would be example_birrp_config.cfg\n",
    "j2edi.birrp_dir = r'/path/to/station/birrp/folder' ### here it would be the current directory\n",
    "j2edi.write_edi_file(station='station_name')"
   ]
  }
 ],
 "metadata": {
  "kernelspec": {
   "display_name": "Python 3",
   "language": "python",
   "name": "python3"
  },
  "language_info": {
   "codemirror_mode": {
    "name": "ipython",
    "version": 3
   },
   "file_extension": ".py",
   "mimetype": "text/x-python",
   "name": "python",
   "nbconvert_exporter": "python",
   "pygments_lexer": "ipython3",
   "version": "3.7.3"
  }
 },
 "nbformat": 4,
 "nbformat_minor": 2
}
