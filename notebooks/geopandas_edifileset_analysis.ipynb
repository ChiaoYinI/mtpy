{
 "cells": [
  {
   "cell_type": "markdown",
   "metadata": {},
   "source": [
    "# Analyzing EDI files set using Pandas \n",
    "\n",
    "From EDI measurment csv file (edi_measurement.csv) to plottings\n",
    "\n",
    "## Fei Zhang\n",
    "### 2017-09\n",
    "\n",
    "### See Similar Notebooks:\n",
    "* geopandas_csv2shp\n"
   ]
  },
  {
   "cell_type": "code",
   "execution_count": 1,
   "metadata": {
    "collapsed": true
   },
   "outputs": [],
   "source": [
    "import os, sys,glob\n",
    "%matplotlib inline\n",
    "from IPython.display import display\n",
    "\n",
    "import folium\n",
    "from shapely.geometry import mapping\n",
    "\n",
    "import pandas as pd\n",
    "import geopandas as gpd\n",
    "from shapely.geometry import Point"
   ]
  },
  {
   "cell_type": "code",
   "execution_count": null,
   "metadata": {
    "collapsed": false
   },
   "outputs": [],
   "source": [
    "def csv_to_geopdf(csvfile):\n",
    "    \n",
    "    pdf = pd.read_csv(csvfile)\n",
    "    mt_locations = [Point(xy) for xy in zip(pdf.LON, pdf.LAT)]\n",
    "    #OR pdf['geometry'] = pdf.apply(lambda z: Point(z.lon, z.lat), axis=1)\n",
    "    #if you want to df = df.drop(['Lon', 'Lat'], axis=1)\n",
    "    crs = {'init': 'epsg:4326'}  # WGS84\n",
    "    crs = {'init': 'epsg:4283'}  # GDA94\n",
    "    geo_df = gpd.GeoDataFrame(pdf, crs=crs, geometry=mt_locations)\n",
    "\n",
    "    return geo_df"
   ]
  },
  {
   "cell_type": "code",
   "execution_count": 46,
   "metadata": {
    "collapsed": false
   },
   "outputs": [
    {
     "name": "stdout",
     "output_type": "stream",
     "text": [
      "E:/tmp6/edi_measurement.csv\n"
     ]
    }
   ],
   "source": [
    "# Pre-condition: please run the edi_collection.py separately (in commandline)\n",
    "# to create the edi_measurement.csv needed in the remianing section of this notebook.\n",
    "# $> python mtpy/core/edi_collection.py   /e/Data/MT_Datasets/3D_MT_data_edited_fromDuanJM /e/tmp6\n",
    "\n",
    "# path2csv='E:/Data/MT_Datasets/WenPingJiang_SHP/PhaseTensorTipper_Params_1.0986Hz.csv'\n",
    "#path2csv='E:/example_data_edi_files/edi_measurement.csv'\n",
    "path2csv='E:/tmp6/edi_measurement.csv'\n",
    "                                   \n",
    "print(path2csv)\n",
    "                                        \n",
    "path2dir=os.path.dirname(path2csv)\n",
    "mygdf=csv_to_geopdf(path2csv)"
   ]
  },
  {
   "cell_type": "code",
   "execution_count": 47,
   "metadata": {
    "collapsed": false
   },
   "outputs": [
    {
     "data": {
      "text/plain": [
       "(2000, 25)"
      ]
     },
     "execution_count": 47,
     "metadata": {},
     "output_type": "execute_result"
    }
   ],
   "source": [
    "# mygdf.head()\n",
    "mygdf.shape"
   ]
  },
  {
   "cell_type": "code",
   "execution_count": 48,
   "metadata": {
    "collapsed": false
   },
   "outputs": [
    {
     "data": {
      "text/plain": [
       "FREQ                                             0.00034\n",
       "STATION                                      IEB114-010A\n",
       "LAT                                             -20.5901\n",
       "LON                                              136.772\n",
       "ZXXre                                          0.0385766\n",
       "ZXXim                                           0.130919\n",
       "ZXYre                                             0.9289\n",
       "ZXYim                                           0.708359\n",
       "ZYXre                                          -0.203011\n",
       "ZYXim                                          -0.507532\n",
       "ZYYre                                           0.155321\n",
       "ZYYim                                          0.0272958\n",
       "TXre                                          0.00265467\n",
       "TXim                                           0.0627094\n",
       "TYre                                           -0.147829\n",
       "TYim                                            -0.12489\n",
       "RHOxx                                            10.9575\n",
       "RHOxy                                            802.722\n",
       "RHOyx                                            175.766\n",
       "RHOyy                                            14.6293\n",
       "PHSxx                                            73.5818\n",
       "PHSxy                                            37.3284\n",
       "PHSyx                                            68.1988\n",
       "PHSyy                                            9.96726\n",
       "geometry    POINT (136.7722222222222 -20.59008333333333)\n",
       "Name: 0, dtype: object"
      ]
     },
     "execution_count": 48,
     "metadata": {},
     "output_type": "execute_result"
    }
   ],
   "source": [
    "mygdf.iloc[0]     # [-1] last row or feature"
   ]
  },
  {
   "cell_type": "code",
   "execution_count": 49,
   "metadata": {
    "collapsed": false
   },
   "outputs": [
    {
     "data": {
      "text/plain": [
       "{'init': 'epsg:4283'}"
      ]
     },
     "execution_count": 49,
     "metadata": {},
     "output_type": "execute_result"
    }
   ],
   "source": [
    "mygdf.crs"
   ]
  },
  {
   "cell_type": "code",
   "execution_count": 50,
   "metadata": {
    "collapsed": true
   },
   "outputs": [],
   "source": [
    "shape_fname=path2csv.upper().replace('.CSV', '.SHP')   # 'geopandas_made.shp'\n",
    "outshp=os.path.join(path2dir,shape_fname)\n"
   ]
  },
  {
   "cell_type": "code",
   "execution_count": 51,
   "metadata": {
    "collapsed": false
   },
   "outputs": [
    {
     "data": {
      "text/plain": [
       "'E:/TMP6/EDI_MEASUREMENT.SHP'"
      ]
     },
     "execution_count": 51,
     "metadata": {},
     "output_type": "execute_result"
    }
   ],
   "source": [
    "outshp"
   ]
  },
  {
   "cell_type": "code",
   "execution_count": 52,
   "metadata": {
    "collapsed": false
   },
   "outputs": [],
   "source": [
    "mygdf.to_file(outshp, driver='ESRI Shapefile')"
   ]
  },
  {
   "cell_type": "code",
   "execution_count": 53,
   "metadata": {
    "collapsed": true
   },
   "outputs": [],
   "source": [
    "import matplotlib as mpl\n",
    "\n",
    "mpl.rcParams['lines.linewidth'] = 2\n",
    "# mpl.rcParams['lines.color'] = 'r'\n",
    "\n",
    "#mpl.rcParams['figure.figsize']=(8,30)"
   ]
  },
  {
   "cell_type": "code",
   "execution_count": 54,
   "metadata": {
    "collapsed": false
   },
   "outputs": [],
   "source": [
    "#gdf_utm54=mygdf.to_crs({'init':'epsg:32754'})  #.plot()\n",
    "\n",
    "#outshp=os.path.join(path2dir,'geopandas_made_utm54.shp')\n",
    "\n",
    "#gdf_utm54.to_file(outshp, driver='ESRI Shapefile')\n"
   ]
  },
  {
   "cell_type": "code",
   "execution_count": 55,
   "metadata": {
    "collapsed": true
   },
   "outputs": [],
   "source": [
    "\n",
    "geojson = mygdf.to_json()\n",
    "\n",
    "# output jeojson?\n",
    "# geojson big-string\n",
    "\n",
    "bounds = mygdf.total_bounds\n"
   ]
  },
  {
   "cell_type": "code",
   "execution_count": 56,
   "metadata": {
    "collapsed": false
   },
   "outputs": [
    {
     "name": "stdout",
     "output_type": "stream",
     "text": [
      "(136.77222222222224, -20.593694444444445, 136.93077777777776, -20.41086111111111)\n"
     ]
    }
   ],
   "source": [
    "print bounds"
   ]
  },
  {
   "cell_type": "code",
   "execution_count": 57,
   "metadata": {
    "collapsed": false
   },
   "outputs": [
    {
     "data": {
      "text/plain": [
       "Index([u'FREQ', u'STATION', u'LAT', u'LON', u'ZXXre', u'ZXXim', u'ZXYre',\n",
       "       u'ZXYim', u'ZYXre', u'ZYXim', u'ZYYre', u'ZYYim', u'TXre', u'TXim',\n",
       "       u'TYre', u'TYim', u'RHOxx', u'RHOxy', u'RHOyx', u'RHOyy', u'PHSxx',\n",
       "       u'PHSxy', u'PHSyx', u'PHSyy', u'geometry'],\n",
       "      dtype='object')"
      ]
     },
     "execution_count": 57,
     "metadata": {},
     "output_type": "execute_result"
    }
   ],
   "source": [
    "mygdf.columns"
   ]
  },
  {
   "cell_type": "code",
   "execution_count": 58,
   "metadata": {
    "collapsed": false
   },
   "outputs": [
    {
     "data": {
      "text/plain": [
       "count    2000.000000\n",
       "mean       45.302787\n",
       "std        56.870870\n",
       "min         0.255651\n",
       "25%         2.992486\n",
       "50%        25.259980\n",
       "75%        68.009981\n",
       "max       482.738774\n",
       "Name: ZXYre, dtype: float64"
      ]
     },
     "execution_count": 58,
     "metadata": {},
     "output_type": "execute_result"
    }
   ],
   "source": [
    "mygdf['ZXYre'].describe()"
   ]
  },
  {
   "cell_type": "code",
   "execution_count": 59,
   "metadata": {
    "collapsed": false
   },
   "outputs": [],
   "source": [
    "# unique stations\n",
    "station_list= mygdf['STATION'].unique()"
   ]
  },
  {
   "cell_type": "code",
   "execution_count": 60,
   "metadata": {
    "collapsed": false
   },
   "outputs": [
    {
     "name": "stdout",
     "output_type": "stream",
     "text": [
      "['IEB114-010A' 'IEB114-012A' 'IEB114-014A' 'IEB114-016A' 'IEB114-018A'\n",
      " 'IEB114-110A' 'IEB114-112A' 'IEB114-114A' 'IEB114-116A' 'IEB114-118A'\n",
      " 'IEB114-210A' 'IEB114-212A' 'IEB114-214A' 'IEB114-216A' 'IEB114-218A'\n",
      " 'IEB114-310A' 'IEB114-312A' 'IEB114-314A' 'IEB114-316A' 'IEB114-318A'\n",
      " 'IEB114-410A' 'IEB114-412A' 'IEB114-414A' 'IEB114-416A' '14-IEB1418A']\n"
     ]
    }
   ],
   "source": [
    "print (station_list)"
   ]
  },
  {
   "cell_type": "code",
   "execution_count": 61,
   "metadata": {
    "collapsed": false
   },
   "outputs": [],
   "source": [
    "# plot a station's MT data\n",
    "stid=10\n",
    "\n",
    "mystation=station_list[stid] #'pb27'\n",
    "\n",
    "#mygdf2 = mygdf.where (mygdf['FREQ'] == 0.000122)  # not working\n",
    "mygdf2 = mygdf.loc[mygdf['STATION'] == mystation]\n"
   ]
  },
  {
   "cell_type": "code",
   "execution_count": 62,
   "metadata": {
    "collapsed": false
   },
   "outputs": [
    {
     "data": {
      "text/plain": [
       "(80, 25)"
      ]
     },
     "execution_count": 62,
     "metadata": {},
     "output_type": "execute_result"
    }
   ],
   "source": [
    "mygdf2.shape"
   ]
  },
  {
   "cell_type": "code",
   "execution_count": 63,
   "metadata": {
    "collapsed": false
   },
   "outputs": [],
   "source": [
    "mydf2=pd.DataFrame(mygdf2)\n",
    "mydf2['PERIOD'] = mydf2.apply(lambda z: 1.0/z.FREQ, axis=1)"
   ]
  },
  {
   "cell_type": "code",
   "execution_count": 64,
   "metadata": {
    "collapsed": true
   },
   "outputs": [],
   "source": [
    "mydf2s= mydf2.sort_values('PERIOD', axis=0, ascending=True, inplace=False)"
   ]
  },
  {
   "cell_type": "code",
   "execution_count": 65,
   "metadata": {
    "collapsed": false
   },
   "outputs": [
    {
     "data": {
      "text/plain": [
       "<matplotlib.text.Text at 0x1376acc0>"
      ]
     },
     "execution_count": 65,
     "metadata": {},
     "output_type": "execute_result"
    },
    {
     "data": {
      "image/png": "[encoded data removed]",
      "text/plain": [
       "<matplotlib.figure.Figure at 0x1511d240>"
      ]
     },
     "metadata": {},
     "output_type": "display_data"
    }
   ],
   "source": [
    "ax=mydf2s.plot(x='PERIOD', y=['RHOxy', 'RHOyx'], logx=True, logy=True, marker='*', \n",
    "            title=\"Station=%s\"%mystation)\n",
    "\n",
    "ax.set_ylabel('App. Res. ($\\mathbf{\\Omega \\cdot m}$)')\n",
    "ax.set_xlabel('Period (s)')"
   ]
  },
  {
   "cell_type": "code",
   "execution_count": 66,
   "metadata": {
    "collapsed": false
   },
   "outputs": [
    {
     "data": {
      "text/plain": [
       "<matplotlib.text.Text at 0x13812be0>"
      ]
     },
     "execution_count": 66,
     "metadata": {},
     "output_type": "execute_result"
    },
    {
     "data": {
      "image/png": "[encoded data removed]",
      "text/plain": [
       "<matplotlib.figure.Figure at 0x160f40b8>"
      ]
     },
     "metadata": {},
     "output_type": "display_data"
    }
   ],
   "source": [
    "ax=mydf2s.plot(x='PERIOD', y=['PHSxy', 'PHSyx'], logx=True, logy=False, marker='^'\n",
    "            ,title=\"Station=%s\"%mystation)\n",
    "ax.set_ylabel('Phase (Deg)')\n",
    "ax.set_xlabel('Period (s)')"
   ]
  },
  {
   "cell_type": "code",
   "execution_count": null,
   "metadata": {
    "collapsed": true
   },
   "outputs": [],
   "source": []
  },
  {
   "cell_type": "code",
   "execution_count": null,
   "metadata": {
    "collapsed": true
   },
   "outputs": [],
   "source": []
  },
  {
   "cell_type": "code",
   "execution_count": null,
   "metadata": {
    "collapsed": false
   },
   "outputs": [],
   "source": []
  },
  {
   "cell_type": "code",
   "execution_count": null,
   "metadata": {
    "collapsed": false
   },
   "outputs": [],
   "source": []
  },
  {
   "cell_type": "code",
   "execution_count": null,
   "metadata": {
    "collapsed": false
   },
   "outputs": [],
   "source": []
  }
 ],
 "metadata": {
  "anaconda-cloud": {},
  "kernelspec": {
   "display_name": "Python [default]",
   "language": "python",
   "name": "python2"
  },
  "language_info": {
   "codemirror_mode": {
    "name": "ipython",
    "version": 2
   },
   "file_extension": ".py",
   "mimetype": "text/x-python",
   "name": "python",
   "nbconvert_exporter": "python",
   "pygments_lexer": "ipython2",
   "version": "2.7.12"
  }
 },
 "nbformat": 4,
 "nbformat_minor": 0
}
