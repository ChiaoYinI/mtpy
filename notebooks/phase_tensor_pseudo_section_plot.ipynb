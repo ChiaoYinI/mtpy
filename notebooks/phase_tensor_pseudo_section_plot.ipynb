{
 "cells": [
  {
   "cell_type": "markdown",
   "metadata": {},
   "source": [
    "# Demo: Plot Phase Tensor Pseudo Section\n",
    "\n",
    "## Fei Zhang\n",
    "## 2016-12-19\n"
   ]
  },
  {
   "cell_type": "code",
   "execution_count": null,
   "metadata": {
    "collapsed": false
   },
   "outputs": [],
   "source": [
    "% matplotlib inline\n",
    "\n",
    "# import the required modules\n",
    "import os\n",
    "import glob\n",
    "import sys\n",
    "\n",
    "import mtpy.imaging.mtplot as mtplot\n",
    "from mtpy.imaging.mtplottools import MTArrows, MTEllipse\n",
    "\n",
    "#from mtpy.imaging.phase_tensor_pseudo_section_plot import PlotPhaseTensorPseudoSection\n",
    "#from mtpy.imaging.plotptpseudosection import PlotPhaseTensorPseudoSection\n",
    "from mtpy.imaging.phase_tensor_pseudosection import PlotPhaseTensorPseudoSection\n",
    "\n",
    "#Supress default INFO logging\n",
    "import logging\n",
    "logger = logging.getLogger()\n",
    "logger.setLevel(logging.CRITICAL)\n",
    "logger.propagate = False\n",
    "\n",
    "\n",
    "#1) set env variables PYTHONPATH and MTPYPATH before starting jupyther notebook,\n",
    "# Alternatively\n",
    "#2) do the following two statements. Then it will all works fine.\n",
    "\n",
    "\n",
    "mtpydir='/Softlab/Githubz/mtpy2' \n",
    "#'/g/data/ha3/fxz547/Githubz/mtpy2'  \n",
    "mtpydir='E:/Githubz/mtpy2'  \n",
    "\n",
    "sys.path.insert(0,mtpydir)   # python path for import \n",
    "os.environ['MTPYPATH']=mtpydir #Data  resources configuration\n"
   ]
  },
  {
   "cell_type": "code",
   "execution_count": null,
   "metadata": {
    "collapsed": false
   },
   "outputs": [],
   "source": []
  },
  {
   "cell_type": "code",
   "execution_count": null,
   "metadata": {
    "collapsed": true
   },
   "outputs": [],
   "source": [
    "# We have a list of edi files for this demo in the repo\n",
    "\n",
    "MTPY_DEVELOPMENT_TEST_DATA=os.path.join(mtpydir, 'examples/data/edi_files/georgina')  # plots partially OK\n",
    "MTPY_DEVELOPMENT_TEST_DATA=os.path.join(mtpydir, 'examples/data/edi_files/')\n",
    "MTPY_DEVELOPMENT_TEST_DATA=os.path.join(mtpydir, 'tests/data/edifiles/')\n",
    "\n",
    "\n",
    "MTPY_DEVELOPMENT_TEST_DATA='E:/Data/MT_Datasets/GA_UA_edited_10s-10000s'\n",
    "edi_file_list = glob.glob(os.path.join(MTPY_DEVELOPMENT_TEST_DATA, '*.edi'))"
   ]
  },
  {
   "cell_type": "code",
   "execution_count": null,
   "metadata": {
    "collapsed": false,
    "scrolled": true
   },
   "outputs": [],
   "source": [
    "print(edi_file_list[:5])"
   ]
  },
  {
   "cell_type": "code",
   "execution_count": null,
   "metadata": {
    "collapsed": true
   },
   "outputs": [],
   "source": [
    "# Define the ellipse and arrow properties\n",
    "ellipse_dict = {'range': (20, 70), 'cmap': 'mt_bl2gr2rd',\n",
    "                'colorby': 'phimin', 'size': 10}\n",
    "ellipse = MTEllipse(ellipse_dict=ellipse_dict)\n",
    "arrow = MTArrows({'size': 60, 'head_length': 4})"
   ]
  },
  {
   "cell_type": "code",
   "execution_count": null,
   "metadata": {
    "collapsed": false
   },
   "outputs": [],
   "source": [
    "# Plot the phase tensor pseudo section\n",
    "pt1 = PlotPhaseTensorPseudoSection(\n",
    "    #data_type='z',\n",
    "    ellipse=ellipse,\n",
    "    arrow=arrow,\n",
    "    fn_list=edi_file_list,\n",
    "    tscale='frequency',\n",
    "    ellipse_freq=1,  # plot an ellipse at every frequency value\n",
    "    plot_tipper='yri',\n",
    "    stretch=(1500, 35),\n",
    "    scale_arrow=False,\n",
    "    fig_size=[15, 20]\n",
    "    )\n",
    "pt1.plot()"
   ]
  },
  {
   "cell_type": "code",
   "execution_count": null,
   "metadata": {
    "collapsed": false
   },
   "outputs": [],
   "source": [
    "# Change some properties and replot\n",
    "pt1.ellipse_freq = 2  # plot ellipse at every second frequency\n",
    "pt1.arrow_size = 50  # change arrow size to 50\n",
    "pt1.fig_size=[10, 20]\n",
    "pt1.font_size=14\n",
    "pt1.redraw_plot()"
   ]
  },
  {
   "cell_type": "code",
   "execution_count": null,
   "metadata": {
    "collapsed": false
   },
   "outputs": [],
   "source": [
    "# change arrow properties\n",
    "arrow.arrow_size = 100\n",
    "arrow.arrow_head_width = 3\n",
    "arrow.arrow_head_length = 4\n",
    "\n",
    "# plot every 3rd ellipse\n",
    "pt1 = PlotPhaseTensorPseudoSection(\n",
    "    #edi_file_list,\n",
    "    data_type='z',\n",
    "    ellipse=ellipse,\n",
    "    arrow=arrow,\n",
    "    fn_list=edi_file_list,\n",
    "    tscale='frequency',\n",
    "    ellipse_freq=5,  #=3 plot every 3rd ellipse\n",
    "    plot_tipper='yri', # plot real and imaginary tipper arrows\n",
    "    stretch=(1500, 35),\n",
    "    scale_arrow=False,\n",
    "    fig_size=[10, 20],\n",
    "    font_size=14,\n",
    "    )\n",
    "pt1.plot()\n"
   ]
  },
  {
   "cell_type": "code",
   "execution_count": null,
   "metadata": {
    "collapsed": false
   },
   "outputs": [],
   "source": [
    "# Colorby 'skew'\n",
    "ellipse.ellipse_colorby = 'skew'\n",
    "arrow.arrow_size = 50\n",
    "# plot every 3rd ellipse\n",
    "pt1 = PlotPhaseTensorPseudoSection(\n",
    "    #edi_file_list,\n",
    "    data_type='z',\n",
    "    ellipse=ellipse,\n",
    "    arrow=arrow,\n",
    "    fn_list=edi_file_list,\n",
    "    tscale='frequency',\n",
    "    ellipse_freq=3,  # plot every 3rd ellipse\n",
    "    plot_tipper='yri', # plot real and imaginary tipper arrows\n",
    "    stretch=(1500, 35),\n",
    "    scale_arrow=False,\n",
    "    fig_size=[10, 20],\n",
    "    font_size=14\n",
    "   )\n",
    "pt1.plot()"
   ]
  },
  {
   "cell_type": "code",
   "execution_count": null,
   "metadata": {
    "collapsed": false,
    "scrolled": false
   },
   "outputs": [],
   "source": [
    "# Colorby 'normalized_skew'\n",
    "ellipse.ellipse_colorby = 'normalized_skew'\n",
    "# change arrow size\n",
    "arrow.arrow_size = 40\n",
    "# plot every 4th ellipse\n",
    "pt1 = PlotPhaseTensorPseudoSection(\n",
    "    #edi_file_list,\n",
    "    data_type='z',\n",
    "    ellipse=ellipse,\n",
    "    arrow=arrow,\n",
    "    fn_list=edi_file_list,\n",
    "    tscale='frequency',\n",
    "    ellipse_freq=4,  # plot every 4th ellipse\n",
    "    plot_tipper='yri', # plot real and imaginary tipper arrows\n",
    "    stretch=(1500, 35),\n",
    "    scale_arrow=False,\n",
    "    fig_size=[10, 20],\n",
    "    font_size=14\n",
    "    )\n",
    "\n",
    "pt1.plot()"
   ]
  },
  {
   "cell_type": "code",
   "execution_count": null,
   "metadata": {
    "collapsed": false,
    "scrolled": false
   },
   "outputs": [],
   "source": [
    "# Colorby 'ellipticity'\n",
    "ellipse.ellipse_colorby = 'ellipticity'\n",
    "\n",
    "# plot every 4th ellipse\n",
    "pt1 = PlotPhaseTensorPseudoSection(\n",
    "    #edi_file_list,\n",
    "    data_type='z',\n",
    "    ellipse=ellipse,\n",
    "    arrow=arrow,\n",
    "    fn_list=edi_file_list,\n",
    "    tscale='frequency',\n",
    "    ellipse_freq=4,  # plot every 4th ellipse\n",
    "    plot_tipper='yri', # plot real and imaginary tipper arrows\n",
    "    stretch=(1500, 35),\n",
    "    scale_arrow=False,\n",
    "    fig_size=[10, 20],\n",
    "    font_size=14\n",
    "    )\n",
    "pt1.plot()"
   ]
  },
  {
   "cell_type": "code",
   "execution_count": null,
   "metadata": {
    "collapsed": false
   },
   "outputs": [],
   "source": [
    "pt1.plot()"
   ]
  }
 ],
 "metadata": {
  "anaconda-cloud": {},
  "kernelspec": {
   "display_name": "Python [default]",
   "language": "python",
   "name": "python2"
  },
  "language_info": {
   "codemirror_mode": {
    "name": "ipython",
    "version": 2
   },
   "file_extension": ".py",
   "mimetype": "text/x-python",
   "name": "python",
   "nbconvert_exporter": "python",
   "pygments_lexer": "ipython2",
   "version": "2.7.12"
  }
 },
 "nbformat": 4,
 "nbformat_minor": 0
}
