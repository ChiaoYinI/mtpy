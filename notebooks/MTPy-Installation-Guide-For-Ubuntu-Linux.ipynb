{
 "cells": [
  {
   "cell_type": "markdown",
   "metadata": {},
   "source": [
    "# User Guide  for setting up MTPy in Ubuntu Linux \n",
    "\n",
    "## MTPy Workshop - Adelaide\n",
    "\n",
    "### Fei Zhang\n",
    "### September 2018"
   ]
  },
  {
   "cell_type": "markdown",
   "metadata": {},
   "source": [
    "## User Guide on Anaconda installation on Linux \n",
    "\n",
    "This user guide is on how to install anaconda python into a Linux desktop. No admin privilege is required for the user. \n",
    "\n",
    "It is tested on Ubuntu Linux Version-18.4, and should be similar in other flavours of Linux systems.\n",
    "\n",
    "One way to get a Ubuntu Linux systen is to use Oracle VirualBox: https://www.oracle.com/technetwork/server-storage/virtualbox/downloads/index.html. Then user can create a virtual guest OS such as Ubuntu 18.04.\n",
    "\n",
    "\n",
    "\n",
    "- Note: In the workshop, we plan to provide an Oracle Virtual Appliance (Ubuntu1804-mtpy.ova), providing ready to use Workshop enviroment.\n",
    "\n",
    "- The ova file is about 4GB in size, and can be directly imported into your VirtualBox. You will be able to run the Workshop material without installing anything else."
   ]
  },
  {
   "cell_type": "markdown",
   "metadata": {},
   "source": [
    "### 1) obtain the installation package by download \n",
    "\n",
    "from https://www.anaconda.com/download/#linux  \n",
    "\n",
    "OR\n",
    "\n",
    "mtpy@mtpy-VirtualBox$  wget https://repo.anaconda.com/archive/Anaconda2-5.2.0-Linux-x86_64.sh\n",
    "\n",
    "\n",
    "Saving to: 'Anaconda2-5.2.0-Linux-x86_64.sh’\n",
    "\n",
    "Anaconda2-5.2.0-Linux-x86_64.sh 100%[=============================================>] 603.38M   209KB/s    in 53m 32s \n",
    "\n",
    "\n",
    "### 2) chmod 755 Anaconda2-5.2.0-Linux-x86_64.sh"
   ]
  },
  {
   "cell_type": "markdown",
   "metadata": {},
   "source": [
    "### 3) installation on commandline\n",
    "\n",
    "mtpy@mtpy-VirtualBox$ chmod u+x Anaconda2-5.2.0-Linux-x86_64.sh\n",
    "\n",
    "mtpy@mtpy-VirtualBox$ ./Anaconda2-5.2.0-Linux-x86_64.sh \n",
    "\n",
    "Welcome to Anaconda2 5.2.0\n",
    "\n",
    "In order to continue the installation process, please review the license\n",
    "agreement.\n",
    "Please, press ENTER to continue\n",
    "> \n",
    "\n",
    "Accept the license and let it install into default directory location (/home/mtpy/anaconda2). This process will take a couple of minutes to complete. In the end when prompted, enter yes to make the new ananconda python PATH available by appending automatically a line of configuration into your $HOME/.bashrc, with output shown below:\n",
    "\n",
    "[no] > yes\n",
    "\n",
    "Appending source /home/mtpy/anaconda2/bin/activate to /home/mtpy/.bashrc\n",
    "A backup will be made to: /home/mtpy/.bashrc-anaconda2.bak\n",
    "\n",
    "\n",
    "For this change to become active, you have to open a new terminal.\n",
    "\n",
    "Thank you for installing Anaconda2!\n",
    "\n",
    "===========================================================================\n",
    "\n",
    "Anaconda is partnered with Microsoft! Microsoft VSCode is a streamlined\n",
    "code editor with support for development operations like debugging, task\n",
    "running and version control.\n",
    "\n",
    "To install Visual Studio Code, you will need:\n",
    "  - Administrator Privileges\n",
    "  - Internet connectivity\n",
    "\n",
    "Visual Studio Code License: https://code.visualstudio.com/license\n",
    "\n",
    "Do you wish to proceed with the installation of Microsoft VSCode? [yes|no]\n",
    "> no\n"
   ]
  },
  {
   "cell_type": "markdown",
   "metadata": {},
   "source": [
    "After the successful installation of anaconda python, open a new terminal and test to make sure your default python interpreter is /home/mtpy/anaconda2/bin/python, not your OS-provided python (/user/bin/python):"
   ]
  },
  {
   "cell_type": "markdown",
   "metadata": {},
   "source": [
    "### 4) Install additional dependency python packages:\n",
    "    \n",
    "\n",
    "or gdal, pandas, geopandas and netcdf4 data handling:\n",
    "\n",
    "    conda install geopandas -y\n",
    "\n",
    "    conda install netcdf4 -y\n",
    "\n",
    "\n",
    "Configure GDAL_DATA properly by appending in $HOME/.bashrc \n",
    "\n",
    "export GDAL_DATA=/home/mtpy/anaconda2/share/gdal\n",
    "\n",
    "(one way to do this is: echo 'export GDAL_DATA=/home/mtpy/anaconda2/share/gdal' >> /home/mtpy/.bashrc)"
   ]
  },
  {
   "cell_type": "markdown",
   "metadata": {},
   "source": [
    "### 5) Clone Install mtpy package using git\n",
    "\n",
    "If git command is not installed, do \n",
    "\n",
    "sudo apt install git\n",
    "\n",
    "Obtain the mtpy source code:\n",
    "    \n",
    "git clone https://github.com/MTgeophysics/mtpy"
   ]
  },
  {
   "cell_type": "code",
   "execution_count": null,
   "metadata": {},
   "outputs": [],
   "source": []
  },
  {
   "cell_type": "markdown",
   "metadata": {},
   "source": [
    "# Testing mtpy in jupyter-notebook\n",
    "\n",
    "In a terminal start a jupyter notebook server by the command:\n",
    "\n",
    "cd /home/mtoy/mtpy/notebook\n",
    "\n",
    "jupyter-notebook\n",
    "\n",
    "Then access the notebooks in a browser such as firefox or google-chrome"
   ]
  },
  {
   "cell_type": "code",
   "execution_count": 1,
   "metadata": {},
   "outputs": [
    {
     "name": "stdout",
     "output_type": "stream",
     "text": [
      "/home/mtpy/anaconda2/bin/python\r\n"
     ]
    }
   ],
   "source": [
    "!which python"
   ]
  },
  {
   "cell_type": "code",
   "execution_count": 2,
   "metadata": {},
   "outputs": [],
   "source": [
    "PATH2_SYNTH_EDI='/home/mtpy/mtpy/examples/data/edi_files_2/Synth00.edi'\n",
    "SAVE_PATH='/home/mtpy/tmp/'\n",
    "\n",
    "import os\n",
    "if not os.path.exists(SAVE_PATH):\n",
    "    os.mkdir(SAVE_PATH)"
   ]
  },
  {
   "cell_type": "code",
   "execution_count": 3,
   "metadata": {},
   "outputs": [],
   "source": [
    "import sys\n",
    "sys.path.append('/home/mtpy/mtpy')"
   ]
  },
  {
   "cell_type": "code",
   "execution_count": 4,
   "metadata": {},
   "outputs": [
    {
     "name": "stdout",
     "output_type": "stream",
     "text": [
      "('epsg_code_val', [])\n"
     ]
    }
   ],
   "source": [
    "# import required modules\n",
    "from mtpy.core.mt import MT\n",
    "\n",
    "# Define the path to your edi file\n",
    "edi_file = PATH2_SYNTH_EDI\n",
    "\n",
    "# Create an MT object\n",
    "mt_obj = MT(edi_file)"
   ]
  },
  {
   "cell_type": "code",
   "execution_count": 5,
   "metadata": {},
   "outputs": [
    {
     "name": "stdout",
     "output_type": "stream",
     "text": [
      "(-19.01, 136.01)\n"
     ]
    }
   ],
   "source": [
    "# To see the latitude and longitude\n",
    "print (mt_obj.lat, mt_obj.lon)"
   ]
  },
  {
   "cell_type": "code",
   "execution_count": 6,
   "metadata": {},
   "outputs": [
    {
     "name": "stdout",
     "output_type": "stream",
     "text": [
      "[1.256500e+04 9.751601e+03 7.876300e+03 6.188500e+03 5.250801e+03\n",
      " 4.265799e+03 3.515799e+03 8.437800e+02 6.562798e+02 4.922399e+02\n",
      " 3.867599e+02 3.164400e+02 2.578400e+02 2.109600e+02 1.728900e+02\n",
      " 1.367200e+02 1.015600e+02 7.421900e+01 5.761700e+01 4.882800e+01\n",
      " 4.101600e+01 3.222700e+01 2.636700e+01 2.148400e+01 1.757800e+01\n",
      " 1.440400e+01 1.147500e+01 8.593800e+00 6.591801e+00 5.371100e+00\n",
      " 4.394500e+00 3.601100e+00 2.868700e+00 2.304700e+00 1.914100e+00\n",
      " 1.601600e+00 1.328100e+00 1.074200e+00 8.789100e-01 6.835900e-01\n",
      " 5.078100e-01 3.710900e-01 2.880900e-01 2.050800e-01 1.318400e-01\n",
      " 8.789098e-02 6.835900e-02 5.127000e-02 4.028299e-02 3.295900e-02\n",
      " 2.685500e-02 2.197300e-02 1.709000e-02 1.281700e-02 1.007100e-02\n",
      " 8.239700e-03 6.713900e-03 5.493201e-03 4.272499e-03 2.822900e-03\n",
      " 2.059900e-03 1.678500e-03 1.373300e-03 1.068100e-03 7.629400e-04]\n"
     ]
    }
   ],
   "source": [
    "# for example, to see the frequency values represented in the impedance tensor:\n",
    "print mt_obj.Z.freq"
   ]
  },
  {
   "cell_type": "code",
   "execution_count": 7,
   "metadata": {},
   "outputs": [
    {
     "data": {
      "text/plain": [
       "<Figure size 960x720 with 7 Axes>"
      ]
     },
     "metadata": {},
     "output_type": "display_data"
    },
    {
     "name": "stdout",
     "output_type": "stream",
     "text": [
      "Saved figure to: /home/mtpy/tmp/Synth002.png\n"
     ]
    }
   ],
   "source": [
    "# import required modules\n",
    "\n",
    "# Define the path to your edi file and save path\n",
    "edi_file = PATH2_SYNTH_EDI\n",
    "savepath = SAVE_PATH\n",
    "\n",
    "# Create an MT() object\n",
    "mt_obj = MT(edi_file)\n",
    "\n",
    "# To plot the edi file we read in in Part 1 & save to file:\n",
    "pt_obj = mt_obj.plot_mt_response(plot_num=2)\n",
    "\n",
    "#pt_obj.plot()\n",
    "\n",
    "pt_obj.save_plot(os.path.join(savepath,\"Synth002.png\"), fig_dpi=400)"
   ]
  },
  {
   "cell_type": "code",
   "execution_count": null,
   "metadata": {},
   "outputs": [],
   "source": []
  },
  {
   "cell_type": "code",
   "execution_count": null,
   "metadata": {},
   "outputs": [],
   "source": []
  },
  {
   "cell_type": "code",
   "execution_count": null,
   "metadata": {},
   "outputs": [],
   "source": []
  },
  {
   "cell_type": "code",
   "execution_count": null,
   "metadata": {},
   "outputs": [],
   "source": []
  }
 ],
 "metadata": {
  "kernelspec": {
   "display_name": "Python 2",
   "language": "python",
   "name": "python2"
  },
  "language_info": {
   "codemirror_mode": {
    "name": "ipython",
    "version": 2
   },
   "file_extension": ".py",
   "mimetype": "text/x-python",
   "name": "python",
   "nbconvert_exporter": "python",
   "pygments_lexer": "ipython2",
   "version": "2.7.15"
  }
 },
 "nbformat": 4,
 "nbformat_minor": 2
}
